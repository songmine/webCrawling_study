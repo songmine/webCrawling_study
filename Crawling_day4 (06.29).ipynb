{
 "cells": [
  {
   "cell_type": "markdown",
   "metadata": {},
   "source": [
    "# 한솥도시락 메뉴, 가격 크롤링"
   ]
  },
  {
   "cell_type": "code",
   "execution_count": 159,
   "metadata": {},
   "outputs": [],
   "source": [
    "from selenium import webdriver as wb\n",
    "from selenium.webdriver.common.keys import Keys    #as K 붙여서 K로 쓸 수 있음\n",
    "from bs4 import BeautifulSoup as bs\n",
    "import pandas as pd"
   ]
  },
  {
   "cell_type": "markdown",
   "metadata": {},
   "source": [
    "##### 1.webdriver를 활용해서 Chrome실행\n",
    "##### 2.한솥도시락 메뉴사이트로 이동\n",
    "##### 3.메뉴이름만 크롤링"
   ]
  },
  {
   "cell_type": "code",
   "execution_count": 160,
   "metadata": {},
   "outputs": [],
   "source": [
    "url = \"https://www.hsd.co.kr/menu/menu_list\"\n",
    "\n",
    "driver = wb.Chrome()\n",
    "\n",
    "driver.get(url)"
   ]
  },
  {
   "cell_type": "code",
   "execution_count": 161,
   "metadata": {},
   "outputs": [],
   "source": [
    "soup = bs(driver.page_source,'lxml')\n",
    "#드라이버(=페이지 그 자체)한테 페이지정보(page_sourse) 전부 달라고 요청\n",
    "#현재 보고있는 페이지를 가져옴\n",
    "\n",
    "#requests는 더보기 눌렀을때 계속 새로고침만 하여 '더보기' 누른 후의 신규정보가 안나옴"
   ]
  },
  {
   "cell_type": "code",
   "execution_count": 162,
   "metadata": {},
   "outputs": [],
   "source": [
    "menu = soup.select('h4.h.fz_03')"
   ]
  },
  {
   "cell_type": "code",
   "execution_count": 163,
   "metadata": {},
   "outputs": [
    {
     "data": {
      "text/plain": [
       "'매화 (고메이 크림고로케)'"
      ]
     },
     "execution_count": 163,
     "metadata": {},
     "output_type": "execute_result"
    }
   ],
   "source": [
    "menu[0].text"
   ]
  },
  {
   "cell_type": "code",
   "execution_count": 164,
   "metadata": {},
   "outputs": [],
   "source": [
    "#len(menu)"
   ]
  },
  {
   "cell_type": "code",
   "execution_count": 165,
   "metadata": {},
   "outputs": [
    {
     "name": "stdout",
     "output_type": "stream",
     "text": [
      "매화 (고메이 크림고로케)\n",
      "매화(치킨, 연어구이)\n",
      "매화 (순살 고등어데리야끼)\n",
      "진달래\n",
      "개나리(순살 고등어 간장구이)\n",
      "중화 짜장볶음밥\n",
      "나시고랭\n"
     ]
    }
   ],
   "source": [
    "for index in menu:\n",
    "    print(index.text)\n",
    "    \n",
    "#for index in range(len(menu)):\n",
    "#    print(menu[index].text)"
   ]
  },
  {
   "cell_type": "code",
   "execution_count": 166,
   "metadata": {},
   "outputs": [],
   "source": [
    "btn_more = driver.find_element_by_class_name('c_05') #'더보기 위에 마우스 올리는 작업'"
   ]
  },
  {
   "cell_type": "code",
   "execution_count": 167,
   "metadata": {},
   "outputs": [],
   "source": [
    "import time "
   ]
  },
  {
   "cell_type": "markdown",
   "metadata": {},
   "source": [
    "# 예외처리 Try에서 오류가 나면 Except로 빠짐"
   ]
  },
  {
   "cell_type": "code",
   "execution_count": 168,
   "metadata": {},
   "outputs": [
    {
     "name": "stdout",
     "output_type": "stream",
     "text": [
      "3\n"
     ]
    }
   ],
   "source": [
    "try :                    #try안에 있는것을 처리하다가 에러나면 '예외처리'(try except)하는 방법\n",
    "    for i in range(50):\n",
    "        btn_more.click()\n",
    "        time.sleep(1)        #1초에 한번씩 컴퓨터한테 쉬는시간을 주는것(과부하 방지)\n",
    "\n",
    "except :\n",
    "    print(i)"
   ]
  },
  {
   "cell_type": "markdown",
   "metadata": {},
   "source": [
    "# 모든 메뉴 이름 출력"
   ]
  },
  {
   "cell_type": "code",
   "execution_count": 169,
   "metadata": {},
   "outputs": [],
   "source": [
    "soup = bs(driver.page_source,'lxml')  #드라이버의 최신정보를 다시한번 가공."
   ]
  },
  {
   "cell_type": "code",
   "execution_count": 170,
   "metadata": {},
   "outputs": [],
   "source": [
    "menu = soup.select('h4.h.fz_03')         #데이터를 가져온 soup이란 공간. 가져옴"
   ]
  },
  {
   "cell_type": "code",
   "execution_count": 171,
   "metadata": {
    "collapsed": true
   },
   "outputs": [
    {
     "name": "stdout",
     "output_type": "stream",
     "text": [
      "매화 (고메이 크림고로케)\n",
      "매화(치킨, 연어구이)\n",
      "매화 (순살 고등어데리야끼)\n",
      "진달래\n",
      "개나리(순살 고등어 간장구이)\n",
      "중화 짜장볶음밥\n",
      "나시고랭\n",
      "생선까스도련님고기고기\n",
      "돈까스도련님고기고기\n",
      "탕수육도련님고기고기\n",
      "새치 고기고기\n",
      "돈치 고기고기\n",
      "고기고기\n",
      "믹스후라이정식\n",
      "믹스후라이도시락\n",
      "주말숯불삼겹2종정식\n",
      "고추장숯불삼겹정식\n",
      "숯불삼겹정식\n",
      "제육 김치찌개 정식\n",
      "고등어 불고기 정식\n",
      "콤비네이션 정식\n",
      "숯불직화구이\n",
      "소불고기\n",
      "메가치킨제육\n",
      "생선까스도련님\n",
      "칠리 찹쌀탕수육도련님\n",
      "동백\n",
      "치킨제육\n",
      "국화\n",
      "돈까스도련님\n",
      "제육볶음\n",
      "한솥밥\n",
      "현미밥\n",
      "갈비치킨마요\n",
      "메가치킨마요\n",
      "왕치킨마요\n",
      "빅치킨마요\n",
      "치킨마요\n",
      "참치 샐러드마요\n",
      "치킨 샐러드마요\n",
      "참치마요\n",
      "돈치마요\n",
      "치즈 카레도시락\n",
      "돈까스 카레\n",
      "소불고기 철판볶음밥\n",
      "한솥 철판볶음밥\n",
      "소고기 육개장\n",
      "묵은지 김치찌개\n",
      "고추장숯불삼겹덮밥\n",
      "숯불직화구이 덮밥\n",
      "숯불구이 덮밥 + 쌈채소\n",
      "왕카레돈까스덮밥\n",
      "새우돈까스 덮밥\n",
      "돈까스 덮밥\n",
      "소불고기 감초고추장 비빔밥\n",
      "시골제육 두부강된장 비빔밥\n",
      "참치야채 감초고추장\n",
      "튼튼도시락\n",
      "해피닭가슴살볶음밥\n",
      "쑥쑥치킨마요\n",
      "순살치킨 세트(대)\n",
      "순살치킨믹스 세트\n",
      "순살치킨 세트(중)\n",
      "반찬 녹두전\n",
      "반찬 해물부추전\n",
      "반찬 계란말이\n",
      "반찬 치즈계란말이\n",
      "반찬 묵은지김치찌개\n",
      "반찬 소고기육개장\n",
      "반찬 카레\n",
      "반찬 소불고기\n",
      "반찬 순살 고등어데리야끼\n",
      "반찬 치킨\n",
      "반찬 고기고기\n",
      "반찬 돈까스 도련님\n",
      "반찬 제육볶음\n",
      "반찬 돈까스\n",
      "믹스고로케\n",
      "바삭 군만두\n",
      "미니 찹쌀핫도그\n",
      "미니 찹쌀탕수육\n",
      "감자고로케\n",
      "케이준후라이\n",
      "쌈채소 세트\n",
      "치킨 샐러드(유자드레싱)\n",
      "치킨 샐러드(사과드레싱)\n",
      "그린 샐러드 (유자드레싱)\n",
      "그린 샐러드 (사과드레싱)\n",
      "미니 샐러드 (유자드레싱)\n",
      "미니 샐러드 (사과드레싱)\n",
      "국물떡볶이 튀김세트\n",
      "닭강정 트리플 콤보\n",
      "탕수 닭강정(중)\n",
      "탕수 닭강정(소)\n",
      "갈비 닭강정(중)\n",
      "갈비 닭강정(소)\n",
      "오리지널 닭강정(중)\n",
      "오리지널 닭강정(소)\n",
      "치킨 BOX(대) \n",
      "치킨BOX(중)_양식소스\n",
      "치킨BOX(중)_칠리소스\n",
      "오징어젓갈\n",
      "간장마늘쫑\n",
      "오이지무침\n",
      "한솥 두부강된장소스\n",
      "한솥 감초볶음고추장소스\n",
      "반찬 무생채\n",
      "볶음김치\n",
      "김치\n",
      "무말랭이\n"
     ]
    }
   ],
   "source": [
    "for index in menu:\n",
    "    print(index.text)"
   ]
  },
  {
   "cell_type": "markdown",
   "metadata": {},
   "source": [
    "### 가격정보와 함께 표 만들기"
   ]
  },
  {
   "cell_type": "code",
   "execution_count": 172,
   "metadata": {},
   "outputs": [],
   "source": [
    "price = soup.select('div > strong')\n",
    "#div.item-price   <<< 이렇게 써야함\n",
    "#강조할 때 쓰는 strong 태그"
   ]
  },
  {
   "cell_type": "code",
   "execution_count": 173,
   "metadata": {},
   "outputs": [
    {
     "data": {
      "text/plain": [
       "'10,000'"
      ]
     },
     "execution_count": 173,
     "metadata": {},
     "output_type": "execute_result"
    }
   ],
   "source": [
    "price[0].text.strip()"
   ]
  },
  {
   "cell_type": "code",
   "execution_count": 174,
   "metadata": {},
   "outputs": [],
   "source": [
    "#len(menu)"
   ]
  },
  {
   "cell_type": "code",
   "execution_count": 175,
   "metadata": {},
   "outputs": [
    {
     "name": "stdout",
     "output_type": "stream",
     "text": [
      "[1, 2, 3, 4, 5, 6, 7, 8, 9, 10, 11, 12, 13, 14, 15, 16, 17, 18, 19, 20, 21, 22, 23, 24, 25, 26, 27, 28, 29, 30, 31, 32, 33, 34, 35, 36, 37, 38, 39, 40, 41, 42, 43, 44, 45, 46, 47, 48, 49, 50, 51, 52, 53, 54, 55, 56, 57, 58, 59, 60, 61, 62, 63, 64, 65, 66, 67, 68, 69, 70, 71, 72, 73, 74, 75, 76, 77, 78, 79, 80, 81, 82, 83, 84, 85, 86, 87, 88, 89, 90, 91, 92, 93, 94, 95, 96, 97, 98, 99, 100, 101, 102, 103, 104, 105, 106, 107, 108, 109, 110]\n",
      "['매화 (고메이 크림고로케)', '매화(치킨, 연어구이)', '매화 (순살 고등어데리야끼)', '진달래', '개나리(순살 고등어 간장구이)', '중화 짜장볶음밥', '나시고랭', '생선까스도련님고기고기', '돈까스도련님고기고기', '탕수육도련님고기고기', '새치 고기고기', '돈치 고기고기', '고기고기', '믹스후라이정식', '믹스후라이도시락', '주말숯불삼겹2종정식', '고추장숯불삼겹정식', '숯불삼겹정식', '제육 김치찌개 정식', '고등어 불고기 정식', '콤비네이션 정식', '숯불직화구이', '소불고기', '메가치킨제육', '생선까스도련님', '칠리 찹쌀탕수육도련님', '동백', '치킨제육', '국화', '돈까스도련님', '제육볶음', '한솥밥', '현미밥', '갈비치킨마요', '메가치킨마요', '왕치킨마요', '빅치킨마요', '치킨마요', '참치 샐러드마요', '치킨 샐러드마요', '참치마요', '돈치마요', '치즈 카레도시락', '돈까스 카레', '소불고기 철판볶음밥', '한솥 철판볶음밥', '소고기 육개장', '묵은지 김치찌개', '고추장숯불삼겹덮밥', '숯불직화구이 덮밥', '숯불구이 덮밥 + 쌈채소', '왕카레돈까스덮밥', '새우돈까스 덮밥', '돈까스 덮밥', '소불고기 감초고추장 비빔밥', '시골제육 두부강된장 비빔밥', '참치야채 감초고추장', '튼튼도시락', '해피닭가슴살볶음밥', '쑥쑥치킨마요', '순살치킨 세트(대)', '순살치킨믹스 세트', '순살치킨 세트(중)', '반찬 녹두전', '반찬 해물부추전', '반찬 계란말이', '반찬 치즈계란말이', '반찬 묵은지김치찌개', '반찬 소고기육개장', '반찬 카레', '반찬 소불고기', '반찬 순살 고등어데리야끼', '반찬 치킨', '반찬 고기고기', '반찬 돈까스 도련님', '반찬 제육볶음', '반찬 돈까스', '믹스고로케', '바삭 군만두', '미니 찹쌀핫도그', '미니 찹쌀탕수육', '감자고로케', '케이준후라이', '쌈채소 세트', '치킨 샐러드(유자드레싱)', '치킨 샐러드(사과드레싱)', '그린 샐러드 (유자드레싱)', '그린 샐러드 (사과드레싱)', '미니 샐러드 (유자드레싱)', '미니 샐러드 (사과드레싱)', '국물떡볶이 튀김세트', '닭강정 트리플 콤보', '탕수 닭강정(중)', '탕수 닭강정(소)', '갈비 닭강정(중)', '갈비 닭강정(소)', '오리지널 닭강정(중)', '오리지널 닭강정(소)', '치킨 BOX(대) ', '치킨BOX(중)_양식소스', '치킨BOX(중)_칠리소스', '오징어젓갈', '간장마늘쫑', '오이지무침', '한솥 두부강된장소스', '한솥 감초볶음고추장소스', '반찬 무생채', '볶음김치', '김치', '무말랭이']\n",
      "['10,000', '10,000', '10,000', '7,000', '8,000', '4,700', '4,500', '5,500', '5,500', '5,600', '6,000', '5,200', '4,000', '7,000', '5,000', '15,000', '9,000', '8,500', '8,000', '7,000', '6,000', '6,500', '5,000', '6,900', '3,900', '4,000', '5,000', '4,400', '4,200', '3,900', '3,900', '1,000', '1,700', '3,200', '5,200', '4,200', '3,500', '2,900', '3,400', '3,400', '2,900', '3,500', '4,000', '3,900', '4,500', '3,700', '4,500', '4,300', '6,500', '5,700', '6,700', '5,500', '3,900', '3,600', '4,800', '4,800', '3,200', '5,000', '5,000', '5,000', '13,000', '14,000', '7,000', '2,700', '2,200', '2,200', '2,800', '3,900', '4,100', '2,400', '3,900', '3,400', '3,200', '3,200', '3,200', '3,100', '2,500', '2,800', '2,000', '2,500', '2,000', '2,000', '1,500', '1,000', '3,600', '3,600', '2,900', '2,900', '1,500', '1,500', '4,800', '8,000', '7,800', '3,000', '7,800', '3,000', '7,500', '2,800', '10,000', '5,000', '5,000', '400', '400', '700', '1,800', '500', '300', '400', '300', '300']\n"
     ]
    }
   ],
   "source": [
    "num = []\n",
    "m_list = []\n",
    "p_list = []\n",
    "\n",
    "for index in range(len(menu)):     #  =range(110)\n",
    "    num_list = index + 1           #   0부터110까지 1씩증가이니, 첫시작값 1이여야하므로 +1\n",
    "    menu_list = menu[index].text\n",
    "    price_list = price[index].text.strip()\n",
    "    \n",
    "    num.append(num_list)\n",
    "    m_list.append(menu_list)\n",
    "    p_list.append(price_list)\n",
    "\n",
    "print(num)\n",
    "print(m_list)\n",
    "print(p_list)"
   ]
  },
  {
   "cell_type": "code",
   "execution_count": 176,
   "metadata": {},
   "outputs": [],
   "source": [
    "import pandas as pd"
   ]
  },
  {
   "cell_type": "code",
   "execution_count": 177,
   "metadata": {},
   "outputs": [],
   "source": [
    "hsd_info = {'num':num, 'name':m_list, 'price':p_list}   #pandas에서 dictionary형태를 표로 만듦!"
   ]
  },
  {
   "cell_type": "code",
   "execution_count": 178,
   "metadata": {},
   "outputs": [],
   "source": [
    "hsd_pd = pd.DataFrame(hsd_info)   #'판다스를 이용하여 뼈대 만들기'"
   ]
  },
  {
   "cell_type": "code",
   "execution_count": 179,
   "metadata": {},
   "outputs": [],
   "source": [
    "hsd_pd.set_index('num', inplace = True)   #index번호를 'num'을 기준으로 셋팅해줘"
   ]
  },
  {
   "cell_type": "code",
   "execution_count": 180,
   "metadata": {},
   "outputs": [
    {
     "data": {
      "text/html": [
       "<div>\n",
       "<style scoped>\n",
       "    .dataframe tbody tr th:only-of-type {\n",
       "        vertical-align: middle;\n",
       "    }\n",
       "\n",
       "    .dataframe tbody tr th {\n",
       "        vertical-align: top;\n",
       "    }\n",
       "\n",
       "    .dataframe thead th {\n",
       "        text-align: right;\n",
       "    }\n",
       "</style>\n",
       "<table border=\"1\" class=\"dataframe\">\n",
       "  <thead>\n",
       "    <tr style=\"text-align: right;\">\n",
       "      <th></th>\n",
       "      <th>name</th>\n",
       "      <th>price</th>\n",
       "    </tr>\n",
       "    <tr>\n",
       "      <th>num</th>\n",
       "      <th></th>\n",
       "      <th></th>\n",
       "    </tr>\n",
       "  </thead>\n",
       "  <tbody>\n",
       "    <tr>\n",
       "      <th>1</th>\n",
       "      <td>매화 (고메이 크림고로케)</td>\n",
       "      <td>10,000</td>\n",
       "    </tr>\n",
       "    <tr>\n",
       "      <th>2</th>\n",
       "      <td>매화(치킨, 연어구이)</td>\n",
       "      <td>10,000</td>\n",
       "    </tr>\n",
       "    <tr>\n",
       "      <th>3</th>\n",
       "      <td>매화 (순살 고등어데리야끼)</td>\n",
       "      <td>10,000</td>\n",
       "    </tr>\n",
       "    <tr>\n",
       "      <th>4</th>\n",
       "      <td>진달래</td>\n",
       "      <td>7,000</td>\n",
       "    </tr>\n",
       "    <tr>\n",
       "      <th>5</th>\n",
       "      <td>개나리(순살 고등어 간장구이)</td>\n",
       "      <td>8,000</td>\n",
       "    </tr>\n",
       "    <tr>\n",
       "      <th>...</th>\n",
       "      <td>...</td>\n",
       "      <td>...</td>\n",
       "    </tr>\n",
       "    <tr>\n",
       "      <th>106</th>\n",
       "      <td>한솥 감초볶음고추장소스</td>\n",
       "      <td>500</td>\n",
       "    </tr>\n",
       "    <tr>\n",
       "      <th>107</th>\n",
       "      <td>반찬 무생채</td>\n",
       "      <td>300</td>\n",
       "    </tr>\n",
       "    <tr>\n",
       "      <th>108</th>\n",
       "      <td>볶음김치</td>\n",
       "      <td>400</td>\n",
       "    </tr>\n",
       "    <tr>\n",
       "      <th>109</th>\n",
       "      <td>김치</td>\n",
       "      <td>300</td>\n",
       "    </tr>\n",
       "    <tr>\n",
       "      <th>110</th>\n",
       "      <td>무말랭이</td>\n",
       "      <td>300</td>\n",
       "    </tr>\n",
       "  </tbody>\n",
       "</table>\n",
       "<p>110 rows × 2 columns</p>\n",
       "</div>"
      ],
      "text/plain": [
       "                 name   price\n",
       "num                          \n",
       "1      매화 (고메이 크림고로케)  10,000\n",
       "2        매화(치킨, 연어구이)  10,000\n",
       "3     매화 (순살 고등어데리야끼)  10,000\n",
       "4                 진달래   7,000\n",
       "5    개나리(순살 고등어 간장구이)   8,000\n",
       "..                ...     ...\n",
       "106      한솥 감초볶음고추장소스     500\n",
       "107            반찬 무생채     300\n",
       "108              볶음김치     400\n",
       "109                김치     300\n",
       "110              무말랭이     300\n",
       "\n",
       "[110 rows x 2 columns]"
      ]
     },
     "execution_count": 180,
     "metadata": {},
     "output_type": "execute_result"
    }
   ],
   "source": [
    "hsd_pd"
   ]
  },
  {
   "cell_type": "markdown",
   "metadata": {},
   "source": [
    "<hr>"
   ]
  },
  {
   "cell_type": "code",
   "execution_count": 181,
   "metadata": {},
   "outputs": [],
   "source": [
    "soup = bs(driver.page_source,'lxml')"
   ]
  },
  {
   "cell_type": "code",
   "execution_count": 182,
   "metadata": {},
   "outputs": [],
   "source": [
    "menu = soup.select('h4.h.fz_03')"
   ]
  },
  {
   "cell_type": "code",
   "execution_count": 183,
   "metadata": {},
   "outputs": [],
   "source": [
    "price = soup.select('div.item-price')\n",
    "# prcie뒤에 > strong 써서 가격 없애도 됨"
   ]
  },
  {
   "cell_type": "code",
   "execution_count": 184,
   "metadata": {},
   "outputs": [
    {
     "data": {
      "text/plain": [
       "110"
      ]
     },
     "execution_count": 184,
     "metadata": {},
     "output_type": "execute_result"
    }
   ],
   "source": [
    "len(price)"
   ]
  },
  {
   "cell_type": "code",
   "execution_count": 185,
   "metadata": {},
   "outputs": [
    {
     "data": {
      "text/plain": [
       "110"
      ]
     },
     "execution_count": 185,
     "metadata": {},
     "output_type": "execute_result"
    }
   ],
   "source": [
    "len(menu)"
   ]
  },
  {
   "cell_type": "code",
   "execution_count": 234,
   "metadata": {},
   "outputs": [],
   "source": [
    "menu_list = []\n",
    "price_list = []\n",
    "num_list = []\n",
    "\n",
    "for i in range(len(price)):\n",
    "    Menu = menu[i].text\n",
    "    Price = price[i].text[4:]    #슬라이싱을 이용한 ' 가격:'(or '가격 :') 제거 \n",
    "    Num = i + 1\n",
    "    \n",
    "    num_list.append(Num)\n",
    "    menu_list.append(Menu)\n",
    "    price_list.append(Price)"
   ]
  },
  {
   "cell_type": "code",
   "execution_count": 235,
   "metadata": {},
   "outputs": [
    {
     "data": {
      "text/plain": [
       "110"
      ]
     },
     "execution_count": 235,
     "metadata": {},
     "output_type": "execute_result"
    }
   ],
   "source": [
    "len(menu_list)"
   ]
  },
  {
   "cell_type": "code",
   "execution_count": 236,
   "metadata": {},
   "outputs": [
    {
     "data": {
      "text/plain": [
       "110"
      ]
     },
     "execution_count": 236,
     "metadata": {},
     "output_type": "execute_result"
    }
   ],
   "source": [
    "len(price_list)"
   ]
  },
  {
   "cell_type": "code",
   "execution_count": 237,
   "metadata": {},
   "outputs": [
    {
     "data": {
      "text/plain": [
       "110"
      ]
     },
     "execution_count": 237,
     "metadata": {},
     "output_type": "execute_result"
    }
   ],
   "source": [
    "len(num_list)"
   ]
  },
  {
   "cell_type": "code",
   "execution_count": 238,
   "metadata": {},
   "outputs": [],
   "source": [
    "info = {'num':num_list, 'name':menu_list, 'price':price_list}"
   ]
  },
  {
   "cell_type": "code",
   "execution_count": 239,
   "metadata": {},
   "outputs": [],
   "source": [
    "frame = pd.DataFrame(info)"
   ]
  },
  {
   "cell_type": "code",
   "execution_count": 240,
   "metadata": {},
   "outputs": [],
   "source": [
    "frame.set_index('num', inplace = True)"
   ]
  },
  {
   "cell_type": "code",
   "execution_count": 241,
   "metadata": {
    "collapsed": true
   },
   "outputs": [
    {
     "data": {
      "text/html": [
       "<div>\n",
       "<style scoped>\n",
       "    .dataframe tbody tr th:only-of-type {\n",
       "        vertical-align: middle;\n",
       "    }\n",
       "\n",
       "    .dataframe tbody tr th {\n",
       "        vertical-align: top;\n",
       "    }\n",
       "\n",
       "    .dataframe thead th {\n",
       "        text-align: right;\n",
       "    }\n",
       "</style>\n",
       "<table border=\"1\" class=\"dataframe\">\n",
       "  <thead>\n",
       "    <tr style=\"text-align: right;\">\n",
       "      <th></th>\n",
       "      <th>name</th>\n",
       "      <th>price</th>\n",
       "    </tr>\n",
       "    <tr>\n",
       "      <th>num</th>\n",
       "      <th></th>\n",
       "      <th></th>\n",
       "    </tr>\n",
       "  </thead>\n",
       "  <tbody>\n",
       "    <tr>\n",
       "      <th>1</th>\n",
       "      <td>매화 (고메이 크림고로케)</td>\n",
       "      <td>10,000원</td>\n",
       "    </tr>\n",
       "    <tr>\n",
       "      <th>2</th>\n",
       "      <td>매화(치킨, 연어구이)</td>\n",
       "      <td>10,000원</td>\n",
       "    </tr>\n",
       "    <tr>\n",
       "      <th>3</th>\n",
       "      <td>매화 (순살 고등어데리야끼)</td>\n",
       "      <td>10,000원</td>\n",
       "    </tr>\n",
       "    <tr>\n",
       "      <th>4</th>\n",
       "      <td>진달래</td>\n",
       "      <td>7,000원</td>\n",
       "    </tr>\n",
       "    <tr>\n",
       "      <th>5</th>\n",
       "      <td>개나리(순살 고등어 간장구이)</td>\n",
       "      <td>8,000원</td>\n",
       "    </tr>\n",
       "    <tr>\n",
       "      <th>...</th>\n",
       "      <td>...</td>\n",
       "      <td>...</td>\n",
       "    </tr>\n",
       "    <tr>\n",
       "      <th>106</th>\n",
       "      <td>한솥 감초볶음고추장소스</td>\n",
       "      <td>500원</td>\n",
       "    </tr>\n",
       "    <tr>\n",
       "      <th>107</th>\n",
       "      <td>반찬 무생채</td>\n",
       "      <td>300원</td>\n",
       "    </tr>\n",
       "    <tr>\n",
       "      <th>108</th>\n",
       "      <td>볶음김치</td>\n",
       "      <td>400원</td>\n",
       "    </tr>\n",
       "    <tr>\n",
       "      <th>109</th>\n",
       "      <td>김치</td>\n",
       "      <td>300원</td>\n",
       "    </tr>\n",
       "    <tr>\n",
       "      <th>110</th>\n",
       "      <td>무말랭이</td>\n",
       "      <td>300원</td>\n",
       "    </tr>\n",
       "  </tbody>\n",
       "</table>\n",
       "<p>110 rows × 2 columns</p>\n",
       "</div>"
      ],
      "text/plain": [
       "                 name                         price\n",
       "num                                                \n",
       "1      매화 (고메이 크림고로케)   10,000원                    \n",
       "2        매화(치킨, 연어구이)   10,000원                    \n",
       "3     매화 (순살 고등어데리야끼)   10,000원                    \n",
       "4                 진달래    7,000원                    \n",
       "5    개나리(순살 고등어 간장구이)    8,000원                    \n",
       "..                ...                           ...\n",
       "106      한솥 감초볶음고추장소스      500원                    \n",
       "107            반찬 무생채      300원                    \n",
       "108              볶음김치      400원                    \n",
       "109                김치      300원                    \n",
       "110              무말랭이      300원                    \n",
       "\n",
       "[110 rows x 2 columns]"
      ]
     },
     "execution_count": 241,
     "metadata": {},
     "output_type": "execute_result"
    }
   ],
   "source": [
    "frame"
   ]
  },
  {
   "cell_type": "markdown",
   "metadata": {},
   "source": [
    "# 유튜브 영상 제목 가져오기"
   ]
  },
  {
   "cell_type": "code",
   "execution_count": 293,
   "metadata": {},
   "outputs": [],
   "source": [
    "url = \"https://www.youtube.com/results?search_query=nothing+but+thieves\""
   ]
  },
  {
   "cell_type": "code",
   "execution_count": 294,
   "metadata": {},
   "outputs": [],
   "source": [
    "driver = wb.Chrome()\n",
    "\n",
    "driver.get(url)"
   ]
  },
  {
   "cell_type": "code",
   "execution_count": 295,
   "metadata": {},
   "outputs": [],
   "source": [
    "soup = bs(driver.page_source, 'lxml')"
   ]
  },
  {
   "cell_type": "code",
   "execution_count": 296,
   "metadata": {},
   "outputs": [],
   "source": [
    "title = soup.select('a#video-title')"
   ]
  },
  {
   "cell_type": "code",
   "execution_count": 297,
   "metadata": {},
   "outputs": [],
   "source": [
    "#title[0].text.strip()"
   ]
  },
  {
   "cell_type": "code",
   "execution_count": 298,
   "metadata": {},
   "outputs": [
    {
     "data": {
      "text/plain": [
       "21"
      ]
     },
     "execution_count": 298,
     "metadata": {},
     "output_type": "execute_result"
    }
   ],
   "source": [
    "len(title)         #requests(:통째로 가져다씀)와 driver(전부가 아닌 내용만 참조하여 가져다 씀)의 가장 큰 차이점\n",
    "#처음 page켰을때 가지고 있는 값"
   ]
  },
  {
   "cell_type": "code",
   "execution_count": 299,
   "metadata": {},
   "outputs": [],
   "source": [
    "#for index in video:\n",
    "#    print(index.text.strip())"
   ]
  },
  {
   "cell_type": "code",
   "execution_count": 300,
   "metadata": {},
   "outputs": [],
   "source": [
    "body = driver.find_element_by_tag_name('body') #page의 모든 영역 갖고있음"
   ]
  },
  {
   "cell_type": "code",
   "execution_count": 301,
   "metadata": {},
   "outputs": [],
   "source": [
    "body.send_keys(Keys.PAGE_DOWN)"
   ]
  },
  {
   "cell_type": "code",
   "execution_count": 302,
   "metadata": {},
   "outputs": [],
   "source": [
    "import time        #여기에서 굳이 안써줘도 됐음(위에서 한번 썼었기 때문)"
   ]
  },
  {
   "cell_type": "code",
   "execution_count": 303,
   "metadata": {},
   "outputs": [],
   "source": [
    "for i in range(10):            #0부터 시작하므로 10을써야 10번반복.\n",
    "    body.send_keys(Keys.PAGE_DOWN)\n",
    "    time.sleep(1)               #1초에 한 번 씩\n",
    "    \n",
    "#try except 여기에서 쓰면 불필요한 작업을 추가하는 것. (한 번 돌릴때마다 오류있는지 계속 검사하는 것임.)"
   ]
  }
 ],
 "metadata": {
  "kernelspec": {
   "display_name": "Python 3",
   "language": "python",
   "name": "python3"
  },
  "language_info": {
   "codemirror_mode": {
    "name": "ipython",
    "version": 3
   },
   "file_extension": ".py",
   "mimetype": "text/x-python",
   "name": "python",
   "nbconvert_exporter": "python",
   "pygments_lexer": "ipython3",
   "version": "3.7.6"
  }
 },
 "nbformat": 4,
 "nbformat_minor": 4
}
