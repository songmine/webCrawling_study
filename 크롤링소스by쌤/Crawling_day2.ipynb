{
 "cells": [
  {
   "cell_type": "markdown",
   "metadata": {},
   "source": [
    "# 네이버뮤직 TOP50 추출하기"
   ]
  },
  {
   "cell_type": "code",
   "execution_count": 3,
   "metadata": {},
   "outputs": [],
   "source": [
    "from bs4 import BeautifulSoup as bs\n",
    "import requests as req"
   ]
  },
  {
   "cell_type": "code",
   "execution_count": 2,
   "metadata": {},
   "outputs": [],
   "source": [
    "url = \"https://music.naver.com/listen/top100.nhn?domain=TOTAL_V2\""
   ]
  },
  {
   "cell_type": "code",
   "execution_count": 5,
   "metadata": {},
   "outputs": [],
   "source": [
    "res = req.get(url)"
   ]
  },
  {
   "cell_type": "code",
   "execution_count": 7,
   "metadata": {},
   "outputs": [],
   "source": [
    "info = res.text"
   ]
  },
  {
   "cell_type": "code",
   "execution_count": 9,
   "metadata": {},
   "outputs": [],
   "source": [
    "music = bs(info,'lxml')"
   ]
  },
  {
   "cell_type": "code",
   "execution_count": 10,
   "metadata": {
    "collapsed": true
   },
   "outputs": [
    {
     "data": {
      "text/plain": [
       "[<span class=\"ellipsis\">Downtown Baby</span>,\n",
       " <span class=\"ellipsis\">\n",
       " \t\t\t\n",
       " \t\t\t\n",
       " \t\t\t블루(BLOO)\n",
       " \t\t</span>,\n",
       " <span class=\"ellipsis\">에잇(Prod.&amp;Feat. SUGA of BTS)</span>,\n",
       " <span class=\"ellipsis\">\n",
       " \t\t\t\n",
       " \t\t\t\n",
       " \t\t\t아이유(IU)\n",
       " \t\t</span>,\n",
       " <span class=\"ellipsis\">아로하</span>,\n",
       " <span class=\"ellipsis\">\n",
       " \t\t\t\n",
       " \t\t\t\n",
       " \t\t\t조정석\n",
       " \t\t</span>,\n",
       " <span class=\"ellipsis\">살짝 설렜어 (Nonstop)</span>,\n",
       " <span class=\"ellipsis\">\n",
       " \t\t\t\n",
       " \t\t\t\n",
       " \t\t\t오마이걸(OH MY GIRL)\n",
       " \t\t</span>,\n",
       " <span class=\"ellipsis\">사랑하게 될 줄 알았어</span>,\n",
       " <span class=\"ellipsis\">\n",
       " \t\t\t\n",
       " \t\t\t\n",
       " \t\t\t전미도\n",
       " \t\t</span>,\n",
       " <span class=\"ellipsis\">MORE &amp; MORE</span>,\n",
       " <span class=\"ellipsis\">\n",
       " \t\t\t\n",
       " \t\t\t\n",
       " \t\t\tTWICE(트와이스)\n",
       " \t\t</span>,\n",
       " <span class=\"ellipsis\">Dolphin</span>,\n",
       " <span class=\"ellipsis\">\n",
       " \t\t\t\n",
       " \t\t\t\n",
       " \t\t\t오마이걸(OH MY GIRL)\n",
       " \t\t</span>,\n",
       " <span class=\"ellipsis\">좋은 사람 있으면 소개시켜줘</span>,\n",
       " <span class=\"ellipsis\">\n",
       " \t\t\t\n",
       " \t\t\t\n",
       " \t\t\t조이 (JOY)\n",
       " \t\t</span>,\n",
       " <span class=\"ellipsis\">아무노래</span>,\n",
       " <span class=\"ellipsis\">\n",
       " \t\t\t\n",
       " \t\t\t\n",
       " \t\t\t지코 (ZICO)\n",
       " \t\t</span>,\n",
       " <span class=\"ellipsis\">화려하지 않은 고백</span>,\n",
       " <span class=\"ellipsis\">\n",
       " \t\t\t\n",
       " \t\t\t\n",
       " \t\t\t규현(KYUHYUN)\n",
       " \t\t</span>,\n",
       " <span class=\"ellipsis\">흔들리는 꽃들 속에서 네 샴푸향이 느껴진거야</span>,\n",
       " <span class=\"ellipsis\">\n",
       " \t\t\t\n",
       " \t\t\t\n",
       " \t\t\t장범준\n",
       " \t\t</span>,\n",
       " <span class=\"ellipsis\">Blueming</span>,\n",
       " <span class=\"ellipsis\">\n",
       " \t\t\t\n",
       " \t\t\t\n",
       " \t\t\t아이유(IU)\n",
       " \t\t</span>,\n",
       " <span class=\"ellipsis\">Memories</span>,\n",
       " <span class=\"ellipsis\">\n",
       " \t\t\t\n",
       " \t\t\t\n",
       " \t\t\tMaroon 5\n",
       " \t\t</span>,\n",
       " <span class=\"ellipsis\">나비와 고양이 (Feat. 백현 (BAEKHYUN))</span>,\n",
       " <span class=\"ellipsis\">\n",
       " \t\t\t\n",
       " \t\t\t\n",
       " \t\t\t볼빨간사춘기\n",
       " \t\t</span>,\n",
       " <span class=\"ellipsis\">그대 고운 내사랑</span>,\n",
       " <span class=\"ellipsis\">\n",
       " \t\t\t\n",
       " \t\t\t\n",
       " \t\t\t어반자카파\n",
       " \t\t</span>,\n",
       " <span class=\"ellipsis\">덤더럼(Dumhdurum)</span>,\n",
       " <span class=\"ellipsis\">\n",
       " \t\t\t\n",
       " \t\t\t\n",
       " \t\t\t에이핑크(Apink)\n",
       " \t\t</span>,\n",
       " <span class=\"ellipsis\">어떻게 이별까지 사랑하겠어, 널 사랑하는 거지</span>,\n",
       " <span class=\"ellipsis\">\n",
       " \t\t\t\n",
       " \t\t\t\n",
       " \t\t\tAKMU (악동뮤지션)\n",
       " \t\t</span>,\n",
       " <span class=\"ellipsis\">Don't Start Now</span>,\n",
       " <span class=\"ellipsis\">\n",
       " \t\t\t\n",
       " \t\t\t\n",
       " \t\t\tDua Lipa\n",
       " \t\t</span>,\n",
       " <span class=\"ellipsis\">Into the I-LAND</span>,\n",
       " <span class=\"ellipsis\">\n",
       " \t\t\t\n",
       " \t\t\t\n",
       " \t\t\t아이유(IU)\n",
       " \t\t</span>,\n",
       " <span class=\"ellipsis\">Psycho</span>,\n",
       " <span class=\"ellipsis\">\n",
       " \t\t\t\n",
       " \t\t\t\n",
       " \t\t\tRed Velvet (레드벨벳)\n",
       " \t\t</span>,\n",
       " <span class=\"ellipsis\">WANNABE</span>,\n",
       " <span class=\"ellipsis\">\n",
       " \t\t\t\n",
       " \t\t\t\n",
       " \t\t\tITZY(있지)\n",
       " \t\t</span>,\n",
       " <span class=\"ellipsis\">깡 Official Remix</span>,\n",
       " <span class=\"ellipsis\">METEOR</span>,\n",
       " <span class=\"ellipsis\">\n",
       " \t\t\t\n",
       " \t\t\t\n",
       " \t\t\t창모(CHANGMO)\n",
       " \t\t</span>,\n",
       " <span class=\"ellipsis\">시작</span>,\n",
       " <span class=\"ellipsis\">\n",
       " \t\t\t\n",
       " \t\t\t\n",
       " \t\t\t가호 (Gaho)\n",
       " \t\t</span>,\n",
       " <span class=\"ellipsis\">너에게 난, 나에게 넌</span>,\n",
       " <span class=\"ellipsis\">\n",
       " \t\t\t\n",
       " \t\t\t\n",
       " \t\t\t미도와 파라솔\n",
       " \t\t</span>,\n",
       " <span class=\"ellipsis\">Lonely Night</span>,\n",
       " <span class=\"ellipsis\">\n",
       " \t\t\t\n",
       " \t\t\t\n",
       " \t\t\t권진아\n",
       " \t\t</span>,\n",
       " <span class=\"ellipsis\">처음처럼</span>,\n",
       " <span class=\"ellipsis\">\n",
       " \t\t\t\n",
       " \t\t\t\n",
       " \t\t\t엠씨더맥스(M.C the MAX)\n",
       " \t\t</span>,\n",
       " <span class=\"ellipsis\">내 눈물 모아</span>,\n",
       " <span class=\"ellipsis\">\n",
       " \t\t\t\n",
       " \t\t\t\n",
       " \t\t\t휘인(Whee In)\n",
       " \t\t</span>,\n",
       " <span class=\"ellipsis\">2002</span>,\n",
       " <span class=\"ellipsis\">\n",
       " \t\t\t\n",
       " \t\t\t\n",
       " \t\t\tAnne-Marie\n",
       " \t\t</span>,\n",
       " <span class=\"ellipsis\">Love poem</span>,\n",
       " <span class=\"ellipsis\">\n",
       " \t\t\t\n",
       " \t\t\t\n",
       " \t\t\t아이유(IU)\n",
       " \t\t</span>,\n",
       " <span class=\"ellipsis\">늦은 밤 너의 집 앞 골목길에서</span>,\n",
       " <span class=\"ellipsis\">\n",
       " \t\t\t\n",
       " \t\t\t\n",
       " \t\t\t노을\n",
       " \t\t</span>,\n",
       " <span class=\"ellipsis\">Dance Monkey</span>,\n",
       " <span class=\"ellipsis\">\n",
       " \t\t\t\n",
       " \t\t\t\n",
       " \t\t\tTones And I\n",
       " \t\t</span>,\n",
       " <span class=\"ellipsis\">환상동화 (Secret Story of the Swan)</span>,\n",
       " <span class=\"ellipsis\">\n",
       " \t\t\t\n",
       " \t\t\t\n",
       " \t\t\tIZ*ONE(아이즈원)\n",
       " \t\t</span>,\n",
       " <span class=\"ellipsis\">Paris In The Rain</span>,\n",
       " <span class=\"ellipsis\">\n",
       " \t\t\t\n",
       " \t\t\t\n",
       " \t\t\tLauv\n",
       " \t\t</span>,\n",
       " <span class=\"ellipsis\">FIESTA</span>,\n",
       " <span class=\"ellipsis\">\n",
       " \t\t\t\n",
       " \t\t\t\n",
       " \t\t\tIZ*ONE(아이즈원)\n",
       " \t\t</span>,\n",
       " <span class=\"ellipsis\">Rain On Me</span>,\n",
       " <span class=\"ellipsis\">시청 앞 지하철 역에서</span>,\n",
       " <span class=\"ellipsis\">\n",
       " \t\t\t\n",
       " \t\t\t\n",
       " \t\t\t곽진언\n",
       " \t\t</span>,\n",
       " <span class=\"ellipsis\">Happy</span>,\n",
       " <span class=\"ellipsis\">\n",
       " \t\t\t\n",
       " \t\t\t\n",
       " \t\t\t태연 (TAEYEON)\n",
       " \t\t</span>,\n",
       " <span class=\"ellipsis\">어떻게 지내 (Prod. By VAN.C)</span>,\n",
       " <span class=\"ellipsis\">\n",
       " \t\t\t\n",
       " \t\t\t\n",
       " \t\t\t오반\n",
       " \t\t</span>,\n",
       " <span class=\"ellipsis\">LALALILALA</span>,\n",
       " <span class=\"ellipsis\">\n",
       " \t\t\t\n",
       " \t\t\t\n",
       " \t\t\t에이프릴(APRIL)\n",
       " \t\t</span>,\n",
       " <span class=\"ellipsis\">Juice</span>,\n",
       " <span class=\"ellipsis\">\n",
       " \t\t\t\n",
       " \t\t\t\n",
       " \t\t\tLizzo\n",
       " \t\t</span>,\n",
       " <span class=\"ellipsis\">너를 만나</span>,\n",
       " <span class=\"ellipsis\">\n",
       " \t\t\t\n",
       " \t\t\t\n",
       " \t\t\t폴킴\n",
       " \t\t</span>,\n",
       " <span class=\"ellipsis\">밤이 깊었네 (Drama Ver.)</span>,\n",
       " <span class=\"ellipsis\">\n",
       " \t\t\t\n",
       " \t\t\t\n",
       " \t\t\t미도와 파라솔\n",
       " \t\t</span>,\n",
       " <span class=\"ellipsis\">Stuck with U</span>,\n",
       " <span class=\"ellipsis\">작사가</span>,\n",
       " <span class=\"ellipsis\">\n",
       " \t\t\t\n",
       " \t\t\t\n",
       " \t\t\t헤이즈 (Heize)\n",
       " \t\t</span>,\n",
       " <span class=\"ellipsis\">돌덩이</span>,\n",
       " <span class=\"ellipsis\">\n",
       " \t\t\t\n",
       " \t\t\t\n",
       " \t\t\t하현우 (국카스텐)\n",
       " \t\t</span>,\n",
       " <span class=\"ellipsis\">언제라도 어디에서라도</span>,\n",
       " <span class=\"ellipsis\">\n",
       " \t\t\t\n",
       " \t\t\t\n",
       " \t\t\t정승환\n",
       " \t\t</span>,\n",
       " <span class=\"ellipsis\">ON</span>,\n",
       " <span class=\"ellipsis\">\n",
       " \t\t\t\n",
       " \t\t\t\n",
       " \t\t\t방탄소년단\n",
       " \t\t</span>,\n",
       " <span class=\"ellipsis\">밤편지</span>,\n",
       " <span class=\"ellipsis\">\n",
       " \t\t\t\n",
       " \t\t\t\n",
       " \t\t\t아이유(IU)\n",
       " \t\t</span>,\n",
       " <span class=\"ellipsis\">넌 언제나</span>,\n",
       " <span class=\"ellipsis\">\n",
       " \t\t\t\n",
       " \t\t\t\n",
       " \t\t\t제이레빗(J Rabbit)\n",
       " \t\t</span>]"
      ]
     },
     "execution_count": 10,
     "metadata": {},
     "output_type": "execute_result"
    }
   ],
   "source": [
    "music.find_all('span', class_ = \"ellipsis\")"
   ]
  },
  {
   "cell_type": "code",
   "execution_count": 17,
   "metadata": {},
   "outputs": [],
   "source": [
    "title = music.select('a._title.title > span.ellipsis')"
   ]
  },
  {
   "cell_type": "code",
   "execution_count": 32,
   "metadata": {},
   "outputs": [],
   "source": [
    "artist = music.select('td._artist > a')"
   ]
  },
  {
   "cell_type": "code",
   "execution_count": 33,
   "metadata": {},
   "outputs": [
    {
     "data": {
      "text/plain": [
       "<a class=\"_artist NPI=a:artist,r:1,i:494305\" href=\"/artist/home.nhn?artistId=494305\" title=\"블루(BLOO)\">\n",
       "<span class=\"ellipsis\">\n",
       "\t\t\t\n",
       "\t\t\t\n",
       "\t\t\t블루(BLOO)\n",
       "\t\t</span>\n",
       "</a>"
      ]
     },
     "execution_count": 33,
     "metadata": {},
     "output_type": "execute_result"
    }
   ],
   "source": [
    "artist[0]"
   ]
  },
  {
   "cell_type": "code",
   "execution_count": 21,
   "metadata": {},
   "outputs": [
    {
     "data": {
      "text/plain": [
       "'\\r\\n\\t\\t\\t\\r\\n\\t\\t\\t\\r\\n\\t\\t\\t블루(BLOO)\\r\\n\\t\\t'"
      ]
     },
     "execution_count": 21,
     "metadata": {},
     "output_type": "execute_result"
    }
   ],
   "source": [
    "artist[0].text"
   ]
  },
  {
   "cell_type": "code",
   "execution_count": 23,
   "metadata": {},
   "outputs": [
    {
     "data": {
      "text/plain": [
       "'블루(BLOO)'"
      ]
     },
     "execution_count": 23,
     "metadata": {},
     "output_type": "execute_result"
    }
   ],
   "source": [
    "artist[0].text.strip()"
   ]
  },
  {
   "cell_type": "code",
   "execution_count": 26,
   "metadata": {},
   "outputs": [],
   "source": [
    "rank = music.select('td.ranking')"
   ]
  },
  {
   "cell_type": "code",
   "execution_count": 27,
   "metadata": {},
   "outputs": [
    {
     "data": {
      "text/plain": [
       "50"
      ]
     },
     "execution_count": 27,
     "metadata": {},
     "output_type": "execute_result"
    }
   ],
   "source": [
    "len(rank)"
   ]
  },
  {
   "cell_type": "code",
   "execution_count": 28,
   "metadata": {},
   "outputs": [
    {
     "data": {
      "text/plain": [
       "50"
      ]
     },
     "execution_count": 28,
     "metadata": {},
     "output_type": "execute_result"
    }
   ],
   "source": [
    "len(title)"
   ]
  },
  {
   "cell_type": "code",
   "execution_count": 34,
   "metadata": {},
   "outputs": [
    {
     "data": {
      "text/plain": [
       "50"
      ]
     },
     "execution_count": 34,
     "metadata": {},
     "output_type": "execute_result"
    }
   ],
   "source": [
    "len(artist)"
   ]
  },
  {
   "cell_type": "code",
   "execution_count": 35,
   "metadata": {},
   "outputs": [
    {
     "data": {
      "text/plain": [
       "<td class=\"ranking\"><span class=\"num1\"><span>1</span></span></td>"
      ]
     },
     "execution_count": 35,
     "metadata": {},
     "output_type": "execute_result"
    }
   ],
   "source": [
    "rank[0]"
   ]
  },
  {
   "cell_type": "code",
   "execution_count": 40,
   "metadata": {
    "collapsed": true
   },
   "outputs": [
    {
     "name": "stdout",
     "output_type": "stream",
     "text": [
      "['1', '2', '3', '4', '5', '6', '7', '8', '9', '10', '11', '12', '13', '14', '15', '16', '17', '18', '19', '20', '21', '22', '23', '24', '25', '26', '27', '28', '29', '30', '31', '32', '33', '34', '35', '36', '37', '38', '39', '40', '41', '42', '43', '44', '45', '46', '47', '48', '49', '50']\n",
      "['Downtown Baby', '에잇(Prod.&Feat. SUGA of BTS)', '아로하', '살짝 설렜어 (Nonstop)', '사랑하게 될 줄 알았어', 'MORE & MORE', 'Dolphin', '좋은 사람 있으면 소개시켜줘', '아무노래', '화려하지 않은 고백', '흔들리는 꽃들 속에서 네 샴푸향이 느껴진거야', 'Blueming', 'Memories', '나비와 고양이 (Feat. 백현 (BAEKHYUN))', '그대 고운 내사랑', '덤더럼(Dumhdurum)', '어떻게 이별까지 사랑하겠어, 널 사랑하는 거지', \"Don't Start Now\", 'Into the I-LAND', 'Psycho', 'WANNABE', '깡 Official Remix', 'METEOR', '시작', '너에게 난, 나에게 넌', 'Lonely Night', '처음처럼', '내 눈물 모아', '2002', 'Love poem', '늦은 밤 너의 집 앞 골목길에서', 'Dance Monkey', '환상동화 (Secret Story of the Swan)', 'Paris In The Rain', 'FIESTA', 'Rain On Me', '시청 앞 지하철 역에서', 'Happy', '어떻게 지내 (Prod. By VAN.C)', 'LALALILALA', 'Juice', '너를 만나', '밤이 깊었네 (Drama Ver.)', 'Stuck with U', '작사가', '돌덩이', '언제라도 어디에서라도', 'ON', '밤편지', '넌 언제나']\n",
      "['블루(BLOO)', '아이유(IU)', '조정석', '오마이걸(OH MY GIRL)', '전미도', 'TWICE(트와이스)', '오마이걸(OH MY GIRL)', '조이 (JOY)', '지코 (ZICO)', '규현(KYUHYUN)', '장범준', '아이유(IU)', 'Maroon 5', '볼빨간사춘기', '어반자카파', '에이핑크(Apink)', 'AKMU (악동뮤지션)', 'Dua Lipa', '아이유(IU)', 'Red Velvet (레드벨벳)', 'ITZY(있지)', '식케이 (Sik-..', '창모(CHANGMO)', '가호 (Gaho)', '미도와 파라솔', '권진아', '엠씨더맥스(M.C the MAX)', '휘인(Whee In)', 'Anne-Marie', '아이유(IU)', '노을', 'Tones And I', 'IZ*ONE(아이즈원)', 'Lauv', 'IZ*ONE(아이즈원)', 'Lady Gaga', '곽진언', '태연 (TAEYEON)', '오반', '에이프릴(APRIL)', 'Lizzo', '폴킴', '미도와 파라솔', 'Ariana Gr..', '헤이즈 (Heize)', '하현우 (국카스텐)', '정승환', '방탄소년단', '아이유(IU)', '제이레빗(J Rabbit)']\n"
     ]
    }
   ],
   "source": [
    "r_list = []\n",
    "t_list = []\n",
    "a_list = []\n",
    "\n",
    "for index in range(len(rank)) :\n",
    "    rank_list = rank[index].text\n",
    "    title_list = title[index].text\n",
    "    artist_list = artist[index].text.strip()\n",
    "    \n",
    "    r_list.append(rank_list)\n",
    "    t_list.append(title_list)\n",
    "    a_list.append(artist_list)\n",
    "\n",
    "print(r_list)\n",
    "print(t_list)\n",
    "print(a_list)"
   ]
  },
  {
   "cell_type": "code",
   "execution_count": 41,
   "metadata": {},
   "outputs": [],
   "source": [
    "import pandas as pd"
   ]
  },
  {
   "cell_type": "code",
   "execution_count": 49,
   "metadata": {},
   "outputs": [],
   "source": [
    "music_info = {'rank' : r_list , 'title' : t_list , 'artist' : a_list}"
   ]
  },
  {
   "cell_type": "code",
   "execution_count": 52,
   "metadata": {},
   "outputs": [],
   "source": [
    "music_pd = pd.DataFrame(music_info)"
   ]
  },
  {
   "cell_type": "code",
   "execution_count": 53,
   "metadata": {},
   "outputs": [],
   "source": [
    "music_pd.set_index('rank', inplace = True)"
   ]
  },
  {
   "cell_type": "code",
   "execution_count": 54,
   "metadata": {
    "collapsed": true
   },
   "outputs": [
    {
     "data": {
      "text/html": [
       "<div>\n",
       "<style scoped>\n",
       "    .dataframe tbody tr th:only-of-type {\n",
       "        vertical-align: middle;\n",
       "    }\n",
       "\n",
       "    .dataframe tbody tr th {\n",
       "        vertical-align: top;\n",
       "    }\n",
       "\n",
       "    .dataframe thead th {\n",
       "        text-align: right;\n",
       "    }\n",
       "</style>\n",
       "<table border=\"1\" class=\"dataframe\">\n",
       "  <thead>\n",
       "    <tr style=\"text-align: right;\">\n",
       "      <th></th>\n",
       "      <th>title</th>\n",
       "      <th>artist</th>\n",
       "    </tr>\n",
       "    <tr>\n",
       "      <th>rank</th>\n",
       "      <th></th>\n",
       "      <th></th>\n",
       "    </tr>\n",
       "  </thead>\n",
       "  <tbody>\n",
       "    <tr>\n",
       "      <th>1</th>\n",
       "      <td>Downtown Baby</td>\n",
       "      <td>블루(BLOO)</td>\n",
       "    </tr>\n",
       "    <tr>\n",
       "      <th>2</th>\n",
       "      <td>에잇(Prod.&amp;Feat. SUGA of BTS)</td>\n",
       "      <td>아이유(IU)</td>\n",
       "    </tr>\n",
       "    <tr>\n",
       "      <th>3</th>\n",
       "      <td>아로하</td>\n",
       "      <td>조정석</td>\n",
       "    </tr>\n",
       "    <tr>\n",
       "      <th>4</th>\n",
       "      <td>살짝 설렜어 (Nonstop)</td>\n",
       "      <td>오마이걸(OH MY GIRL)</td>\n",
       "    </tr>\n",
       "    <tr>\n",
       "      <th>5</th>\n",
       "      <td>사랑하게 될 줄 알았어</td>\n",
       "      <td>전미도</td>\n",
       "    </tr>\n",
       "    <tr>\n",
       "      <th>6</th>\n",
       "      <td>MORE &amp; MORE</td>\n",
       "      <td>TWICE(트와이스)</td>\n",
       "    </tr>\n",
       "    <tr>\n",
       "      <th>7</th>\n",
       "      <td>Dolphin</td>\n",
       "      <td>오마이걸(OH MY GIRL)</td>\n",
       "    </tr>\n",
       "    <tr>\n",
       "      <th>8</th>\n",
       "      <td>좋은 사람 있으면 소개시켜줘</td>\n",
       "      <td>조이 (JOY)</td>\n",
       "    </tr>\n",
       "    <tr>\n",
       "      <th>9</th>\n",
       "      <td>아무노래</td>\n",
       "      <td>지코 (ZICO)</td>\n",
       "    </tr>\n",
       "    <tr>\n",
       "      <th>10</th>\n",
       "      <td>화려하지 않은 고백</td>\n",
       "      <td>규현(KYUHYUN)</td>\n",
       "    </tr>\n",
       "    <tr>\n",
       "      <th>11</th>\n",
       "      <td>흔들리는 꽃들 속에서 네 샴푸향이 느껴진거야</td>\n",
       "      <td>장범준</td>\n",
       "    </tr>\n",
       "    <tr>\n",
       "      <th>12</th>\n",
       "      <td>Blueming</td>\n",
       "      <td>아이유(IU)</td>\n",
       "    </tr>\n",
       "    <tr>\n",
       "      <th>13</th>\n",
       "      <td>Memories</td>\n",
       "      <td>Maroon 5</td>\n",
       "    </tr>\n",
       "    <tr>\n",
       "      <th>14</th>\n",
       "      <td>나비와 고양이 (Feat. 백현 (BAEKHYUN))</td>\n",
       "      <td>볼빨간사춘기</td>\n",
       "    </tr>\n",
       "    <tr>\n",
       "      <th>15</th>\n",
       "      <td>그대 고운 내사랑</td>\n",
       "      <td>어반자카파</td>\n",
       "    </tr>\n",
       "    <tr>\n",
       "      <th>16</th>\n",
       "      <td>덤더럼(Dumhdurum)</td>\n",
       "      <td>에이핑크(Apink)</td>\n",
       "    </tr>\n",
       "    <tr>\n",
       "      <th>17</th>\n",
       "      <td>어떻게 이별까지 사랑하겠어, 널 사랑하는 거지</td>\n",
       "      <td>AKMU (악동뮤지션)</td>\n",
       "    </tr>\n",
       "    <tr>\n",
       "      <th>18</th>\n",
       "      <td>Don't Start Now</td>\n",
       "      <td>Dua Lipa</td>\n",
       "    </tr>\n",
       "    <tr>\n",
       "      <th>19</th>\n",
       "      <td>Into the I-LAND</td>\n",
       "      <td>아이유(IU)</td>\n",
       "    </tr>\n",
       "    <tr>\n",
       "      <th>20</th>\n",
       "      <td>Psycho</td>\n",
       "      <td>Red Velvet (레드벨벳)</td>\n",
       "    </tr>\n",
       "    <tr>\n",
       "      <th>21</th>\n",
       "      <td>WANNABE</td>\n",
       "      <td>ITZY(있지)</td>\n",
       "    </tr>\n",
       "    <tr>\n",
       "      <th>22</th>\n",
       "      <td>깡 Official Remix</td>\n",
       "      <td>식케이 (Sik-..</td>\n",
       "    </tr>\n",
       "    <tr>\n",
       "      <th>23</th>\n",
       "      <td>METEOR</td>\n",
       "      <td>창모(CHANGMO)</td>\n",
       "    </tr>\n",
       "    <tr>\n",
       "      <th>24</th>\n",
       "      <td>시작</td>\n",
       "      <td>가호 (Gaho)</td>\n",
       "    </tr>\n",
       "    <tr>\n",
       "      <th>25</th>\n",
       "      <td>너에게 난, 나에게 넌</td>\n",
       "      <td>미도와 파라솔</td>\n",
       "    </tr>\n",
       "    <tr>\n",
       "      <th>26</th>\n",
       "      <td>Lonely Night</td>\n",
       "      <td>권진아</td>\n",
       "    </tr>\n",
       "    <tr>\n",
       "      <th>27</th>\n",
       "      <td>처음처럼</td>\n",
       "      <td>엠씨더맥스(M.C the MAX)</td>\n",
       "    </tr>\n",
       "    <tr>\n",
       "      <th>28</th>\n",
       "      <td>내 눈물 모아</td>\n",
       "      <td>휘인(Whee In)</td>\n",
       "    </tr>\n",
       "    <tr>\n",
       "      <th>29</th>\n",
       "      <td>2002</td>\n",
       "      <td>Anne-Marie</td>\n",
       "    </tr>\n",
       "    <tr>\n",
       "      <th>30</th>\n",
       "      <td>Love poem</td>\n",
       "      <td>아이유(IU)</td>\n",
       "    </tr>\n",
       "    <tr>\n",
       "      <th>31</th>\n",
       "      <td>늦은 밤 너의 집 앞 골목길에서</td>\n",
       "      <td>노을</td>\n",
       "    </tr>\n",
       "    <tr>\n",
       "      <th>32</th>\n",
       "      <td>Dance Monkey</td>\n",
       "      <td>Tones And I</td>\n",
       "    </tr>\n",
       "    <tr>\n",
       "      <th>33</th>\n",
       "      <td>환상동화 (Secret Story of the Swan)</td>\n",
       "      <td>IZ*ONE(아이즈원)</td>\n",
       "    </tr>\n",
       "    <tr>\n",
       "      <th>34</th>\n",
       "      <td>Paris In The Rain</td>\n",
       "      <td>Lauv</td>\n",
       "    </tr>\n",
       "    <tr>\n",
       "      <th>35</th>\n",
       "      <td>FIESTA</td>\n",
       "      <td>IZ*ONE(아이즈원)</td>\n",
       "    </tr>\n",
       "    <tr>\n",
       "      <th>36</th>\n",
       "      <td>Rain On Me</td>\n",
       "      <td>Lady Gaga</td>\n",
       "    </tr>\n",
       "    <tr>\n",
       "      <th>37</th>\n",
       "      <td>시청 앞 지하철 역에서</td>\n",
       "      <td>곽진언</td>\n",
       "    </tr>\n",
       "    <tr>\n",
       "      <th>38</th>\n",
       "      <td>Happy</td>\n",
       "      <td>태연 (TAEYEON)</td>\n",
       "    </tr>\n",
       "    <tr>\n",
       "      <th>39</th>\n",
       "      <td>어떻게 지내 (Prod. By VAN.C)</td>\n",
       "      <td>오반</td>\n",
       "    </tr>\n",
       "    <tr>\n",
       "      <th>40</th>\n",
       "      <td>LALALILALA</td>\n",
       "      <td>에이프릴(APRIL)</td>\n",
       "    </tr>\n",
       "    <tr>\n",
       "      <th>41</th>\n",
       "      <td>Juice</td>\n",
       "      <td>Lizzo</td>\n",
       "    </tr>\n",
       "    <tr>\n",
       "      <th>42</th>\n",
       "      <td>너를 만나</td>\n",
       "      <td>폴킴</td>\n",
       "    </tr>\n",
       "    <tr>\n",
       "      <th>43</th>\n",
       "      <td>밤이 깊었네 (Drama Ver.)</td>\n",
       "      <td>미도와 파라솔</td>\n",
       "    </tr>\n",
       "    <tr>\n",
       "      <th>44</th>\n",
       "      <td>Stuck with U</td>\n",
       "      <td>Ariana Gr..</td>\n",
       "    </tr>\n",
       "    <tr>\n",
       "      <th>45</th>\n",
       "      <td>작사가</td>\n",
       "      <td>헤이즈 (Heize)</td>\n",
       "    </tr>\n",
       "    <tr>\n",
       "      <th>46</th>\n",
       "      <td>돌덩이</td>\n",
       "      <td>하현우 (국카스텐)</td>\n",
       "    </tr>\n",
       "    <tr>\n",
       "      <th>47</th>\n",
       "      <td>언제라도 어디에서라도</td>\n",
       "      <td>정승환</td>\n",
       "    </tr>\n",
       "    <tr>\n",
       "      <th>48</th>\n",
       "      <td>ON</td>\n",
       "      <td>방탄소년단</td>\n",
       "    </tr>\n",
       "    <tr>\n",
       "      <th>49</th>\n",
       "      <td>밤편지</td>\n",
       "      <td>아이유(IU)</td>\n",
       "    </tr>\n",
       "    <tr>\n",
       "      <th>50</th>\n",
       "      <td>넌 언제나</td>\n",
       "      <td>제이레빗(J Rabbit)</td>\n",
       "    </tr>\n",
       "  </tbody>\n",
       "</table>\n",
       "</div>"
      ],
      "text/plain": [
       "                                title              artist\n",
       "rank                                                     \n",
       "1                       Downtown Baby            블루(BLOO)\n",
       "2         에잇(Prod.&Feat. SUGA of BTS)             아이유(IU)\n",
       "3                                 아로하                 조정석\n",
       "4                    살짝 설렜어 (Nonstop)    오마이걸(OH MY GIRL)\n",
       "5                        사랑하게 될 줄 알았어                 전미도\n",
       "6                         MORE & MORE         TWICE(트와이스)\n",
       "7                             Dolphin    오마이걸(OH MY GIRL)\n",
       "8                     좋은 사람 있으면 소개시켜줘            조이 (JOY)\n",
       "9                                아무노래           지코 (ZICO)\n",
       "10                         화려하지 않은 고백         규현(KYUHYUN)\n",
       "11           흔들리는 꽃들 속에서 네 샴푸향이 느껴진거야                 장범준\n",
       "12                           Blueming             아이유(IU)\n",
       "13                           Memories            Maroon 5\n",
       "14      나비와 고양이 (Feat. 백현 (BAEKHYUN))              볼빨간사춘기\n",
       "15                          그대 고운 내사랑               어반자카파\n",
       "16                     덤더럼(Dumhdurum)         에이핑크(Apink)\n",
       "17          어떻게 이별까지 사랑하겠어, 널 사랑하는 거지        AKMU (악동뮤지션)\n",
       "18                    Don't Start Now            Dua Lipa\n",
       "19                    Into the I-LAND             아이유(IU)\n",
       "20                             Psycho   Red Velvet (레드벨벳)\n",
       "21                            WANNABE            ITZY(있지)\n",
       "22                   깡 Official Remix         식케이 (Sik-..\n",
       "23                             METEOR         창모(CHANGMO)\n",
       "24                                 시작           가호 (Gaho)\n",
       "25                       너에게 난, 나에게 넌             미도와 파라솔\n",
       "26                       Lonely Night                 권진아\n",
       "27                               처음처럼  엠씨더맥스(M.C the MAX)\n",
       "28                            내 눈물 모아         휘인(Whee In)\n",
       "29                               2002          Anne-Marie\n",
       "30                          Love poem             아이유(IU)\n",
       "31                  늦은 밤 너의 집 앞 골목길에서                  노을\n",
       "32                       Dance Monkey         Tones And I\n",
       "33    환상동화 (Secret Story of the Swan)        IZ*ONE(아이즈원)\n",
       "34                  Paris In The Rain                Lauv\n",
       "35                             FIESTA        IZ*ONE(아이즈원)\n",
       "36                         Rain On Me           Lady Gaga\n",
       "37                       시청 앞 지하철 역에서                 곽진언\n",
       "38                              Happy        태연 (TAEYEON)\n",
       "39            어떻게 지내 (Prod. By VAN.C)                  오반\n",
       "40                         LALALILALA         에이프릴(APRIL)\n",
       "41                              Juice               Lizzo\n",
       "42                              너를 만나                  폴킴\n",
       "43                밤이 깊었네 (Drama Ver.)             미도와 파라솔\n",
       "44                       Stuck with U         Ariana Gr..\n",
       "45                                작사가         헤이즈 (Heize)\n",
       "46                                돌덩이          하현우 (국카스텐)\n",
       "47                        언제라도 어디에서라도                 정승환\n",
       "48                                 ON               방탄소년단\n",
       "49                                밤편지             아이유(IU)\n",
       "50                              넌 언제나      제이레빗(J Rabbit)"
      ]
     },
     "execution_count": 54,
     "metadata": {},
     "output_type": "execute_result"
    }
   ],
   "source": [
    "music_pd"
   ]
  },
  {
   "cell_type": "code",
   "execution_count": 62,
   "metadata": {},
   "outputs": [],
   "source": [
    "music_pd.to_csv('music.csv', encoding = 'euc-kr')"
   ]
  },
  {
   "cell_type": "markdown",
   "metadata": {},
   "source": [
    "# 영화랭킹 페이지에서 제목,평점 수집"
   ]
  },
  {
   "cell_type": "code",
   "execution_count": 63,
   "metadata": {},
   "outputs": [],
   "source": [
    "import requests as req\n",
    "from bs4 import BeautifulSoup as bs\n",
    "import pandas as pd"
   ]
  },
  {
   "cell_type": "code",
   "execution_count": 64,
   "metadata": {},
   "outputs": [],
   "source": [
    "url = \"https://movie.naver.com/movie/sdb/rank/rmovie.nhn?sel=cur&date=20200624\""
   ]
  },
  {
   "cell_type": "code",
   "execution_count": 66,
   "metadata": {},
   "outputs": [],
   "source": [
    "res = req.get(url)"
   ]
  },
  {
   "cell_type": "code",
   "execution_count": 67,
   "metadata": {
    "collapsed": true
   },
   "outputs": [
    {
     "data": {
      "text/plain": [
       "'\\r\\n\\r\\n\\r\\n\\r\\n\\r\\n\\r\\n\\r\\n\\r\\n\\r\\n\\r\\n\\t\\r\\n\\t\\r\\n\\t\\r\\n\\t\\r\\n\\t\\r\\n\\r\\n\\t\\r\\n\\t\\r\\n\\r\\n\\r\\n\\t\\r\\n\\t\\r\\n\\t\\r\\n\\t\\r\\n\\t\\r\\n\\t\\r\\n\\t\\r\\n\\t\\r\\n\\t\\r\\n\\t\\r\\n\\t\\r\\n\\t\\r\\n\\r\\n\\t\\r\\n\\t\\r\\n\\t\\r\\n\\t\\r\\n\\t\\r\\n\\r\\n\\t\\r\\n\\t\\r\\n\\t\\r\\n\\r\\n\\t\\r\\n\\t\\r\\n\\t\\r\\n\\r\\n\\r\\n\\t\\r\\n\\t\\r\\n\\t\\t\\r\\n\\t\\t\\t\\r\\n\\t\\t\\t\\t\\r\\n\\t\\t\\t\\t\\r\\n\\t\\t\\t\\t\\t\\r\\n\\t\\t\\t\\t\\r\\n\\t\\t\\t\\r\\n\\t\\t\\t\\r\\n\\t\\t\\t\\r\\n\\t\\t\\r\\n\\t\\r\\n\\t\\r\\n\\t\\r\\n\\t\\r\\n\\t\\t\\r\\n\\t\\r\\n\\r\\n<!DOCTYPE html>\\r\\n<html lang=\"ko\">\\r\\n<head>\\r\\n<meta http-equiv=\"Content-Type\" content=\"text/html; charset=euc-kr\">\\r\\n<meta http-equiv=\"X-UA-Compatible\" content=\"IE=edge\">\\r\\n\\r\\n\\r\\n\\r\\n\\r\\n\\r\\n\\r\\n<meta property=\"me2:image\" content=\"http://imgmovie.naver.com/today/naverme/naverme_profile.jpg\"/>\\r\\n<meta property=\"me2:post_tag\" content=\"네이버영화 \"/>\\r\\n<meta property=\"me2:category1\" content=\"네이버영화\"/>\\r\\n<meta property=\"me2:category2\" content=\"\"/>\\r\\n\\r\\n\\r\\n\\r\\n\\r\\n\\r\\n\\t\\r\\n\\t\\r\\n\\t\\t<meta property=\"og:title\" content=\"랭킹 : 네이버 영화\"/>\\r\\n\\t\\t\\r\\n\\t\\t\\t\\r\\n\\t\\t\\t\\t<meta property=\"og:description\" content=\"영화, 영화인, 예매, 박스오피스 랭킹 정보 제공\" />\\r\\n\\t\\t\\t\\r\\n\\t\\t\\t\\r\\n\\t\\t\\r\\n\\t\\r\\n\\t\\r\\n\\t\\r\\n\\t\\r\\n\\t\\r\\n\\r\\n\\r\\n<meta property=\"og:type\" content=\"article\"/>\\r\\n<meta property=\"og:url\" content=\"https://movie.naver.com/movie/sdb/rank/rmovie.nhn?sel=cur&amp;date=20200624\"/>\\r\\n\\r\\n\\t\\r\\n\\t\\r\\n\\t\\t<meta property=\"og:image\" content=\"http://static.naver.net/m/movie/icons/OG_270_270.png\"/><!-- http://static.naver.net/m/movie/im/navermovie.jpg -->\\r\\n\\t\\r\\n\\r\\n\\r\\n<meta property=\"og:article:thumbnailUrl\" content=\"http://imgmovie.naver.com/today/naverme/naverme_profile.jpg\"/>\\r\\n<meta property=\"og:article:author\" content=\"네이버 영화\"/>\\r\\n<meta property=\"og:article:author:url\" content=\"https://movie.naver.com/\"/>\\r\\n\\r\\n\\r\\n\\n\\n\\n\\t\\n\\t\\n\\t\\n\\t\\n\\t\\t<link rel=\"shortcut icon\" href=\"https://ssl.pstatic.net/static/m/movie/icons/naver_movie_favicon.ico\" type=\"image/x-icon\">\\n\\t\\t\\t\\n\\n\\r\\n<title>랭킹 : 네이버 영화</title>\\r\\n\\r\\n\\r\\n\\r\\n\\r\\n\\r\\n\\t\\r\\n\\t\\r\\n\\t\\r\\n\\t\\r\\n\\t\\t\\r\\n\\t\\t<link rel=\"stylesheet\" type=\"text/css\" href=\"/common/css/movie_tablet.css?20200604115213\">\\r\\n\\t\\t<link rel=\"stylesheet\" type=\"text/css\" href=\"/common/css/common.css?20200604115213\">\\r\\n\\t\\t<link rel=\"stylesheet\" type=\"text/css\" href=\"/common/css/layout.css?20200604115213\">\\r\\n\\t\\t<link rel=\"stylesheet\" type=\"text/css\" href=\"/common/css/old_default.css?20200604115213\">\\r\\n\\t\\t<link rel=\"stylesheet\" type=\"text/css\" href=\"/common/css/old_layout.css?20200604115213\">\\r\\n\\t\\t<link rel=\"stylesheet\" type=\"text/css\" href=\"/common/css/old_common.css?20200604115213\">\\t\\r\\n\\t\\t<link rel=\"stylesheet\" type=\"text/css\" href=\"/common/css/old_super_db.css?20200604115213\">\\r\\n\\t\\r\\n\\t\\r\\n\\t\\r\\n\\t\\r\\n\\t\\r\\n\\r\\n\\r\\n<script type=\"text/javascript\" src=\"/common/js/default-min.js\"></script>\\r\\n\\r\\n</head>\\r\\n<body >\\r\\n\\r\\n\\r\\n\\t\\r\\n\\t\\r\\n\\t\\r\\n\\t\\t\\r\\n\\t\\r\\n\\t\\r\\n\\t\\r\\n\\r\\n<div id=\"wrap\" class=\"fix\">\\r\\n\\t<!-- GNB -->\\r\\n\\t\\r\\n\\r\\n\\r\\n\\r\\n\\r\\n\\r\\n<script type=\"text/javascript\">\\r\\nfunction delayed_submit(object) {\\r\\n\\tif (navigator.userAgent.indexOf(\\'MSIE\\') == -1) {\\r\\n\\t\\tvar b = c = new Date();\\r\\n      \\twhile ((b.getTime() - c.getTime()) < 100) {\\r\\n\\t\\t\\tb = new Date();\\r\\n      \\t}\\r\\n\\t\\t//window.setTimeout(function() {object.submit(); console.log(\\'s\\');}, 300);\\r\\n\\t} \\r\\n}\\r\\nvar gnb_service = \\'movie\\';\\r\\nvar gnb_logout = \\'http://movie.naver.com/movie/sdb/rank/rmovie.nhn%3Fsel%3Dcur%26date%3D20200624\\';\\r\\nvar gnb_template = \"gnb_quirks_euckr\"; /* https://ssl.pstatic.net/static.gn/templates/gnb_utf8.nhn */\\r\\nvar gnb_brightness=3;\\r\\nvar gnb_response = true;\\r\\n</script>\\r\\n\\r\\n\\r\\n\\t\\r\\n\\t\\r\\n\\r\\n<a name=\"gnb_top\"></a>\\r\\n    <!-- skip navigation -->\\r\\n    <div id=\"u_skip\">\\r\\n            <a href=\"#header\" onclick=\"document.getElementById(\\'header\\').tabIndex=-1;document.getElementById(\\'header\\').focus();return false;\"><span>메인 메뉴로 바로가기</span></a>\\r\\n            <a href=\"#content\" id=\"gnb_goContent\" onclick=\"document.getElementById(\\'content\\').tabIndex=-1;document.getElementById(\\'content\\').focus();return false;\"><span>본문으로 바로가기</span></a>\\r\\n    </div>\\r\\n    <!-- //skip navigation -->\\r\\n\\t<!-- GNB -->\\r\\n\\t<div class=\"gnb_container\">\\r\\n\\t\\t<div class=\"gnb_content\">\\r\\n\\t\\t\\t<div class=\"gnb_box\">\\r\\n\\t\\t\\t \\t<div class=\"gnb_wrap\">\\r\\n\\t\\t\\t\\t\\t<div id=\"gnb\" onload=\"javascript:getGNB();\">\\r\\n\\t\\t\\t\\t   \\t \\t<script type=\"text/javascript\" charset=\"utf-8\" src=\"https://ssl.pstatic.net/static.gn/templates/gnb_utf8.nhn\"></script>\\r\\n\\t\\t\\t\\t\\t</div>\\r\\n\\t\\t\\t\\t</div>\\r\\n\\t\\t\\t\\t<!-- 검색창 -->\\r\\n\\t\\t\\t\\t<form id=\"jSearchForm\" action=\"/movie/search/result.nhn\" method=\"get\" style=\"margin:0;display:none;\">\\r\\n\\t\\t\\t\\t\\t<input type=\"text\" name=\"query\" maxlength=\"100\" title=\"영화검색\" />\\r\\n\\t\\t\\t\\t\\t<input type=\"hidden\" name=\"section\" value=\"all\"/>\\r\\n\\t\\t\\t\\t</form>\\r\\n\\t\\t\\t\\t<fieldset id=\"jSearchArea\" class=\"srch_area\">\\r\\n\\t\\t\\t\\t\\t<legend><span class=\"blind\">영화검색 영역</span></legend>\\r\\n\\t\\t\\t\\t\\t<div class=\"srch_field_on _view\">\\r\\n\\t\\t\\t\\t\\t\\t<span class=\"ipt_srch\">\\r\\n\\t\\t\\t\\t\\t\\t\\t<label for=\"ipt_tx_srch\" id=\"search_placeholder\">영화검색</label>\\r\\n\\t\\t\\t\\t\\t\\t\\t<input type=\"text\" id=\"ipt_tx_srch\" class=\"ipt_tx_srch\" name=\"query\" maxlength=\"100\" accesskey=\"s\" style=\"ime-mode:active;\" autocomplete=\"off\" />\\r\\n\\t\\t\\t\\t\\t\\t\\t<span class=\"align\"></span>\\r\\n\\t\\t\\t\\t\\t\\t\\t<span class=\"auto_tx\"><a href=\"#\" title=\"자동완성 펼치기\"><img src=\"https://ssl.pstatic.net/static/movie/2012/06/srch_arrow_down.gif\" width=\"7\" height=\"4\" title=\"자동완성 펼치기\" alt=\"자동완성 펼치기\" /></a></span>\\r\\n\\t\\t\\t\\t\\t\\t</span>\\r\\n\\t\\t\\t\\t\\t\\t<button type=\"submit\" title=\"검색\" class=\"btn_srch\" onclick=\"clickcr(this, \\'GNB.search\\', \\'\\', \\'\\', event); delayed_submit(this);\"><span class=\"blind\">검색</span></button>\\r\\n\\t\\t\\t\\t\\t\\t <!-- 자동 완성 영역임 #autocomplate_template-->\\r\\n\\t\\t\\t\\t\\t</div>\\r\\n\\t\\t\\t\\t</fieldset>\\r\\n\\t\\t\\t\\t<!-- //검색창 -->\\r\\n\\t\\t\\t</div>\\r\\n\\t\\t</div>\\r\\n\\t</div>\\r\\n\\t<!-- //GNB -->\\r\\n\\t<!-- nClicks -->\\r\\n\\t\\r\\n\\t\\t\\r\\n\\t\\t\\r\\n\\t\\t\\r\\n\\t\\t\\t<script type=\"text/javascript\">var nsc = \"movie.sdb\";</script>\\r\\n\\t\\t\\t<script type=\"text/javascript\" src=\"/common/js/clickcr.js\"></script>\\r\\n\\t\\t\\r\\n\\t\\t\\r\\n\\t\\t\\t\\t\\r\\n\\t\\t\\r\\n\\t\\t\\r\\n\\t\\t\\r\\n\\t\\t\\r\\n\\t\\t\\r\\n\\t\\t\\r\\n\\t\\t\\r\\n\\t\\t\\r\\n\\t\\r\\n\\t<!-- // nClicks -->\\t\\r\\n\\t<!-- //GNB -->\\r\\n\\t\\r\\n\\t<!-- LNB -->\\r\\n\\t\\n\\n\\n\\n\\t<!-- header -->\\n\\t<div id=\"header\">\\n\\t\\t<h1 class=\"svc_name\">\\n\\t\\t\\t<a href=\"http://www.naver.com/\" title=\"naver로 바로가기\" class=\"ci_logo\" id=\"lnb_gonaver\" onclick=\"clickcr(this, \\'LNB.naver\\', \\'\\', \\'\\', event);\"><img src=\"https://ssl.pstatic.net/static/movie/2013/07/logo_ci.png\" width=\"62\" height=\"13\" alt=\"NAVER\" /></a>\\n\\t\\t\\t<a href=\"/\" title=\"영화서비스홈으로 바로가기\" class=\"svc_logo\" onclick=\"clickcr(this, \\'LNB.movie\\', \\'\\', \\'\\', event);\"><img src=\"https://ssl.pstatic.net/static/movie/2012/06/logo_svc.png\" width=\"34\" height=\"19\" alt=\"영화\" /></a>\\n\\t\\t</h1>\\n\\t\\t<div id=\"scrollbar\" class=\"scrollbar scrollbar-noscript\">\\n\\t\\t\\t<div class=\"scrollbar-box\">\\n\\t\\t\\t\\t<div class=\"scrollbar-content\">\\n\\t\\t\\t\\t\\t<div class=\"in_scroll\">\\n\\t\\t\\t\\t\\t\\t<ul class=\"navi\">\\n\\t\\t\\t\\t\\t\\t<li>\\n\\t\\t\\t\\t\\t\\t\\t<a href=\"/\" title=\"영화홈\" class=\"menu01\" onclick=\"clickcr(this, \\'LNB.home\\', \\'\\', \\'\\', event);\"><strong>영화홈</strong></a>\\n\\t\\t\\t\\t\\t\\t</li>\\n\\t\\t\\t\\t\\t\\t<li>\\n\\t\\t\\t\\t\\t\\t\\t<a href=\"/movie/running/current.nhn\" title=\"상영작·예정작\" class=\"menu02\" onclick=\"clickcr(this, \\'LNB.movies\\', \\'\\', \\'\\', event);\"><strong>상영작·예정작</strong></a>\\n\\t\\t\\t\\t\\t\\t\\t<ul class=\"navi_sub\" style=\"display:none\">\\n\\t\\t\\t\\t\\t\\t\\t<li><a href=\"/movie/running/current.nhn\" title=\"현재 상영영화\" class=\"sub2_1\" onclick=\"clickcr(this, \\'LNB.now\\', \\'\\', \\'\\', event);\"><em>현재 상영영화</em></a></li>\\n\\t\\t\\t\\t\\t\\t\\t<li><a href=\"/movie/running/premovie.nhn\" title=\"개봉 예정영화\" class=\"sub2_2\" onclick=\"clickcr(this, \\'LNB.soon\\', \\'\\', \\'\\', event);\"><em>개봉 예정영화</em></a></li>\\n\\t\\t\\t\\t\\t\\t\\t<li><a href=\"/movie/running/weekendmovie.nhn\" title=\"TV/DVD 영화\" class=\"sub2_3\" onclick=\"clickcr(this, \\'LNB.guide\\', \\'\\', \\'\\', event);\"><em>TV/DVD 영화</em></a></li>\\n\\t\\t\\t\\t\\t\\t\\t<li><a href=\"/movie/running/movieclip.nhn\" title=\"예고편\" class=\"sub2_4\" onclick=\"clickcr(this, \\'LNB.tailer\\', \\'\\', \\'\\', event);\"><em>예고편</em></a></li>\\n\\t\\t\\t\\t\\t\\t\\t<!-- li><a href=\"/movie/preview/special.nhn\" title=\"네이버 스페셜\" class=\"sub1_7\" onclick=\"clickcr(this, \\'LNB.special\\', \\'\\', \\'\\', event);\"><em>네이버 스페셜</em></a></li-->\\n\\t\\t\\t\\t\\t\\t\\t</ul>\\n\\t\\t\\t\\t\\t\\t</li>\\n\\t\\t\\t\\t\\t\\t<li>\\n\\t\\t\\t\\t\\t\\t\\t<a href=\"/movie/sdb/rank/rmovie.nhn\" title=\"영화랭킹\" class=\"menu03_on\" onclick=\"clickcr(this, \\'LNB.db\\', \\'\\', \\'\\', event);\"><strong>영화랭킹</strong></a>\\n\\t\\t\\t\\t\\t\\t\\t<ul class=\"navi_sub\" style=\"display:block\">\\n\\t\\t\\t\\t\\t\\t\\t<li><a href=\"/movie/sdb/rank/rmovie.nhn\" title=\"랭킹\" class=\"sub3_1_on\" onclick=\"clickcr(this, \\'LNB.rank\\', \\'\\', \\'\\', event);\"><em>랭킹</em></a></li>\\n\\t\\t\\t\\t\\t\\t\\t<li><a href=\"/movie/sdb/browsing/bmovie_nation.nhn\" title=\"디렉토리\" class=\"sub3_2\" onclick=\"clickcr(this, \\'LNB.dir\\', \\'\\', \\'\\', event);\"><em>디렉토리</em></a></li>\\n\\t\\t\\t\\t\\t\\t\\t</ul>\\n\\t\\t\\t\\t\\t\\t</li>\\n\\t\\t\\t\\t\\t\\t<li>\\n\\t\\t\\t\\t\\t\\t\\t<a href=\"/movie/bi/mi/reserve.nhn\" title=\"예매\" class=\"menu05\" onclick=\"clickcr(this, \\'LNB.ticket\\', \\'\\', \\'\\', event);\"><strong>예매</strong></a>\\n\\t\\t\\t\\t\\t\\t\\t<ul class=\"navi_sub\" style=\"display:none\">\\n\\t\\t\\t\\t\\t\\t\\t<li><a href=\"http://ticket.movie.naver.com/Ticket/Reserve.aspx\" title=\"예매하기\" class=\"sub5_1\" onclick=\"clickcr(this, \\'LNB.buy\\', \\'\\', \\'\\', event);\"><em>예매하기</em></a></li>\\n\\t\\t\\t\\t\\t\\t\\t<li><a href=\"http://ticket.movie.naver.com/Order/OrderList.aspx\" title=\"예매확인·취소\" class=\"sub5_2\" onclick=\"clickcr(this, \\'LNB.check\\', \\'\\', \\'\\', event);\"><em>예매확인·취소</em></a></li>\\n\\t\\t\\t\\t\\t\\t\\t<li><a href=\"http://ticket.movie.naver.com/Coupon/Ticket.aspx\" title=\"예매권·할인권 등록\" class=\"sub5_3\" onclick=\"clickcr(this, \\'LNB.disticket\\', \\'\\', \\'\\', event);\"><em>예매권·할인권 등록</em></a></li>\\n\\t\\t\\t\\t\\t\\t\\t<li><a href=\"http://ticket.movie.naver.com/Discount/DiscountCard.aspx\" title=\"할인카드안내·등록\" class=\"sub5_4\" onclick=\"clickcr(this, \\'LNB.discard\\', \\'\\', \\'\\', event);\"><em>할인카드안내·등록</em></a></li>\\n\\t\\t\\t\\t\\t\\t\\t<li><a href=\"http://help.naver.com/ops/step2/faq.nhn?parentId=77&depth=2\" title=\"이용안내\" class=\"sub5_5\" target=\"_blank\" onclick=\"clickcr(this, \\'LNB.service\\', \\'\\', \\'\\', event);\"><em>이용안내</em></a></li>\\n\\t\\t\\t\\t\\t\\t\\t</ul>\\n\\t\\t\\t\\t\\t\\t</li>\\n\\n\\t\\t\\t\\t\\t\\t<li>\\n\\t\\t\\t\\t\\t\\t\\t<a href=\"/movie/point/af/list.nhn\" title=\"평점\" class=\"menu07\" onclick=\"clickcr(this, \\'LNB.comm\\', \\'\\', \\'\\', event);\"><strong>평점</strong></a>\\n                            <ul class=\"navi_sub\" style=\"display:none\">\\n                                <li><a href=\"/movie/point/af/list.nhn\" title=\"네티즌 평점\" class=\"sub7_1\" onclick=\"clickcr(this, \\'LNB.rating\\', \\'\\', \\'\\', event);\"><em>네티즌 평점</em></a></li>\\n                                <li><a href=\"/movie/board/review/list.nhn\" title=\"네티즌 리뷰\" class=\"sub7_2\" onclick=\"clickcr(this, \\'LNB.review\\', \\'\\', \\'\\', event);\"><em>네티즌 리뷰</em></a></li>\\n                                \\n                            </ul>\\n\\t\\t\\t\\t\\t\\t</li>\\n\\t\\t\\t\\t\\t\\t<li>\\n\\t\\t\\t\\t\\t\\t\\t<a href=\"http://serieson.naver.com/movie/home.nhn\" title=\"다운로드\" class=\"menu08\" onclick=\"clickcr(this, \\'LNB.download\\', \\'\\', \\'\\', event);\" target=\"_blank\"><strong>다운로드</strong></a>\\n\\t\\t\\t\\t\\t\\t</li>\\n\\t\\t\\t\\t\\t\\t<li class=\"nav_indi\">\\n\\t\\t\\t\\t\\t\\t        <a href=\"http://tv.naver.com/indiecinema\" title=\"인디극장 UP\" target=\"_blank\"><strong>인디극장 UP</strong></a><!-- N=a:LNB.indie -->\\n\\t\\t\\t\\t\\t\\t</li>\\t\\t\\t\\t\\t\\t\\n\\t\\t\\t\\t\\t\\t</ul>\\n\\t\\t\\t\\t\\t\\t<!-- div class=\"view_mode\">\\n\\t\\t\\t\\t\\t\\t\\t<a href=\"#\" title=\"\" class=\"normal_on\"><em>1단 보기</em></a>\\n\\t\\t\\t\\t\\t\\t\\t<a href=\"#\" title=\"\" class=\"wide_off\"><em>2단 보기</em></a>\\n\\t\\t\\t\\t\\t\\t</div -->\\n\\t\\t\\t\\t\\t</div>\\n\\t\\t\\t\\t</div>\\n\\t\\t\\t</div>\\n\\t\\t\\t<div class=\"scrollbar-v\">\\n\\t\\t\\t\\t<div class=\"scrollbar-button-up\"></div>\\n\\t\\t\\t\\t<div class=\"scrollbar-track\">\\n\\t\\t\\t\\t\\t<div class=\"scrollbar-thumb\"></div>\\n\\t\\t\\t\\t</div>\\n\\t\\t\\t\\t<div class=\"scrollbar-button-down\"></div>\\n\\t\\t\\t</div>\\n\\t\\t</div>\\n\\t</div>\\n\\t<!-- //header -->\\r\\n\\t<!-- //LNB -->\\r\\n\\t\\r\\n\\t<div id=\"container\">\\r\\n\\t\\t<!-- content -->\\r\\n\\t\\t<div id=\"content\">\\r\\n\\t\\t\\t<div class=\"article\">\\r\\n\\t\\t\\t\\r\\n\\t\\t\\t\\t<div class=\"old_layout old_super_db\">\\r\\n\\r\\n\\t\\t\\t\\t\\r\\n\\t\\t\\t\\t\\t\\r\\n\\r\\n\\r\\n\\r\\n\\r\\n\\r\\n\\r\\n\\t\\t\\t\\r\\n\\t\\t\\t<h3 class=\"h_db_rank\"><strong class=\"blind\">랭킹</strong></h3>\\r\\n\\t\\t\\t<ul class=\"tab_db_rank\">\\r\\n\\t\\t\\t<li><a href=\"/movie/sdb/rank/rmovie.nhn\" title=\"영화\" class=\"db_tab01_on\"><em>영화</em></a></li>\\r\\n\\t\\t\\t<li><a href=\"/movie/sdb/rank/rpeople.nhn\" title=\"영화인\" class=\"db_tab02\"><em>영화인</em></a></li>\\r\\n\\t\\t\\t<!-- li><a href=\"/movie/sdb/rank/rfestival.nhn\" title=\"영화제\" class=\"db_tab03\"><em>영화제</em></a></li -->\\r\\n\\t\\t\\t<!-- li><a href=\"/movie/sdb/rank/rcompany.nhn\" title=\"영화사\" class=\"db_tab04\"><em>영화사</em></a></li -->\\r\\n\\t\\t\\t<!-- li><a href=\"/movie/sdb/rank/rnews.nhn\" title=\"기자영화\" class=\"db_tab05\"><em>기자</em></a></li -->\\r\\n\\t\\t\\t<!-- li><a href=\"/movie/sdb/rank/rreview.nhn\" title=\"네티즌리뷰\" class=\"db_tab06\"><em>네티즌리뷰</em></a></li -->\\r\\n\\t\\t\\t\\r\\n\\t\\t\\t\\r\\n\\t\\t\\t</ul>\\r\\n\\t\\t\\t\\r\\n\\t\\t\\t\\r\\n\\r\\n\\t\\t\\t\\t\\r\\n\\t\\t\\t\\t\\r\\n\\r\\n\\t\\t\\t\\t<!-- Content Body -->\\r\\n\\t\\t\\t\\t<div id=\"cbody\" class=\"type_1\">\\r\\n\\t\\t\\t\\t\\r\\n\\t\\t\\t\\t\\t<div id=\"old_content\">\\r\\n\\t\\t\\t\\t\\t<h4 class=\"tlt\"><img src=\"https://ssl.pstatic.net/imgmovie/2007/img/super_db/tlt_ranking_movie.gif\" alt=\"영화랭킹\" width=\"65\" height=\"15\">\\r\\n\\t\\t\\t\\t\\r\\n\\t\\t\\t</h4>\\r\\n\\t\\t\\t<!-- 탭메뉴 -->\\t\\t\\t\\r\\n\\t\\t\\t<div class=\"tab_type_6\">\\r\\n\\t\\t\\t\\t<ul><!--활성화된 탭의 이미지는 _on.gif 입니다-->\\r\\n\\t\\t\\t\\t\\t<li><a href=\"rmovie.nhn?sel=cnt&date=20200624\"><img src=\"https://ssl.pstatic.net/imgmovie/2007/img/super_db/tab_movie_1_off.gif\" alt=\"조회순\" width=\"112\" height=\"28\"></a></li>\\r\\n\\t\\t\\t\\t\\t<li><a href=\"rmovie.nhn?sel=cur&date=20200624\"><img src=\"https://ssl.pstatic.net/imgmovie/2007/img/super_db/tab_movie_2_on.gif\" alt=\"평점순(현재상영영화)\" width=\"126\" height=\"28\"></a></li>\\r\\n\\t\\t\\t\\t\\t<li><a href=\"rmovie.nhn?sel=pnt&date=20200624\"><img src=\"https://ssl.pstatic.net/imgmovie/2007/img/super_db/tab_movie_3_off.gif\" alt=\"평점순(모든영화)\" width=\"126\" height=\"28\"></a></li>\\r\\n\\t\\t\\t\\t</ul>\\r\\n\\t\\t\\t\\t<p class=\"r_date\">2020.06.24 <a href=\"rmovie.nhn?sel=cur&tg=0&date=20200623\"><img src=\"https://ssl.pstatic.net/imgmovie/2007/img/common/btn_prev.gif\" alt=\"prev\" width=\"13\" height=\"13\" style=\"margin-right:1px;\"></a></p>\\r\\n\\t\\t\\t</div>\\r\\n\\t\\t\\t<!-- //탭메뉴 -->\\r\\n\\t\\t\\t<!-- 랭킹 리스트 -->\\r\\n\\t\\t\\t<table cellspacing=\"0\" class=\"list_ranking\">\\r\\n\\t\\t\\t\\t<caption class=\"blind\">랭킹 테이블</caption>\\r\\n\\t\\t\\t\\r\\n\\t\\t\\t\\r\\n\\t\\t\\t<col width=\"6%\"><col width=\"*\"><col width=\"15%\"><col width=\"3%\"><col width=\"12%\"><col width=\"2%\"><col width=\"5%\"> \\r\\n\\t\\t\\t\\r\\n\\t\\t\\t<thead>\\r\\n\\t\\t\\t\\t<tr>\\r\\n\\t\\t\\t\\t<th scope=\"col\">순위</th>\\r\\n\\t\\t\\t\\t<th scope=\"col\">영화명</th>\\r\\n\\t\\t\\t\\t\\r\\n\\t\\t\\t\\t<th scope=\"col\" colspan=\"3\">평점</th>\\r\\n\\t\\t\\t\\t\\r\\n\\t\\t\\t\\t<th scope=\"col\" colspan=\"2\">변동폭</th>\\r\\n\\t\\t\\t\\t</tr>\\r\\n\\t\\t\\t</thead>\\r\\n\\t\\t\\t<tbody>\\r\\n\\t\\t\\t\\t<tr><td colspan=\"8\" class=\"blank01\"></td></tr>\\r\\n\\t\\t\\t\\t<!-- 예제\\r\\n\\t\\t\\t\\t<tr>\\r\\n\\t\\t\\t\\t\\t<td class=\"ac\"><img src=\"https://ssl.pstatic.net/imgmovie/2007/img/common/bullet_r_g50.gif\" alt=\"50\" width=\"14\" height=\"13\"></td>\\r\\n\\t\\t\\t\\t\\t<td class=\"title\"><a href=\"#\">트랜스포머</a></td>\\r\\n\\t\\t\\t\\t\\t<td class=\"ac\"><img src=\"https://ssl.pstatic.net/imgmovie/2007/img/common/icon_down_1.gif\" alt=\"down\" width=\"7\" height=\"10\"></td>\\r\\n\\t\\t\\t\\t\\t<td class=\"range ac\">7</td>\\r\\n\\t\\t\\t\\t</tr>\\r\\n\\t\\t\\t\\t-->\\r\\n\\t\\t\\t\\t\\r\\n\\t\\t\\t\\t<tr>\\r\\n\\t\\t\\t\\t\\t\\r\\n\\t\\t\\t\\t\\t\\t<td class=\"ac\"><img src=\"https://ssl.pstatic.net/imgmovie/2007/img/common/bullet_r_r01.gif\" alt=\"01\" width=\"14\" height=\"13\"></td>\\r\\n\\t\\t\\t\\t\\t\\r\\n\\t\\t\\t\\t\\t\\t\\r\\n\\t\\t\\t\\t\\t\\r\\n\\t\\t\\t\\t\\t\\r\\n\\t\\t\\t\\t\\t<td class=\"title\">\\r\\n\\t\\t\\t\\t\\t\\t<div class=\"tit5\">\\r\\n\\t\\t\\t\\t\\t\\t\\t<a href=\"/movie/bi/mi/basic.nhn?code=106360\" title=\"위대한 쇼맨\">위대한 쇼맨</a>\\r\\n\\t\\t\\t\\t\\t\\t</div>\\r\\n\\t\\t\\t\\t\\t</td>\\r\\n\\t\\t\\t\\t\\t<!-- 평점순일 때 평점 추가하기  -->  \\r\\n\\t\\t\\t\\t\\t\\r\\n\\t\\t\\t\\t\\t<td><div class=\"point_type_2\"><div class=\"mask\" style=\"width:93.99999618530273%\"><img src=\"https://ssl.pstatic.net/imgmovie/2007/img/common/point_type_2_bg_on.gif\" width=\"79\" height=\"14\" alt=\"\"></div></div></td>\\r\\n\\t\\t\\t\\t\\t<td class=\"point\">9.40</td>\\r\\n\\t\\t\\t\\t\\t<td class=\"ac\"><a href=\"/movie/point/af/list.nhn?st=mcode&sword=106360\" class=\"txt_link\">평점주기</a></td>\\r\\n\\t\\t\\t\\t\\t\\r\\n\\t\\t\\t\\t\\t<!----------------------------------------->  \\r\\n\\t\\t\\t\\t\\t\\r\\n\\t\\t\\t\\t\\t<td class=\"ac\"><img src=\"https://ssl.pstatic.net/imgmovie/2007/img/common/icon_na_1.gif\" alt=\"na\" width=\"7\" height=\"10\" class=\"arrow\"></td>\\r\\n\\t\\t\\t\\t\\t<td class=\"range ac\">0</td>\\r\\n\\t\\t\\t\\t\\t\\r\\n\\t\\t\\t\\t\\t\\r\\n\\t\\t\\t\\t</tr>\\r\\n\\t\\t\\t\\t\\t\\r\\n\\t\\t\\t\\t\\t\\r\\n\\t\\t\\t\\t\\r\\n\\t\\t\\t\\t<tr>\\r\\n\\t\\t\\t\\t\\t\\r\\n\\t\\t\\t\\t\\t\\t<td class=\"ac\"><img src=\"https://ssl.pstatic.net/imgmovie/2007/img/common/bullet_r_r02.gif\" alt=\"02\" width=\"14\" height=\"13\"></td>\\r\\n\\t\\t\\t\\t\\t\\r\\n\\t\\t\\t\\t\\t\\t\\r\\n\\t\\t\\t\\t\\t\\r\\n\\t\\t\\t\\t\\t\\r\\n\\t\\t\\t\\t\\t<td class=\"title\">\\r\\n\\t\\t\\t\\t\\t\\t<div class=\"tit5\">\\r\\n\\t\\t\\t\\t\\t\\t\\t<a href=\"/movie/bi/mi/basic.nhn?code=10038\" title=\"에이리언 2\">에이리언 2</a>\\r\\n\\t\\t\\t\\t\\t\\t</div>\\r\\n\\t\\t\\t\\t\\t</td>\\r\\n\\t\\t\\t\\t\\t<!-- 평점순일 때 평점 추가하기  -->  \\r\\n\\t\\t\\t\\t\\t\\r\\n\\t\\t\\t\\t\\t<td><div class=\"point_type_2\"><div class=\"mask\" style=\"width:93.4000015258789%\"><img src=\"https://ssl.pstatic.net/imgmovie/2007/img/common/point_type_2_bg_on.gif\" width=\"79\" height=\"14\" alt=\"\"></div></div></td>\\r\\n\\t\\t\\t\\t\\t<td class=\"point\">9.34</td>\\r\\n\\t\\t\\t\\t\\t<td class=\"ac\"><a href=\"/movie/point/af/list.nhn?st=mcode&sword=10038\" class=\"txt_link\">평점주기</a></td>\\r\\n\\t\\t\\t\\t\\t\\r\\n\\t\\t\\t\\t\\t<!----------------------------------------->  \\r\\n\\t\\t\\t\\t\\t\\r\\n\\t\\t\\t\\t\\t<td class=\"ac\"><img src=\"https://ssl.pstatic.net/imgmovie/2007/img/common/icon_na_1.gif\" alt=\"na\" width=\"7\" height=\"10\" class=\"arrow\"></td>\\r\\n\\t\\t\\t\\t\\t<td class=\"range ac\">0</td>\\r\\n\\t\\t\\t\\t\\t\\r\\n\\t\\t\\t\\t\\t\\r\\n\\t\\t\\t\\t</tr>\\r\\n\\t\\t\\t\\t\\t\\r\\n\\t\\t\\t\\t\\t\\r\\n\\t\\t\\t\\t\\r\\n\\t\\t\\t\\t<tr>\\r\\n\\t\\t\\t\\t\\t\\r\\n\\t\\t\\t\\t\\t\\t<td class=\"ac\"><img src=\"https://ssl.pstatic.net/imgmovie/2007/img/common/bullet_r_r03.gif\" alt=\"03\" width=\"14\" height=\"13\"></td>\\r\\n\\t\\t\\t\\t\\t\\r\\n\\t\\t\\t\\t\\t\\t\\r\\n\\t\\t\\t\\t\\t\\r\\n\\t\\t\\t\\t\\t\\r\\n\\t\\t\\t\\t\\t<td class=\"title\">\\r\\n\\t\\t\\t\\t\\t\\t<div class=\"tit5\">\\r\\n\\t\\t\\t\\t\\t\\t\\t<a href=\"/movie/bi/mi/basic.nhn?code=14448\" title=\"패왕별희 디 오리지널\">패왕별희 디 오리지널</a>\\r\\n\\t\\t\\t\\t\\t\\t</div>\\r\\n\\t\\t\\t\\t\\t</td>\\r\\n\\t\\t\\t\\t\\t<!-- 평점순일 때 평점 추가하기  -->  \\r\\n\\t\\t\\t\\t\\t\\r\\n\\t\\t\\t\\t\\t<td><div class=\"point_type_2\"><div class=\"mask\" style=\"width:93.00000190734863%\"><img src=\"https://ssl.pstatic.net/imgmovie/2007/img/common/point_type_2_bg_on.gif\" width=\"79\" height=\"14\" alt=\"\"></div></div></td>\\r\\n\\t\\t\\t\\t\\t<td class=\"point\">9.30</td>\\r\\n\\t\\t\\t\\t\\t<td class=\"ac\"><a href=\"/movie/point/af/list.nhn?st=mcode&sword=14448\" class=\"txt_link\">평점주기</a></td>\\r\\n\\t\\t\\t\\t\\t\\r\\n\\t\\t\\t\\t\\t<!----------------------------------------->  \\r\\n\\t\\t\\t\\t\\t\\r\\n\\t\\t\\t\\t\\t<td class=\"ac\"><img src=\"https://ssl.pstatic.net/imgmovie/2007/img/common/icon_na_1.gif\" alt=\"na\" width=\"7\" height=\"10\" class=\"arrow\"></td>\\r\\n\\t\\t\\t\\t\\t<td class=\"range ac\">0</td>\\r\\n\\t\\t\\t\\t\\t\\r\\n\\t\\t\\t\\t\\t\\r\\n\\t\\t\\t\\t</tr>\\r\\n\\t\\t\\t\\t\\t\\r\\n\\t\\t\\t\\t\\t\\r\\n\\t\\t\\t\\t\\r\\n\\t\\t\\t\\t<tr>\\r\\n\\t\\t\\t\\t\\t\\r\\n\\t\\t\\t\\t\\t\\t<td class=\"ac\"><img src=\"https://ssl.pstatic.net/imgmovie/2007/img/common/bullet_r_r04.gif\" alt=\"04\" width=\"14\" height=\"13\"></td>\\r\\n\\t\\t\\t\\t\\t\\r\\n\\t\\t\\t\\t\\t\\t\\r\\n\\t\\t\\t\\t\\t\\r\\n\\t\\t\\t\\t\\t\\r\\n\\t\\t\\t\\t\\t<td class=\"title\">\\r\\n\\t\\t\\t\\t\\t\\t<div class=\"tit5\">\\r\\n\\t\\t\\t\\t\\t\\t\\t<a href=\"/movie/bi/mi/basic.nhn?code=16531\" title=\"인생\">인생</a>\\r\\n\\t\\t\\t\\t\\t\\t</div>\\r\\n\\t\\t\\t\\t\\t</td>\\r\\n\\t\\t\\t\\t\\t<!-- 평점순일 때 평점 추가하기  -->  \\r\\n\\t\\t\\t\\t\\t\\r\\n\\t\\t\\t\\t\\t<td><div class=\"point_type_2\"><div class=\"mask\" style=\"width:92.60000228881836%\"><img src=\"https://ssl.pstatic.net/imgmovie/2007/img/common/point_type_2_bg_on.gif\" width=\"79\" height=\"14\" alt=\"\"></div></div></td>\\r\\n\\t\\t\\t\\t\\t<td class=\"point\">9.26</td>\\r\\n\\t\\t\\t\\t\\t<td class=\"ac\"><a href=\"/movie/point/af/list.nhn?st=mcode&sword=16531\" class=\"txt_link\">평점주기</a></td>\\r\\n\\t\\t\\t\\t\\t\\r\\n\\t\\t\\t\\t\\t<!----------------------------------------->  \\r\\n\\t\\t\\t\\t\\t\\r\\n\\t\\t\\t\\t\\t<td class=\"ac\"><img src=\"https://ssl.pstatic.net/imgmovie/2007/img/common/icon_na_1.gif\" alt=\"na\" width=\"7\" height=\"10\" class=\"arrow\"></td>\\r\\n\\t\\t\\t\\t\\t<td class=\"range ac\">0</td>\\r\\n\\t\\t\\t\\t\\t\\r\\n\\t\\t\\t\\t\\t\\r\\n\\t\\t\\t\\t</tr>\\r\\n\\t\\t\\t\\t\\t\\r\\n\\t\\t\\t\\t\\t\\r\\n\\t\\t\\t\\t\\r\\n\\t\\t\\t\\t<tr>\\r\\n\\t\\t\\t\\t\\t\\r\\n\\t\\t\\t\\t\\t\\t<td class=\"ac\"><img src=\"https://ssl.pstatic.net/imgmovie/2007/img/common/bullet_r_r05.gif\" alt=\"05\" width=\"14\" height=\"13\"></td>\\r\\n\\t\\t\\t\\t\\t\\r\\n\\t\\t\\t\\t\\t\\t\\r\\n\\t\\t\\t\\t\\t\\r\\n\\t\\t\\t\\t\\t\\r\\n\\t\\t\\t\\t\\t<td class=\"title\">\\r\\n\\t\\t\\t\\t\\t\\t<div class=\"tit5\">\\r\\n\\t\\t\\t\\t\\t\\t\\t<a href=\"/movie/bi/mi/basic.nhn?code=146504\" title=\"우리들\">우리들</a>\\r\\n\\t\\t\\t\\t\\t\\t</div>\\r\\n\\t\\t\\t\\t\\t</td>\\r\\n\\t\\t\\t\\t\\t<!-- 평점순일 때 평점 추가하기  -->  \\r\\n\\t\\t\\t\\t\\t\\r\\n\\t\\t\\t\\t\\t<td><div class=\"point_type_2\"><div class=\"mask\" style=\"width:92.5%\"><img src=\"https://ssl.pstatic.net/imgmovie/2007/img/common/point_type_2_bg_on.gif\" width=\"79\" height=\"14\" alt=\"\"></div></div></td>\\r\\n\\t\\t\\t\\t\\t<td class=\"point\">9.25</td>\\r\\n\\t\\t\\t\\t\\t<td class=\"ac\"><a href=\"/movie/point/af/list.nhn?st=mcode&sword=146504\" class=\"txt_link\">평점주기</a></td>\\r\\n\\t\\t\\t\\t\\t\\r\\n\\t\\t\\t\\t\\t<!----------------------------------------->  \\r\\n\\t\\t\\t\\t\\t\\r\\n\\t\\t\\t\\t\\t<td class=\"ac\"><img src=\"https://ssl.pstatic.net/imgmovie/2007/img/common/icon_na_1.gif\" alt=\"na\" width=\"7\" height=\"10\" class=\"arrow\"></td>\\r\\n\\t\\t\\t\\t\\t<td class=\"range ac\">0</td>\\r\\n\\t\\t\\t\\t\\t\\r\\n\\t\\t\\t\\t\\t\\r\\n\\t\\t\\t\\t</tr>\\r\\n\\t\\t\\t\\t\\t\\r\\n\\t\\t\\t\\t\\t\\r\\n\\t\\t\\t\\t\\r\\n\\t\\t\\t\\t<tr>\\r\\n\\t\\t\\t\\t\\t\\r\\n\\t\\t\\t\\t\\t\\t<td class=\"ac\"><img src=\"https://ssl.pstatic.net/imgmovie/2007/img/common/bullet_r_r06.gif\" alt=\"06\" width=\"14\" height=\"13\"></td>\\r\\n\\t\\t\\t\\t\\t\\r\\n\\t\\t\\t\\t\\t\\t\\r\\n\\t\\t\\t\\t\\t\\r\\n\\t\\t\\t\\t\\t\\r\\n\\t\\t\\t\\t\\t<td class=\"title\">\\r\\n\\t\\t\\t\\t\\t\\t<div class=\"tit5\">\\r\\n\\t\\t\\t\\t\\t\\t\\t<a href=\"/movie/bi/mi/basic.nhn?code=85825\" title=\"톰보이\">톰보이</a>\\r\\n\\t\\t\\t\\t\\t\\t</div>\\r\\n\\t\\t\\t\\t\\t</td>\\r\\n\\t\\t\\t\\t\\t<!-- 평점순일 때 평점 추가하기  -->  \\r\\n\\t\\t\\t\\t\\t\\r\\n\\t\\t\\t\\t\\t<td><div class=\"point_type_2\"><div class=\"mask\" style=\"width:92.39999771118164%\"><img src=\"https://ssl.pstatic.net/imgmovie/2007/img/common/point_type_2_bg_on.gif\" width=\"79\" height=\"14\" alt=\"\"></div></div></td>\\r\\n\\t\\t\\t\\t\\t<td class=\"point\">9.24</td>\\r\\n\\t\\t\\t\\t\\t<td class=\"ac\"><a href=\"/movie/point/af/list.nhn?st=mcode&sword=85825\" class=\"txt_link\">평점주기</a></td>\\r\\n\\t\\t\\t\\t\\t\\r\\n\\t\\t\\t\\t\\t<!----------------------------------------->  \\r\\n\\t\\t\\t\\t\\t\\r\\n\\t\\t\\t\\t\\t<td class=\"ac\"><img src=\"https://ssl.pstatic.net/imgmovie/2007/img/common/icon_na_1.gif\" alt=\"na\" width=\"7\" height=\"10\" class=\"arrow\"></td>\\r\\n\\t\\t\\t\\t\\t<td class=\"range ac\">0</td>\\r\\n\\t\\t\\t\\t\\t\\r\\n\\t\\t\\t\\t\\t\\r\\n\\t\\t\\t\\t</tr>\\r\\n\\t\\t\\t\\t\\t\\r\\n\\t\\t\\t\\t\\t\\r\\n\\t\\t\\t\\t\\r\\n\\t\\t\\t\\t<tr>\\r\\n\\t\\t\\t\\t\\t\\r\\n\\t\\t\\t\\t\\t\\t<td class=\"ac\"><img src=\"https://ssl.pstatic.net/imgmovie/2007/img/common/bullet_r_r07.gif\" alt=\"07\" width=\"14\" height=\"13\"></td>\\r\\n\\t\\t\\t\\t\\t\\r\\n\\t\\t\\t\\t\\t\\t\\r\\n\\t\\t\\t\\t\\t\\r\\n\\t\\t\\t\\t\\t\\r\\n\\t\\t\\t\\t\\t<td class=\"title\">\\r\\n\\t\\t\\t\\t\\t\\t<div class=\"tit5\">\\r\\n\\t\\t\\t\\t\\t\\t\\t<a href=\"/movie/bi/mi/basic.nhn?code=144379\" title=\"러빙 빈센트\">러빙 빈센트</a>\\r\\n\\t\\t\\t\\t\\t\\t</div>\\r\\n\\t\\t\\t\\t\\t</td>\\r\\n\\t\\t\\t\\t\\t<!-- 평점순일 때 평점 추가하기  -->  \\r\\n\\t\\t\\t\\t\\t\\r\\n\\t\\t\\t\\t\\t<td><div class=\"point_type_2\"><div class=\"mask\" style=\"width:92.20000267028809%\"><img src=\"https://ssl.pstatic.net/imgmovie/2007/img/common/point_type_2_bg_on.gif\" width=\"79\" height=\"14\" alt=\"\"></div></div></td>\\r\\n\\t\\t\\t\\t\\t<td class=\"point\">9.22</td>\\r\\n\\t\\t\\t\\t\\t<td class=\"ac\"><a href=\"/movie/point/af/list.nhn?st=mcode&sword=144379\" class=\"txt_link\">평점주기</a></td>\\r\\n\\t\\t\\t\\t\\t\\r\\n\\t\\t\\t\\t\\t<!----------------------------------------->  \\r\\n\\t\\t\\t\\t\\t\\r\\n\\t\\t\\t\\t\\t<td class=\"ac\"><img src=\"https://ssl.pstatic.net/imgmovie/2007/img/common/icon_na_1.gif\" alt=\"na\" width=\"7\" height=\"10\" class=\"arrow\"></td>\\r\\n\\t\\t\\t\\t\\t<td class=\"range ac\">0</td>\\r\\n\\t\\t\\t\\t\\t\\r\\n\\t\\t\\t\\t\\t\\r\\n\\t\\t\\t\\t</tr>\\r\\n\\t\\t\\t\\t\\t\\r\\n\\t\\t\\t\\t\\t\\r\\n\\t\\t\\t\\t\\r\\n\\t\\t\\t\\t<tr>\\r\\n\\t\\t\\t\\t\\t\\r\\n\\t\\t\\t\\t\\t\\t<td class=\"ac\"><img src=\"https://ssl.pstatic.net/imgmovie/2007/img/common/bullet_r_r08.gif\" alt=\"08\" width=\"14\" height=\"13\"></td>\\r\\n\\t\\t\\t\\t\\t\\r\\n\\t\\t\\t\\t\\t\\t\\r\\n\\t\\t\\t\\t\\t\\r\\n\\t\\t\\t\\t\\t\\r\\n\\t\\t\\t\\t\\t<td class=\"title\">\\r\\n\\t\\t\\t\\t\\t\\t<div class=\"tit5\">\\r\\n\\t\\t\\t\\t\\t\\t\\t<a href=\"/movie/bi/mi/basic.nhn?code=172174\" title=\"어느 가족\">어느 가족</a>\\r\\n\\t\\t\\t\\t\\t\\t</div>\\r\\n\\t\\t\\t\\t\\t</td>\\r\\n\\t\\t\\t\\t\\t<!-- 평점순일 때 평점 추가하기  -->  \\r\\n\\t\\t\\t\\t\\t\\r\\n\\t\\t\\t\\t\\t<td><div class=\"point_type_2\"><div class=\"mask\" style=\"width:91.99999809265137%\"><img src=\"https://ssl.pstatic.net/imgmovie/2007/img/common/point_type_2_bg_on.gif\" width=\"79\" height=\"14\" alt=\"\"></div></div></td>\\r\\n\\t\\t\\t\\t\\t<td class=\"point\">9.20</td>\\r\\n\\t\\t\\t\\t\\t<td class=\"ac\"><a href=\"/movie/point/af/list.nhn?st=mcode&sword=172174\" class=\"txt_link\">평점주기</a></td>\\r\\n\\t\\t\\t\\t\\t\\r\\n\\t\\t\\t\\t\\t<!----------------------------------------->  \\r\\n\\t\\t\\t\\t\\t\\r\\n\\t\\t\\t\\t\\t<td class=\"ac\"><img src=\"https://ssl.pstatic.net/imgmovie/2007/img/common/icon_na_1.gif\" alt=\"na\" width=\"7\" height=\"10\" class=\"arrow\"></td>\\r\\n\\t\\t\\t\\t\\t<td class=\"range ac\">0</td>\\r\\n\\t\\t\\t\\t\\t\\r\\n\\t\\t\\t\\t\\t\\r\\n\\t\\t\\t\\t</tr>\\r\\n\\t\\t\\t\\t\\t\\r\\n\\t\\t\\t\\t\\t\\r\\n\\t\\t\\t\\t\\r\\n\\t\\t\\t\\t<tr>\\r\\n\\t\\t\\t\\t\\t\\r\\n\\t\\t\\t\\t\\t\\t<td class=\"ac\"><img src=\"https://ssl.pstatic.net/imgmovie/2007/img/common/bullet_r_r09.gif\" alt=\"09\" width=\"14\" height=\"13\"></td>\\r\\n\\t\\t\\t\\t\\t\\r\\n\\t\\t\\t\\t\\t\\t\\r\\n\\t\\t\\t\\t\\t\\r\\n\\t\\t\\t\\t\\t\\r\\n\\t\\t\\t\\t\\t<td class=\"title\">\\r\\n\\t\\t\\t\\t\\t\\t<div class=\"tit5\">\\r\\n\\t\\t\\t\\t\\t\\t\\t<a href=\"/movie/bi/mi/basic.nhn?code=63513\" title=\"시간을 달리는 소녀\">시간을 달리는 소녀</a>\\r\\n\\t\\t\\t\\t\\t\\t</div>\\r\\n\\t\\t\\t\\t\\t</td>\\r\\n\\t\\t\\t\\t\\t<!-- 평점순일 때 평점 추가하기  -->  \\r\\n\\t\\t\\t\\t\\t\\r\\n\\t\\t\\t\\t\\t<td><div class=\"point_type_2\"><div class=\"mask\" style=\"width:91.99999809265137%\"><img src=\"https://ssl.pstatic.net/imgmovie/2007/img/common/point_type_2_bg_on.gif\" width=\"79\" height=\"14\" alt=\"\"></div></div></td>\\r\\n\\t\\t\\t\\t\\t<td class=\"point\">9.20</td>\\r\\n\\t\\t\\t\\t\\t<td class=\"ac\"><a href=\"/movie/point/af/list.nhn?st=mcode&sword=63513\" class=\"txt_link\">평점주기</a></td>\\r\\n\\t\\t\\t\\t\\t\\r\\n\\t\\t\\t\\t\\t<!----------------------------------------->  \\r\\n\\t\\t\\t\\t\\t\\r\\n\\t\\t\\t\\t\\t<td class=\"ac\"><img src=\"https://ssl.pstatic.net/imgmovie/2007/img/common/icon_na_1.gif\" alt=\"na\" width=\"7\" height=\"10\" class=\"arrow\"></td>\\r\\n\\t\\t\\t\\t\\t<td class=\"range ac\">0</td>\\r\\n\\t\\t\\t\\t\\t\\r\\n\\t\\t\\t\\t\\t\\r\\n\\t\\t\\t\\t</tr>\\r\\n\\t\\t\\t\\t\\t\\r\\n\\t\\t\\t\\t\\t\\r\\n\\t\\t\\t\\t\\r\\n\\t\\t\\t\\t<tr>\\r\\n\\t\\t\\t\\t\\t\\r\\n\\t\\t\\t\\t\\t\\t\\r\\n\\t\\t\\t\\t\\t<td class=\"ac\"><img src=\"https://ssl.pstatic.net/imgmovie/2007/img/common/bullet_r_r10.gif\" alt=\"010\" width=\"14\" height=\"13\"></td>\\r\\n\\t\\t\\t\\t\\t\\t\\r\\n\\t\\t\\t\\t\\t\\r\\n\\t\\t\\t\\t\\t\\r\\n\\t\\t\\t\\t\\t<td class=\"title\">\\r\\n\\t\\t\\t\\t\\t\\t<div class=\"tit5\">\\r\\n\\t\\t\\t\\t\\t\\t\\t<a href=\"/movie/bi/mi/basic.nhn?code=34093\" title=\"오아시스\">오아시스</a>\\r\\n\\t\\t\\t\\t\\t\\t</div>\\r\\n\\t\\t\\t\\t\\t</td>\\r\\n\\t\\t\\t\\t\\t<!-- 평점순일 때 평점 추가하기  -->  \\r\\n\\t\\t\\t\\t\\t\\r\\n\\t\\t\\t\\t\\t<td><div class=\"point_type_2\"><div class=\"mask\" style=\"width:91.99999809265137%\"><img src=\"https://ssl.pstatic.net/imgmovie/2007/img/common/point_type_2_bg_on.gif\" width=\"79\" height=\"14\" alt=\"\"></div></div></td>\\r\\n\\t\\t\\t\\t\\t<td class=\"point\">9.20</td>\\r\\n\\t\\t\\t\\t\\t<td class=\"ac\"><a href=\"/movie/point/af/list.nhn?st=mcode&sword=34093\" class=\"txt_link\">평점주기</a></td>\\r\\n\\t\\t\\t\\t\\t\\r\\n\\t\\t\\t\\t\\t<!----------------------------------------->  \\r\\n\\t\\t\\t\\t\\t\\r\\n\\t\\t\\t\\t\\t\\r\\n\\t\\t\\t\\t\\t\\t<td colspan=\"2\" class=\"new_icon\"><img width=\"20\" height=\"5\" alt=\"new\" src=\"https://ssl.pstatic.net/imgmovie/2007/img/common/icon_new_1.gif\"></td>\\r\\n\\t\\t\\t\\t\\t\\r\\n\\t\\t\\t\\t</tr>\\r\\n\\t\\t\\t\\t\\t\\r\\n\\t\\t\\t\\t\\t\\r\\n\\t\\t\\t\\t\\t\\t<tr><td colspan=\"8\" class=\"line01\"></td></tr>\\r\\n\\t\\t\\t\\t\\t\\r\\n\\t\\t\\t\\t\\r\\n\\t\\t\\t\\t<tr>\\r\\n\\t\\t\\t\\t\\t\\r\\n\\t\\t\\t\\t\\t\\t\\r\\n\\t\\t\\t\\t\\t\\r\\n\\t\\t\\t\\t\\t\\t<td class=\"ac\"><img src=\"https://ssl.pstatic.net/imgmovie/2007/img/common/bullet_r_g11.gif\" alt=\"11\" width=\"14\" height=\"13\"></td>\\r\\n\\t\\t\\t\\t\\t\\r\\n\\t\\t\\t\\t\\t\\r\\n\\t\\t\\t\\t\\t<td class=\"title\">\\r\\n\\t\\t\\t\\t\\t\\t<div class=\"tit5\">\\r\\n\\t\\t\\t\\t\\t\\t\\t<a href=\"/movie/bi/mi/basic.nhn?code=168050\" title=\"스타 이즈 본\">스타 이즈 본</a>\\r\\n\\t\\t\\t\\t\\t\\t</div>\\r\\n\\t\\t\\t\\t\\t</td>\\r\\n\\t\\t\\t\\t\\t<!-- 평점순일 때 평점 추가하기  -->  \\r\\n\\t\\t\\t\\t\\t\\r\\n\\t\\t\\t\\t\\t<td><div class=\"point_type_2\"><div class=\"mask\" style=\"width:91.80000305175781%\"><img src=\"https://ssl.pstatic.net/imgmovie/2007/img/common/point_type_2_bg_on.gif\" width=\"79\" height=\"14\" alt=\"\"></div></div></td>\\r\\n\\t\\t\\t\\t\\t<td class=\"point\">9.18</td>\\r\\n\\t\\t\\t\\t\\t<td class=\"ac\"><a href=\"/movie/point/af/list.nhn?st=mcode&sword=168050\" class=\"txt_link\">평점주기</a></td>\\r\\n\\t\\t\\t\\t\\t\\r\\n\\t\\t\\t\\t\\t<!----------------------------------------->  \\r\\n\\t\\t\\t\\t\\t\\r\\n\\t\\t\\t\\t\\t<td class=\"ac\"><img src=\"https://ssl.pstatic.net/imgmovie/2007/img/common/icon_down_1.gif\" alt=\"down\" width=\"7\" height=\"10\" class=\"arrow\"></td>\\r\\n\\t\\t\\t\\t\\t<td class=\"range ac\">1</td>\\r\\n\\t\\t\\t\\t\\t\\r\\n\\t\\t\\t\\t\\t\\r\\n\\t\\t\\t\\t</tr>\\r\\n\\t\\t\\t\\t\\t\\r\\n\\t\\t\\t\\t\\t\\r\\n\\t\\t\\t\\t\\r\\n\\t\\t\\t\\t<tr>\\r\\n\\t\\t\\t\\t\\t\\r\\n\\t\\t\\t\\t\\t\\t\\r\\n\\t\\t\\t\\t\\t\\r\\n\\t\\t\\t\\t\\t\\t<td class=\"ac\"><img src=\"https://ssl.pstatic.net/imgmovie/2007/img/common/bullet_r_g12.gif\" alt=\"12\" width=\"14\" height=\"13\"></td>\\r\\n\\t\\t\\t\\t\\t\\r\\n\\t\\t\\t\\t\\t\\r\\n\\t\\t\\t\\t\\t<td class=\"title\">\\r\\n\\t\\t\\t\\t\\t\\t<div class=\"tit5\">\\r\\n\\t\\t\\t\\t\\t\\t\\t<a href=\"/movie/bi/mi/basic.nhn?code=10037\" title=\"에이리언\">에이리언</a>\\r\\n\\t\\t\\t\\t\\t\\t</div>\\r\\n\\t\\t\\t\\t\\t</td>\\r\\n\\t\\t\\t\\t\\t<!-- 평점순일 때 평점 추가하기  -->  \\r\\n\\t\\t\\t\\t\\t\\r\\n\\t\\t\\t\\t\\t<td><div class=\"point_type_2\"><div class=\"mask\" style=\"width:91.19999885559082%\"><img src=\"https://ssl.pstatic.net/imgmovie/2007/img/common/point_type_2_bg_on.gif\" width=\"79\" height=\"14\" alt=\"\"></div></div></td>\\r\\n\\t\\t\\t\\t\\t<td class=\"point\">9.12</td>\\r\\n\\t\\t\\t\\t\\t<td class=\"ac\"><a href=\"/movie/point/af/list.nhn?st=mcode&sword=10037\" class=\"txt_link\">평점주기</a></td>\\r\\n\\t\\t\\t\\t\\t\\r\\n\\t\\t\\t\\t\\t<!----------------------------------------->  \\r\\n\\t\\t\\t\\t\\t\\r\\n\\t\\t\\t\\t\\t<td class=\"ac\"><img src=\"https://ssl.pstatic.net/imgmovie/2007/img/common/icon_down_1.gif\" alt=\"down\" width=\"7\" height=\"10\" class=\"arrow\"></td>\\r\\n\\t\\t\\t\\t\\t<td class=\"range ac\">1</td>\\r\\n\\t\\t\\t\\t\\t\\r\\n\\t\\t\\t\\t\\t\\r\\n\\t\\t\\t\\t</tr>\\r\\n\\t\\t\\t\\t\\t\\r\\n\\t\\t\\t\\t\\t\\r\\n\\t\\t\\t\\t\\r\\n\\t\\t\\t\\t<tr>\\r\\n\\t\\t\\t\\t\\t\\r\\n\\t\\t\\t\\t\\t\\t\\r\\n\\t\\t\\t\\t\\t\\r\\n\\t\\t\\t\\t\\t\\t<td class=\"ac\"><img src=\"https://ssl.pstatic.net/imgmovie/2007/img/common/bullet_r_g13.gif\" alt=\"13\" width=\"14\" height=\"13\"></td>\\r\\n\\t\\t\\t\\t\\t\\r\\n\\t\\t\\t\\t\\t\\r\\n\\t\\t\\t\\t\\t<td class=\"title\">\\r\\n\\t\\t\\t\\t\\t\\t<div class=\"tit5\">\\r\\n\\t\\t\\t\\t\\t\\t\\t<a href=\"/movie/bi/mi/basic.nhn?code=19031\" title=\"러브레터\">러브레터</a>\\r\\n\\t\\t\\t\\t\\t\\t</div>\\r\\n\\t\\t\\t\\t\\t</td>\\r\\n\\t\\t\\t\\t\\t<!-- 평점순일 때 평점 추가하기  -->  \\r\\n\\t\\t\\t\\t\\t\\r\\n\\t\\t\\t\\t\\t<td><div class=\"point_type_2\"><div class=\"mask\" style=\"width:91.09999656677246%\"><img src=\"https://ssl.pstatic.net/imgmovie/2007/img/common/point_type_2_bg_on.gif\" width=\"79\" height=\"14\" alt=\"\"></div></div></td>\\r\\n\\t\\t\\t\\t\\t<td class=\"point\">9.11</td>\\r\\n\\t\\t\\t\\t\\t<td class=\"ac\"><a href=\"/movie/point/af/list.nhn?st=mcode&sword=19031\" class=\"txt_link\">평점주기</a></td>\\r\\n\\t\\t\\t\\t\\t\\r\\n\\t\\t\\t\\t\\t<!----------------------------------------->  \\r\\n\\t\\t\\t\\t\\t\\r\\n\\t\\t\\t\\t\\t<td class=\"ac\"><img src=\"https://ssl.pstatic.net/imgmovie/2007/img/common/icon_down_1.gif\" alt=\"down\" width=\"7\" height=\"10\" class=\"arrow\"></td>\\r\\n\\t\\t\\t\\t\\t<td class=\"range ac\">1</td>\\r\\n\\t\\t\\t\\t\\t\\r\\n\\t\\t\\t\\t\\t\\r\\n\\t\\t\\t\\t</tr>\\r\\n\\t\\t\\t\\t\\t\\r\\n\\t\\t\\t\\t\\t\\r\\n\\t\\t\\t\\t\\r\\n\\t\\t\\t\\t<tr>\\r\\n\\t\\t\\t\\t\\t\\r\\n\\t\\t\\t\\t\\t\\t\\r\\n\\t\\t\\t\\t\\t\\r\\n\\t\\t\\t\\t\\t\\t<td class=\"ac\"><img src=\"https://ssl.pstatic.net/imgmovie/2007/img/common/bullet_r_g14.gif\" alt=\"14\" width=\"14\" height=\"13\"></td>\\r\\n\\t\\t\\t\\t\\t\\r\\n\\t\\t\\t\\t\\t\\r\\n\\t\\t\\t\\t\\t<td class=\"title\">\\r\\n\\t\\t\\t\\t\\t\\t<div class=\"tit5\">\\r\\n\\t\\t\\t\\t\\t\\t\\t<a href=\"/movie/bi/mi/basic.nhn?code=93005\" title=\"늑대아이\">늑대아이</a>\\r\\n\\t\\t\\t\\t\\t\\t</div>\\r\\n\\t\\t\\t\\t\\t</td>\\r\\n\\t\\t\\t\\t\\t<!-- 평점순일 때 평점 추가하기  -->  \\r\\n\\t\\t\\t\\t\\t\\r\\n\\t\\t\\t\\t\\t<td><div class=\"point_type_2\"><div class=\"mask\" style=\"width:91.09999656677246%\"><img src=\"https://ssl.pstatic.net/imgmovie/2007/img/common/point_type_2_bg_on.gif\" width=\"79\" height=\"14\" alt=\"\"></div></div></td>\\r\\n\\t\\t\\t\\t\\t<td class=\"point\">9.11</td>\\r\\n\\t\\t\\t\\t\\t<td class=\"ac\"><a href=\"/movie/point/af/list.nhn?st=mcode&sword=93005\" class=\"txt_link\">평점주기</a></td>\\r\\n\\t\\t\\t\\t\\t\\r\\n\\t\\t\\t\\t\\t<!----------------------------------------->  \\r\\n\\t\\t\\t\\t\\t\\r\\n\\t\\t\\t\\t\\t<td class=\"ac\"><img src=\"https://ssl.pstatic.net/imgmovie/2007/img/common/icon_down_1.gif\" alt=\"down\" width=\"7\" height=\"10\" class=\"arrow\"></td>\\r\\n\\t\\t\\t\\t\\t<td class=\"range ac\">1</td>\\r\\n\\t\\t\\t\\t\\t\\r\\n\\t\\t\\t\\t\\t\\r\\n\\t\\t\\t\\t</tr>\\r\\n\\t\\t\\t\\t\\t\\r\\n\\t\\t\\t\\t\\t\\r\\n\\t\\t\\t\\t\\r\\n\\t\\t\\t\\t<tr>\\r\\n\\t\\t\\t\\t\\t\\r\\n\\t\\t\\t\\t\\t\\t\\r\\n\\t\\t\\t\\t\\t\\r\\n\\t\\t\\t\\t\\t\\t<td class=\"ac\"><img src=\"https://ssl.pstatic.net/imgmovie/2007/img/common/bullet_r_g15.gif\" alt=\"15\" width=\"14\" height=\"13\"></td>\\r\\n\\t\\t\\t\\t\\t\\r\\n\\t\\t\\t\\t\\t\\r\\n\\t\\t\\t\\t\\t<td class=\"title\">\\r\\n\\t\\t\\t\\t\\t\\t<div class=\"tit5\">\\r\\n\\t\\t\\t\\t\\t\\t\\t<a href=\"/movie/bi/mi/basic.nhn?code=10050\" title=\"싸이코\">싸이코</a>\\r\\n\\t\\t\\t\\t\\t\\t</div>\\r\\n\\t\\t\\t\\t\\t</td>\\r\\n\\t\\t\\t\\t\\t<!-- 평점순일 때 평점 추가하기  -->  \\r\\n\\t\\t\\t\\t\\t\\r\\n\\t\\t\\t\\t\\t<td><div class=\"point_type_2\"><div class=\"mask\" style=\"width:91.00000381469727%\"><img src=\"https://ssl.pstatic.net/imgmovie/2007/img/common/point_type_2_bg_on.gif\" width=\"79\" height=\"14\" alt=\"\"></div></div></td>\\r\\n\\t\\t\\t\\t\\t<td class=\"point\">9.10</td>\\r\\n\\t\\t\\t\\t\\t<td class=\"ac\"><a href=\"/movie/point/af/list.nhn?st=mcode&sword=10050\" class=\"txt_link\">평점주기</a></td>\\r\\n\\t\\t\\t\\t\\t\\r\\n\\t\\t\\t\\t\\t<!----------------------------------------->  \\r\\n\\t\\t\\t\\t\\t\\r\\n\\t\\t\\t\\t\\t\\r\\n\\t\\t\\t\\t\\t\\t<td colspan=\"2\" class=\"new_icon\"><img width=\"20\" height=\"5\" alt=\"new\" src=\"https://ssl.pstatic.net/imgmovie/2007/img/common/icon_new_1.gif\"></td>\\r\\n\\t\\t\\t\\t\\t\\r\\n\\t\\t\\t\\t</tr>\\r\\n\\t\\t\\t\\t\\t\\r\\n\\t\\t\\t\\t\\t\\r\\n\\t\\t\\t\\t\\r\\n\\t\\t\\t\\t<tr>\\r\\n\\t\\t\\t\\t\\t\\r\\n\\t\\t\\t\\t\\t\\t\\r\\n\\t\\t\\t\\t\\t\\r\\n\\t\\t\\t\\t\\t\\t<td class=\"ac\"><img src=\"https://ssl.pstatic.net/imgmovie/2007/img/common/bullet_r_g16.gif\" alt=\"16\" width=\"14\" height=\"13\"></td>\\r\\n\\t\\t\\t\\t\\t\\r\\n\\t\\t\\t\\t\\t\\r\\n\\t\\t\\t\\t\\t<td class=\"title\">\\r\\n\\t\\t\\t\\t\\t\\t<div class=\"tit5\">\\r\\n\\t\\t\\t\\t\\t\\t\\t<a href=\"/movie/bi/mi/basic.nhn?code=27219\" title=\"박하사탕\">박하사탕</a>\\r\\n\\t\\t\\t\\t\\t\\t</div>\\r\\n\\t\\t\\t\\t\\t</td>\\r\\n\\t\\t\\t\\t\\t<!-- 평점순일 때 평점 추가하기  -->  \\r\\n\\t\\t\\t\\t\\t\\r\\n\\t\\t\\t\\t\\t<td><div class=\"point_type_2\"><div class=\"mask\" style=\"width:90.50000190734863%\"><img src=\"https://ssl.pstatic.net/imgmovie/2007/img/common/point_type_2_bg_on.gif\" width=\"79\" height=\"14\" alt=\"\"></div></div></td>\\r\\n\\t\\t\\t\\t\\t<td class=\"point\">9.05</td>\\r\\n\\t\\t\\t\\t\\t<td class=\"ac\"><a href=\"/movie/point/af/list.nhn?st=mcode&sword=27219\" class=\"txt_link\">평점주기</a></td>\\r\\n\\t\\t\\t\\t\\t\\r\\n\\t\\t\\t\\t\\t<!----------------------------------------->  \\r\\n\\t\\t\\t\\t\\t\\r\\n\\t\\t\\t\\t\\t\\r\\n\\t\\t\\t\\t\\t\\t<td colspan=\"2\" class=\"new_icon\"><img width=\"20\" height=\"5\" alt=\"new\" src=\"https://ssl.pstatic.net/imgmovie/2007/img/common/icon_new_1.gif\"></td>\\r\\n\\t\\t\\t\\t\\t\\r\\n\\t\\t\\t\\t</tr>\\r\\n\\t\\t\\t\\t\\t\\r\\n\\t\\t\\t\\t\\t\\r\\n\\t\\t\\t\\t\\r\\n\\t\\t\\t\\t<tr>\\r\\n\\t\\t\\t\\t\\t\\r\\n\\t\\t\\t\\t\\t\\t\\r\\n\\t\\t\\t\\t\\t\\r\\n\\t\\t\\t\\t\\t\\t<td class=\"ac\"><img src=\"https://ssl.pstatic.net/imgmovie/2007/img/common/bullet_r_g17.gif\" alt=\"17\" width=\"14\" height=\"13\"></td>\\r\\n\\t\\t\\t\\t\\t\\r\\n\\t\\t\\t\\t\\t\\r\\n\\t\\t\\t\\t\\t<td class=\"title\">\\r\\n\\t\\t\\t\\t\\t\\t<div class=\"tit5\">\\r\\n\\t\\t\\t\\t\\t\\t\\t<a href=\"/movie/bi/mi/basic.nhn?code=185282\" title=\"타오르는 여인의 초상\">타오르는 여인의 초상</a>\\r\\n\\t\\t\\t\\t\\t\\t</div>\\r\\n\\t\\t\\t\\t\\t</td>\\r\\n\\t\\t\\t\\t\\t<!-- 평점순일 때 평점 추가하기  -->  \\r\\n\\t\\t\\t\\t\\t\\r\\n\\t\\t\\t\\t\\t<td><div class=\"point_type_2\"><div class=\"mask\" style=\"width:90.39999961853027%\"><img src=\"https://ssl.pstatic.net/imgmovie/2007/img/common/point_type_2_bg_on.gif\" width=\"79\" height=\"14\" alt=\"\"></div></div></td>\\r\\n\\t\\t\\t\\t\\t<td class=\"point\">9.04</td>\\r\\n\\t\\t\\t\\t\\t<td class=\"ac\"><a href=\"/movie/point/af/list.nhn?st=mcode&sword=185282\" class=\"txt_link\">평점주기</a></td>\\r\\n\\t\\t\\t\\t\\t\\r\\n\\t\\t\\t\\t\\t<!----------------------------------------->  \\r\\n\\t\\t\\t\\t\\t\\r\\n\\t\\t\\t\\t\\t<td class=\"ac\"><img src=\"https://ssl.pstatic.net/imgmovie/2007/img/common/icon_down_1.gif\" alt=\"down\" width=\"7\" height=\"10\" class=\"arrow\"></td>\\r\\n\\t\\t\\t\\t\\t<td class=\"range ac\">3</td>\\r\\n\\t\\t\\t\\t\\t\\r\\n\\t\\t\\t\\t\\t\\r\\n\\t\\t\\t\\t</tr>\\r\\n\\t\\t\\t\\t\\t\\r\\n\\t\\t\\t\\t\\t\\r\\n\\t\\t\\t\\t\\r\\n\\t\\t\\t\\t<tr>\\r\\n\\t\\t\\t\\t\\t\\r\\n\\t\\t\\t\\t\\t\\t\\r\\n\\t\\t\\t\\t\\t\\r\\n\\t\\t\\t\\t\\t\\t<td class=\"ac\"><img src=\"https://ssl.pstatic.net/imgmovie/2007/img/common/bullet_r_g18.gif\" alt=\"18\" width=\"14\" height=\"13\"></td>\\r\\n\\t\\t\\t\\t\\t\\r\\n\\t\\t\\t\\t\\t\\r\\n\\t\\t\\t\\t\\t<td class=\"title\">\\r\\n\\t\\t\\t\\t\\t\\t<div class=\"tit5\">\\r\\n\\t\\t\\t\\t\\t\\t\\t<a href=\"/movie/bi/mi/basic.nhn?code=96379\" title=\"비긴 어게인\">비긴 어게인</a>\\r\\n\\t\\t\\t\\t\\t\\t</div>\\r\\n\\t\\t\\t\\t\\t</td>\\r\\n\\t\\t\\t\\t\\t<!-- 평점순일 때 평점 추가하기  -->  \\r\\n\\t\\t\\t\\t\\t\\r\\n\\t\\t\\t\\t\\t<td><div class=\"point_type_2\"><div class=\"mask\" style=\"width:90.20000457763672%\"><img src=\"https://ssl.pstatic.net/imgmovie/2007/img/common/point_type_2_bg_on.gif\" width=\"79\" height=\"14\" alt=\"\"></div></div></td>\\r\\n\\t\\t\\t\\t\\t<td class=\"point\">9.02</td>\\r\\n\\t\\t\\t\\t\\t<td class=\"ac\"><a href=\"/movie/point/af/list.nhn?st=mcode&sword=96379\" class=\"txt_link\">평점주기</a></td>\\r\\n\\t\\t\\t\\t\\t\\r\\n\\t\\t\\t\\t\\t<!----------------------------------------->  \\r\\n\\t\\t\\t\\t\\t\\r\\n\\t\\t\\t\\t\\t<td class=\"ac\"><img src=\"https://ssl.pstatic.net/imgmovie/2007/img/common/icon_down_1.gif\" alt=\"down\" width=\"7\" height=\"10\" class=\"arrow\"></td>\\r\\n\\t\\t\\t\\t\\t<td class=\"range ac\">3</td>\\r\\n\\t\\t\\t\\t\\t\\r\\n\\t\\t\\t\\t\\t\\r\\n\\t\\t\\t\\t</tr>\\r\\n\\t\\t\\t\\t\\t\\r\\n\\t\\t\\t\\t\\t\\r\\n\\t\\t\\t\\t\\r\\n\\t\\t\\t\\t<tr>\\r\\n\\t\\t\\t\\t\\t\\r\\n\\t\\t\\t\\t\\t\\t\\r\\n\\t\\t\\t\\t\\t\\r\\n\\t\\t\\t\\t\\t\\t<td class=\"ac\"><img src=\"https://ssl.pstatic.net/imgmovie/2007/img/common/bullet_r_g19.gif\" alt=\"19\" width=\"14\" height=\"13\"></td>\\r\\n\\t\\t\\t\\t\\t\\r\\n\\t\\t\\t\\t\\t\\r\\n\\t\\t\\t\\t\\t<td class=\"title\">\\r\\n\\t\\t\\t\\t\\t\\t<div class=\"tit5\">\\r\\n\\t\\t\\t\\t\\t\\t\\t<a href=\"/movie/bi/mi/basic.nhn?code=10489\" title=\"미져리\">미져리</a>\\r\\n\\t\\t\\t\\t\\t\\t</div>\\r\\n\\t\\t\\t\\t\\t</td>\\r\\n\\t\\t\\t\\t\\t<!-- 평점순일 때 평점 추가하기  -->  \\r\\n\\t\\t\\t\\t\\t\\r\\n\\t\\t\\t\\t\\t<td><div class=\"point_type_2\"><div class=\"mask\" style=\"width:90.10000228881836%\"><img src=\"https://ssl.pstatic.net/imgmovie/2007/img/common/point_type_2_bg_on.gif\" width=\"79\" height=\"14\" alt=\"\"></div></div></td>\\r\\n\\t\\t\\t\\t\\t<td class=\"point\">9.01</td>\\r\\n\\t\\t\\t\\t\\t<td class=\"ac\"><a href=\"/movie/point/af/list.nhn?st=mcode&sword=10489\" class=\"txt_link\">평점주기</a></td>\\r\\n\\t\\t\\t\\t\\t\\r\\n\\t\\t\\t\\t\\t<!----------------------------------------->  \\r\\n\\t\\t\\t\\t\\t\\r\\n\\t\\t\\t\\t\\t<td class=\"ac\"><img src=\"https://ssl.pstatic.net/imgmovie/2007/img/common/icon_down_1.gif\" alt=\"down\" width=\"7\" height=\"10\" class=\"arrow\"></td>\\r\\n\\t\\t\\t\\t\\t<td class=\"range ac\">3</td>\\r\\n\\t\\t\\t\\t\\t\\r\\n\\t\\t\\t\\t\\t\\r\\n\\t\\t\\t\\t</tr>\\r\\n\\t\\t\\t\\t\\t\\r\\n\\t\\t\\t\\t\\t\\r\\n\\t\\t\\t\\t\\r\\n\\t\\t\\t\\t<tr>\\r\\n\\t\\t\\t\\t\\t\\r\\n\\t\\t\\t\\t\\t\\t\\r\\n\\t\\t\\t\\t\\t\\r\\n\\t\\t\\t\\t\\t\\t<td class=\"ac\"><img src=\"https://ssl.pstatic.net/imgmovie/2007/img/common/bullet_r_g20.gif\" alt=\"20\" width=\"14\" height=\"13\"></td>\\r\\n\\t\\t\\t\\t\\t\\r\\n\\t\\t\\t\\t\\t\\r\\n\\t\\t\\t\\t\\t<td class=\"title\">\\r\\n\\t\\t\\t\\t\\t\\t<div class=\"tit5\">\\r\\n\\t\\t\\t\\t\\t\\t\\t<a href=\"/movie/bi/mi/basic.nhn?code=182387\" title=\"윤희에게\">윤희에게</a>\\r\\n\\t\\t\\t\\t\\t\\t</div>\\r\\n\\t\\t\\t\\t\\t</td>\\r\\n\\t\\t\\t\\t\\t<!-- 평점순일 때 평점 추가하기  -->  \\r\\n\\t\\t\\t\\t\\t\\r\\n\\t\\t\\t\\t\\t<td><div class=\"point_type_2\"><div class=\"mask\" style=\"width:89.49999809265137%\"><img src=\"https://ssl.pstatic.net/imgmovie/2007/img/common/point_type_2_bg_on.gif\" width=\"79\" height=\"14\" alt=\"\"></div></div></td>\\r\\n\\t\\t\\t\\t\\t<td class=\"point\">8.95</td>\\r\\n\\t\\t\\t\\t\\t<td class=\"ac\"><a href=\"/movie/point/af/list.nhn?st=mcode&sword=182387\" class=\"txt_link\">평점주기</a></td>\\r\\n\\t\\t\\t\\t\\t\\r\\n\\t\\t\\t\\t\\t<!----------------------------------------->  \\r\\n\\t\\t\\t\\t\\t\\r\\n\\t\\t\\t\\t\\t<td class=\"ac\"><img src=\"https://ssl.pstatic.net/imgmovie/2007/img/common/icon_down_1.gif\" alt=\"down\" width=\"7\" height=\"10\" class=\"arrow\"></td>\\r\\n\\t\\t\\t\\t\\t<td class=\"range ac\">3</td>\\r\\n\\t\\t\\t\\t\\t\\r\\n\\t\\t\\t\\t\\t\\r\\n\\t\\t\\t\\t</tr>\\r\\n\\t\\t\\t\\t\\t\\r\\n\\t\\t\\t\\t\\t\\r\\n\\t\\t\\t\\t\\t\\t<tr><td colspan=\"8\" class=\"line01\"></td></tr>\\r\\n\\t\\t\\t\\t\\t\\r\\n\\t\\t\\t\\t\\r\\n\\t\\t\\t\\t<tr>\\r\\n\\t\\t\\t\\t\\t\\r\\n\\t\\t\\t\\t\\t\\t\\r\\n\\t\\t\\t\\t\\t\\r\\n\\t\\t\\t\\t\\t\\t<td class=\"ac\"><img src=\"https://ssl.pstatic.net/imgmovie/2007/img/common/bullet_r_g21.gif\" alt=\"21\" width=\"14\" height=\"13\"></td>\\r\\n\\t\\t\\t\\t\\t\\r\\n\\t\\t\\t\\t\\t\\r\\n\\t\\t\\t\\t\\t<td class=\"title\">\\r\\n\\t\\t\\t\\t\\t\\t<div class=\"tit5\">\\r\\n\\t\\t\\t\\t\\t\\t\\t<a href=\"/movie/bi/mi/basic.nhn?code=37439\" title=\"배트맨 비긴즈\">배트맨 비긴즈</a>\\r\\n\\t\\t\\t\\t\\t\\t</div>\\r\\n\\t\\t\\t\\t\\t</td>\\r\\n\\t\\t\\t\\t\\t<!-- 평점순일 때 평점 추가하기  -->  \\r\\n\\t\\t\\t\\t\\t\\r\\n\\t\\t\\t\\t\\t<td><div class=\"point_type_2\"><div class=\"mask\" style=\"width:89.39999580383301%\"><img src=\"https://ssl.pstatic.net/imgmovie/2007/img/common/point_type_2_bg_on.gif\" width=\"79\" height=\"14\" alt=\"\"></div></div></td>\\r\\n\\t\\t\\t\\t\\t<td class=\"point\">8.94</td>\\r\\n\\t\\t\\t\\t\\t<td class=\"ac\"><a href=\"/movie/point/af/list.nhn?st=mcode&sword=37439\" class=\"txt_link\">평점주기</a></td>\\r\\n\\t\\t\\t\\t\\t\\r\\n\\t\\t\\t\\t\\t<!----------------------------------------->  \\r\\n\\t\\t\\t\\t\\t\\r\\n\\t\\t\\t\\t\\t\\r\\n\\t\\t\\t\\t\\t\\t<td colspan=\"2\" class=\"new_icon\"><img width=\"20\" height=\"5\" alt=\"new\" src=\"https://ssl.pstatic.net/imgmovie/2007/img/common/icon_new_1.gif\"></td>\\r\\n\\t\\t\\t\\t\\t\\r\\n\\t\\t\\t\\t</tr>\\r\\n\\t\\t\\t\\t\\t\\r\\n\\t\\t\\t\\t\\t\\r\\n\\t\\t\\t\\t\\r\\n\\t\\t\\t\\t<tr>\\r\\n\\t\\t\\t\\t\\t\\r\\n\\t\\t\\t\\t\\t\\t\\r\\n\\t\\t\\t\\t\\t\\r\\n\\t\\t\\t\\t\\t\\t<td class=\"ac\"><img src=\"https://ssl.pstatic.net/imgmovie/2007/img/common/bullet_r_g22.gif\" alt=\"22\" width=\"14\" height=\"13\"></td>\\r\\n\\t\\t\\t\\t\\t\\r\\n\\t\\t\\t\\t\\t\\r\\n\\t\\t\\t\\t\\t<td class=\"title\">\\r\\n\\t\\t\\t\\t\\t\\t<div class=\"tit5\">\\r\\n\\t\\t\\t\\t\\t\\t\\t<a href=\"/movie/bi/mi/basic.nhn?code=27350\" title=\"기쿠지로의 여름\">기쿠지로의 여름</a>\\r\\n\\t\\t\\t\\t\\t\\t</div>\\r\\n\\t\\t\\t\\t\\t</td>\\r\\n\\t\\t\\t\\t\\t<!-- 평점순일 때 평점 추가하기  -->  \\r\\n\\t\\t\\t\\t\\t\\r\\n\\t\\t\\t\\t\\t<td><div class=\"point_type_2\"><div class=\"mask\" style=\"width:89.39999580383301%\"><img src=\"https://ssl.pstatic.net/imgmovie/2007/img/common/point_type_2_bg_on.gif\" width=\"79\" height=\"14\" alt=\"\"></div></div></td>\\r\\n\\t\\t\\t\\t\\t<td class=\"point\">8.94</td>\\r\\n\\t\\t\\t\\t\\t<td class=\"ac\"><a href=\"/movie/point/af/list.nhn?st=mcode&sword=27350\" class=\"txt_link\">평점주기</a></td>\\r\\n\\t\\t\\t\\t\\t\\r\\n\\t\\t\\t\\t\\t<!----------------------------------------->  \\r\\n\\t\\t\\t\\t\\t\\r\\n\\t\\t\\t\\t\\t<td class=\"ac\"><img src=\"https://ssl.pstatic.net/imgmovie/2007/img/common/icon_down_1.gif\" alt=\"down\" width=\"7\" height=\"10\" class=\"arrow\"></td>\\r\\n\\t\\t\\t\\t\\t<td class=\"range ac\">4</td>\\r\\n\\t\\t\\t\\t\\t\\r\\n\\t\\t\\t\\t\\t\\r\\n\\t\\t\\t\\t</tr>\\r\\n\\t\\t\\t\\t\\t\\r\\n\\t\\t\\t\\t\\t\\r\\n\\t\\t\\t\\t\\r\\n\\t\\t\\t\\t<tr>\\r\\n\\t\\t\\t\\t\\t\\r\\n\\t\\t\\t\\t\\t\\t\\r\\n\\t\\t\\t\\t\\t\\r\\n\\t\\t\\t\\t\\t\\t<td class=\"ac\"><img src=\"https://ssl.pstatic.net/imgmovie/2007/img/common/bullet_r_g23.gif\" alt=\"23\" width=\"14\" height=\"13\"></td>\\r\\n\\t\\t\\t\\t\\t\\r\\n\\t\\t\\t\\t\\t\\r\\n\\t\\t\\t\\t\\t<td class=\"title\">\\r\\n\\t\\t\\t\\t\\t\\t<div class=\"tit5\">\\r\\n\\t\\t\\t\\t\\t\\t\\t<a href=\"/movie/bi/mi/basic.nhn?code=70562\" title=\"시\">시</a>\\r\\n\\t\\t\\t\\t\\t\\t</div>\\r\\n\\t\\t\\t\\t\\t</td>\\r\\n\\t\\t\\t\\t\\t<!-- 평점순일 때 평점 추가하기  -->  \\r\\n\\t\\t\\t\\t\\t\\r\\n\\t\\t\\t\\t\\t<td><div class=\"point_type_2\"><div class=\"mask\" style=\"width:89.30000305175781%\"><img src=\"https://ssl.pstatic.net/imgmovie/2007/img/common/point_type_2_bg_on.gif\" width=\"79\" height=\"14\" alt=\"\"></div></div></td>\\r\\n\\t\\t\\t\\t\\t<td class=\"point\">8.93</td>\\r\\n\\t\\t\\t\\t\\t<td class=\"ac\"><a href=\"/movie/point/af/list.nhn?st=mcode&sword=70562\" class=\"txt_link\">평점주기</a></td>\\r\\n\\t\\t\\t\\t\\t\\r\\n\\t\\t\\t\\t\\t<!----------------------------------------->  \\r\\n\\t\\t\\t\\t\\t\\r\\n\\t\\t\\t\\t\\t\\r\\n\\t\\t\\t\\t\\t\\t<td colspan=\"2\" class=\"new_icon\"><img width=\"20\" height=\"5\" alt=\"new\" src=\"https://ssl.pstatic.net/imgmovie/2007/img/common/icon_new_1.gif\"></td>\\r\\n\\t\\t\\t\\t\\t\\r\\n\\t\\t\\t\\t</tr>\\r\\n\\t\\t\\t\\t\\t\\r\\n\\t\\t\\t\\t\\t\\r\\n\\t\\t\\t\\t\\r\\n\\t\\t\\t\\t<tr>\\r\\n\\t\\t\\t\\t\\t\\r\\n\\t\\t\\t\\t\\t\\t\\r\\n\\t\\t\\t\\t\\t\\r\\n\\t\\t\\t\\t\\t\\t<td class=\"ac\"><img src=\"https://ssl.pstatic.net/imgmovie/2007/img/common/bullet_r_g24.gif\" alt=\"24\" width=\"14\" height=\"13\"></td>\\r\\n\\t\\t\\t\\t\\t\\r\\n\\t\\t\\t\\t\\t\\r\\n\\t\\t\\t\\t\\t<td class=\"title\">\\r\\n\\t\\t\\t\\t\\t\\t<div class=\"tit5\">\\r\\n\\t\\t\\t\\t\\t\\t\\t<a href=\"/movie/bi/mi/basic.nhn?code=113170\" title=\"마담 프루스트의 비밀정원\">마담 프루스트의 비밀정원</a>\\r\\n\\t\\t\\t\\t\\t\\t</div>\\r\\n\\t\\t\\t\\t\\t</td>\\r\\n\\t\\t\\t\\t\\t<!-- 평점순일 때 평점 추가하기  -->  \\r\\n\\t\\t\\t\\t\\t\\r\\n\\t\\t\\t\\t\\t<td><div class=\"point_type_2\"><div class=\"mask\" style=\"width:89.20000076293945%\"><img src=\"https://ssl.pstatic.net/imgmovie/2007/img/common/point_type_2_bg_on.gif\" width=\"79\" height=\"14\" alt=\"\"></div></div></td>\\r\\n\\t\\t\\t\\t\\t<td class=\"point\">8.92</td>\\r\\n\\t\\t\\t\\t\\t<td class=\"ac\"><a href=\"/movie/point/af/list.nhn?st=mcode&sword=113170\" class=\"txt_link\">평점주기</a></td>\\r\\n\\t\\t\\t\\t\\t\\r\\n\\t\\t\\t\\t\\t<!----------------------------------------->  \\r\\n\\t\\t\\t\\t\\t\\r\\n\\t\\t\\t\\t\\t<td class=\"ac\"><img src=\"https://ssl.pstatic.net/imgmovie/2007/img/common/icon_down_1.gif\" alt=\"down\" width=\"7\" height=\"10\" class=\"arrow\"></td>\\r\\n\\t\\t\\t\\t\\t<td class=\"range ac\">5</td>\\r\\n\\t\\t\\t\\t\\t\\r\\n\\t\\t\\t\\t\\t\\r\\n\\t\\t\\t\\t</tr>\\r\\n\\t\\t\\t\\t\\t\\r\\n\\t\\t\\t\\t\\t\\r\\n\\t\\t\\t\\t\\r\\n\\t\\t\\t\\t<tr>\\r\\n\\t\\t\\t\\t\\t\\r\\n\\t\\t\\t\\t\\t\\t\\r\\n\\t\\t\\t\\t\\t\\r\\n\\t\\t\\t\\t\\t\\t<td class=\"ac\"><img src=\"https://ssl.pstatic.net/imgmovie/2007/img/common/bullet_r_g25.gif\" alt=\"25\" width=\"14\" height=\"13\"></td>\\r\\n\\t\\t\\t\\t\\t\\r\\n\\t\\t\\t\\t\\t\\r\\n\\t\\t\\t\\t\\t<td class=\"title\">\\r\\n\\t\\t\\t\\t\\t\\t<div class=\"tit5\">\\r\\n\\t\\t\\t\\t\\t\\t\\t<a href=\"/movie/bi/mi/basic.nhn?code=191633\" title=\"트롤: 월드 투어\">트롤: 월드 투어</a>\\r\\n\\t\\t\\t\\t\\t\\t</div>\\r\\n\\t\\t\\t\\t\\t</td>\\r\\n\\t\\t\\t\\t\\t<!-- 평점순일 때 평점 추가하기  -->  \\r\\n\\t\\t\\t\\t\\t\\r\\n\\t\\t\\t\\t\\t<td><div class=\"point_type_2\"><div class=\"mask\" style=\"width:88.90000343322754%\"><img src=\"https://ssl.pstatic.net/imgmovie/2007/img/common/point_type_2_bg_on.gif\" width=\"79\" height=\"14\" alt=\"\"></div></div></td>\\r\\n\\t\\t\\t\\t\\t<td class=\"point\">8.89</td>\\r\\n\\t\\t\\t\\t\\t<td class=\"ac\"><a href=\"/movie/point/af/list.nhn?st=mcode&sword=191633\" class=\"txt_link\">평점주기</a></td>\\r\\n\\t\\t\\t\\t\\t\\r\\n\\t\\t\\t\\t\\t<!----------------------------------------->  \\r\\n\\t\\t\\t\\t\\t\\r\\n\\t\\t\\t\\t\\t<td class=\"ac\"><img src=\"https://ssl.pstatic.net/imgmovie/2007/img/common/icon_down_1.gif\" alt=\"down\" width=\"7\" height=\"10\" class=\"arrow\"></td>\\r\\n\\t\\t\\t\\t\\t<td class=\"range ac\">5</td>\\r\\n\\t\\t\\t\\t\\t\\r\\n\\t\\t\\t\\t\\t\\r\\n\\t\\t\\t\\t</tr>\\r\\n\\t\\t\\t\\t\\t\\r\\n\\t\\t\\t\\t\\t\\r\\n\\t\\t\\t\\t\\r\\n\\t\\t\\t\\t<tr>\\r\\n\\t\\t\\t\\t\\t\\r\\n\\t\\t\\t\\t\\t\\t\\r\\n\\t\\t\\t\\t\\t\\r\\n\\t\\t\\t\\t\\t\\t<td class=\"ac\"><img src=\"https://ssl.pstatic.net/imgmovie/2007/img/common/bullet_r_g26.gif\" alt=\"26\" width=\"14\" height=\"13\"></td>\\r\\n\\t\\t\\t\\t\\t\\r\\n\\t\\t\\t\\t\\t\\r\\n\\t\\t\\t\\t\\t<td class=\"title\">\\r\\n\\t\\t\\t\\t\\t\\t<div class=\"tit5\">\\r\\n\\t\\t\\t\\t\\t\\t\\t<a href=\"/movie/bi/mi/basic.nhn?code=14397\" title=\"드라큐라\">드라큐라</a>\\r\\n\\t\\t\\t\\t\\t\\t</div>\\r\\n\\t\\t\\t\\t\\t</td>\\r\\n\\t\\t\\t\\t\\t<!-- 평점순일 때 평점 추가하기  -->  \\r\\n\\t\\t\\t\\t\\t\\r\\n\\t\\t\\t\\t\\t<td><div class=\"point_type_2\"><div class=\"mask\" style=\"width:88.59999656677246%\"><img src=\"https://ssl.pstatic.net/imgmovie/2007/img/common/point_type_2_bg_on.gif\" width=\"79\" height=\"14\" alt=\"\"></div></div></td>\\r\\n\\t\\t\\t\\t\\t<td class=\"point\">8.86</td>\\r\\n\\t\\t\\t\\t\\t<td class=\"ac\"><a href=\"/movie/point/af/list.nhn?st=mcode&sword=14397\" class=\"txt_link\">평점주기</a></td>\\r\\n\\t\\t\\t\\t\\t\\r\\n\\t\\t\\t\\t\\t<!----------------------------------------->  \\r\\n\\t\\t\\t\\t\\t\\r\\n\\t\\t\\t\\t\\t<td class=\"ac\"><img src=\"https://ssl.pstatic.net/imgmovie/2007/img/common/icon_down_1.gif\" alt=\"down\" width=\"7\" height=\"10\" class=\"arrow\"></td>\\r\\n\\t\\t\\t\\t\\t<td class=\"range ac\">5</td>\\r\\n\\t\\t\\t\\t\\t\\r\\n\\t\\t\\t\\t\\t\\r\\n\\t\\t\\t\\t</tr>\\r\\n\\t\\t\\t\\t\\t\\r\\n\\t\\t\\t\\t\\t\\r\\n\\t\\t\\t\\t\\r\\n\\t\\t\\t\\t<tr>\\r\\n\\t\\t\\t\\t\\t\\r\\n\\t\\t\\t\\t\\t\\t\\r\\n\\t\\t\\t\\t\\t\\r\\n\\t\\t\\t\\t\\t\\t<td class=\"ac\"><img src=\"https://ssl.pstatic.net/imgmovie/2007/img/common/bullet_r_g27.gif\" alt=\"27\" width=\"14\" height=\"13\"></td>\\r\\n\\t\\t\\t\\t\\t\\r\\n\\t\\t\\t\\t\\t\\r\\n\\t\\t\\t\\t\\t<td class=\"title\">\\r\\n\\t\\t\\t\\t\\t\\t<div class=\"tit5\">\\r\\n\\t\\t\\t\\t\\t\\t\\t<a href=\"/movie/bi/mi/basic.nhn?code=66440\" title=\"슬럼독 밀리어네어\">슬럼독 밀리어네어</a>\\r\\n\\t\\t\\t\\t\\t\\t</div>\\r\\n\\t\\t\\t\\t\\t</td>\\r\\n\\t\\t\\t\\t\\t<!-- 평점순일 때 평점 추가하기  -->  \\r\\n\\t\\t\\t\\t\\t\\r\\n\\t\\t\\t\\t\\t<td><div class=\"point_type_2\"><div class=\"mask\" style=\"width:88.29999923706055%\"><img src=\"https://ssl.pstatic.net/imgmovie/2007/img/common/point_type_2_bg_on.gif\" width=\"79\" height=\"14\" alt=\"\"></div></div></td>\\r\\n\\t\\t\\t\\t\\t<td class=\"point\">8.83</td>\\r\\n\\t\\t\\t\\t\\t<td class=\"ac\"><a href=\"/movie/point/af/list.nhn?st=mcode&sword=66440\" class=\"txt_link\">평점주기</a></td>\\r\\n\\t\\t\\t\\t\\t\\r\\n\\t\\t\\t\\t\\t<!----------------------------------------->  \\r\\n\\t\\t\\t\\t\\t\\r\\n\\t\\t\\t\\t\\t<td class=\"ac\"><img src=\"https://ssl.pstatic.net/imgmovie/2007/img/common/icon_down_1.gif\" alt=\"down\" width=\"7\" height=\"10\" class=\"arrow\"></td>\\r\\n\\t\\t\\t\\t\\t<td class=\"range ac\">5</td>\\r\\n\\t\\t\\t\\t\\t\\r\\n\\t\\t\\t\\t\\t\\r\\n\\t\\t\\t\\t</tr>\\r\\n\\t\\t\\t\\t\\t\\r\\n\\t\\t\\t\\t\\t\\r\\n\\t\\t\\t\\t\\r\\n\\t\\t\\t\\t<tr>\\r\\n\\t\\t\\t\\t\\t\\r\\n\\t\\t\\t\\t\\t\\t\\r\\n\\t\\t\\t\\t\\t\\r\\n\\t\\t\\t\\t\\t\\t<td class=\"ac\"><img src=\"https://ssl.pstatic.net/imgmovie/2007/img/common/bullet_r_g28.gif\" alt=\"28\" width=\"14\" height=\"13\"></td>\\r\\n\\t\\t\\t\\t\\t\\r\\n\\t\\t\\t\\t\\t\\r\\n\\t\\t\\t\\t\\t<td class=\"title\">\\r\\n\\t\\t\\t\\t\\t\\t<div class=\"tit5\">\\r\\n\\t\\t\\t\\t\\t\\t\\t<a href=\"/movie/bi/mi/basic.nhn?code=192147\" title=\"콜 오브 와일드\">콜 오브 와일드</a>\\r\\n\\t\\t\\t\\t\\t\\t</div>\\r\\n\\t\\t\\t\\t\\t</td>\\r\\n\\t\\t\\t\\t\\t<!-- 평점순일 때 평점 추가하기  -->  \\r\\n\\t\\t\\t\\t\\t\\r\\n\\t\\t\\t\\t\\t<td><div class=\"point_type_2\"><div class=\"mask\" style=\"width:88.10000419616699%\"><img src=\"https://ssl.pstatic.net/imgmovie/2007/img/common/point_type_2_bg_on.gif\" width=\"79\" height=\"14\" alt=\"\"></div></div></td>\\r\\n\\t\\t\\t\\t\\t<td class=\"point\">8.81</td>\\r\\n\\t\\t\\t\\t\\t<td class=\"ac\"><a href=\"/movie/point/af/list.nhn?st=mcode&sword=192147\" class=\"txt_link\">평점주기</a></td>\\r\\n\\t\\t\\t\\t\\t\\r\\n\\t\\t\\t\\t\\t<!----------------------------------------->  \\r\\n\\t\\t\\t\\t\\t\\r\\n\\t\\t\\t\\t\\t<td class=\"ac\"><img src=\"https://ssl.pstatic.net/imgmovie/2007/img/common/icon_down_1.gif\" alt=\"down\" width=\"7\" height=\"10\" class=\"arrow\"></td>\\r\\n\\t\\t\\t\\t\\t<td class=\"range ac\">5</td>\\r\\n\\t\\t\\t\\t\\t\\r\\n\\t\\t\\t\\t\\t\\r\\n\\t\\t\\t\\t</tr>\\r\\n\\t\\t\\t\\t\\t\\r\\n\\t\\t\\t\\t\\t\\r\\n\\t\\t\\t\\t\\r\\n\\t\\t\\t\\t<tr>\\r\\n\\t\\t\\t\\t\\t\\r\\n\\t\\t\\t\\t\\t\\t\\r\\n\\t\\t\\t\\t\\t\\r\\n\\t\\t\\t\\t\\t\\t<td class=\"ac\"><img src=\"https://ssl.pstatic.net/imgmovie/2007/img/common/bullet_r_g29.gif\" alt=\"29\" width=\"14\" height=\"13\"></td>\\r\\n\\t\\t\\t\\t\\t\\r\\n\\t\\t\\t\\t\\t\\r\\n\\t\\t\\t\\t\\t<td class=\"title\">\\r\\n\\t\\t\\t\\t\\t\\t<div class=\"tit5\">\\r\\n\\t\\t\\t\\t\\t\\t\\t<a href=\"/movie/bi/mi/basic.nhn?code=179307\" title=\"벌새\">벌새</a>\\r\\n\\t\\t\\t\\t\\t\\t</div>\\r\\n\\t\\t\\t\\t\\t</td>\\r\\n\\t\\t\\t\\t\\t<!-- 평점순일 때 평점 추가하기  -->  \\r\\n\\t\\t\\t\\t\\t\\r\\n\\t\\t\\t\\t\\t<td><div class=\"point_type_2\"><div class=\"mask\" style=\"width:87.70000457763672%\"><img src=\"https://ssl.pstatic.net/imgmovie/2007/img/common/point_type_2_bg_on.gif\" width=\"79\" height=\"14\" alt=\"\"></div></div></td>\\r\\n\\t\\t\\t\\t\\t<td class=\"point\">8.77</td>\\r\\n\\t\\t\\t\\t\\t<td class=\"ac\"><a href=\"/movie/point/af/list.nhn?st=mcode&sword=179307\" class=\"txt_link\">평점주기</a></td>\\r\\n\\t\\t\\t\\t\\t\\r\\n\\t\\t\\t\\t\\t<!----------------------------------------->  \\r\\n\\t\\t\\t\\t\\t\\r\\n\\t\\t\\t\\t\\t<td class=\"ac\"><img src=\"https://ssl.pstatic.net/imgmovie/2007/img/common/icon_down_1.gif\" alt=\"down\" width=\"7\" height=\"10\" class=\"arrow\"></td>\\r\\n\\t\\t\\t\\t\\t<td class=\"range ac\">4</td>\\r\\n\\t\\t\\t\\t\\t\\r\\n\\t\\t\\t\\t\\t\\r\\n\\t\\t\\t\\t</tr>\\r\\n\\t\\t\\t\\t\\t\\r\\n\\t\\t\\t\\t\\t\\r\\n\\t\\t\\t\\t\\r\\n\\t\\t\\t\\t<tr>\\r\\n\\t\\t\\t\\t\\t\\r\\n\\t\\t\\t\\t\\t\\t\\r\\n\\t\\t\\t\\t\\t\\r\\n\\t\\t\\t\\t\\t\\t<td class=\"ac\"><img src=\"https://ssl.pstatic.net/imgmovie/2007/img/common/bullet_r_g30.gif\" alt=\"30\" width=\"14\" height=\"13\"></td>\\r\\n\\t\\t\\t\\t\\t\\r\\n\\t\\t\\t\\t\\t\\r\\n\\t\\t\\t\\t\\t<td class=\"title\">\\r\\n\\t\\t\\t\\t\\t\\t<div class=\"tit5\">\\r\\n\\t\\t\\t\\t\\t\\t\\t<a href=\"/movie/bi/mi/basic.nhn?code=187351\" title=\"온워드: 단 하루의 기적\">온워드: 단 하루의 기적</a>\\r\\n\\t\\t\\t\\t\\t\\t</div>\\r\\n\\t\\t\\t\\t\\t</td>\\r\\n\\t\\t\\t\\t\\t<!-- 평점순일 때 평점 추가하기  -->  \\r\\n\\t\\t\\t\\t\\t\\r\\n\\t\\t\\t\\t\\t<td><div class=\"point_type_2\"><div class=\"mask\" style=\"width:87.60000228881836%\"><img src=\"https://ssl.pstatic.net/imgmovie/2007/img/common/point_type_2_bg_on.gif\" width=\"79\" height=\"14\" alt=\"\"></div></div></td>\\r\\n\\t\\t\\t\\t\\t<td class=\"point\">8.76</td>\\r\\n\\t\\t\\t\\t\\t<td class=\"ac\"><a href=\"/movie/point/af/list.nhn?st=mcode&sword=187351\" class=\"txt_link\">평점주기</a></td>\\r\\n\\t\\t\\t\\t\\t\\r\\n\\t\\t\\t\\t\\t<!----------------------------------------->  \\r\\n\\t\\t\\t\\t\\t\\r\\n\\t\\t\\t\\t\\t<td class=\"ac\"><img src=\"https://ssl.pstatic.net/imgmovie/2007/img/common/icon_down_1.gif\" alt=\"down\" width=\"7\" height=\"10\" class=\"arrow\"></td>\\r\\n\\t\\t\\t\\t\\t<td class=\"range ac\">6</td>\\r\\n\\t\\t\\t\\t\\t\\r\\n\\t\\t\\t\\t\\t\\r\\n\\t\\t\\t\\t</tr>\\r\\n\\t\\t\\t\\t\\t\\r\\n\\t\\t\\t\\t\\t\\r\\n\\t\\t\\t\\t\\t\\t<tr><td colspan=\"8\" class=\"line01\"></td></tr>\\r\\n\\t\\t\\t\\t\\t\\r\\n\\t\\t\\t\\t\\r\\n\\t\\t\\t\\t<tr>\\r\\n\\t\\t\\t\\t\\t\\r\\n\\t\\t\\t\\t\\t\\t\\r\\n\\t\\t\\t\\t\\t\\r\\n\\t\\t\\t\\t\\t\\t<td class=\"ac\"><img src=\"https://ssl.pstatic.net/imgmovie/2007/img/common/bullet_r_g31.gif\" alt=\"31\" width=\"14\" height=\"13\"></td>\\r\\n\\t\\t\\t\\t\\t\\r\\n\\t\\t\\t\\t\\t\\r\\n\\t\\t\\t\\t\\t<td class=\"title\">\\r\\n\\t\\t\\t\\t\\t\\t<div class=\"tit5\">\\r\\n\\t\\t\\t\\t\\t\\t\\t<a href=\"/movie/bi/mi/basic.nhn?code=36950\" title=\"도그빌\">도그빌</a>\\r\\n\\t\\t\\t\\t\\t\\t</div>\\r\\n\\t\\t\\t\\t\\t</td>\\r\\n\\t\\t\\t\\t\\t<!-- 평점순일 때 평점 추가하기  -->  \\r\\n\\t\\t\\t\\t\\t\\r\\n\\t\\t\\t\\t\\t<td><div class=\"point_type_2\"><div class=\"mask\" style=\"width:87.5%\"><img src=\"https://ssl.pstatic.net/imgmovie/2007/img/common/point_type_2_bg_on.gif\" width=\"79\" height=\"14\" alt=\"\"></div></div></td>\\r\\n\\t\\t\\t\\t\\t<td class=\"point\">8.75</td>\\r\\n\\t\\t\\t\\t\\t<td class=\"ac\"><a href=\"/movie/point/af/list.nhn?st=mcode&sword=36950\" class=\"txt_link\">평점주기</a></td>\\r\\n\\t\\t\\t\\t\\t\\r\\n\\t\\t\\t\\t\\t<!----------------------------------------->  \\r\\n\\t\\t\\t\\t\\t\\r\\n\\t\\t\\t\\t\\t<td class=\"ac\"><img src=\"https://ssl.pstatic.net/imgmovie/2007/img/common/icon_down_1.gif\" alt=\"down\" width=\"7\" height=\"10\" class=\"arrow\"></td>\\r\\n\\t\\t\\t\\t\\t<td class=\"range ac\">5</td>\\r\\n\\t\\t\\t\\t\\t\\r\\n\\t\\t\\t\\t\\t\\r\\n\\t\\t\\t\\t</tr>\\r\\n\\t\\t\\t\\t\\t\\r\\n\\t\\t\\t\\t\\t\\r\\n\\t\\t\\t\\t\\r\\n\\t\\t\\t\\t<tr>\\r\\n\\t\\t\\t\\t\\t\\r\\n\\t\\t\\t\\t\\t\\t\\r\\n\\t\\t\\t\\t\\t\\r\\n\\t\\t\\t\\t\\t\\t<td class=\"ac\"><img src=\"https://ssl.pstatic.net/imgmovie/2007/img/common/bullet_r_g32.gif\" alt=\"32\" width=\"14\" height=\"13\"></td>\\r\\n\\t\\t\\t\\t\\t\\r\\n\\t\\t\\t\\t\\t\\r\\n\\t\\t\\t\\t\\t<td class=\"title\">\\r\\n\\t\\t\\t\\t\\t\\t<div class=\"tit5\">\\r\\n\\t\\t\\t\\t\\t\\t\\t<a href=\"/movie/bi/mi/basic.nhn?code=11089\" title=\"현기증\">현기증</a>\\r\\n\\t\\t\\t\\t\\t\\t</div>\\r\\n\\t\\t\\t\\t\\t</td>\\r\\n\\t\\t\\t\\t\\t<!-- 평점순일 때 평점 추가하기  -->  \\r\\n\\t\\t\\t\\t\\t\\r\\n\\t\\t\\t\\t\\t<td><div class=\"point_type_2\"><div class=\"mask\" style=\"width:87.29999542236328%\"><img src=\"https://ssl.pstatic.net/imgmovie/2007/img/common/point_type_2_bg_on.gif\" width=\"79\" height=\"14\" alt=\"\"></div></div></td>\\r\\n\\t\\t\\t\\t\\t<td class=\"point\">8.73</td>\\r\\n\\t\\t\\t\\t\\t<td class=\"ac\"><a href=\"/movie/point/af/list.nhn?st=mcode&sword=11089\" class=\"txt_link\">평점주기</a></td>\\r\\n\\t\\t\\t\\t\\t\\r\\n\\t\\t\\t\\t\\t<!----------------------------------------->  \\r\\n\\t\\t\\t\\t\\t\\r\\n\\t\\t\\t\\t\\t\\r\\n\\t\\t\\t\\t\\t\\t<td colspan=\"2\" class=\"new_icon\"><img width=\"20\" height=\"5\" alt=\"new\" src=\"https://ssl.pstatic.net/imgmovie/2007/img/common/icon_new_1.gif\"></td>\\r\\n\\t\\t\\t\\t\\t\\r\\n\\t\\t\\t\\t</tr>\\r\\n\\t\\t\\t\\t\\t\\r\\n\\t\\t\\t\\t\\t\\r\\n\\t\\t\\t\\t\\r\\n\\t\\t\\t\\t<tr>\\r\\n\\t\\t\\t\\t\\t\\r\\n\\t\\t\\t\\t\\t\\t\\r\\n\\t\\t\\t\\t\\t\\r\\n\\t\\t\\t\\t\\t\\t<td class=\"ac\"><img src=\"https://ssl.pstatic.net/imgmovie/2007/img/common/bullet_r_g33.gif\" alt=\"33\" width=\"14\" height=\"13\"></td>\\r\\n\\t\\t\\t\\t\\t\\r\\n\\t\\t\\t\\t\\t\\r\\n\\t\\t\\t\\t\\t<td class=\"title\">\\r\\n\\t\\t\\t\\t\\t\\t<div class=\"tit5\">\\r\\n\\t\\t\\t\\t\\t\\t\\t<a href=\"/movie/bi/mi/basic.nhn?code=132610\" title=\"바닷마을 다이어리\">바닷마을 다이어리</a>\\r\\n\\t\\t\\t\\t\\t\\t</div>\\r\\n\\t\\t\\t\\t\\t</td>\\r\\n\\t\\t\\t\\t\\t<!-- 평점순일 때 평점 추가하기  -->  \\r\\n\\t\\t\\t\\t\\t\\r\\n\\t\\t\\t\\t\\t<td><div class=\"point_type_2\"><div class=\"mask\" style=\"width:87.20000267028809%\"><img src=\"https://ssl.pstatic.net/imgmovie/2007/img/common/point_type_2_bg_on.gif\" width=\"79\" height=\"14\" alt=\"\"></div></div></td>\\r\\n\\t\\t\\t\\t\\t<td class=\"point\">8.72</td>\\r\\n\\t\\t\\t\\t\\t<td class=\"ac\"><a href=\"/movie/point/af/list.nhn?st=mcode&sword=132610\" class=\"txt_link\">평점주기</a></td>\\r\\n\\t\\t\\t\\t\\t\\r\\n\\t\\t\\t\\t\\t<!----------------------------------------->  \\r\\n\\t\\t\\t\\t\\t\\r\\n\\t\\t\\t\\t\\t<td class=\"ac\"><img src=\"https://ssl.pstatic.net/imgmovie/2007/img/common/icon_down_1.gif\" alt=\"down\" width=\"7\" height=\"10\" class=\"arrow\"></td>\\r\\n\\t\\t\\t\\t\\t<td class=\"range ac\">6</td>\\r\\n\\t\\t\\t\\t\\t\\r\\n\\t\\t\\t\\t\\t\\r\\n\\t\\t\\t\\t</tr>\\r\\n\\t\\t\\t\\t\\t\\r\\n\\t\\t\\t\\t\\t\\r\\n\\t\\t\\t\\t\\r\\n\\t\\t\\t\\t<tr>\\r\\n\\t\\t\\t\\t\\t\\r\\n\\t\\t\\t\\t\\t\\t\\r\\n\\t\\t\\t\\t\\t\\r\\n\\t\\t\\t\\t\\t\\t<td class=\"ac\"><img src=\"https://ssl.pstatic.net/imgmovie/2007/img/common/bullet_r_g34.gif\" alt=\"34\" width=\"14\" height=\"13\"></td>\\r\\n\\t\\t\\t\\t\\t\\r\\n\\t\\t\\t\\t\\t\\r\\n\\t\\t\\t\\t\\t<td class=\"title\">\\r\\n\\t\\t\\t\\t\\t\\t<div class=\"tit5\">\\r\\n\\t\\t\\t\\t\\t\\t\\t<a href=\"/movie/bi/mi/basic.nhn?code=69951\" title=\"썸머 워즈\">썸머 워즈</a>\\r\\n\\t\\t\\t\\t\\t\\t</div>\\r\\n\\t\\t\\t\\t\\t</td>\\r\\n\\t\\t\\t\\t\\t<!-- 평점순일 때 평점 추가하기  -->  \\r\\n\\t\\t\\t\\t\\t\\r\\n\\t\\t\\t\\t\\t<td><div class=\"point_type_2\"><div class=\"mask\" style=\"width:86.70000076293945%\"><img src=\"https://ssl.pstatic.net/imgmovie/2007/img/common/point_type_2_bg_on.gif\" width=\"79\" height=\"14\" alt=\"\"></div></div></td>\\r\\n\\t\\t\\t\\t\\t<td class=\"point\">8.67</td>\\r\\n\\t\\t\\t\\t\\t<td class=\"ac\"><a href=\"/movie/point/af/list.nhn?st=mcode&sword=69951\" class=\"txt_link\">평점주기</a></td>\\r\\n\\t\\t\\t\\t\\t\\r\\n\\t\\t\\t\\t\\t<!----------------------------------------->  \\r\\n\\t\\t\\t\\t\\t\\r\\n\\t\\t\\t\\t\\t<td class=\"ac\"><img src=\"https://ssl.pstatic.net/imgmovie/2007/img/common/icon_down_1.gif\" alt=\"down\" width=\"7\" height=\"10\" class=\"arrow\"></td>\\r\\n\\t\\t\\t\\t\\t<td class=\"range ac\">6</td>\\r\\n\\t\\t\\t\\t\\t\\r\\n\\t\\t\\t\\t\\t\\r\\n\\t\\t\\t\\t</tr>\\r\\n\\t\\t\\t\\t\\t\\r\\n\\t\\t\\t\\t\\t\\r\\n\\t\\t\\t\\t\\r\\n\\t\\t\\t\\t<tr>\\r\\n\\t\\t\\t\\t\\t\\r\\n\\t\\t\\t\\t\\t\\t\\r\\n\\t\\t\\t\\t\\t\\r\\n\\t\\t\\t\\t\\t\\t<td class=\"ac\"><img src=\"https://ssl.pstatic.net/imgmovie/2007/img/common/bullet_r_g35.gif\" alt=\"35\" width=\"14\" height=\"13\"></td>\\r\\n\\t\\t\\t\\t\\t\\r\\n\\t\\t\\t\\t\\t\\r\\n\\t\\t\\t\\t\\t<td class=\"title\">\\r\\n\\t\\t\\t\\t\\t\\t<div class=\"tit5\">\\r\\n\\t\\t\\t\\t\\t\\t\\t<a href=\"/movie/bi/mi/basic.nhn?code=164719\" title=\"플로리다 프로젝트\">플로리다 프로젝트</a>\\r\\n\\t\\t\\t\\t\\t\\t</div>\\r\\n\\t\\t\\t\\t\\t</td>\\r\\n\\t\\t\\t\\t\\t<!-- 평점순일 때 평점 추가하기  -->  \\r\\n\\t\\t\\t\\t\\t\\r\\n\\t\\t\\t\\t\\t<td><div class=\"point_type_2\"><div class=\"mask\" style=\"width:86.30000114440918%\"><img src=\"https://ssl.pstatic.net/imgmovie/2007/img/common/point_type_2_bg_on.gif\" width=\"79\" height=\"14\" alt=\"\"></div></div></td>\\r\\n\\t\\t\\t\\t\\t<td class=\"point\">8.63</td>\\r\\n\\t\\t\\t\\t\\t<td class=\"ac\"><a href=\"/movie/point/af/list.nhn?st=mcode&sword=164719\" class=\"txt_link\">평점주기</a></td>\\r\\n\\t\\t\\t\\t\\t\\r\\n\\t\\t\\t\\t\\t<!----------------------------------------->  \\r\\n\\t\\t\\t\\t\\t\\r\\n\\t\\t\\t\\t\\t<td class=\"ac\"><img src=\"https://ssl.pstatic.net/imgmovie/2007/img/common/icon_down_1.gif\" alt=\"down\" width=\"7\" height=\"10\" class=\"arrow\"></td>\\r\\n\\t\\t\\t\\t\\t<td class=\"range ac\">6</td>\\r\\n\\t\\t\\t\\t\\t\\r\\n\\t\\t\\t\\t\\t\\r\\n\\t\\t\\t\\t</tr>\\r\\n\\t\\t\\t\\t\\t\\r\\n\\t\\t\\t\\t\\t\\r\\n\\t\\t\\t\\t\\r\\n\\t\\t\\t\\t<tr>\\r\\n\\t\\t\\t\\t\\t\\r\\n\\t\\t\\t\\t\\t\\t\\r\\n\\t\\t\\t\\t\\t\\r\\n\\t\\t\\t\\t\\t\\t<td class=\"ac\"><img src=\"https://ssl.pstatic.net/imgmovie/2007/img/common/bullet_r_g36.gif\" alt=\"36\" width=\"14\" height=\"13\"></td>\\r\\n\\t\\t\\t\\t\\t\\r\\n\\t\\t\\t\\t\\t\\r\\n\\t\\t\\t\\t\\t<td class=\"title\">\\r\\n\\t\\t\\t\\t\\t\\t<div class=\"tit5\">\\r\\n\\t\\t\\t\\t\\t\\t\\t<a href=\"/movie/bi/mi/basic.nhn?code=50749\" title=\"걸어도 걸어도\">걸어도 걸어도</a>\\r\\n\\t\\t\\t\\t\\t\\t</div>\\r\\n\\t\\t\\t\\t\\t</td>\\r\\n\\t\\t\\t\\t\\t<!-- 평점순일 때 평점 추가하기  -->  \\r\\n\\t\\t\\t\\t\\t\\r\\n\\t\\t\\t\\t\\t<td><div class=\"point_type_2\"><div class=\"mask\" style=\"width:86.19999885559082%\"><img src=\"https://ssl.pstatic.net/imgmovie/2007/img/common/point_type_2_bg_on.gif\" width=\"79\" height=\"14\" alt=\"\"></div></div></td>\\r\\n\\t\\t\\t\\t\\t<td class=\"point\">8.62</td>\\r\\n\\t\\t\\t\\t\\t<td class=\"ac\"><a href=\"/movie/point/af/list.nhn?st=mcode&sword=50749\" class=\"txt_link\">평점주기</a></td>\\r\\n\\t\\t\\t\\t\\t\\r\\n\\t\\t\\t\\t\\t<!----------------------------------------->  \\r\\n\\t\\t\\t\\t\\t\\r\\n\\t\\t\\t\\t\\t<td class=\"ac\"><img src=\"https://ssl.pstatic.net/imgmovie/2007/img/common/icon_down_1.gif\" alt=\"down\" width=\"7\" height=\"10\" class=\"arrow\"></td>\\r\\n\\t\\t\\t\\t\\t<td class=\"range ac\">6</td>\\r\\n\\t\\t\\t\\t\\t\\r\\n\\t\\t\\t\\t\\t\\r\\n\\t\\t\\t\\t</tr>\\r\\n\\t\\t\\t\\t\\t\\r\\n\\t\\t\\t\\t\\t\\r\\n\\t\\t\\t\\t\\r\\n\\t\\t\\t\\t<tr>\\r\\n\\t\\t\\t\\t\\t\\r\\n\\t\\t\\t\\t\\t\\t\\r\\n\\t\\t\\t\\t\\t\\r\\n\\t\\t\\t\\t\\t\\t<td class=\"ac\"><img src=\"https://ssl.pstatic.net/imgmovie/2007/img/common/bullet_r_g37.gif\" alt=\"37\" width=\"14\" height=\"13\"></td>\\r\\n\\t\\t\\t\\t\\t\\r\\n\\t\\t\\t\\t\\t\\r\\n\\t\\t\\t\\t\\t<td class=\"title\">\\r\\n\\t\\t\\t\\t\\t\\t<div class=\"tit5\">\\r\\n\\t\\t\\t\\t\\t\\t\\t<a href=\"/movie/bi/mi/basic.nhn?code=134963\" title=\"라라랜드\">라라랜드</a>\\r\\n\\t\\t\\t\\t\\t\\t</div>\\r\\n\\t\\t\\t\\t\\t</td>\\r\\n\\t\\t\\t\\t\\t<!-- 평점순일 때 평점 추가하기  -->  \\r\\n\\t\\t\\t\\t\\t\\r\\n\\t\\t\\t\\t\\t<td><div class=\"point_type_2\"><div class=\"mask\" style=\"width:86.00000381469727%\"><img src=\"https://ssl.pstatic.net/imgmovie/2007/img/common/point_type_2_bg_on.gif\" width=\"79\" height=\"14\" alt=\"\"></div></div></td>\\r\\n\\t\\t\\t\\t\\t<td class=\"point\">8.60</td>\\r\\n\\t\\t\\t\\t\\t<td class=\"ac\"><a href=\"/movie/point/af/list.nhn?st=mcode&sword=134963\" class=\"txt_link\">평점주기</a></td>\\r\\n\\t\\t\\t\\t\\t\\r\\n\\t\\t\\t\\t\\t<!----------------------------------------->  \\r\\n\\t\\t\\t\\t\\t\\r\\n\\t\\t\\t\\t\\t<td class=\"ac\"><img src=\"https://ssl.pstatic.net/imgmovie/2007/img/common/icon_down_1.gif\" alt=\"down\" width=\"7\" height=\"10\" class=\"arrow\"></td>\\r\\n\\t\\t\\t\\t\\t<td class=\"range ac\">5</td>\\r\\n\\t\\t\\t\\t\\t\\r\\n\\t\\t\\t\\t\\t\\r\\n\\t\\t\\t\\t</tr>\\r\\n\\t\\t\\t\\t\\t\\r\\n\\t\\t\\t\\t\\t\\r\\n\\t\\t\\t\\t\\r\\n\\t\\t\\t\\t<tr>\\r\\n\\t\\t\\t\\t\\t\\r\\n\\t\\t\\t\\t\\t\\t\\r\\n\\t\\t\\t\\t\\t\\r\\n\\t\\t\\t\\t\\t\\t<td class=\"ac\"><img src=\"https://ssl.pstatic.net/imgmovie/2007/img/common/bullet_r_g38.gif\" alt=\"38\" width=\"14\" height=\"13\"></td>\\r\\n\\t\\t\\t\\t\\t\\r\\n\\t\\t\\t\\t\\t\\r\\n\\t\\t\\t\\t\\t<td class=\"title\">\\r\\n\\t\\t\\t\\t\\t\\t<div class=\"tit5\">\\r\\n\\t\\t\\t\\t\\t\\t\\t<a href=\"/movie/bi/mi/basic.nhn?code=11093\" title=\"플라이\">플라이</a>\\r\\n\\t\\t\\t\\t\\t\\t</div>\\r\\n\\t\\t\\t\\t\\t</td>\\r\\n\\t\\t\\t\\t\\t<!-- 평점순일 때 평점 추가하기  -->  \\r\\n\\t\\t\\t\\t\\t\\r\\n\\t\\t\\t\\t\\t<td><div class=\"point_type_2\"><div class=\"mask\" style=\"width:86.00000381469727%\"><img src=\"https://ssl.pstatic.net/imgmovie/2007/img/common/point_type_2_bg_on.gif\" width=\"79\" height=\"14\" alt=\"\"></div></div></td>\\r\\n\\t\\t\\t\\t\\t<td class=\"point\">8.60</td>\\r\\n\\t\\t\\t\\t\\t<td class=\"ac\"><a href=\"/movie/point/af/list.nhn?st=mcode&sword=11093\" class=\"txt_link\">평점주기</a></td>\\r\\n\\t\\t\\t\\t\\t\\r\\n\\t\\t\\t\\t\\t<!----------------------------------------->  \\r\\n\\t\\t\\t\\t\\t\\r\\n\\t\\t\\t\\t\\t<td class=\"ac\"><img src=\"https://ssl.pstatic.net/imgmovie/2007/img/common/icon_down_1.gif\" alt=\"down\" width=\"7\" height=\"10\" class=\"arrow\"></td>\\r\\n\\t\\t\\t\\t\\t<td class=\"range ac\">5</td>\\r\\n\\t\\t\\t\\t\\t\\r\\n\\t\\t\\t\\t\\t\\r\\n\\t\\t\\t\\t</tr>\\r\\n\\t\\t\\t\\t\\t\\r\\n\\t\\t\\t\\t\\t\\r\\n\\t\\t\\t\\t\\r\\n\\t\\t\\t\\t<tr>\\r\\n\\t\\t\\t\\t\\t\\r\\n\\t\\t\\t\\t\\t\\t\\r\\n\\t\\t\\t\\t\\t\\r\\n\\t\\t\\t\\t\\t\\t<td class=\"ac\"><img src=\"https://ssl.pstatic.net/imgmovie/2007/img/common/bullet_r_g39.gif\" alt=\"39\" width=\"14\" height=\"13\"></td>\\r\\n\\t\\t\\t\\t\\t\\r\\n\\t\\t\\t\\t\\t\\r\\n\\t\\t\\t\\t\\t<td class=\"title\">\\r\\n\\t\\t\\t\\t\\t\\t<div class=\"tit5\">\\r\\n\\t\\t\\t\\t\\t\\t\\t<a href=\"/movie/bi/mi/basic.nhn?code=146548\" title=\"태풍이 지나가고\">태풍이 지나가고</a>\\r\\n\\t\\t\\t\\t\\t\\t</div>\\r\\n\\t\\t\\t\\t\\t</td>\\r\\n\\t\\t\\t\\t\\t<!-- 평점순일 때 평점 추가하기  -->  \\r\\n\\t\\t\\t\\t\\t\\r\\n\\t\\t\\t\\t\\t<td><div class=\"point_type_2\"><div class=\"mask\" style=\"width:86.00000381469727%\"><img src=\"https://ssl.pstatic.net/imgmovie/2007/img/common/point_type_2_bg_on.gif\" width=\"79\" height=\"14\" alt=\"\"></div></div></td>\\r\\n\\t\\t\\t\\t\\t<td class=\"point\">8.60</td>\\r\\n\\t\\t\\t\\t\\t<td class=\"ac\"><a href=\"/movie/point/af/list.nhn?st=mcode&sword=146548\" class=\"txt_link\">평점주기</a></td>\\r\\n\\t\\t\\t\\t\\t\\r\\n\\t\\t\\t\\t\\t<!----------------------------------------->  \\r\\n\\t\\t\\t\\t\\t\\r\\n\\t\\t\\t\\t\\t<td class=\"ac\"><img src=\"https://ssl.pstatic.net/imgmovie/2007/img/common/icon_down_1.gif\" alt=\"down\" width=\"7\" height=\"10\" class=\"arrow\"></td>\\r\\n\\t\\t\\t\\t\\t<td class=\"range ac\">5</td>\\r\\n\\t\\t\\t\\t\\t\\r\\n\\t\\t\\t\\t\\t\\r\\n\\t\\t\\t\\t</tr>\\r\\n\\t\\t\\t\\t\\t\\r\\n\\t\\t\\t\\t\\t\\r\\n\\t\\t\\t\\t\\r\\n\\t\\t\\t\\t<tr>\\r\\n\\t\\t\\t\\t\\t\\r\\n\\t\\t\\t\\t\\t\\t\\r\\n\\t\\t\\t\\t\\t\\r\\n\\t\\t\\t\\t\\t\\t<td class=\"ac\"><img src=\"https://ssl.pstatic.net/imgmovie/2007/img/common/bullet_r_g40.gif\" alt=\"40\" width=\"14\" height=\"13\"></td>\\r\\n\\t\\t\\t\\t\\t\\r\\n\\t\\t\\t\\t\\t\\r\\n\\t\\t\\t\\t\\t<td class=\"title\">\\r\\n\\t\\t\\t\\t\\t\\t<div class=\"tit5\">\\r\\n\\t\\t\\t\\t\\t\\t\\t<a href=\"/movie/bi/mi/basic.nhn?code=189624\" title=\"찬실이는 복도 많지\">찬실이는 복도 많지</a>\\r\\n\\t\\t\\t\\t\\t\\t</div>\\r\\n\\t\\t\\t\\t\\t</td>\\r\\n\\t\\t\\t\\t\\t<!-- 평점순일 때 평점 추가하기  -->  \\r\\n\\t\\t\\t\\t\\t\\r\\n\\t\\t\\t\\t\\t<td><div class=\"point_type_2\"><div class=\"mask\" style=\"width:85.79999923706055%\"><img src=\"https://ssl.pstatic.net/imgmovie/2007/img/common/point_type_2_bg_on.gif\" width=\"79\" height=\"14\" alt=\"\"></div></div></td>\\r\\n\\t\\t\\t\\t\\t<td class=\"point\">8.58</td>\\r\\n\\t\\t\\t\\t\\t<td class=\"ac\"><a href=\"/movie/point/af/list.nhn?st=mcode&sword=189624\" class=\"txt_link\">평점주기</a></td>\\r\\n\\t\\t\\t\\t\\t\\r\\n\\t\\t\\t\\t\\t<!----------------------------------------->  \\r\\n\\t\\t\\t\\t\\t\\r\\n\\t\\t\\t\\t\\t<td class=\"ac\"><img src=\"https://ssl.pstatic.net/imgmovie/2007/img/common/icon_down_1.gif\" alt=\"down\" width=\"7\" height=\"10\" class=\"arrow\"></td>\\r\\n\\t\\t\\t\\t\\t<td class=\"range ac\">5</td>\\r\\n\\t\\t\\t\\t\\t\\r\\n\\t\\t\\t\\t\\t\\r\\n\\t\\t\\t\\t</tr>\\r\\n\\t\\t\\t\\t\\t\\r\\n\\t\\t\\t\\t\\t\\r\\n\\t\\t\\t\\t\\t\\t<tr><td colspan=\"8\" class=\"line01\"></td></tr>\\r\\n\\t\\t\\t\\t\\t\\r\\n\\t\\t\\t\\t\\r\\n\\t\\t\\t\\t<tr>\\r\\n\\t\\t\\t\\t\\t\\r\\n\\t\\t\\t\\t\\t\\t\\r\\n\\t\\t\\t\\t\\t\\r\\n\\t\\t\\t\\t\\t\\t<td class=\"ac\"><img src=\"https://ssl.pstatic.net/imgmovie/2007/img/common/bullet_r_g41.gif\" alt=\"41\" width=\"14\" height=\"13\"></td>\\r\\n\\t\\t\\t\\t\\t\\r\\n\\t\\t\\t\\t\\t\\r\\n\\t\\t\\t\\t\\t<td class=\"title\">\\r\\n\\t\\t\\t\\t\\t\\t<div class=\"tit5\">\\r\\n\\t\\t\\t\\t\\t\\t\\t<a href=\"/movie/bi/mi/basic.nhn?code=103797\" title=\"족구왕\">족구왕</a>\\r\\n\\t\\t\\t\\t\\t\\t</div>\\r\\n\\t\\t\\t\\t\\t</td>\\r\\n\\t\\t\\t\\t\\t<!-- 평점순일 때 평점 추가하기  -->  \\r\\n\\t\\t\\t\\t\\t\\r\\n\\t\\t\\t\\t\\t<td><div class=\"point_type_2\"><div class=\"mask\" style=\"width:85.39999961853027%\"><img src=\"https://ssl.pstatic.net/imgmovie/2007/img/common/point_type_2_bg_on.gif\" width=\"79\" height=\"14\" alt=\"\"></div></div></td>\\r\\n\\t\\t\\t\\t\\t<td class=\"point\">8.54</td>\\r\\n\\t\\t\\t\\t\\t<td class=\"ac\"><a href=\"/movie/point/af/list.nhn?st=mcode&sword=103797\" class=\"txt_link\">평점주기</a></td>\\r\\n\\t\\t\\t\\t\\t\\r\\n\\t\\t\\t\\t\\t<!----------------------------------------->  \\r\\n\\t\\t\\t\\t\\t\\r\\n\\t\\t\\t\\t\\t<td class=\"ac\"><img src=\"https://ssl.pstatic.net/imgmovie/2007/img/common/icon_down_1.gif\" alt=\"down\" width=\"7\" height=\"10\" class=\"arrow\"></td>\\r\\n\\t\\t\\t\\t\\t<td class=\"range ac\">5</td>\\r\\n\\t\\t\\t\\t\\t\\r\\n\\t\\t\\t\\t\\t\\r\\n\\t\\t\\t\\t</tr>\\r\\n\\t\\t\\t\\t\\t\\r\\n\\t\\t\\t\\t\\t\\r\\n\\t\\t\\t\\t\\r\\n\\t\\t\\t\\t<tr>\\r\\n\\t\\t\\t\\t\\t\\r\\n\\t\\t\\t\\t\\t\\t\\r\\n\\t\\t\\t\\t\\t\\r\\n\\t\\t\\t\\t\\t\\t<td class=\"ac\"><img src=\"https://ssl.pstatic.net/imgmovie/2007/img/common/bullet_r_g42.gif\" alt=\"42\" width=\"14\" height=\"13\"></td>\\r\\n\\t\\t\\t\\t\\t\\r\\n\\t\\t\\t\\t\\t\\r\\n\\t\\t\\t\\t\\t<td class=\"title\">\\r\\n\\t\\t\\t\\t\\t\\t<div class=\"tit5\">\\r\\n\\t\\t\\t\\t\\t\\t\\t<a href=\"/movie/bi/mi/basic.nhn?code=134134\" title=\"괴물의 아이\">괴물의 아이</a>\\r\\n\\t\\t\\t\\t\\t\\t</div>\\r\\n\\t\\t\\t\\t\\t</td>\\r\\n\\t\\t\\t\\t\\t<!-- 평점순일 때 평점 추가하기  -->  \\r\\n\\t\\t\\t\\t\\t\\r\\n\\t\\t\\t\\t\\t<td><div class=\"point_type_2\"><div class=\"mask\" style=\"width:85.0%\"><img src=\"https://ssl.pstatic.net/imgmovie/2007/img/common/point_type_2_bg_on.gif\" width=\"79\" height=\"14\" alt=\"\"></div></div></td>\\r\\n\\t\\t\\t\\t\\t<td class=\"point\">8.50</td>\\r\\n\\t\\t\\t\\t\\t<td class=\"ac\"><a href=\"/movie/point/af/list.nhn?st=mcode&sword=134134\" class=\"txt_link\">평점주기</a></td>\\r\\n\\t\\t\\t\\t\\t\\r\\n\\t\\t\\t\\t\\t<!----------------------------------------->  \\r\\n\\t\\t\\t\\t\\t\\r\\n\\t\\t\\t\\t\\t<td class=\"ac\"><img src=\"https://ssl.pstatic.net/imgmovie/2007/img/common/icon_down_1.gif\" alt=\"down\" width=\"7\" height=\"10\" class=\"arrow\"></td>\\r\\n\\t\\t\\t\\t\\t<td class=\"range ac\">5</td>\\r\\n\\t\\t\\t\\t\\t\\r\\n\\t\\t\\t\\t\\t\\r\\n\\t\\t\\t\\t</tr>\\r\\n\\t\\t\\t\\t\\t\\r\\n\\t\\t\\t\\t\\t\\r\\n\\t\\t\\t\\t\\r\\n\\t\\t\\t\\t<tr>\\r\\n\\t\\t\\t\\t\\t\\r\\n\\t\\t\\t\\t\\t\\t\\r\\n\\t\\t\\t\\t\\t\\r\\n\\t\\t\\t\\t\\t\\t<td class=\"ac\"><img src=\"https://ssl.pstatic.net/imgmovie/2007/img/common/bullet_r_g43.gif\" alt=\"43\" width=\"14\" height=\"13\"></td>\\r\\n\\t\\t\\t\\t\\t\\r\\n\\t\\t\\t\\t\\t\\r\\n\\t\\t\\t\\t\\t<td class=\"title\">\\r\\n\\t\\t\\t\\t\\t\\t<div class=\"tit5\">\\r\\n\\t\\t\\t\\t\\t\\t\\t<a href=\"/movie/bi/mi/basic.nhn?code=11757\" title=\"캐리\">캐리</a>\\r\\n\\t\\t\\t\\t\\t\\t</div>\\r\\n\\t\\t\\t\\t\\t</td>\\r\\n\\t\\t\\t\\t\\t<!-- 평점순일 때 평점 추가하기  -->  \\r\\n\\t\\t\\t\\t\\t\\r\\n\\t\\t\\t\\t\\t<td><div class=\"point_type_2\"><div class=\"mask\" style=\"width:84.60000038146973%\"><img src=\"https://ssl.pstatic.net/imgmovie/2007/img/common/point_type_2_bg_on.gif\" width=\"79\" height=\"14\" alt=\"\"></div></div></td>\\r\\n\\t\\t\\t\\t\\t<td class=\"point\">8.46</td>\\r\\n\\t\\t\\t\\t\\t<td class=\"ac\"><a href=\"/movie/point/af/list.nhn?st=mcode&sword=11757\" class=\"txt_link\">평점주기</a></td>\\r\\n\\t\\t\\t\\t\\t\\r\\n\\t\\t\\t\\t\\t<!----------------------------------------->  \\r\\n\\t\\t\\t\\t\\t\\r\\n\\t\\t\\t\\t\\t<td class=\"ac\"><img src=\"https://ssl.pstatic.net/imgmovie/2007/img/common/icon_down_1.gif\" alt=\"down\" width=\"7\" height=\"10\" class=\"arrow\"></td>\\r\\n\\t\\t\\t\\t\\t<td class=\"range ac\">5</td>\\r\\n\\t\\t\\t\\t\\t\\r\\n\\t\\t\\t\\t\\t\\r\\n\\t\\t\\t\\t</tr>\\r\\n\\t\\t\\t\\t\\t\\r\\n\\t\\t\\t\\t\\t\\r\\n\\t\\t\\t\\t\\r\\n\\t\\t\\t\\t<tr>\\r\\n\\t\\t\\t\\t\\t\\r\\n\\t\\t\\t\\t\\t\\t\\r\\n\\t\\t\\t\\t\\t\\r\\n\\t\\t\\t\\t\\t\\t<td class=\"ac\"><img src=\"https://ssl.pstatic.net/imgmovie/2007/img/common/bullet_r_g44.gif\" alt=\"44\" width=\"14\" height=\"13\"></td>\\r\\n\\t\\t\\t\\t\\t\\r\\n\\t\\t\\t\\t\\t\\r\\n\\t\\t\\t\\t\\t<td class=\"title\">\\r\\n\\t\\t\\t\\t\\t\\t<div class=\"tit5\">\\r\\n\\t\\t\\t\\t\\t\\t\\t<a href=\"/movie/bi/mi/basic.nhn?code=10546\" title=\"아비정전\">아비정전</a>\\r\\n\\t\\t\\t\\t\\t\\t</div>\\r\\n\\t\\t\\t\\t\\t</td>\\r\\n\\t\\t\\t\\t\\t<!-- 평점순일 때 평점 추가하기  -->  \\r\\n\\t\\t\\t\\t\\t\\r\\n\\t\\t\\t\\t\\t<td><div class=\"point_type_2\"><div class=\"mask\" style=\"width:84.60000038146973%\"><img src=\"https://ssl.pstatic.net/imgmovie/2007/img/common/point_type_2_bg_on.gif\" width=\"79\" height=\"14\" alt=\"\"></div></div></td>\\r\\n\\t\\t\\t\\t\\t<td class=\"point\">8.46</td>\\r\\n\\t\\t\\t\\t\\t<td class=\"ac\"><a href=\"/movie/point/af/list.nhn?st=mcode&sword=10546\" class=\"txt_link\">평점주기</a></td>\\r\\n\\t\\t\\t\\t\\t\\r\\n\\t\\t\\t\\t\\t<!----------------------------------------->  \\r\\n\\t\\t\\t\\t\\t\\r\\n\\t\\t\\t\\t\\t<td class=\"ac\"><img src=\"https://ssl.pstatic.net/imgmovie/2007/img/common/icon_down_1.gif\" alt=\"down\" width=\"7\" height=\"10\" class=\"arrow\"></td>\\r\\n\\t\\t\\t\\t\\t<td class=\"range ac\">5</td>\\r\\n\\t\\t\\t\\t\\t\\r\\n\\t\\t\\t\\t\\t\\r\\n\\t\\t\\t\\t</tr>\\r\\n\\t\\t\\t\\t\\t\\r\\n\\t\\t\\t\\t\\t\\r\\n\\t\\t\\t\\t\\r\\n\\t\\t\\t\\t<tr>\\r\\n\\t\\t\\t\\t\\t\\r\\n\\t\\t\\t\\t\\t\\t\\r\\n\\t\\t\\t\\t\\t\\r\\n\\t\\t\\t\\t\\t\\t<td class=\"ac\"><img src=\"https://ssl.pstatic.net/imgmovie/2007/img/common/bullet_r_g45.gif\" alt=\"45\" width=\"14\" height=\"13\"></td>\\r\\n\\t\\t\\t\\t\\t\\r\\n\\t\\t\\t\\t\\t\\r\\n\\t\\t\\t\\t\\t<td class=\"title\">\\r\\n\\t\\t\\t\\t\\t\\t<div class=\"tit5\">\\r\\n\\t\\t\\t\\t\\t\\t\\t<a href=\"/movie/bi/mi/basic.nhn?code=95203\" title=\"로렌스 애니웨이 \">로렌스 애니웨이 </a>\\r\\n\\t\\t\\t\\t\\t\\t</div>\\r\\n\\t\\t\\t\\t\\t</td>\\r\\n\\t\\t\\t\\t\\t<!-- 평점순일 때 평점 추가하기  -->  \\r\\n\\t\\t\\t\\t\\t\\r\\n\\t\\t\\t\\t\\t<td><div class=\"point_type_2\"><div class=\"mask\" style=\"width:84.20000076293945%\"><img src=\"https://ssl.pstatic.net/imgmovie/2007/img/common/point_type_2_bg_on.gif\" width=\"79\" height=\"14\" alt=\"\"></div></div></td>\\r\\n\\t\\t\\t\\t\\t<td class=\"point\">8.42</td>\\r\\n\\t\\t\\t\\t\\t<td class=\"ac\"><a href=\"/movie/point/af/list.nhn?st=mcode&sword=95203\" class=\"txt_link\">평점주기</a></td>\\r\\n\\t\\t\\t\\t\\t\\r\\n\\t\\t\\t\\t\\t<!----------------------------------------->  \\r\\n\\t\\t\\t\\t\\t\\r\\n\\t\\t\\t\\t\\t<td class=\"ac\"><img src=\"https://ssl.pstatic.net/imgmovie/2007/img/common/icon_down_1.gif\" alt=\"down\" width=\"7\" height=\"10\" class=\"arrow\"></td>\\r\\n\\t\\t\\t\\t\\t<td class=\"range ac\">5</td>\\r\\n\\t\\t\\t\\t\\t\\r\\n\\t\\t\\t\\t\\t\\r\\n\\t\\t\\t\\t</tr>\\r\\n\\t\\t\\t\\t\\t\\r\\n\\t\\t\\t\\t\\t\\r\\n\\t\\t\\t\\t\\r\\n\\t\\t\\t\\t<tr>\\r\\n\\t\\t\\t\\t\\t\\r\\n\\t\\t\\t\\t\\t\\t\\r\\n\\t\\t\\t\\t\\t\\r\\n\\t\\t\\t\\t\\t\\t<td class=\"ac\"><img src=\"https://ssl.pstatic.net/imgmovie/2007/img/common/bullet_r_g46.gif\" alt=\"46\" width=\"14\" height=\"13\"></td>\\r\\n\\t\\t\\t\\t\\t\\r\\n\\t\\t\\t\\t\\t\\r\\n\\t\\t\\t\\t\\t<td class=\"title\">\\r\\n\\t\\t\\t\\t\\t\\t<div class=\"tit5\">\\r\\n\\t\\t\\t\\t\\t\\t\\t<a href=\"/movie/bi/mi/basic.nhn?code=167658\" title=\"에어로너츠\">에어로너츠</a>\\r\\n\\t\\t\\t\\t\\t\\t</div>\\r\\n\\t\\t\\t\\t\\t</td>\\r\\n\\t\\t\\t\\t\\t<!-- 평점순일 때 평점 추가하기  -->  \\r\\n\\t\\t\\t\\t\\t\\r\\n\\t\\t\\t\\t\\t<td><div class=\"point_type_2\"><div class=\"mask\" style=\"width:83.90000343322754%\"><img src=\"https://ssl.pstatic.net/imgmovie/2007/img/common/point_type_2_bg_on.gif\" width=\"79\" height=\"14\" alt=\"\"></div></div></td>\\r\\n\\t\\t\\t\\t\\t<td class=\"point\">8.39</td>\\r\\n\\t\\t\\t\\t\\t<td class=\"ac\"><a href=\"/movie/point/af/list.nhn?st=mcode&sword=167658\" class=\"txt_link\">평점주기</a></td>\\r\\n\\t\\t\\t\\t\\t\\r\\n\\t\\t\\t\\t\\t<!----------------------------------------->  \\r\\n\\t\\t\\t\\t\\t\\r\\n\\t\\t\\t\\t\\t<td class=\"ac\"><img src=\"https://ssl.pstatic.net/imgmovie/2007/img/common/icon_down_1.gif\" alt=\"down\" width=\"7\" height=\"10\" class=\"arrow\"></td>\\r\\n\\t\\t\\t\\t\\t<td class=\"range ac\">5</td>\\r\\n\\t\\t\\t\\t\\t\\r\\n\\t\\t\\t\\t\\t\\r\\n\\t\\t\\t\\t</tr>\\r\\n\\t\\t\\t\\t\\t\\r\\n\\t\\t\\t\\t\\t\\r\\n\\t\\t\\t\\t\\r\\n\\t\\t\\t\\t<tr>\\r\\n\\t\\t\\t\\t\\t\\r\\n\\t\\t\\t\\t\\t\\t\\r\\n\\t\\t\\t\\t\\t\\r\\n\\t\\t\\t\\t\\t\\t<td class=\"ac\"><img src=\"https://ssl.pstatic.net/imgmovie/2007/img/common/bullet_r_g47.gif\" alt=\"47\" width=\"14\" height=\"13\"></td>\\r\\n\\t\\t\\t\\t\\t\\r\\n\\t\\t\\t\\t\\t\\r\\n\\t\\t\\t\\t\\t<td class=\"title\">\\r\\n\\t\\t\\t\\t\\t\\t<div class=\"tit5\">\\r\\n\\t\\t\\t\\t\\t\\t\\t<a href=\"/movie/bi/mi/basic.nhn?code=34431\" title=\"영웅: 천하의 시작\">영웅: 천하의 시작</a>\\r\\n\\t\\t\\t\\t\\t\\t</div>\\r\\n\\t\\t\\t\\t\\t</td>\\r\\n\\t\\t\\t\\t\\t<!-- 평점순일 때 평점 추가하기  -->  \\r\\n\\t\\t\\t\\t\\t\\r\\n\\t\\t\\t\\t\\t<td><div class=\"point_type_2\"><div class=\"mask\" style=\"width:83.80000114440918%\"><img src=\"https://ssl.pstatic.net/imgmovie/2007/img/common/point_type_2_bg_on.gif\" width=\"79\" height=\"14\" alt=\"\"></div></div></td>\\r\\n\\t\\t\\t\\t\\t<td class=\"point\">8.38</td>\\r\\n\\t\\t\\t\\t\\t<td class=\"ac\"><a href=\"/movie/point/af/list.nhn?st=mcode&sword=34431\" class=\"txt_link\">평점주기</a></td>\\r\\n\\t\\t\\t\\t\\t\\r\\n\\t\\t\\t\\t\\t<!----------------------------------------->  \\r\\n\\t\\t\\t\\t\\t\\r\\n\\t\\t\\t\\t\\t<td class=\"ac\"><img src=\"https://ssl.pstatic.net/imgmovie/2007/img/common/icon_down_1.gif\" alt=\"down\" width=\"7\" height=\"10\" class=\"arrow\"></td>\\r\\n\\t\\t\\t\\t\\t<td class=\"range ac\">5</td>\\r\\n\\t\\t\\t\\t\\t\\r\\n\\t\\t\\t\\t\\t\\r\\n\\t\\t\\t\\t</tr>\\r\\n\\t\\t\\t\\t\\t\\r\\n\\t\\t\\t\\t\\t\\r\\n\\t\\t\\t\\t\\r\\n\\t\\t\\t\\t<tr>\\r\\n\\t\\t\\t\\t\\t\\r\\n\\t\\t\\t\\t\\t\\t\\r\\n\\t\\t\\t\\t\\t\\r\\n\\t\\t\\t\\t\\t\\t<td class=\"ac\"><img src=\"https://ssl.pstatic.net/imgmovie/2007/img/common/bullet_r_g48.gif\" alt=\"48\" width=\"14\" height=\"13\"></td>\\r\\n\\t\\t\\t\\t\\t\\r\\n\\t\\t\\t\\t\\t\\r\\n\\t\\t\\t\\t\\t<td class=\"title\">\\r\\n\\t\\t\\t\\t\\t\\t<div class=\"tit5\">\\r\\n\\t\\t\\t\\t\\t\\t\\t<a href=\"/movie/bi/mi/basic.nhn?code=97612\" title=\"그랜드 부다페스트 호텔\">그랜드 부다페스트 호텔</a>\\r\\n\\t\\t\\t\\t\\t\\t</div>\\r\\n\\t\\t\\t\\t\\t</td>\\r\\n\\t\\t\\t\\t\\t<!-- 평점순일 때 평점 추가하기  -->  \\r\\n\\t\\t\\t\\t\\t\\r\\n\\t\\t\\t\\t\\t<td><div class=\"point_type_2\"><div class=\"mask\" style=\"width:83.69999885559082%\"><img src=\"https://ssl.pstatic.net/imgmovie/2007/img/common/point_type_2_bg_on.gif\" width=\"79\" height=\"14\" alt=\"\"></div></div></td>\\r\\n\\t\\t\\t\\t\\t<td class=\"point\">8.37</td>\\r\\n\\t\\t\\t\\t\\t<td class=\"ac\"><a href=\"/movie/point/af/list.nhn?st=mcode&sword=97612\" class=\"txt_link\">평점주기</a></td>\\r\\n\\t\\t\\t\\t\\t\\r\\n\\t\\t\\t\\t\\t<!----------------------------------------->  \\r\\n\\t\\t\\t\\t\\t\\r\\n\\t\\t\\t\\t\\t<td class=\"ac\"><img src=\"https://ssl.pstatic.net/imgmovie/2007/img/common/icon_down_1.gif\" alt=\"down\" width=\"7\" height=\"10\" class=\"arrow\"></td>\\r\\n\\t\\t\\t\\t\\t<td class=\"range ac\">5</td>\\r\\n\\t\\t\\t\\t\\t\\r\\n\\t\\t\\t\\t\\t\\r\\n\\t\\t\\t\\t</tr>\\r\\n\\t\\t\\t\\t\\t\\r\\n\\t\\t\\t\\t\\t\\r\\n\\t\\t\\t\\t\\r\\n\\t\\t\\t\\t<tr>\\r\\n\\t\\t\\t\\t\\t\\r\\n\\t\\t\\t\\t\\t\\t\\r\\n\\t\\t\\t\\t\\t\\r\\n\\t\\t\\t\\t\\t\\t<td class=\"ac\"><img src=\"https://ssl.pstatic.net/imgmovie/2007/img/common/bullet_r_g49.gif\" alt=\"49\" width=\"14\" height=\"13\"></td>\\r\\n\\t\\t\\t\\t\\t\\r\\n\\t\\t\\t\\t\\t\\r\\n\\t\\t\\t\\t\\t<td class=\"title\">\\r\\n\\t\\t\\t\\t\\t\\t<div class=\"tit5\">\\r\\n\\t\\t\\t\\t\\t\\t\\t<a href=\"/movie/bi/mi/basic.nhn?code=23847\" title=\"스크림\">스크림</a>\\r\\n\\t\\t\\t\\t\\t\\t</div>\\r\\n\\t\\t\\t\\t\\t</td>\\r\\n\\t\\t\\t\\t\\t<!-- 평점순일 때 평점 추가하기  -->  \\r\\n\\t\\t\\t\\t\\t\\r\\n\\t\\t\\t\\t\\t<td><div class=\"point_type_2\"><div class=\"mask\" style=\"width:83.59999656677246%\"><img src=\"https://ssl.pstatic.net/imgmovie/2007/img/common/point_type_2_bg_on.gif\" width=\"79\" height=\"14\" alt=\"\"></div></div></td>\\r\\n\\t\\t\\t\\t\\t<td class=\"point\">8.36</td>\\r\\n\\t\\t\\t\\t\\t<td class=\"ac\"><a href=\"/movie/point/af/list.nhn?st=mcode&sword=23847\" class=\"txt_link\">평점주기</a></td>\\r\\n\\t\\t\\t\\t\\t\\r\\n\\t\\t\\t\\t\\t<!----------------------------------------->  \\r\\n\\t\\t\\t\\t\\t\\r\\n\\t\\t\\t\\t\\t<td class=\"ac\"><img src=\"https://ssl.pstatic.net/imgmovie/2007/img/common/icon_down_1.gif\" alt=\"down\" width=\"7\" height=\"10\" class=\"arrow\"></td>\\r\\n\\t\\t\\t\\t\\t<td class=\"range ac\">5</td>\\r\\n\\t\\t\\t\\t\\t\\r\\n\\t\\t\\t\\t\\t\\r\\n\\t\\t\\t\\t</tr>\\r\\n\\t\\t\\t\\t\\t\\r\\n\\t\\t\\t\\t\\t\\r\\n\\t\\t\\t\\t\\r\\n\\t\\t\\t\\t<tr>\\r\\n\\t\\t\\t\\t\\t\\r\\n\\t\\t\\t\\t\\t\\t\\r\\n\\t\\t\\t\\t\\t\\r\\n\\t\\t\\t\\t\\t\\t<td class=\"ac\"><img src=\"https://ssl.pstatic.net/imgmovie/2007/img/common/bullet_r_g50.gif\" alt=\"50\" width=\"14\" height=\"13\"></td>\\r\\n\\t\\t\\t\\t\\t\\r\\n\\t\\t\\t\\t\\t\\r\\n\\t\\t\\t\\t\\t<td class=\"title\">\\r\\n\\t\\t\\t\\t\\t\\t<div class=\"tit5\">\\r\\n\\t\\t\\t\\t\\t\\t\\t<a href=\"/movie/bi/mi/basic.nhn?code=185285\" title=\"카페 벨에포크\">카페 벨에포크</a>\\r\\n\\t\\t\\t\\t\\t\\t</div>\\r\\n\\t\\t\\t\\t\\t</td>\\r\\n\\t\\t\\t\\t\\t<!-- 평점순일 때 평점 추가하기  -->  \\r\\n\\t\\t\\t\\t\\t\\r\\n\\t\\t\\t\\t\\t<td><div class=\"point_type_2\"><div class=\"mask\" style=\"width:82.89999961853027%\"><img src=\"https://ssl.pstatic.net/imgmovie/2007/img/common/point_type_2_bg_on.gif\" width=\"79\" height=\"14\" alt=\"\"></div></div></td>\\r\\n\\t\\t\\t\\t\\t<td class=\"point\">8.29</td>\\r\\n\\t\\t\\t\\t\\t<td class=\"ac\"><a href=\"/movie/point/af/list.nhn?st=mcode&sword=185285\" class=\"txt_link\">평점주기</a></td>\\r\\n\\t\\t\\t\\t\\t\\r\\n\\t\\t\\t\\t\\t<!----------------------------------------->  \\r\\n\\t\\t\\t\\t\\t\\r\\n\\t\\t\\t\\t\\t<td class=\"ac\"><img src=\"https://ssl.pstatic.net/imgmovie/2007/img/common/icon_down_1.gif\" alt=\"down\" width=\"7\" height=\"10\" class=\"arrow\"></td>\\r\\n\\t\\t\\t\\t\\t<td class=\"range ac\">5</td>\\r\\n\\t\\t\\t\\t\\t\\r\\n\\t\\t\\t\\t\\t\\r\\n\\t\\t\\t\\t</tr>\\r\\n\\t\\t\\t\\t\\t\\r\\n\\t\\t\\t\\t\\t\\r\\n\\t\\t\\t\\t\\r\\n\\t\\t\\t\\t\\t<tr><td colspan=\"8\" class=\"blank01\"></td></tr>\\r\\n\\t\\t\\t</tbody>\\r\\n\\t\\t\\t</table>\\r\\n\\t\\t\\t<!-- 페이지 네비게이션 시작 -->\\r\\n\\t\\t\\t\\r\\n\\t\\t\\t<!-- 페이지 네비게이션 끝 -->\\t\\r\\n\\t\\t\\t\\r\\n\\t\\t\\t\\r\\n\\t\\t\\t<!-- //랭킹 리스트 -->\\r\\n\\t\\t\\t<span class=\"txt_mark\">※</span> <span class=\"txt_term\">집계기준 : <strong>2020.06.24</strong>일 까지 네이버영화에 수록 된 영화의 관람 후 평점</span>\\r\\n\\t\\t\\t<!-- 네이버 영화평점랭킹 선정방법 -->\\r\\n\\t\\t\\t<div class=\"box_choice_way\">\\r\\n\\t\\t\\t\\t<img src=\"https://ssl.pstatic.net/imgmovie/2007/img/super_db/txt_movie_ranking_01.gif\" alt=\"네이버 영화평점랭킹 선정방법\" width=\"154\" height=\"13\">\\r\\n\\t\\t\\t\\t<dl class=\"choice_way\">\\r\\n\\t\\t\\t\\t\\t<dt><img src=\"https://ssl.pstatic.net/imgmovie/2007/img/super_db/txt_movie_ranking_01_1.gif\" alt=\"집계기준\" width=\"39\" height=\"11\"></dt><dd>전국기준 현재 상영되고 있는 영화 중 <em>평점 응답자가 <strong>300명</strong> 이상</em>인 경우</dd>\\r\\n\\t\\t\\t\\t\\t<dt><img src=\"https://ssl.pstatic.net/imgmovie/2007/img/super_db/txt_movie_ranking_01_2.gif\" alt=\"집계기간\" width=\"40\" height=\"11\"></dt><dd>전일까지의 누적 평점</dd>\\r\\n\\t\\t\\t\\t\\t<dt><img src=\"https://ssl.pstatic.net/imgmovie/2007/img/super_db/txt_movie_ranking_01_3.gif\" alt=\"표본오차\" width=\"40\" height=\"11\"></dt><dd><em>95% 신뢰수준에서 ±5.65</em></dd>\\r\\n\\t\\t\\t\\t</dl>\\r\\n\\t\\t\\t\\t<table cellpadding=\"0\" cellspacing=\"0\" class=\"choice_way_data\">\\r\\n\\t\\t\\t\\t<col width=\"48\"><col width=\"73\"><col width=\"73\"><col width=\"73\"><col width=\"73\"><col width=\"73\"><col width=\"110\">\\r\\n\\t\\t\\t\\t<tr>\\r\\n\\t\\t\\t\\t\\t<th scope=\"row\" class=\"bgwhite\">구분</th>\\r\\n\\t\\t\\t\\t\\t<td>N</td>\\r\\n\\t\\t\\t\\t\\t<td>Range</td>\\r\\n\\t\\t\\t\\t\\t<td>Minimum</td>\\r\\n\\t\\t\\t\\t\\t<td>Maximum</td>\\r\\n\\t\\t\\t\\t\\t<td>Mean</td>\\r\\n\\t\\t\\t\\t\\t<td>Std.Deviation</td>\\r\\n\\t\\t\\t\\t</tr>\\r\\n\\t\\t\\t\\t<tr>\\r\\n\\t\\t\\t\\t\\t<th scope=\"row\" class=\"bgwhite\">평점</th>\\r\\n\\t\\t\\t\\t\\t<td class=\"range ac\">26</td>\\r\\n\\t\\t\\t\\t\\t<td class=\"range ac\">4.39</td>\\r\\n\\t\\t\\t\\t\\t<td class=\"range ac\">4.75</td>\\r\\n\\t\\t\\t\\t\\t<td class=\"range ac\">9.14</td>\\r\\n\\t\\t\\t\\t\\t<td class=\"range ac\">7.59</td>\\r\\n\\t\\t\\t\\t\\t<td class=\"range ac\">7.59</td>\\r\\n\\t\\t\\t\\t</tr>\\r\\n\\t\\t\\t\\t</table>\\r\\n\\t\\t\\t\\t<dl class=\"choice_way_qna\">\\r\\n\\t\\t\\t\\t\\t<dt><img src=\"https://ssl.pstatic.net/imgmovie/2007/img/super_db/txt_movie_ranking_02.gif\" alt=\"왜 평점응답자를 300명 이상으로 정하나요?\" width=\"221\" height=\"12\"></dt>\\r\\n\\t\\t\\t\\t\\t<dd>일반적인 여론조사에서의 최소 응답자수가 300명이기 때문입니다.</dd>\\r\\n\\t\\t\\t\\t\\t<dt><img src=\"https://ssl.pstatic.net/imgmovie/2007/img/super_db/txt_movie_ranking_03.gif\" alt=\"표본오차 95% 신뢰수준에서 ±5.65가 무슨 뜻인가요?\" width=\"271\" height=\"12\"></dt>\\r\\n\\t\\t\\t\\t\\t<dd>동일한 실험을 100번 했을 경우 95번은 ±5.65% 범위 내에서 동일한 결과가 나온다는 말입니다.</dd>\\r\\n\\t\\t\\t\\t\\t<dt><img src=\"https://ssl.pstatic.net/imgmovie/2007/img/super_db/txt_movie_ranking_04.gif\" alt=\"Descriptive Statistics는 어떻게 보는건가요?\" width=\"234\" height=\"12\"></dt>\\r\\n\\t\\t\\t\\t\\t<dd>\\r\\n\\t\\t\\t\\t\\t\\t<ul>\\r\\n\\t\\t\\t\\t\\t\\t\\t<li>N=Case의 숫자</li>\\r\\n\\t\\t\\t\\t\\t\\t\\t<li>Range=응답자의 범위</li>\\r\\n\\t\\t\\t\\t\\t\\t\\t<li>Minimum=최소 응답값</li>\\r\\n\\t\\t\\t\\t\\t\\t\\t<li>Maximum=최대응답값</li>\\r\\n\\t\\t\\t\\t\\t\\t\\t<li>Mean=평균</li>\\r\\n\\t\\t\\t\\t\\t\\t\\t<li>Std.Deviation=표준편자</li>\\r\\n\\t\\t\\t\\t\\t\\t</ul>\\r\\n\\t\\t\\t\\t\\t</dd>\\r\\n\\t\\t\\t\\t</dl>\\r\\n\\t\\t\\t</div>\\r\\n\\t\\t\\t<!-- //네이버 영화평점랭킹 선정방법 -->\\r\\n\\t\\t\\t\\r\\n\\t\\t\\t\\r\\n\\t\\t\\t\\r\\n\\t\\t\\t<!-- 탑버튼 -->\\r\\n\\t\\t\\t<div class=\"go_top\">\\r\\n\\t\\t\\t<a href=\"#gnb_top\"><img src=\"https://ssl.pstatic.net/imgmovie/2007/img/common/btn_top.gif\" alt=\"TOP\" width=\"30\" height=\"11\"></a>\\r\\n\\t\\t\\t</div>\\r\\n\\t\\t\\t<!-- //탑버튼 -->\\r\\n\\t\\t\\r\\n\\t\\t<img src=\"https://ssl.pstatic.net/imgmovie/2007/img/common/blank.gif\" alt=\"\" class=\"clear\">\\r\\n\\t<!-- //Content Body -->\\r\\n<script type=\"text/javascript\" src=\"/common/js/jindo2.js\"></script>\\r\\n\\t\\t\\t\\t\\t</div>\\r\\n\\t\\t\\t\\r\\n\\t\\t\\t\\t\\t<div id=\"assistant\">\\r\\n\\t\\t\\t\\t\\t\\t\\r\\n\\r\\n\\r\\n\\r\\n\\r\\n\\r\\n\\r\\n\\r\\n\\t\\r\\n\\t\\r\\n\\t\\r\\n\\t\\t\\r\\n\\r\\n\\r\\n\\r\\n\\r\\n\\r\\n<!-- 우측 메뉴 -->\\r\\n\\r\\n\\t \\r\\n\\r\\n\\r\\n\\r\\n\\t<!-- 영화 인기검색어 -->\\r\\n\\t<div class=\"box_type_1 mb_8\">\\r\\n\\t<h3><img src=\"https://ssl.pstatic.net/imgmovie/2007/img/super_db/tlt_r_best_movie.gif\" alt=\"영화 인기검색어\" width=\"75\" height=\"11\"></h3>\\r\\n\\t\\t<ul class=\"r_ranking\">\\r\\n\\t\\t\\t\\r\\n\\t\\t\\t\\r\\n\\t\\t\\t\\t\\r\\n\\t\\t\\t\\t\\r\\n\\t\\t\\t\\t\\r\\n\\t\\t\\t\\t\\r\\n\\t\\t\\t\\t\\r\\n\\t\\t\\t\\t<li class=\"ranking01\">\\r\\n\\t\\t\\t\\t\\r\\n\\t\\t\\t\\t\\r\\n\\t\\t\\t\\t<a href=\"/movie/bi/mi/basic.nhn?code=189537\" onclick=\"clickcr(this,\\'pop.list\\',\\'189537\\',\\'1\\',event);\" class=\\'b\\' title=\"#살아있다\"><span class=\"blind\">1위</span>#살아있다</a>\\r\\n\\t\\t\\t\\t<span class=\"rank\">\\r\\n\\t\\t\\t\\t\\r\\n\\t\\t\\t\\t\\r\\n\\t\\t\\t\\t\\r\\n\\t\\t\\t\\t\\r\\n\\t\\t\\t\\t\\r\\n\\t\\t\\t\\t\\t\\r\\n\\t\\t\\t\\t\\r\\n\\t\\t\\t\\t\\r\\n\\t\\t\\t\\t\\t\\r\\n\\t\\t\\t\\t\\t\\r\\n\\t\\t\\t\\t\\t\\r\\n\\t\\t\\t\\t\\t\\r\\n\\t\\t\\t\\t\\r\\n\\t\\t\\t\\t<img src=\"https://ssl.pstatic.net/imgmovie/2007/img/common/icon_up_1.gif\"\\r\\n\\t\\t\\t\\t\\t alt=\"순위 상승\"\\r\\n\\t\\t\\t\\t\\t width=\"7\" height=\"10\">2</span>\\r\\n\\t\\t\\t\\t\\r\\n\\t\\t\\t\\r\\n\\t\\t\\t\\t\\r\\n\\t\\t\\t\\t\\r\\n\\t\\t\\t\\t\\r\\n\\t\\t\\t\\t\\r\\n\\t\\t\\t\\t<li class=\"ranking02\">\\r\\n\\t\\t\\t\\t\\r\\n\\t\\t\\t\\t\\r\\n\\t\\t\\t\\t<a href=\"/movie/bi/mi/basic.nhn?code=179894\" onclick=\"clickcr(this,\\'pop.list\\',\\'179894\\',\\'2\\',event);\"  title=\"사라진 시간\"><span class=\"blind\">2위</span>사라진 시간</a>\\r\\n\\t\\t\\t\\t<span class=\"rank\">\\r\\n\\t\\t\\t\\t\\r\\n\\t\\t\\t\\t\\r\\n\\t\\t\\t\\t\\r\\n\\t\\t\\t\\t\\r\\n\\t\\t\\t\\t\\r\\n\\t\\t\\t\\t\\t\\r\\n\\t\\t\\t\\t\\r\\n\\t\\t\\t\\t\\r\\n\\t\\t\\t\\t\\t\\r\\n\\t\\t\\t\\t\\t\\r\\n\\t\\t\\t\\t\\t\\r\\n\\t\\t\\t\\t\\t\\r\\n\\t\\t\\t\\t\\r\\n\\t\\t\\t\\t<img src=\"https://ssl.pstatic.net/imgmovie/2007/img/common/icon_down_1.gif\"\\r\\n\\t\\t\\t\\t\\t alt=\"순위 하락\"\\r\\n\\t\\t\\t\\t\\t width=\"7\" height=\"10\">1</span>\\r\\n\\t\\t\\t\\t\\r\\n\\t\\t\\t\\r\\n\\t\\t\\t\\t\\r\\n\\t\\t\\t\\t\\r\\n\\t\\t\\t\\t\\r\\n\\t\\t\\t\\t\\r\\n\\t\\t\\t\\t<li class=\"ranking03\">\\r\\n\\t\\t\\t\\t\\r\\n\\t\\t\\t\\t\\r\\n\\t\\t\\t\\t<a href=\"/movie/bi/mi/basic.nhn?code=180378\" onclick=\"clickcr(this,\\'pop.list\\',\\'180378\\',\\'3\\',event);\"  title=\"결백\"><span class=\"blind\">3위</span>결백</a>\\r\\n\\t\\t\\t\\t<span class=\"rank\">\\r\\n\\t\\t\\t\\t\\r\\n\\t\\t\\t\\t\\r\\n\\t\\t\\t\\t\\r\\n\\t\\t\\t\\t\\r\\n\\t\\t\\t\\t\\r\\n\\t\\t\\t\\t\\t\\r\\n\\t\\t\\t\\t\\r\\n\\t\\t\\t\\t\\r\\n\\t\\t\\t\\t\\t\\r\\n\\t\\t\\t\\t\\t\\r\\n\\t\\t\\t\\t\\t\\r\\n\\t\\t\\t\\t\\t\\r\\n\\t\\t\\t\\t\\r\\n\\t\\t\\t\\t<img src=\"https://ssl.pstatic.net/imgmovie/2007/img/common/icon_down_1.gif\"\\r\\n\\t\\t\\t\\t\\t alt=\"순위 하락\"\\r\\n\\t\\t\\t\\t\\t width=\"7\" height=\"10\">1</span>\\r\\n\\t\\t\\t\\t\\r\\n\\t\\t\\t\\r\\n\\t\\t\\t\\t\\r\\n\\t\\t\\t\\t\\r\\n\\t\\t\\t\\t\\r\\n\\t\\t\\t\\t\\r\\n\\t\\t\\t\\t<li class=\"ranking04\">\\r\\n\\t\\t\\t\\t\\r\\n\\t\\t\\t\\t\\r\\n\\t\\t\\t\\t<a href=\"/movie/bi/mi/basic.nhn?code=187351\" onclick=\"clickcr(this,\\'pop.list\\',\\'187351\\',\\'4\\',event);\"  title=\"온워드: 단 하루의 기적\"><span class=\"blind\">4위</span>온워드: 단 하루의 ..</a>\\r\\n\\t\\t\\t\\t<span class=\"rank\">\\r\\n\\t\\t\\t\\t\\r\\n\\t\\t\\t\\t\\r\\n\\t\\t\\t\\t\\r\\n\\t\\t\\t\\t\\r\\n\\t\\t\\t\\t\\t\\r\\n\\t\\t\\t\\t\\r\\n\\t\\t\\t\\t\\r\\n\\t\\t\\t\\t\\r\\n\\t\\t\\t\\t\\t\\r\\n\\t\\t\\t\\t\\t\\r\\n\\t\\t\\t\\t\\t\\r\\n\\t\\t\\t\\t\\t\\r\\n\\t\\t\\t\\t\\r\\n\\t\\t\\t\\t<img src=\"https://ssl.pstatic.net/imgmovie/2007/img/common/icon_na_1.gif\"\\r\\n\\t\\t\\t\\t\\t alt=\"순위 변동 없음\"\\r\\n\\t\\t\\t\\t\\t width=\"7\" height=\"10\">0</span>\\r\\n\\t\\t\\t\\t\\r\\n\\t\\t\\t\\r\\n\\t\\t\\t\\t\\r\\n\\t\\t\\t\\t\\r\\n\\t\\t\\t\\t\\r\\n\\t\\t\\t\\t\\r\\n\\t\\t\\t\\t<li class=\"ranking05\">\\r\\n\\t\\t\\t\\t\\r\\n\\t\\t\\t\\t\\r\\n\\t\\t\\t\\t<a href=\"/movie/bi/mi/basic.nhn?code=182835\" onclick=\"clickcr(this,\\'pop.list\\',\\'182835\\',\\'5\\',event);\"  title=\"침입자\"><span class=\"blind\">5위</span>침입자</a>\\r\\n\\t\\t\\t\\t<span class=\"rank\">\\r\\n\\t\\t\\t\\t\\r\\n\\t\\t\\t\\t\\r\\n\\t\\t\\t\\t\\r\\n\\t\\t\\t\\t\\r\\n\\t\\t\\t\\t\\t\\r\\n\\t\\t\\t\\t\\r\\n\\t\\t\\t\\t\\r\\n\\t\\t\\t\\t\\r\\n\\t\\t\\t\\t\\t\\r\\n\\t\\t\\t\\t\\t\\r\\n\\t\\t\\t\\t\\t\\r\\n\\t\\t\\t\\t\\t\\r\\n\\t\\t\\t\\t\\r\\n\\t\\t\\t\\t<img src=\"https://ssl.pstatic.net/imgmovie/2007/img/common/icon_na_1.gif\"\\r\\n\\t\\t\\t\\t\\t alt=\"순위 변동 없음\"\\r\\n\\t\\t\\t\\t\\t width=\"7\" height=\"10\">0</span>\\r\\n\\t\\t\\t\\t\\r\\n\\t\\t\\t\\r\\n\\t\\t</ul>\\r\\n        <!--[D] 더보기 위치 이동 -->\\r\\n        <a href=\"/movie/sdb/rank/rmovie.nhn\" onclick=\"clickcr(this,\\'pop.more\\',\\'\\',\\'\\',event);\" class=\"more\">더보기</a>\\r\\n        <p class=\"term\">2020.06.24</p>\\r\\n\\t</div>\\r\\n  \\r\\n\\r\\n\\t \\r\\n\\r\\n\\r\\n\\r\\n\\t<!-- 영화인 인기검색어 -->\\r\\n\\t<div class=\"box_type_1 mb_8\">\\r\\n\\t<h3><img src=\"https://ssl.pstatic.net/imgmovie/2007/img/super_db/tlt_r_best_star.gif\" alt=\"영화인 인기검색어\" width=\"85\" height=\"11\"></h3>\\r\\n\\t\\t<ul class=\"r_ranking\">\\r\\n\\t\\t\\t\\r\\n\\t\\t\\t\\r\\n\\t\\t\\t\\t\\r\\n\\t\\t\\t\\t\\r\\n\\t\\t\\t\\t\\r\\n\\t\\t\\t\\t\\r\\n\\t\\t\\t\\t\\r\\n\\t\\t\\t\\t<li class=\"ranking01\">\\r\\n\\t\\t\\t\\t\\r\\n\\t\\t\\t\\t\\r\\n\\t\\t\\t\\t<a href=\"/movie/bi/pi/basic.nhn?st=1&code=236063\" onclick=\"clickcr(this,\\'peo.list\\',\\'236063\\',\\'1\\',event);\" class=\\'b\\' title=\"신현빈\"><span class=\"blind\">1위</span>신현빈</a>\\r\\n\\t\\t\\t\\t<span class=\"rank\">\\r\\n\\t\\t\\t\\t\\r\\n\\t\\t\\t\\t\\r\\n\\t\\t\\t\\t\\r\\n\\t\\t\\t\\t\\r\\n\\t\\t\\t\\t\\t\\r\\n\\t\\t\\t\\t\\r\\n\\t\\t\\t\\t\\r\\n\\r\\n\\t\\t\\t\\t\\r\\n\\t\\t\\t\\t\\t\\r\\n\\t\\t\\t\\t\\t\\r\\n\\t\\t\\t\\t\\t\\r\\n\\t\\t\\t\\t\\t\\r\\n\\t\\t\\t\\t\\r\\n\\r\\n\\t\\t\\t\\t<img src=\"https://ssl.pstatic.net/imgmovie/2007/img/common/icon_na_1.gif\"\\r\\n\\t\\t\\t\\t\\t alt=\"\"\\r\\n\\t\\t\\t\\t\\t width=\"7\" height=\"10\">0</span>\\r\\n\\t\\t\\t\\t\\r\\n\\t\\t\\t\\r\\n\\t\\t\\t\\t\\r\\n\\t\\t\\t\\t\\r\\n\\t\\t\\t\\t\\r\\n\\t\\t\\t\\t\\r\\n\\t\\t\\t\\t<li class=\"ranking02\">\\r\\n\\t\\t\\t\\t\\r\\n\\t\\t\\t\\t\\r\\n\\t\\t\\t\\t<a href=\"/movie/bi/pi/basic.nhn?st=1&code=332730\" onclick=\"clickcr(this,\\'peo.list\\',\\'332730\\',\\'2\\',event);\"  title=\"신혜선\"><span class=\"blind\">2위</span>신혜선</a>\\r\\n\\t\\t\\t\\t<span class=\"rank\">\\r\\n\\t\\t\\t\\t\\r\\n\\t\\t\\t\\t\\r\\n\\t\\t\\t\\t\\r\\n\\t\\t\\t\\t\\r\\n\\t\\t\\t\\t\\t\\r\\n\\t\\t\\t\\t\\r\\n\\t\\t\\t\\t\\r\\n\\r\\n\\t\\t\\t\\t\\r\\n\\t\\t\\t\\t\\t\\r\\n\\t\\t\\t\\t\\t\\r\\n\\t\\t\\t\\t\\t\\r\\n\\t\\t\\t\\t\\t\\r\\n\\t\\t\\t\\t\\r\\n\\r\\n\\t\\t\\t\\t<img src=\"https://ssl.pstatic.net/imgmovie/2007/img/common/icon_na_1.gif\"\\r\\n\\t\\t\\t\\t\\t alt=\"\"\\r\\n\\t\\t\\t\\t\\t width=\"7\" height=\"10\">0</span>\\r\\n\\t\\t\\t\\t\\r\\n\\t\\t\\t\\r\\n\\t\\t\\t\\t\\r\\n\\t\\t\\t\\t\\r\\n\\t\\t\\t\\t\\r\\n\\t\\t\\t\\t\\r\\n\\t\\t\\t\\t<li class=\"ranking03\">\\r\\n\\t\\t\\t\\t\\r\\n\\t\\t\\t\\t\\r\\n\\t\\t\\t\\t<a href=\"/movie/bi/pi/basic.nhn?st=1&code=90680\" onclick=\"clickcr(this,\\'peo.list\\',\\'90680\\',\\'3\\',event);\"  title=\"유아인\"><span class=\"blind\">3위</span>유아인</a>\\r\\n\\t\\t\\t\\t<span class=\"rank\">\\r\\n\\t\\t\\t\\t\\r\\n\\t\\t\\t\\t\\r\\n\\t\\t\\t\\t\\r\\n\\t\\t\\t\\t\\r\\n\\t\\t\\t\\t\\r\\n\\t\\t\\t\\t\\t\\r\\n\\t\\t\\t\\t\\r\\n\\r\\n\\t\\t\\t\\t\\r\\n\\t\\t\\t\\t\\t\\r\\n\\t\\t\\t\\t\\t\\r\\n\\t\\t\\t\\t\\t\\r\\n\\t\\t\\t\\t\\t\\r\\n\\t\\t\\t\\t\\r\\n\\r\\n\\t\\t\\t\\t<img src=\"https://ssl.pstatic.net/imgmovie/2007/img/common/icon_up_1.gif\"\\r\\n\\t\\t\\t\\t\\t alt=\"\"\\r\\n\\t\\t\\t\\t\\t width=\"7\" height=\"10\">1</span>\\r\\n\\t\\t\\t\\t\\r\\n\\t\\t\\t\\r\\n\\t\\t\\t\\t\\r\\n\\t\\t\\t\\t\\r\\n\\t\\t\\t\\t\\r\\n\\t\\t\\t\\t\\r\\n\\t\\t\\t\\t<li class=\"ranking04\">\\r\\n\\t\\t\\t\\t\\r\\n\\t\\t\\t\\t\\r\\n\\t\\t\\t\\t<a href=\"/movie/bi/pi/basic.nhn?st=1&code=1982\" onclick=\"clickcr(this,\\'peo.list\\',\\'1982\\',\\'4\\',event);\"  title=\"정진영\"><span class=\"blind\">4위</span>정진영</a>\\r\\n\\t\\t\\t\\t<span class=\"rank\">\\r\\n\\t\\t\\t\\t\\r\\n\\t\\t\\t\\t\\r\\n\\t\\t\\t\\t\\r\\n\\t\\t\\t\\t\\r\\n\\t\\t\\t\\t\\r\\n\\t\\t\\t\\t\\t\\r\\n\\t\\t\\t\\t\\r\\n\\r\\n\\t\\t\\t\\t\\r\\n\\t\\t\\t\\t\\t\\r\\n\\t\\t\\t\\t\\t\\r\\n\\t\\t\\t\\t\\t\\r\\n\\t\\t\\t\\t\\t\\r\\n\\t\\t\\t\\t\\r\\n\\r\\n\\t\\t\\t\\t<img src=\"https://ssl.pstatic.net/imgmovie/2007/img/common/icon_down_1.gif\"\\r\\n\\t\\t\\t\\t\\t alt=\"\"\\r\\n\\t\\t\\t\\t\\t width=\"7\" height=\"10\">1</span>\\r\\n\\t\\t\\t\\t\\r\\n\\t\\t\\t\\r\\n\\t\\t\\t\\t\\r\\n\\t\\t\\t\\t\\r\\n\\t\\t\\t\\t\\r\\n\\t\\t\\t\\t\\r\\n\\t\\t\\t\\t<li class=\"ranking05\">\\r\\n\\t\\t\\t\\t\\r\\n\\t\\t\\t\\t\\r\\n\\t\\t\\t\\t<a href=\"/movie/bi/pi/basic.nhn?st=1&code=339919\" onclick=\"clickcr(this,\\'peo.list\\',\\'339919\\',\\'5\\',event);\"  title=\"이주영\"><span class=\"blind\">5위</span>이주영</a>\\r\\n\\t\\t\\t\\t<span class=\"rank\">\\r\\n\\t\\t\\t\\t\\r\\n\\t\\t\\t\\t\\r\\n\\t\\t\\t\\t\\r\\n\\t\\t\\t\\t\\r\\n\\t\\t\\t\\t\\r\\n\\t\\t\\t\\t\\t\\r\\n\\t\\t\\t\\t\\r\\n\\r\\n\\t\\t\\t\\t\\r\\n\\t\\t\\t\\t\\t\\r\\n\\t\\t\\t\\t\\t\\r\\n\\t\\t\\t\\t\\t\\r\\n\\t\\t\\t\\t\\t\\r\\n\\t\\t\\t\\t\\r\\n\\r\\n\\t\\t\\t\\t<img src=\"https://ssl.pstatic.net/imgmovie/2007/img/common/icon_up_1.gif\"\\r\\n\\t\\t\\t\\t\\t alt=\"\"\\r\\n\\t\\t\\t\\t\\t width=\"7\" height=\"10\">1</span>\\r\\n\\t\\t\\t\\t\\r\\n\\t\\t\\t\\r\\n\\t\\t</ul>\\r\\n\\t\\t<a href=\"/movie/sdb/rank/rpeople.nhn\" onclick=\"clickcr(this,\\'peo.more\\',\\'\\',\\'\\',event);\" class=\"more\">더보기</a>\\r\\n\\t\\t<p class=\"term\">2020.06.24</p>\\r\\n\\t</div>\\r\\n  \\r\\n\\r\\n\\t \\r\\n\\r\\n\\r\\n\\r\\n<!--티켓예매순-->\\r\\n<div class=\"box_type_1 mb_8\">\\r\\n\\t<h3><img src=\"https://ssl.pstatic.net/imgmovie/2007/img/running/tlt_r_reservation.gif\" alt=\"티켓예매순\" width=\"51\" height=\"11\"></h3>\\r\\n\\t<div id=\"reserveRanking0\" style=\"display:block\">\\r\\n\\t<ul class=\"r_ranking\">\\r\\n\\t\\t\\r\\n\\t\\t\\t\\r\\n\\t\\t\\t\\t\\r\\n\\t\\t\\t\\t\\t\\r\\n\\t\\t\\t\\t\\t\\t<li class=\"ranking01\"><a href=\"/movie/bi/mi/basic.nhn?code=189537\" onclick=\"clickcr(this,\\'tck.list\\',\\'189537\\',\\'1\\',event);\" class=\"b\" title=\"#살아있다\"><span class=\"blind\">1위</span>#살아있다</a><span class=\"ratio check\">84.05%</span></li>\\r\\n\\t\\t\\t\\t\\t\\r\\n\\t\\t\\t\\t\\t\\r\\n\\t\\t\\t\\t\\r\\n\\t\\t\\t\\r\\n\\t\\t\\r\\n\\t\\t\\t\\r\\n\\t\\t\\t\\t\\r\\n\\t\\t\\t\\t\\t\\r\\n\\t\\t\\t\\t\\t\\r\\n\\t\\t\\t\\t\\t\\t<li class=\"ranking02\"><a href=\"/movie/bi/mi/basic.nhn?code=180378\" onclick=\"clickcr(this,\\'tck.list\\',\\'180378\\',\\'2\\',event);\" title=\"결백\"><span class=\"blind\">2위</span>결백</a> <span class=\"ratio\">4.61%</span></li>\\r\\n\\t\\t\\t\\t\\t\\r\\n\\t\\t\\t\\t\\r\\n\\t\\t\\t\\r\\n\\t\\t\\r\\n\\t\\t\\t\\r\\n\\t\\t\\t\\t\\r\\n\\t\\t\\t\\t\\t\\r\\n\\t\\t\\t\\t\\t\\r\\n\\t\\t\\t\\t\\t\\t<li class=\"ranking03\"><a href=\"/movie/bi/mi/basic.nhn?code=187351\" onclick=\"clickcr(this,\\'tck.list\\',\\'187351\\',\\'3\\',event);\" title=\"온워드: 단 하루의 기적\"><span class=\"blind\">3위</span>온워드: 단 하루의 ..</a> <span class=\"ratio\">4.42%</span></li>\\r\\n\\t\\t\\t\\t\\t\\r\\n\\t\\t\\t\\t\\r\\n\\t\\t\\t\\r\\n\\t\\t\\r\\n\\t\\t\\t\\r\\n\\t\\t\\t\\t\\r\\n\\t\\t\\t\\t\\t\\r\\n\\t\\t\\t\\t\\t\\r\\n\\t\\t\\t\\t\\t\\t<li class=\"ranking04\"><a href=\"/movie/bi/mi/basic.nhn?code=179894\" onclick=\"clickcr(this,\\'tck.list\\',\\'179894\\',\\'4\\',event);\" title=\"사라진 시간\"><span class=\"blind\">4위</span>사라진 시간</a> <span class=\"ratio\">1.34%</span></li>\\r\\n\\t\\t\\t\\t\\t\\r\\n\\t\\t\\t\\t\\r\\n\\t\\t\\t\\r\\n\\t\\t\\r\\n\\t\\t\\t\\r\\n\\t\\t\\t\\t\\r\\n\\t\\t\\t\\t\\t\\r\\n\\t\\t\\t\\t\\t\\r\\n\\t\\t\\t\\t\\t\\t<li class=\"ranking05\"><a href=\"/movie/bi/mi/basic.nhn?code=106360\" onclick=\"clickcr(this,\\'tck.list\\',\\'106360\\',\\'5\\',event);\" title=\"위대한 쇼맨\"><span class=\"blind\">5위</span>위대한 쇼맨</a> <span class=\"ratio\">0.83%</span></li>\\r\\n\\t\\t\\t\\t\\t\\r\\n\\t\\t\\t\\t\\r\\n\\t\\t\\t\\r\\n\\t\\t\\r\\n\\t\\t\\t\\r\\n\\t\\t\\r\\n\\t\\t\\t\\r\\n\\t\\t\\r\\n\\t\\t\\t\\r\\n\\t\\t\\r\\n\\t\\t\\t\\r\\n\\t\\t\\r\\n\\t\\t\\t\\r\\n\\t\\t\\t\\t\\r\\n\\t</ul>\\r\\n\\t\\t<a id=\"ticketRankLink\" href=\"/movie/sdb/rank/rreserve.nhn\" onclick=\"clickcr(this,\\'tck.more\\',\\'\\',\\'\\',event);\" class=\"more\">더보기</a>\\r\\n\\t<div class=\"term_1\"><img src=\"https://ssl.pstatic.net/imgmovie/2007/img/common/txt_source_yes24_02.gif\" alt=\"출처:YES24\" width=\"54\" height=\"12\"><div class=\"date\">2020.06.25</div></div>\\r\\n\\t</div>\\r\\n</div>\\r\\n<!--//티켓예매순-->\\r\\n  \\r\\n\\r\\n\\t \\r\\n\\r\\n\\r\\n\\r\\n\\r\\n<!--박스오피스-->\\r\\n<div class=\"box_type_1 mb_8\">\\r\\n\\t<h3><img src=\"https://ssl.pstatic.net/imgmovie/2007/img/running/tlt_r_boxoffice.gif\" alt=\"박스오피스\" width=\"51\" height=\"11\"></h3>\\r\\n\\t<ul class=\"r_ranking box\">\\r\\n\\t\\r\\n\\t\\t\\t<li class=\"ranking01\"><a href=\"/movie/bi/mi/basic.nhn?code=180378\" onclick=\"clickcr(this,\\'box.list\\',\\'180378\\',\\'1\\',event);\" class=\"b\" title=\"결백\"><span class=\"blind\">1위</span>결백</a> <span class=\"ratio  check\"\"><em>143,024</em> 명</span></li>\\r\\n\\t\\r\\n\\t\\t\\t<li class=\"ranking02\"><a href=\"/movie/bi/mi/basic.nhn?code=187351\" onclick=\"clickcr(this,\\'box.list\\',\\'187351\\',\\'2\\',event);\" title=\"온워드: 단 하루의 기적\"><span class=\"blind\">2위</span>온워드: 단 하루의 기적</a> <span class=\"ratio \"><em>119,475</em> 명</span></li>\\r\\n\\t\\r\\n\\t\\t\\t<li class=\"ranking03\"><a href=\"/movie/bi/mi/basic.nhn?code=179894\" onclick=\"clickcr(this,\\'box.list\\',\\'179894\\',\\'3\\',event);\" title=\"사라진 시간\"><span class=\"blind\">3위</span>사라진 시간</a> <span class=\"ratio \"><em>109,510</em> 명</span></li>\\r\\n\\t\\r\\n\\t\\t\\t<li class=\"ranking04\"><a href=\"/movie/bi/mi/basic.nhn?code=182835\" onclick=\"clickcr(this,\\'box.list\\',\\'182835\\',\\'4\\',event);\" title=\"침입자\"><span class=\"blind\">4위</span>침입자</a> <span class=\"ratio \"><em>26,578</em> 명</span></li>\\r\\n\\t\\r\\n\\t\\t\\t<li class=\"ranking05\"><a href=\"/movie/bi/mi/basic.nhn?code=106360\" onclick=\"clickcr(this,\\'box.list\\',\\'106360\\',\\'5\\',event);\" title=\"위대한 쇼맨\"><span class=\"blind\">5위</span>위대한 쇼맨</a> <span class=\"ratio \"><em>16,049</em> 명</span></li>\\r\\n\\t\\r\\n\\t</ul>\\r\\n\\t<a href=\"/movie/sdb/rank/rboxoffice.nhn\" onclick=\"clickcr(this,\\'box.more\\',\\'\\',\\'\\',event);\" class=\"more\">더보기</a>\\r\\n\\t<div class=\"term_1\"><span class=\"cnt\">주말관객 기준</span><div class=\"date\">20200619-20200621</div></div>\\r\\n</div>\\r\\n<!--//박스오피스-->\\r\\n  \\r\\n\\r\\n\\r\\n\\t\\r\\n\\t\\r\\n\\t\\r\\n\\t\\r\\n\\t\\t\\r\\n\\t\\r\\n\\t\\r\\n\\t\\t\\r\\n\\t\\r\\n\\r\\n\\r\\n\\t\\t\\t\\t\\t</div>\\r\\n\\t\\t\\t\\t\\t<img src=\"https://ssl.pstatic.net/imgmovie/2007/img/common/blank.gif\" alt=\"\" class=\"clear\">\\r\\n\\t\\t\\t\\t</div>\\r\\n\\t\\t\\t\\t<!-- //Content Body -->\\r\\n\\r\\n\\t\\t\\t\\t</div>\\r\\n\\t\\t\\t</div>\\r\\n\\t\\t</div>\\r\\n\\t\\t<!-- //content -->\\r\\n\\t</div>\\r\\n\\t<!-- //container -->\\r\\n\\r\\n\\t<!-- Footer -->\\r\\n\\t<script type=\"text/javascript\" src=\"/common/js/jindo/component/1.0.2/jindo.Component.js\"></script>\\r\\n\\t<script type=\"text/javascript\" src=\"/common/js/jindo/component/1.0.2/jindo.UIComponent.js\"></script>\\r\\n\\t\\n\\n\\n\\n\\n\\n<!-- footer -->\\n<div id=\"footer\">\\n\\t<div class=\"in_footer\">\\n\\t\\t<div class=\"foot_con\">\\n\\t\\t\\t\\t<ul>\\n\\t\\t\\t\\t\\t<li class=\"first\"><a href=\"http://www.naver.com/rules/service.html\" target=\"_blank\" onclick=\"clickcr(this, \\'fot.agreement\\', \\'\\', \\'\\', event);\">이용약관</a></li>\\n\\t\\t\\t\\t\\t<li><a href=\"http://www.naver.com/rules/privacy.html\" target=\"_blank\"  onclick=\"clickcr(this, \\'fot.privacy\\', \\'\\', \\'\\', event);\"><strong>개인정보처리방침</strong></a></li>\\n\\t\\t\\t\\t\\t<li><a href=\"http://www.naver.com/rules/disclaimer.html\" target=\"_blank\" onclick=\"clickcr(this, \\'fot.disclaimer\\', \\'\\', \\'\\', event);\">책임의 한계와 법적고지</a></li>\\n\\t\\t\\t\\t\\t<li><a href=\"https://help.naver.com/support/service/main.nhn?serviceNo=800\" target=\"_blank\" onclick=\"clickcr(this, \\'fot.help\\', \\'\\', \\'\\', event);\">영화 고객센터</a></li>\\n\\t\\t\\t\\t</ul>\\n\\t\\t\\t\\t<p class=\"info\">본 콘텐츠의 저작권은 저작권자 또는 제공처에 있으며, 이를 무단 이용하는 경우 저작권법 등에 따라 법적 책임을 질 수 있습니다.</p>\\n\\t\\t\\t\\t<p class=\"info\">\\n\\t\\t\\t\\t\\t사업자등록번호 : 220-81-62517<span>통신판매업 신고번호</span> : 경기성남 제 2006 - 692호<span>대표이사 : 한성숙</span><span><a href=\"http://www.ftc.go.kr/info/bizinfo/communicationList.jsp\" onclick=\"clickcr(this, \\'fot.bizinfo\\', \\'\\', \\'\\', event);\">사업자등록정보 확인</a></span><br>\\n\\t\\t\\t\\t\\t주소 : 경기도 성남시 분당구 불정로 6 네이버 그린팩토리 <span>대표전화 : 1588-3820</span>\\n\\t\\t\\t\\t</p> \\n\\t\\t\\t\\t<address>\\n\\t\\t\\t\\t\\t<a href=\"http://www.navercorp.com\" target=\"_blank\" class=\"logo\" onclick=\"clickcr(this, \\'fot.nhn\\', \\'\\', \\'\\', event);\"><img src=\"https://ssl.pstatic.net/static/movie/2013/07/logo_naver.png\" width=\"63\" height=\"11\" alt=\"NAVER\"></a>\\n\\t\\t\\t\\t\\t<em>Copyright &copy;</em>\\n\\t\\t\\t\\t\\t<a href=\"http://www.navercorp.com\" target=\"_blank\" onclick=\"clickcr(this, \\'fot.corp\\', \\'\\', \\'\\', event);\">NAVER Corp.</a>\\n\\t\\t\\t\\t\\t<span>All Rights Reserved.</span>\\n\\t\\t\\t\\t</address>\\n\\t\\t</div>\\n\\t</div>\\n</div>\\n<!-- //footer -->\\n\\n\\n\\n\\n\\r\\n\\r\\n\\r\\n\\r\\n<script type=\"text/javascript\">\\r\\n\\r\\nif (false) {\\r\\n\\tvar alertType = \"NONE\";\\r\\n\\tvar koreanTitle = \"\";\\r\\n\\tvar movieCode = \"0\";\\r\\n\\tvar userReserveCount = \"0\";\\r\\n\\tvar todayDatetime = \"20200625120538\";\\r\\n\\tvar endDatetimeAfterTwoDays = \"00000000000000\";\\r\\n\\t\\r\\n\\t\\r\\n\\tif (movieCode > 0) {\\r\\n\\t\\topenWriteActualPointAlert (alertType, koreanTitle, movieCode, userReserveCount, todayDatetime, endDatetimeAfterTwoDays);\\r\\n\\t}\\r\\n}\\r\\n\\r\\nfunction openWriteActualPointAlert (alertType, koreanTitle, movieCode, count, today, endDate) {\\r\\n\\tif (alertType == \"ONE\") {\\r\\n\\t\\tsetCookieLastUserReserveDate(today, endDate);\\r\\n\\t\\tif (confirm(\"관람하신 \" + koreanTitle + \"에\\\\n평점 등록 시 네이버페이 마일리지 500원 적립!\\\\n지금 평점쓰기 메뉴로 이동하시겠습니까?\")) {\\r\\n\\t\\t\\ttop.location.href = \"http://movie.naver.com/movie/bi/mi/point.nhn?code=\" + movieCode;\\r\\n\\t\\t}\\r\\n\\t} else if (alertType == \"MORE\") {\\r\\n\\t\\tsetCookieLastUserReserveDate(today, endDate);\\r\\n\\t\\tif (confirm(\"관람하신 작품에 평점을 등록해주세요\\\\n작품당 네이버페이 마일리지 500원씩 적립!\\\\n평점 미등록작 리스트를 확인하시겠습니까?\")) {\\r\\n\\t\\t\\ttop.location.href = \"http://ticket.movie.naver.com/Order/OverdueList.aspx\";\\r\\n\\t\\t}\\r\\n\\t}\\r\\n}\\r\\n\\r\\nfunction setCookieLastUserReserveDate(today, endDate) {\\r\\n\\tvar cookieForNotOpenActualPointPopup = jindo.$Cookie();\\r\\n\\t\\r\\n\\t\\r\\n\\tcookieForNotOpenActualPointPopup.remove(\"lastUserReserveDatetime\");\\r\\n\\tcookieForNotOpenActualPointPopup.remove(\"lastUserReserveCheckDatetime\");\\r\\n\\t\\r\\n\\tcookieForNotOpenActualPointPopup.set(\"lastUserReserveDatetime\", endDate, 9999, \"movie.naver.com\");\\r\\n\\tcookieForNotOpenActualPointPopup.set(\"lastUserReserveCheckDatetime\", today, 9999, \"movie.naver.com\");\\r\\n}\\r\\n\\r\\n</script>\\n\\n\\n\\n\\r\\n\\r\\n\\n\\n\\r\\n<script type=\"text/javascript\" src=\"/common/js/lcslog.js\"></script>\\r\\n<script type=\"text/javascript\" src=\"/common/js/jindo/component/1.0.2/jindo.Component.min.js\"></script>\\r\\n<script type=\"text/javascript\" src=\"/common/js/vendor/jindo.WatchInput.js\" charset=\"UTF-8\"></script>\\r\\n<script type=\"text/javascript\" src=\"/common/js/lib/Core.js?20200604115213\" charset=\"UTF-8\"></script>\\r\\n<script type=\"text/javascript\" src=\"/common/js/lib/LNB.js?20200604115213\" charset=\"UTF-8\"></script>\\r\\n<script type=\"text/javascript\" src=\"/common/js/lib/Search.js?20200604115213\" charset=\"UTF-8\"></script>\\r\\n\\n\\n\\n\\t\\n\\t\\n\\t\\t\\n\\t\\n\\n\\n\\n\\n\\t\\n\\t\\n\\n<script type=\"text/javascript\">\\n\\n// nhn.movie.Search가 jindo 기반이어서 javascript로 전환함\\nif (document.addEventListener) {\\n\\tdocument.addEventListener(\"DOMContentLoaded\", function () {\\n\\t\\tdocument.removeEventListener(\"DOMContentLoaded\", arguments.callee, false);\\n\\t\\tloadFooter();\\n\\t}, false);\\n}\\n// Internet Explorer\\nelse if (document.attachEvent) {\\n\\t// onreadystatechange 는 모든 브라우저가 반환\\n\\tdocument.attachEvent(\"onreadystatechange\", function () {\\n\\t\\tif (document.readyState == \"complete\" || document.readyState == \\'loaded\\') {\\n\\t\\t\\tdocument.detachEvent(\"onreadystatechange\", arguments.callee);\\n\\t\\t\\tloadFooter();\\n\\t\\t}\\n\\t});\\n}\\n\\nfunction loadFooter() {\\n\\tvar goNaver = document.getElementById(\"lnb_gonaver\");\\n\\tgoNaver.addEventListener(\"focus\", focusonNaverIcon, false);\\n\\n\\t// LNB - 사용처를 못 찾음\\n//   \\tvar oLNB = new nhn.movie.LNB();\\n\\t\\n\\t// 상단 검색영역\\n\\tvar oSearch = new nhn.movie.Search({\\n\\t\\tarea : \"jSearchArea\",\\n\\t\\tautosearch : \"https://auto-movie.naver.com/ac?q_enc=UTF-8&st=1&r_lt=1&n_ext=1&t_koreng=1&r_format=json&r_enc=UTF-8&r_unicode=0&r_escape=1&q=\",\\n\\t\\tmovelink : \"/movie/bi/mi/basic.nhn?code=\",\\n\\t\\tpeoplelink : \"/movie/bi/pi/basic.nhn?code=\"\\n\\t});\\n\\t\\n\\tgetGNB();\\t\\n}\\n\\nfunction focusonNaverIcon(event) {\\n\\tevent.preventDefault();\\t// jindo.$Event.CANCEL_DEFAULT 와 동일한 기능으로 추측됨\\n\\tdocument.getElementById(\\'ipt_tx_srch\\').value= \"\";\\n\\tdocument.getElementById(\\'search_placeholder\\').style = \"display:inline;\";\\n\\tif (document.getElementById(\\'jAutoComplate\\') != undefined && document.getElementById(\\'jAutoComplate\\') !== null) {\\n\\t\\tdocument.getElementById(\\'jAutoComplate\\').style = \"display:none;\"\\n\\t}\\n}\\n\\n\\nwindow.addEventListener(\\'pageshow\\', function(event) { lcs_do(); });\\n\\ndocument.addEventListener(\\'click\\', function (event) {\\n\\tvar welSource = event.srcElement;\\t// jindo.$Element(oEvent.element);\\n\\tif (!document.getElementById(\"gnb\").contains(welSource)) {\\n\\t\\tgnbAllLayerClose();\\n\\t}\\n});\\n</script>\\n\\t\\r\\n\\t<!-- //Footer -->\\r\\n\\t\\t\\t\\r\\n</div>\\r\\n\\r\\n\\r\\n</body>\\r\\n</html>\\t'"
      ]
     },
     "execution_count": 67,
     "metadata": {},
     "output_type": "execute_result"
    }
   ],
   "source": [
    "res.text"
   ]
  },
  {
   "cell_type": "code",
   "execution_count": 69,
   "metadata": {},
   "outputs": [],
   "source": [
    "movie  = bs(res.text,'lxml')"
   ]
  },
  {
   "cell_type": "code",
   "execution_count": 71,
   "metadata": {},
   "outputs": [],
   "source": [
    "title = movie.select('div.tit5 > a')"
   ]
  },
  {
   "cell_type": "code",
   "execution_count": 73,
   "metadata": {},
   "outputs": [],
   "source": [
    "rate = movie.select('td.point')"
   ]
  },
  {
   "cell_type": "code",
   "execution_count": 74,
   "metadata": {},
   "outputs": [
    {
     "data": {
      "text/plain": [
       "50"
      ]
     },
     "execution_count": 74,
     "metadata": {},
     "output_type": "execute_result"
    }
   ],
   "source": [
    "len(title)"
   ]
  },
  {
   "cell_type": "code",
   "execution_count": 75,
   "metadata": {},
   "outputs": [
    {
     "data": {
      "text/plain": [
       "50"
      ]
     },
     "execution_count": 75,
     "metadata": {},
     "output_type": "execute_result"
    }
   ],
   "source": [
    "len(rate)"
   ]
  },
  {
   "cell_type": "code",
   "execution_count": 76,
   "metadata": {},
   "outputs": [],
   "source": [
    "t_list = []\n",
    "r_list = []\n",
    "ranking = []\n",
    "\n",
    "for index in range(len(rate)) :\n",
    "    title_list = title[index].text\n",
    "    rate_list = rate[index].text\n",
    "    rank_list = index +1\n",
    "    \n",
    "    t_list.append(title_list)\n",
    "    r_list.append(rate_list)\n",
    "    ranking.append(rank_list)\n",
    "    "
   ]
  },
  {
   "cell_type": "code",
   "execution_count": 77,
   "metadata": {
    "collapsed": true
   },
   "outputs": [
    {
     "name": "stdout",
     "output_type": "stream",
     "text": [
      "['위대한 쇼맨', '에이리언 2', '패왕별희 디 오리지널', '인생', '우리들', '톰보이', '러빙 빈센트', '어느 가족', '시간을 달리는 소녀', '오아시스', '스타 이즈 본', '에이리언', '러브레터', '늑대아이', '싸이코', '박하사탕', '타오르는 여인의 초상', '비긴 어게인', '미져리', '윤희에게', '배트맨 비긴즈', '기쿠지로의 여름', '시', '마담 프루스트의 비밀정원', '트롤: 월드 투어', '드라큐라', '슬럼독 밀리어네어', '콜 오브 와일드', '벌새', '온워드: 단 하루의 기적', '도그빌', '현기증', '바닷마을 다이어리', '썸머 워즈', '플로리다 프로젝트', '걸어도 걸어도', '라라랜드', '플라이', '태풍이 지나가고', '찬실이는 복도 많지', '족구왕', '괴물의 아이', '캐리', '아비정전', '로렌스 애니웨이 ', '에어로너츠', '영웅: 천하의 시작', '그랜드 부다페스트 호텔', '스크림', '카페 벨에포크']\n"
     ]
    }
   ],
   "source": [
    "print(t_list)"
   ]
  },
  {
   "cell_type": "code",
   "execution_count": 78,
   "metadata": {},
   "outputs": [
    {
     "name": "stdout",
     "output_type": "stream",
     "text": [
      "['9.40', '9.34', '9.30', '9.26', '9.25', '9.24', '9.22', '9.20', '9.20', '9.20', '9.18', '9.12', '9.11', '9.11', '9.10', '9.05', '9.04', '9.02', '9.01', '8.95', '8.94', '8.94', '8.93', '8.92', '8.89', '8.86', '8.83', '8.81', '8.77', '8.76', '8.75', '8.73', '8.72', '8.67', '8.63', '8.62', '8.60', '8.60', '8.60', '8.58', '8.54', '8.50', '8.46', '8.46', '8.42', '8.39', '8.38', '8.37', '8.36', '8.29']\n"
     ]
    }
   ],
   "source": [
    "print(r_list)"
   ]
  },
  {
   "cell_type": "code",
   "execution_count": 79,
   "metadata": {},
   "outputs": [
    {
     "name": "stdout",
     "output_type": "stream",
     "text": [
      "[1, 2, 3, 4, 5, 6, 7, 8, 9, 10, 11, 12, 13, 14, 15, 16, 17, 18, 19, 20, 21, 22, 23, 24, 25, 26, 27, 28, 29, 30, 31, 32, 33, 34, 35, 36, 37, 38, 39, 40, 41, 42, 43, 44, 45, 46, 47, 48, 49, 50]\n"
     ]
    }
   ],
   "source": [
    "print(ranking)"
   ]
  },
  {
   "cell_type": "code",
   "execution_count": 83,
   "metadata": {},
   "outputs": [],
   "source": [
    "movie_info = {'ranking' : ranking , 'title' : t_list , 'rate' : r_list}"
   ]
  },
  {
   "cell_type": "code",
   "execution_count": 85,
   "metadata": {},
   "outputs": [],
   "source": [
    "movie = pd.DataFrame(movie_info)"
   ]
  },
  {
   "cell_type": "code",
   "execution_count": 86,
   "metadata": {},
   "outputs": [],
   "source": [
    "movie.set_index('ranking', inplace = True)"
   ]
  },
  {
   "cell_type": "code",
   "execution_count": 87,
   "metadata": {
    "collapsed": true
   },
   "outputs": [
    {
     "data": {
      "text/html": [
       "<div>\n",
       "<style scoped>\n",
       "    .dataframe tbody tr th:only-of-type {\n",
       "        vertical-align: middle;\n",
       "    }\n",
       "\n",
       "    .dataframe tbody tr th {\n",
       "        vertical-align: top;\n",
       "    }\n",
       "\n",
       "    .dataframe thead th {\n",
       "        text-align: right;\n",
       "    }\n",
       "</style>\n",
       "<table border=\"1\" class=\"dataframe\">\n",
       "  <thead>\n",
       "    <tr style=\"text-align: right;\">\n",
       "      <th></th>\n",
       "      <th>title</th>\n",
       "      <th>rate</th>\n",
       "    </tr>\n",
       "    <tr>\n",
       "      <th>ranking</th>\n",
       "      <th></th>\n",
       "      <th></th>\n",
       "    </tr>\n",
       "  </thead>\n",
       "  <tbody>\n",
       "    <tr>\n",
       "      <th>1</th>\n",
       "      <td>위대한 쇼맨</td>\n",
       "      <td>9.40</td>\n",
       "    </tr>\n",
       "    <tr>\n",
       "      <th>2</th>\n",
       "      <td>에이리언 2</td>\n",
       "      <td>9.34</td>\n",
       "    </tr>\n",
       "    <tr>\n",
       "      <th>3</th>\n",
       "      <td>패왕별희 디 오리지널</td>\n",
       "      <td>9.30</td>\n",
       "    </tr>\n",
       "    <tr>\n",
       "      <th>4</th>\n",
       "      <td>인생</td>\n",
       "      <td>9.26</td>\n",
       "    </tr>\n",
       "    <tr>\n",
       "      <th>5</th>\n",
       "      <td>우리들</td>\n",
       "      <td>9.25</td>\n",
       "    </tr>\n",
       "    <tr>\n",
       "      <th>6</th>\n",
       "      <td>톰보이</td>\n",
       "      <td>9.24</td>\n",
       "    </tr>\n",
       "    <tr>\n",
       "      <th>7</th>\n",
       "      <td>러빙 빈센트</td>\n",
       "      <td>9.22</td>\n",
       "    </tr>\n",
       "    <tr>\n",
       "      <th>8</th>\n",
       "      <td>어느 가족</td>\n",
       "      <td>9.20</td>\n",
       "    </tr>\n",
       "    <tr>\n",
       "      <th>9</th>\n",
       "      <td>시간을 달리는 소녀</td>\n",
       "      <td>9.20</td>\n",
       "    </tr>\n",
       "    <tr>\n",
       "      <th>10</th>\n",
       "      <td>오아시스</td>\n",
       "      <td>9.20</td>\n",
       "    </tr>\n",
       "    <tr>\n",
       "      <th>11</th>\n",
       "      <td>스타 이즈 본</td>\n",
       "      <td>9.18</td>\n",
       "    </tr>\n",
       "    <tr>\n",
       "      <th>12</th>\n",
       "      <td>에이리언</td>\n",
       "      <td>9.12</td>\n",
       "    </tr>\n",
       "    <tr>\n",
       "      <th>13</th>\n",
       "      <td>러브레터</td>\n",
       "      <td>9.11</td>\n",
       "    </tr>\n",
       "    <tr>\n",
       "      <th>14</th>\n",
       "      <td>늑대아이</td>\n",
       "      <td>9.11</td>\n",
       "    </tr>\n",
       "    <tr>\n",
       "      <th>15</th>\n",
       "      <td>싸이코</td>\n",
       "      <td>9.10</td>\n",
       "    </tr>\n",
       "    <tr>\n",
       "      <th>16</th>\n",
       "      <td>박하사탕</td>\n",
       "      <td>9.05</td>\n",
       "    </tr>\n",
       "    <tr>\n",
       "      <th>17</th>\n",
       "      <td>타오르는 여인의 초상</td>\n",
       "      <td>9.04</td>\n",
       "    </tr>\n",
       "    <tr>\n",
       "      <th>18</th>\n",
       "      <td>비긴 어게인</td>\n",
       "      <td>9.02</td>\n",
       "    </tr>\n",
       "    <tr>\n",
       "      <th>19</th>\n",
       "      <td>미져리</td>\n",
       "      <td>9.01</td>\n",
       "    </tr>\n",
       "    <tr>\n",
       "      <th>20</th>\n",
       "      <td>윤희에게</td>\n",
       "      <td>8.95</td>\n",
       "    </tr>\n",
       "    <tr>\n",
       "      <th>21</th>\n",
       "      <td>배트맨 비긴즈</td>\n",
       "      <td>8.94</td>\n",
       "    </tr>\n",
       "    <tr>\n",
       "      <th>22</th>\n",
       "      <td>기쿠지로의 여름</td>\n",
       "      <td>8.94</td>\n",
       "    </tr>\n",
       "    <tr>\n",
       "      <th>23</th>\n",
       "      <td>시</td>\n",
       "      <td>8.93</td>\n",
       "    </tr>\n",
       "    <tr>\n",
       "      <th>24</th>\n",
       "      <td>마담 프루스트의 비밀정원</td>\n",
       "      <td>8.92</td>\n",
       "    </tr>\n",
       "    <tr>\n",
       "      <th>25</th>\n",
       "      <td>트롤: 월드 투어</td>\n",
       "      <td>8.89</td>\n",
       "    </tr>\n",
       "    <tr>\n",
       "      <th>26</th>\n",
       "      <td>드라큐라</td>\n",
       "      <td>8.86</td>\n",
       "    </tr>\n",
       "    <tr>\n",
       "      <th>27</th>\n",
       "      <td>슬럼독 밀리어네어</td>\n",
       "      <td>8.83</td>\n",
       "    </tr>\n",
       "    <tr>\n",
       "      <th>28</th>\n",
       "      <td>콜 오브 와일드</td>\n",
       "      <td>8.81</td>\n",
       "    </tr>\n",
       "    <tr>\n",
       "      <th>29</th>\n",
       "      <td>벌새</td>\n",
       "      <td>8.77</td>\n",
       "    </tr>\n",
       "    <tr>\n",
       "      <th>30</th>\n",
       "      <td>온워드: 단 하루의 기적</td>\n",
       "      <td>8.76</td>\n",
       "    </tr>\n",
       "    <tr>\n",
       "      <th>31</th>\n",
       "      <td>도그빌</td>\n",
       "      <td>8.75</td>\n",
       "    </tr>\n",
       "    <tr>\n",
       "      <th>32</th>\n",
       "      <td>현기증</td>\n",
       "      <td>8.73</td>\n",
       "    </tr>\n",
       "    <tr>\n",
       "      <th>33</th>\n",
       "      <td>바닷마을 다이어리</td>\n",
       "      <td>8.72</td>\n",
       "    </tr>\n",
       "    <tr>\n",
       "      <th>34</th>\n",
       "      <td>썸머 워즈</td>\n",
       "      <td>8.67</td>\n",
       "    </tr>\n",
       "    <tr>\n",
       "      <th>35</th>\n",
       "      <td>플로리다 프로젝트</td>\n",
       "      <td>8.63</td>\n",
       "    </tr>\n",
       "    <tr>\n",
       "      <th>36</th>\n",
       "      <td>걸어도 걸어도</td>\n",
       "      <td>8.62</td>\n",
       "    </tr>\n",
       "    <tr>\n",
       "      <th>37</th>\n",
       "      <td>라라랜드</td>\n",
       "      <td>8.60</td>\n",
       "    </tr>\n",
       "    <tr>\n",
       "      <th>38</th>\n",
       "      <td>플라이</td>\n",
       "      <td>8.60</td>\n",
       "    </tr>\n",
       "    <tr>\n",
       "      <th>39</th>\n",
       "      <td>태풍이 지나가고</td>\n",
       "      <td>8.60</td>\n",
       "    </tr>\n",
       "    <tr>\n",
       "      <th>40</th>\n",
       "      <td>찬실이는 복도 많지</td>\n",
       "      <td>8.58</td>\n",
       "    </tr>\n",
       "    <tr>\n",
       "      <th>41</th>\n",
       "      <td>족구왕</td>\n",
       "      <td>8.54</td>\n",
       "    </tr>\n",
       "    <tr>\n",
       "      <th>42</th>\n",
       "      <td>괴물의 아이</td>\n",
       "      <td>8.50</td>\n",
       "    </tr>\n",
       "    <tr>\n",
       "      <th>43</th>\n",
       "      <td>캐리</td>\n",
       "      <td>8.46</td>\n",
       "    </tr>\n",
       "    <tr>\n",
       "      <th>44</th>\n",
       "      <td>아비정전</td>\n",
       "      <td>8.46</td>\n",
       "    </tr>\n",
       "    <tr>\n",
       "      <th>45</th>\n",
       "      <td>로렌스 애니웨이</td>\n",
       "      <td>8.42</td>\n",
       "    </tr>\n",
       "    <tr>\n",
       "      <th>46</th>\n",
       "      <td>에어로너츠</td>\n",
       "      <td>8.39</td>\n",
       "    </tr>\n",
       "    <tr>\n",
       "      <th>47</th>\n",
       "      <td>영웅: 천하의 시작</td>\n",
       "      <td>8.38</td>\n",
       "    </tr>\n",
       "    <tr>\n",
       "      <th>48</th>\n",
       "      <td>그랜드 부다페스트 호텔</td>\n",
       "      <td>8.37</td>\n",
       "    </tr>\n",
       "    <tr>\n",
       "      <th>49</th>\n",
       "      <td>스크림</td>\n",
       "      <td>8.36</td>\n",
       "    </tr>\n",
       "    <tr>\n",
       "      <th>50</th>\n",
       "      <td>카페 벨에포크</td>\n",
       "      <td>8.29</td>\n",
       "    </tr>\n",
       "  </tbody>\n",
       "</table>\n",
       "</div>"
      ],
      "text/plain": [
       "                 title  rate\n",
       "ranking                     \n",
       "1               위대한 쇼맨  9.40\n",
       "2               에이리언 2  9.34\n",
       "3          패왕별희 디 오리지널  9.30\n",
       "4                   인생  9.26\n",
       "5                  우리들  9.25\n",
       "6                  톰보이  9.24\n",
       "7               러빙 빈센트  9.22\n",
       "8                어느 가족  9.20\n",
       "9           시간을 달리는 소녀  9.20\n",
       "10                오아시스  9.20\n",
       "11             스타 이즈 본  9.18\n",
       "12                에이리언  9.12\n",
       "13                러브레터  9.11\n",
       "14                늑대아이  9.11\n",
       "15                 싸이코  9.10\n",
       "16                박하사탕  9.05\n",
       "17         타오르는 여인의 초상  9.04\n",
       "18              비긴 어게인  9.02\n",
       "19                 미져리  9.01\n",
       "20                윤희에게  8.95\n",
       "21             배트맨 비긴즈  8.94\n",
       "22            기쿠지로의 여름  8.94\n",
       "23                   시  8.93\n",
       "24       마담 프루스트의 비밀정원  8.92\n",
       "25           트롤: 월드 투어  8.89\n",
       "26                드라큐라  8.86\n",
       "27           슬럼독 밀리어네어  8.83\n",
       "28            콜 오브 와일드  8.81\n",
       "29                  벌새  8.77\n",
       "30       온워드: 단 하루의 기적  8.76\n",
       "31                 도그빌  8.75\n",
       "32                 현기증  8.73\n",
       "33           바닷마을 다이어리  8.72\n",
       "34               썸머 워즈  8.67\n",
       "35           플로리다 프로젝트  8.63\n",
       "36             걸어도 걸어도  8.62\n",
       "37                라라랜드  8.60\n",
       "38                 플라이  8.60\n",
       "39            태풍이 지나가고  8.60\n",
       "40          찬실이는 복도 많지  8.58\n",
       "41                 족구왕  8.54\n",
       "42              괴물의 아이  8.50\n",
       "43                  캐리  8.46\n",
       "44                아비정전  8.46\n",
       "45           로렌스 애니웨이   8.42\n",
       "46               에어로너츠  8.39\n",
       "47          영웅: 천하의 시작  8.38\n",
       "48        그랜드 부다페스트 호텔  8.37\n",
       "49                 스크림  8.36\n",
       "50             카페 벨에포크  8.29"
      ]
     },
     "execution_count": 87,
     "metadata": {},
     "output_type": "execute_result"
    }
   ],
   "source": [
    "movie"
   ]
  },
  {
   "cell_type": "markdown",
   "metadata": {},
   "source": [
    "# 20200601 ~ 20200624 데이터 클로링"
   ]
  },
  {
   "cell_type": "code",
   "execution_count": 96,
   "metadata": {},
   "outputs": [],
   "source": [
    "import requests as req\n",
    "from bs4 import BeautifulSoup as bs\n",
    "import pandas as pd\n",
    "from tqdm import tqdm_notebook as tq"
   ]
  },
  {
   "cell_type": "code",
   "execution_count": 89,
   "metadata": {},
   "outputs": [],
   "source": [
    "url = \"https://movie.naver.com/movie/sdb/rank/rmovie.nhn?sel=cur&date=20200624\""
   ]
  },
  {
   "cell_type": "code",
   "execution_count": 97,
   "metadata": {},
   "outputs": [
    {
     "name": "stderr",
     "output_type": "stream",
     "text": [
      "C:\\Users\\SMT011\\anaconda3\\lib\\site-packages\\ipykernel_launcher.py:5: TqdmDeprecationWarning: This function will be removed in tqdm==5.0.0\n",
      "Please use `tqdm.notebook.tqdm` instead of `tqdm.tqdm_notebook`\n",
      "  \"\"\"\n"
     ]
    },
    {
     "data": {
      "application/vnd.jupyter.widget-view+json": {
       "model_id": "fbac7947534b4f87842c2fe7c95c48b7",
       "version_major": 2,
       "version_minor": 0
      },
      "text/plain": [
       "HBox(children=(FloatProgress(value=0.0, max=24.0), HTML(value='')))"
      ]
     },
     "metadata": {},
     "output_type": "display_data"
    },
    {
     "name": "stdout",
     "output_type": "stream",
     "text": [
      "\n"
     ]
    }
   ],
   "source": [
    "t_list = []\n",
    "r_list = []\n",
    "ranking = []\n",
    "\n",
    "for index in tq(range(20200601,20200625,1)) :\n",
    "    \n",
    "    url = \"https://movie.naver.com/movie/sdb/rank/rmovie.nhn?sel=cur&date=\"+ str(index)\n",
    "    res = req.get(url)\n",
    "    movie = bs(res.text,'lxml')\n",
    "    \n",
    "    title = movie.select('div.tit5 > a')\n",
    "    rate = movie.select('td.point')\n",
    "    \n",
    "    for i in range(len(title)) :\n",
    "                   \n",
    "        title_list = title[i].text\n",
    "        rate_list = rate[i].text\n",
    "        rank_list = i +1\n",
    "    \n",
    "        t_list.append(title_list)\n",
    "        r_list.append(rate_list)\n",
    "        ranking.append(rank_list)\n",
    "    "
   ]
  },
  {
   "cell_type": "code",
   "execution_count": 93,
   "metadata": {},
   "outputs": [],
   "source": [
    "movie_info = {'ranking' : ranking , 'title' : t_list , 'rate' : r_list}"
   ]
  },
  {
   "cell_type": "code",
   "execution_count": 94,
   "metadata": {},
   "outputs": [
    {
     "data": {
      "text/html": [
       "<div>\n",
       "<style scoped>\n",
       "    .dataframe tbody tr th:only-of-type {\n",
       "        vertical-align: middle;\n",
       "    }\n",
       "\n",
       "    .dataframe tbody tr th {\n",
       "        vertical-align: top;\n",
       "    }\n",
       "\n",
       "    .dataframe thead th {\n",
       "        text-align: right;\n",
       "    }\n",
       "</style>\n",
       "<table border=\"1\" class=\"dataframe\">\n",
       "  <thead>\n",
       "    <tr style=\"text-align: right;\">\n",
       "      <th></th>\n",
       "      <th>ranking</th>\n",
       "      <th>title</th>\n",
       "      <th>rate</th>\n",
       "    </tr>\n",
       "  </thead>\n",
       "  <tbody>\n",
       "    <tr>\n",
       "      <th>0</th>\n",
       "      <td>1</td>\n",
       "      <td>가버나움</td>\n",
       "      <td>9.59</td>\n",
       "    </tr>\n",
       "    <tr>\n",
       "      <th>1</th>\n",
       "      <td>2</td>\n",
       "      <td>살인의 추억</td>\n",
       "      <td>9.40</td>\n",
       "    </tr>\n",
       "    <tr>\n",
       "      <th>2</th>\n",
       "      <td>3</td>\n",
       "      <td>위대한 쇼맨</td>\n",
       "      <td>9.39</td>\n",
       "    </tr>\n",
       "    <tr>\n",
       "      <th>3</th>\n",
       "      <td>4</td>\n",
       "      <td>패왕별희 디 오리지널</td>\n",
       "      <td>9.31</td>\n",
       "    </tr>\n",
       "    <tr>\n",
       "      <th>4</th>\n",
       "      <td>5</td>\n",
       "      <td>톰보이</td>\n",
       "      <td>9.30</td>\n",
       "    </tr>\n",
       "    <tr>\n",
       "      <th>...</th>\n",
       "      <td>...</td>\n",
       "      <td>...</td>\n",
       "      <td>...</td>\n",
       "    </tr>\n",
       "    <tr>\n",
       "      <th>1195</th>\n",
       "      <td>46</td>\n",
       "      <td>에어로너츠</td>\n",
       "      <td>8.39</td>\n",
       "    </tr>\n",
       "    <tr>\n",
       "      <th>1196</th>\n",
       "      <td>47</td>\n",
       "      <td>영웅: 천하의 시작</td>\n",
       "      <td>8.38</td>\n",
       "    </tr>\n",
       "    <tr>\n",
       "      <th>1197</th>\n",
       "      <td>48</td>\n",
       "      <td>그랜드 부다페스트 호텔</td>\n",
       "      <td>8.37</td>\n",
       "    </tr>\n",
       "    <tr>\n",
       "      <th>1198</th>\n",
       "      <td>49</td>\n",
       "      <td>스크림</td>\n",
       "      <td>8.36</td>\n",
       "    </tr>\n",
       "    <tr>\n",
       "      <th>1199</th>\n",
       "      <td>50</td>\n",
       "      <td>카페 벨에포크</td>\n",
       "      <td>8.29</td>\n",
       "    </tr>\n",
       "  </tbody>\n",
       "</table>\n",
       "<p>1200 rows × 3 columns</p>\n",
       "</div>"
      ],
      "text/plain": [
       "      ranking         title  rate\n",
       "0           1          가버나움  9.59\n",
       "1           2        살인의 추억  9.40\n",
       "2           3        위대한 쇼맨  9.39\n",
       "3           4   패왕별희 디 오리지널  9.31\n",
       "4           5           톰보이  9.30\n",
       "...       ...           ...   ...\n",
       "1195       46         에어로너츠  8.39\n",
       "1196       47    영웅: 천하의 시작  8.38\n",
       "1197       48  그랜드 부다페스트 호텔  8.37\n",
       "1198       49           스크림  8.36\n",
       "1199       50       카페 벨에포크  8.29\n",
       "\n",
       "[1200 rows x 3 columns]"
      ]
     },
     "execution_count": 94,
     "metadata": {},
     "output_type": "execute_result"
    }
   ],
   "source": [
    "pd.DataFrame(movie_info)"
   ]
  },
  {
   "cell_type": "code",
   "execution_count": null,
   "metadata": {},
   "outputs": [],
   "source": []
  }
 ],
 "metadata": {
  "kernelspec": {
   "display_name": "Python 3",
   "language": "python",
   "name": "python3"
  },
  "language_info": {
   "codemirror_mode": {
    "name": "ipython",
    "version": 3
   },
   "file_extension": ".py",
   "mimetype": "text/x-python",
   "name": "python",
   "nbconvert_exporter": "python",
   "pygments_lexer": "ipython3",
   "version": "3.7.6"
  }
 },
 "nbformat": 4,
 "nbformat_minor": 4
}
