{
 "cells": [
  {
   "cell_type": "markdown",
   "metadata": {},
   "source": [
    "# 한솥도시락 메뉴,가격 크롤링"
   ]
  },
  {
   "cell_type": "code",
   "execution_count": 19,
   "metadata": {},
   "outputs": [],
   "source": [
    "from selenium import webdriver as wb\n",
    "from selenium.webdriver.common.keys import Keys\n",
    "from bs4 import BeautifulSoup as bs\n",
    "import pandas as pd"
   ]
  },
  {
   "cell_type": "code",
   "execution_count": 49,
   "metadata": {},
   "outputs": [],
   "source": [
    "url = \"https://www.hsd.co.kr/menu/menu_list\"\n",
    "\n",
    "driver = wb.Chrome()\n",
    "\n",
    "driver.get(url)"
   ]
  },
  {
   "cell_type": "code",
   "execution_count": 50,
   "metadata": {},
   "outputs": [],
   "source": [
    "soup = bs(driver.page_source,'lxml')"
   ]
  },
  {
   "cell_type": "code",
   "execution_count": 51,
   "metadata": {},
   "outputs": [],
   "source": [
    "res = soup.select('h4.h.fz_03')"
   ]
  },
  {
   "cell_type": "code",
   "execution_count": 52,
   "metadata": {},
   "outputs": [
    {
     "name": "stdout",
     "output_type": "stream",
     "text": [
      "매화 (고메이 크림고로케)\n",
      "매화(치킨, 연어구이)\n",
      "매화 (순살 고등어데리야끼)\n",
      "진달래\n",
      "개나리(순살 고등어 간장구이)\n",
      "중화 짜장볶음밥\n",
      "나시고랭\n"
     ]
    }
   ],
   "source": [
    "for i in res :\n",
    "    print(i.text)"
   ]
  },
  {
   "cell_type": "code",
   "execution_count": 53,
   "metadata": {},
   "outputs": [],
   "source": [
    "btn_more = driver.find_element_by_class_name('c_05')"
   ]
  },
  {
   "cell_type": "code",
   "execution_count": 54,
   "metadata": {},
   "outputs": [
    {
     "data": {
      "text/plain": [
       "<selenium.webdriver.remote.webelement.WebElement (session=\"0efddb131ddb9e7da17cbf5b69e2a4b6\", element=\"f5188e3e-5661-4920-ba12-0a208db00ce5\")>"
      ]
     },
     "execution_count": 54,
     "metadata": {},
     "output_type": "execute_result"
    }
   ],
   "source": [
    "btn_more"
   ]
  },
  {
   "cell_type": "code",
   "execution_count": 55,
   "metadata": {},
   "outputs": [],
   "source": [
    "import time"
   ]
  },
  {
   "cell_type": "markdown",
   "metadata": {},
   "source": [
    "#  예외처리 Try 에서 오류가 나면 Except로 빠짐"
   ]
  },
  {
   "cell_type": "code",
   "execution_count": 56,
   "metadata": {},
   "outputs": [
    {
     "name": "stdout",
     "output_type": "stream",
     "text": [
      "3\n"
     ]
    }
   ],
   "source": [
    "try :\n",
    "    for i in range(50) :\n",
    "        btn_more.click()\n",
    "        time.sleep(1)\n",
    "\n",
    "except :\n",
    "    print(i)"
   ]
  },
  {
   "cell_type": "markdown",
   "metadata": {},
   "source": [
    "# 모든 메뉴 이름 출력"
   ]
  },
  {
   "cell_type": "code",
   "execution_count": null,
   "metadata": {},
   "outputs": [],
   "source": [
    "soup = bs(driver.page_source,'lxml')"
   ]
  },
  {
   "cell_type": "code",
   "execution_count": 63,
   "metadata": {},
   "outputs": [],
   "source": [
    "menu = soup.select('h4.h.fz_03')"
   ]
  },
  {
   "cell_type": "code",
   "execution_count": 65,
   "metadata": {
    "collapsed": true
   },
   "outputs": [
    {
     "name": "stdout",
     "output_type": "stream",
     "text": [
      "매화 (고메이 크림고로케)\n",
      "매화(치킨, 연어구이)\n",
      "매화 (순살 고등어데리야끼)\n",
      "진달래\n",
      "개나리(순살 고등어 간장구이)\n",
      "중화 짜장볶음밥\n",
      "나시고랭\n",
      "생선까스도련님고기고기\n",
      "돈까스도련님고기고기\n",
      "탕수육도련님고기고기\n",
      "새치 고기고기\n",
      "돈치 고기고기\n",
      "고기고기\n",
      "믹스후라이정식\n",
      "믹스후라이도시락\n",
      "주말숯불삼겹2종정식\n",
      "고추장숯불삼겹정식\n",
      "숯불삼겹정식\n",
      "제육 김치찌개 정식\n",
      "고등어 불고기 정식\n",
      "콤비네이션 정식\n",
      "숯불직화구이\n",
      "소불고기\n",
      "메가치킨제육\n",
      "생선까스도련님\n",
      "칠리 찹쌀탕수육도련님\n",
      "동백\n",
      "치킨제육\n",
      "국화\n",
      "돈까스도련님\n",
      "제육볶음\n",
      "한솥밥\n",
      "현미밥\n",
      "갈비치킨마요\n",
      "메가치킨마요\n",
      "왕치킨마요\n",
      "빅치킨마요\n",
      "치킨마요\n",
      "참치 샐러드마요\n",
      "치킨 샐러드마요\n",
      "참치마요\n",
      "돈치마요\n",
      "치즈 카레도시락\n",
      "돈까스 카레\n",
      "소불고기 철판볶음밥\n",
      "한솥 철판볶음밥\n",
      "소고기 육개장\n",
      "묵은지 김치찌개\n",
      "고추장숯불삼겹덮밥\n",
      "숯불직화구이 덮밥\n",
      "숯불구이 덮밥 + 쌈채소\n",
      "왕카레돈까스덮밥\n",
      "새우돈까스 덮밥\n",
      "돈까스 덮밥\n",
      "소불고기 감초고추장 비빔밥\n",
      "시골제육 두부강된장 비빔밥\n",
      "참치야채 감초고추장\n",
      "튼튼도시락\n",
      "해피닭가슴살볶음밥\n",
      "쑥쑥치킨마요\n",
      "순살치킨 세트(대)\n",
      "순살치킨믹스 세트\n",
      "순살치킨 세트(중)\n",
      "반찬 녹두전\n",
      "반찬 해물부추전\n",
      "반찬 계란말이\n",
      "반찬 치즈계란말이\n",
      "반찬 묵은지김치찌개\n",
      "반찬 소고기육개장\n",
      "반찬 카레\n",
      "반찬 소불고기\n",
      "반찬 순살 고등어데리야끼\n",
      "반찬 치킨\n",
      "반찬 고기고기\n",
      "반찬 돈까스 도련님\n",
      "반찬 제육볶음\n",
      "반찬 돈까스\n",
      "믹스고로케\n",
      "바삭 군만두\n",
      "미니 찹쌀핫도그\n",
      "미니 찹쌀탕수육\n",
      "감자고로케\n",
      "케이준후라이\n",
      "쌈채소 세트\n",
      "치킨 샐러드(유자드레싱)\n",
      "치킨 샐러드(사과드레싱)\n",
      "그린 샐러드 (유자드레싱)\n",
      "그린 샐러드 (사과드레싱)\n",
      "미니 샐러드 (유자드레싱)\n",
      "미니 샐러드 (사과드레싱)\n",
      "국물떡볶이 튀김세트\n",
      "닭강정 트리플 콤보\n",
      "탕수 닭강정(중)\n",
      "탕수 닭강정(소)\n",
      "갈비 닭강정(중)\n",
      "갈비 닭강정(소)\n",
      "오리지널 닭강정(중)\n",
      "오리지널 닭강정(소)\n",
      "치킨 BOX(대) \n",
      "치킨BOX(중)_양식소스\n",
      "치킨BOX(중)_칠리소스\n",
      "오징어젓갈\n",
      "간장마늘쫑\n",
      "오이지무침\n",
      "한솥 두부강된장소스\n",
      "한솥 감초볶음고추장소스\n",
      "반찬 무생채\n",
      "볶음김치\n",
      "김치\n",
      "무말랭이\n"
     ]
    }
   ],
   "source": [
    "for i in menu :\n",
    "    print(i.text)"
   ]
  },
  {
   "cell_type": "code",
   "execution_count": 95,
   "metadata": {},
   "outputs": [],
   "source": [
    "price = soup.select('div.item-price')"
   ]
  },
  {
   "cell_type": "code",
   "execution_count": 96,
   "metadata": {},
   "outputs": [],
   "source": [
    "menu = soup.select('h4.h.fz_03')"
   ]
  },
  {
   "cell_type": "code",
   "execution_count": 97,
   "metadata": {},
   "outputs": [
    {
     "data": {
      "text/plain": [
       "110"
      ]
     },
     "execution_count": 97,
     "metadata": {},
     "output_type": "execute_result"
    }
   ],
   "source": [
    "len(price)"
   ]
  },
  {
   "cell_type": "code",
   "execution_count": 98,
   "metadata": {},
   "outputs": [
    {
     "data": {
      "text/plain": [
       "110"
      ]
     },
     "execution_count": 98,
     "metadata": {},
     "output_type": "execute_result"
    }
   ],
   "source": [
    "len(menu)"
   ]
  },
  {
   "cell_type": "code",
   "execution_count": 115,
   "metadata": {},
   "outputs": [],
   "source": [
    "menu_list = []\n",
    "price_list = []\n",
    "num_list = []\n",
    "\n",
    "for i in range(len(price)) : \n",
    "    Price = price[i].text[4:]\n",
    "    Menu = menu[i].text\n",
    "    Num = i+1\n",
    "    \n",
    "    price_list.append(Price)\n",
    "    menu_list.append(Menu)\n",
    "    num_list.append(Num)\n",
    "    "
   ]
  },
  {
   "cell_type": "code",
   "execution_count": 116,
   "metadata": {
    "scrolled": true
   },
   "outputs": [
    {
     "data": {
      "text/plain": [
       "110"
      ]
     },
     "execution_count": 116,
     "metadata": {},
     "output_type": "execute_result"
    }
   ],
   "source": [
    "len(menu_list)"
   ]
  },
  {
   "cell_type": "code",
   "execution_count": 117,
   "metadata": {},
   "outputs": [
    {
     "data": {
      "text/plain": [
       "110"
      ]
     },
     "execution_count": 117,
     "metadata": {},
     "output_type": "execute_result"
    }
   ],
   "source": [
    "len(price_list)"
   ]
  },
  {
   "cell_type": "code",
   "execution_count": 118,
   "metadata": {},
   "outputs": [
    {
     "data": {
      "text/plain": [
       "110"
      ]
     },
     "execution_count": 118,
     "metadata": {},
     "output_type": "execute_result"
    }
   ],
   "source": [
    "len(num_list)"
   ]
  },
  {
   "cell_type": "code",
   "execution_count": 119,
   "metadata": {},
   "outputs": [],
   "source": [
    "info  = {'num' : num_list, 'menu' : menu_list , 'price' : price_list}"
   ]
  },
  {
   "cell_type": "code",
   "execution_count": 120,
   "metadata": {},
   "outputs": [],
   "source": [
    "frame = pd.DataFrame(info)"
   ]
  },
  {
   "cell_type": "code",
   "execution_count": 121,
   "metadata": {},
   "outputs": [],
   "source": [
    "frame.set_index('num',inplace = True)"
   ]
  },
  {
   "cell_type": "code",
   "execution_count": 122,
   "metadata": {
    "collapsed": true
   },
   "outputs": [
    {
     "data": {
      "text/html": [
       "<div>\n",
       "<style scoped>\n",
       "    .dataframe tbody tr th:only-of-type {\n",
       "        vertical-align: middle;\n",
       "    }\n",
       "\n",
       "    .dataframe tbody tr th {\n",
       "        vertical-align: top;\n",
       "    }\n",
       "\n",
       "    .dataframe thead th {\n",
       "        text-align: right;\n",
       "    }\n",
       "</style>\n",
       "<table border=\"1\" class=\"dataframe\">\n",
       "  <thead>\n",
       "    <tr style=\"text-align: right;\">\n",
       "      <th></th>\n",
       "      <th>menu</th>\n",
       "      <th>price</th>\n",
       "    </tr>\n",
       "    <tr>\n",
       "      <th>num</th>\n",
       "      <th></th>\n",
       "      <th></th>\n",
       "    </tr>\n",
       "  </thead>\n",
       "  <tbody>\n",
       "    <tr>\n",
       "      <th>1</th>\n",
       "      <td>매화 (고메이 크림고로케)</td>\n",
       "      <td>10,000원</td>\n",
       "    </tr>\n",
       "    <tr>\n",
       "      <th>2</th>\n",
       "      <td>매화(치킨, 연어구이)</td>\n",
       "      <td>10,000원</td>\n",
       "    </tr>\n",
       "    <tr>\n",
       "      <th>3</th>\n",
       "      <td>매화 (순살 고등어데리야끼)</td>\n",
       "      <td>10,000원</td>\n",
       "    </tr>\n",
       "    <tr>\n",
       "      <th>4</th>\n",
       "      <td>진달래</td>\n",
       "      <td>7,000원</td>\n",
       "    </tr>\n",
       "    <tr>\n",
       "      <th>5</th>\n",
       "      <td>개나리(순살 고등어 간장구이)</td>\n",
       "      <td>8,000원</td>\n",
       "    </tr>\n",
       "    <tr>\n",
       "      <th>...</th>\n",
       "      <td>...</td>\n",
       "      <td>...</td>\n",
       "    </tr>\n",
       "    <tr>\n",
       "      <th>106</th>\n",
       "      <td>한솥 감초볶음고추장소스</td>\n",
       "      <td>500원</td>\n",
       "    </tr>\n",
       "    <tr>\n",
       "      <th>107</th>\n",
       "      <td>반찬 무생채</td>\n",
       "      <td>300원</td>\n",
       "    </tr>\n",
       "    <tr>\n",
       "      <th>108</th>\n",
       "      <td>볶음김치</td>\n",
       "      <td>400원</td>\n",
       "    </tr>\n",
       "    <tr>\n",
       "      <th>109</th>\n",
       "      <td>김치</td>\n",
       "      <td>300원</td>\n",
       "    </tr>\n",
       "    <tr>\n",
       "      <th>110</th>\n",
       "      <td>무말랭이</td>\n",
       "      <td>300원</td>\n",
       "    </tr>\n",
       "  </tbody>\n",
       "</table>\n",
       "<p>110 rows × 2 columns</p>\n",
       "</div>"
      ],
      "text/plain": [
       "                 menu                         price\n",
       "num                                                \n",
       "1      매화 (고메이 크림고로케)   10,000원                    \n",
       "2        매화(치킨, 연어구이)   10,000원                    \n",
       "3     매화 (순살 고등어데리야끼)   10,000원                    \n",
       "4                 진달래    7,000원                    \n",
       "5    개나리(순살 고등어 간장구이)    8,000원                    \n",
       "..                ...                           ...\n",
       "106      한솥 감초볶음고추장소스      500원                    \n",
       "107            반찬 무생채      300원                    \n",
       "108              볶음김치      400원                    \n",
       "109                김치      300원                    \n",
       "110              무말랭이      300원                    \n",
       "\n",
       "[110 rows x 2 columns]"
      ]
     },
     "execution_count": 122,
     "metadata": {},
     "output_type": "execute_result"
    }
   ],
   "source": [
    "frame"
   ]
  },
  {
   "cell_type": "markdown",
   "metadata": {},
   "source": [
    "# 유튜브 영상 제목 가져오기"
   ]
  },
  {
   "cell_type": "code",
   "execution_count": 140,
   "metadata": {},
   "outputs": [],
   "source": [
    "url = \"https://www.youtube.com/results?search_query=%EA%B0%90%EC%8A%A4%ED%8A%B8\""
   ]
  },
  {
   "cell_type": "code",
   "execution_count": 141,
   "metadata": {},
   "outputs": [],
   "source": [
    "driver = wb.Chrome()\n",
    "\n",
    "driver.get(url)"
   ]
  },
  {
   "cell_type": "code",
   "execution_count": 142,
   "metadata": {},
   "outputs": [],
   "source": [
    "soup =  bs(driver.page_source,'lxml')"
   ]
  },
  {
   "cell_type": "code",
   "execution_count": 143,
   "metadata": {},
   "outputs": [],
   "source": [
    "title = soup.select('a#video-title')"
   ]
  },
  {
   "cell_type": "code",
   "execution_count": 144,
   "metadata": {},
   "outputs": [
    {
     "data": {
      "text/plain": [
       "24"
      ]
     },
     "execution_count": 144,
     "metadata": {},
     "output_type": "execute_result"
    }
   ],
   "source": [
    "len(title)"
   ]
  },
  {
   "cell_type": "code",
   "execution_count": 145,
   "metadata": {},
   "outputs": [],
   "source": [
    "body = driver.find_element_by_tag_name('body')"
   ]
  },
  {
   "cell_type": "code",
   "execution_count": 159,
   "metadata": {},
   "outputs": [],
   "source": [
    "body.send_keys(Keys.PAGE_DOWN)"
   ]
  },
  {
   "cell_type": "code",
   "execution_count": null,
   "metadata": {},
   "outputs": [],
   "source": [
    "for i in range(10) :\n",
    "    body.send_keys(Keys.PAGE_DOWN)\n",
    "    time.sleep(1)"
   ]
  }
 ],
 "metadata": {
  "kernelspec": {
   "display_name": "Python 3",
   "language": "python",
   "name": "python3"
  },
  "language_info": {
   "codemirror_mode": {
    "name": "ipython",
    "version": 3
   },
   "file_extension": ".py",
   "mimetype": "text/x-python",
   "name": "python",
   "nbconvert_exporter": "python",
   "pygments_lexer": "ipython3",
   "version": "3.7.6"
  }
 },
 "nbformat": 4,
 "nbformat_minor": 4
}
