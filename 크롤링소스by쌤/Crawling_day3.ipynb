{
 "cells": [
  {
   "cell_type": "markdown",
   "metadata": {},
   "source": [
    "# 영화 리뷰 수집"
   ]
  },
  {
   "cell_type": "code",
   "execution_count": 1,
   "metadata": {},
   "outputs": [],
   "source": [
    "import requests as req\n",
    "from bs4 import BeautifulSoup as bs"
   ]
  },
  {
   "cell_type": "code",
   "execution_count": 51,
   "metadata": {},
   "outputs": [],
   "source": [
    "url = \"https://movie.naver.com/movie/bi/mi/pointWriteFormList.nhn?code=189537&type=after&isActualPointWriteExecute=false&isMileageSubscriptionAlready=false&isMileageSubscriptionReject=false\""
   ]
  },
  {
   "cell_type": "code",
   "execution_count": 52,
   "metadata": {},
   "outputs": [],
   "source": [
    "res = req.get(url)"
   ]
  },
  {
   "cell_type": "code",
   "execution_count": 53,
   "metadata": {},
   "outputs": [
    {
     "data": {
      "text/plain": [
       "'\\r\\n\\r\\n\\r\\n\\r\\n<!DOCTYPE html>\\r\\n<html lang=\"ko\">\\r\\n<head>\\r\\n<meta charset=\"utf-8\">\\r\\n<meta http-equiv=\"X-UA-Compatible\" content=\"IE=edge\">\\r\\n<title>네이버 영화</title>\\r\\n\\n\\n\\n\\t\\n\\t\\n\\t\\n\\t\\n\\t\\t<link rel=\"shortcut icon\" href=\"https://ssl.pstatic.net/static/m/movie/icons/naver_movie_favicon.ico\" type=\"image/x-icon\">\\n\\t\\t\\t\\n\\n\\r\\n\\n<link rel=\"stylesheet\" type=\"text/css\" href=\"/css/common.css?20200515103320\" />\\r\\n\\n<link rel=\"stylesheet\" type=\"text/css\" href=\"/css/movie_tablet.css?20200515103320\" />\\n<link rel=\"stylesheet\" type=\"text/css\" href=\"/css/movie_end.css?20200515103320\" />\\r\\n\\r\\n\\n\\n\\n<script type=\"text/javascript\" src=\"/js/deploy/movie.all.js?20200515103320\"></script>\\n\\n\\n\\r\\n</head>\\r\\n<body>\\r\\n\\t<!-- content -->\\r\\n<input type=\"hidden\" name=\"movieCode\" id=\"movieCode\" value=\"189537\"/>\\r\\n<input type=\"hidden\" name=\"onlyActualPointYn\" id=\"onlyActualPointYn\" value=\"N\"/>\\r\\n<input type=\"hidden\" name=\"includeSpoilerYn\" id=\"includeSpoilerYn\" value=\"N\"/>\\r\\n<input type=\"hidden\" name=\"order\" id=\"order\" value=\"sympathyScore\"/>\\r\\n<input type=\"hidden\" name=\"page\" id=\"page\" value=\"1\"/>\\r\\n<div class=\"ifr_area basic_ifr\">\\r\\n\\t<div class=\"input_netizen \">\\r\\n\\t\\t\\r\\n\\t\\t\\t\\r\\n\\t\\t\\t\\r\\n\\t\\t\\t\\r\\n\\t\\t\\r\\n\\t\\t\\t\\t<!-- [D] 관람객 평점 작성 완료 -->\\r\\n                <div id=\"actualPointWriteExecuteLayer\" class=\"ly_viewer\" style=\"display:none\">\\r\\n                        <h4>관람객 평점 작성 완료 안내</h4>\\r\\n                        <p>관람객 평점이 등록되었습니다.<br><em>네이버페이 포인트 500원</em>이 적립되었습니다.<br><em>7일 이후</em> 확인 가능합니다.</p>\\r\\n                        <p>(평점 삭제시, 적립된 포인트는 회수됩니다.)</p>\\r\\n                        <div class=\"btn\">\\r\\n                                <a href=\"#\" id=\"actualPointWriteExecuteLayerOkButton\" class=\"ok\">확인</a>\\r\\n                                <a href=\"#\" id=\"actualPointWriteExecuteLayerCloseButton\" class=\"close\" title=\"닫기\">관람객 평점 작성 완료 안내 레이어 닫기</a>\\r\\n                        </div>\\r\\n                </div>\\r\\n                <!-- //관람객 평점 작성 완료 -->\\r\\n                \\r\\n                <!-- [D] 관람객 평점 작성 완료2 -->\\r\\n                <div id=\"pointWriteExecuteLayer\" class=\"ly_viewer\" style=\"display:none\">\\r\\n                        <h4>관람객 평점 작성 완료 안내</h4>\\r\\n                        <p class=\"msg1\">관람객 평점이 등록되었습니다.</p>\\r\\n                        <div class=\"btn\">\\r\\n                                <a href=\"#\" id=\"pointWriteExecuteLayerOkButton\" class=\"ok\">확인</a>\\r\\n                                <a href=\"#\" id=\"pointWriteExecuteLayerCloseButton\" class=\"close\" title=\"닫기\">관람객 평점 작성 완료 안내 레이어 닫기</a>\\r\\n                        </div>\\r\\n                </div>\\r\\n                <!-- //관람객 평점 작성 완료2 -->\\r\\n\\t\\t\\t\\t\\r\\n\\t\\t\\t\\t<div class=\"score_total\">\\r\\n\\t\\t\\t\\t\\t<strong class=\"total\">관람객 평점 <em>3,861</em>건<button id=\"open-form-btn\" class=\"btn_review\">내 평점 등록</button></strong>\\r\\n\\t\\t\\t\\t</div>\\r\\n\\t\\t\\t\\t\\r\\n\\t\\t\\t\\t<div id=\"orderCheckbox\" class=\"top_behavior\">\\r\\n\\t\\t\\t\\t\\t<ul class=\"sorting_list\">\\r\\n\\t\\t\\t\\t\\t\\t<li class=\\'on\\'><a href=\"#\" onclick=\"parent.clickcr(this, \\'ara.bysym\\', \\'\\', \\'\\', event); dislplayOrder(\\'sympathyScore\\');\">공감순</a></li>\\r\\n\\t\\t\\t\\t\\t\\t<li><a href=\"#\" onclick=\"parent.clickcr(this, \\'ara.byrct\\', \\'\\', \\'\\', event); dislplayOrder(\\'newest\\');\">최신순</a></li>\\r\\n\\t\\t\\t\\t\\t\\t\\r\\n\\t\\t\\t\\t\\t\\t\\t<li><a href=\"#\" onclick=\"parent.clickcr(this, \\'ara.high\\', \\'\\', \\'\\', event); dislplayOrder(\\'highest\\');\">평점 높은 순</a></li>\\r\\n\\t\\t\\t\\t\\t\\t\\t<li><a href=\"#\" onclick=\"parent.clickcr(this, \\'ara.low\\', \\'\\', \\'\\', event); dislplayOrder(\\'lowest\\');\">평점 낮은 순</a></li>\\r\\n\\t\\t\\t\\t\\t\\t\\r\\n\\t\\t\\t\\t\\t</ul>\\r\\n\\t\\t\\t\\t\\t\\r\\n\\t\\t\\t\\t\\t\\t<ul class=\"quarter_mode\">\\r\\n\\t\\t\\t\\t\\t\\t\\t<li>\\r\\n\\t\\t\\t\\t\\t\\t\\t\\t<input type=\"checkbox\" id=\"spoilerYnCheckBox\" name=\"spilerViewer\" class=\"blind \" title=\"스포일러 보기\" onclick=\"parent.clickcr(this,\\'\\',\\'\\',\\'\\',event); return false;\"  />\\r\\n\\t\\t\\t\\t\\t\\t\\t\\t<label for=\"spoilerYnCheckBox\" id=\"spoilerYnLable\" class=\"label_viewer\">스포일러 보기</label>\\r\\n\\t\\t\\t\\t\\t\\t\\t</li>\\r\\n\\t\\t\\t\\t\\t\\t\\t<li>\\r\\n\\t\\t\\t\\t\\t\\t\\t\\t<input type=\"checkbox\" id=\"actualYnCheckBox\" name=\"viewer\" title=\"관람객 평점만 보기\" class=\"blind \"onclick=\"parent.clickcr(this,\\'ura.mgs\\',\\'\\',\\'\\',event); return false;\"  />\\r\\n\\t\\t\\t\\t\\t\\t\\t\\t<label for=\"actualYnCheckBox\" id=\"actualYnLable\" class=\"label_viewer\">관람객 평점만 보기</label>\\r\\n\\t\\t\\t\\t\\t\\t\\t\\t<a href=\"#\" id=\"actualPointHelpButton\" class=\"help _actualPointHelp\" title=\"도움말\">관람객 평점만 보기 도움말</a>\\r\\n\\t\\t\\t\\t\\t\\t\\t\\t<div id=\"actualPointHelp\" class=\"ly_help _actualPointHelp\" style=\"display:none\">\\r\\n\\t\\t\\t\\t\\t\\t\\t\\t\\t<h5>관람객평점만 보기 안내 레이어</h5>\\r\\n\\t\\t\\t\\t\\t\\t\\t\\t\\t<div class=\"ly_cont _actualPointHelp\">\\r\\n\\t\\t\\t\\t\\t\\t\\t\\t\\t\\t<p>네이버 영화에서 예매하신 고객님들이<br> 영화 관람 후 등록해주신 평점입니다.</p>\\r\\n\\t\\t\\t\\t\\t\\t\\t\\t\\t</div>\\r\\n\\t\\t\\t\\t\\t\\t\\t\\t\\t<button type=\"button\" id=\"actualPointHelpCloseButton\" class=\"btn_close _actualPointHelp\" title=\"닫기\"><span class=\"blind\">관람객 평점만 보기 안내 레이어 닫기</span></button>\\r\\n\\t\\t\\t\\t\\t\\t\\t\\t\\t<span class=\"arr _actualPointHelp\"></span>\\r\\n                                </div>\\r\\n\\t\\t\\t\\t\\t\\t\\t</li>\\r\\n\\t\\t\\t\\t\\t\\t</ul>\\r\\n\\t\\t\\t\\t\\t\\r\\n\\t\\t\\t\\t</div>\\r\\n\\t\\t\\r\\n\\t\\t\\t\\t\\r\\n\\t\\t\\t\\t\\r\\n\\t\\t\\t\\t\\t\\r\\n\\t\\t\\t\\t\\t\\r\\n\\t\\t\\t\\t\\t\\t<div class=\"score_result\">\\r\\n\\t\\t\\t\\t\\t\\t\\t<ul>\\r\\n\\t\\t\\t\\t\\t\\t\\t\\t\\r\\n\\t\\t\\t\\t\\t\\t\\t\\t\\r\\n\\t\\t\\t\\t\\t\\t\\t\\t\\r\\n\\t\\t\\t\\t\\t\\t\\t\\t\\t\\r\\n\\t\\t\\t\\t\\t\\t\\t\\t\\r\\n\\t\\t\\t\\t\\t\\t\\t\\t\\r\\n\\t\\t\\t\\t\\t\\t\\t\\t\\t\\r\\n\\t\\t\\t\\t\\t\\t\\t\\t\\t\\t\\r\\n\\t\\t\\t\\t\\t\\t\\t\\t\\t\\t\\r\\n\\t\\t\\t\\t\\t\\t\\t\\t\\t\\t<li>\\r\\n\\t\\t\\t\\t\\t\\t\\t\\t\\t\\t\\t<div class=\"star_score\">\\r\\n\\t\\t\\t\\t\\t\\t\\t\\t\\t\\t\\t\\t\\r\\n\\t\\t\\t\\t\\t\\t\\t\\t\\t\\t\\t\\t\\t<span class=\"st_off\"><span class=\"st_on\" style=\"width:10.0%\"></span></span><em>1</em>\\r\\n\\t\\t\\t\\t\\t\\t\\t\\t\\t\\t\\t\\t\\r\\n\\t\\t\\t\\t\\t\\t\\t\\t\\t\\t\\t</div>\\r\\n\\t\\t\\t\\t\\t\\t\\t\\t\\t\\t\\t<div class=\"score_reple\">\\r\\n\\t\\t\\t\\t\\t\\t\\t\\t\\t\\t\\t\\t<p>\\r\\n\\t\\t\\t\\t\\t\\t\\t\\t\\t\\t\\t\\t\\t\\r\\n\\t\\t\\t\\t\\t\\t\\t\\t\\t\\t\\t\\t\\t<!-- 스포일러 컨텐츠로 처리되는지 여부 -->\\r\\n\\t\\t\\t\\t\\t\\t\\t\\t\\t\\t\\t\\t\\t\\r\\n\\t\\t\\t\\t\\t\\t\\t\\t\\t\\t\\t\\t\\t\\r\\n\\t\\t\\t\\t\\t\\t\\t\\t\\t\\t\\t\\t\\t\\r\\n\\t\\t\\t\\t\\t\\t\\t\\t\\t\\t\\t\\t\\t<span id=\"_filtered_ment_0\">\\r\\n\\t\\t\\t\\t\\t\\t\\t\\t\\t\\t\\t\\t\\t\\t\\r\\n\\t\\t\\t\\t\\t\\t\\t\\t\\t\\t\\t\\t\\t\\t\\t\\r\\n\\t\\t\\t\\t\\t\\t\\t\\t\\t\\t\\t\\t\\t\\t\\t\\r\\n\\t\\t\\t\\t\\t\\t\\t\\t\\t\\t\\t\\t\\t\\t\\t\\t영화 보신 분들은 다 공감할겁니다. 개연성,현실성 완전 최악이에요.그리고 박신혜에게 좀비 30~40마리는 달려든 것 같은데 아무도 공격을 안해 주인공보정도 정도가 있지 \\r\\n\\t\\t\\t\\t\\t\\t\\t\\t\\t\\t\\t\\t\\t\\t\\t\\r\\n\\t\\t\\t\\t\\t\\t\\t\\t\\t\\t\\t\\t\\t\\t\\r\\n\\t\\t\\t\\t\\t\\t\\t\\t\\t\\t\\t\\t\\t\\t\\r\\n\\t\\t\\t\\t\\t\\t\\t\\t\\t\\t\\t\\t\\t</span>\\r\\n\\t\\t\\t\\t\\t\\t\\t\\t\\t\\t\\t\\t</p>\\r\\n\\t\\t\\t\\t\\t\\t\\t\\t\\t\\t\\t\\t<dl>\\r\\n\\t\\t\\t\\t\\t\\t\\t\\t\\t\\t\\t\\t\\t<dt>\\r\\n\\t\\t\\t\\t\\t\\t\\t\\t\\t\\t\\t\\t\\t\\t<em>\\r\\n\\t\\t\\t\\t\\t\\t\\t\\t\\t\\t\\t\\t\\t\\t\\t<a href=\"#\" onclick=\"javascript:showPointListByNid(16921308, \\'after\\');parent.clickcr(this, \\'ara.uid\\', \\'\\', \\'\\', event); return false;\" target=\"_top\">\\r\\n\\t\\t\\t\\t\\t\\t\\t\\t\\t\\t\\t\\t\\t\\t\\t\\t<span>죠죠리(jojo****)</span>\\r\\n\\t\\t\\t\\t\\t\\t\\t\\t\\t\\t\\t\\t\\t\\t\\t</a>\\r\\n\\t\\t\\t\\t\\t\\t\\t\\t\\t\\t\\t\\t\\t\\t</em>\\r\\n\\t\\t\\t\\t\\t\\t\\t\\t\\t\\t\\t\\t\\t\\t<em>2020.06.24 13:30</em>\\r\\n\\t\\t\\t\\t\\t\\t\\t\\t\\t\\t\\t\\t\\t</dt>\\r\\n\\t\\t\\t\\t\\t\\t\\t\\t\\t\\t\\t\\t\\t<dd>\\r\\n\\t\\t\\t\\t\\t\\t\\t\\t\\t\\t\\t\\t\\t\\t\\r\\n\\t\\t\\t\\t\\t\\t\\t\\t\\t\\t\\t\\t\\t\\t\\t\\r\\n\\t\\t\\t\\t\\t\\t\\t\\t\\t\\t\\t\\t\\t\\t\\t\\r\\n\\t\\t\\t\\t\\t\\t\\t\\t\\t\\t\\t\\t\\t\\t\\t\\t<a href=\"#\" onclick=\"parent.clickcr(this, \\'ara.report\\', \\'\\', \\'\\', event); common.report(\\'false\\',\\'jojo****\\', \\'npj0SnvOu2Zfypi+OTR20gogw71fZaZJGWAk8Faklvs=\\', \\'영화 보신 분들은 다 공감할겁니다. 개연성,현실성 완전 최악이에요.그리고 박신혜에게 좀비 30~40마리는 달려든 것 같은데 아무도 공격을 안해 주인공보정도 정도가 있지 \\', \\'16921308\\', \\'point_after\\', false);return false;\" class=\"go_report2\"><em>신고</em></a>\\r\\n\\t\\t\\t\\t\\t\\t\\t\\t\\t\\t\\t\\t\\t\\t\\t\\r\\n\\t\\t\\t\\t\\t\\t\\t\\t\\t\\t\\t\\t\\t\\t\\r\\n\\t\\t\\t\\t\\t\\t\\t\\t\\t\\t\\t\\t\\t</dd>\\r\\n\\t\\t\\t\\t\\t\\t\\t\\t\\t\\t\\t\\t</dl>\\r\\n\\t\\t\\t\\t\\t\\t\\t\\t\\t\\t\\t</div>\\r\\n\\t\\t\\t\\t\\t\\t\\t\\t\\t\\t\\t<div class=\"btn_area\">\\r\\n\\t\\t\\t\\t\\t\\t\\t\\t\\t\\t\\t\\t<a class=\"_sympathyButton\" href=\"#\" onclick=\"parent.clickcr(this, \\'ara.sym\\', \\'\\', \\'\\', event);\">\\r\\n\\t\\t\\t\\t\\t\\t\\t\\t\\t\\t\\t\\t\\t<span class=\"ico_up\"></span>\\r\\n\\t\\t\\t\\t\\t\\t\\t\\t\\t\\t\\t\\t\\t<span class=\"blind\">공감</span>\\r\\n\\t\\t\\t\\t\\t\\t\\t\\t\\t\\t\\t\\t\\t<strong class=\"sympathy_16921308\">1324</strong>\\r\\n\\t\\t\\t\\t\\t\\t\\t\\t\\t\\t\\t\\t</a>\\r\\n\\t\\t\\t\\t\\t\\t\\t\\t\\t\\t\\t\\t<a class=\"_notSympathyButton\" href=\"#\" onclick=\"parent.clickcr(this, \\'ara.opp\\', \\'\\', \\'\\', event);\">\\r\\n\\t\\t\\t\\t\\t\\t\\t\\t\\t\\t\\t\\t\\t<span class=\"ico_down\"></span>\\r\\n\\t\\t\\t\\t\\t\\t\\t\\t\\t\\t\\t\\t\\t<span class=\"blind\">비공감</span>\\r\\n\\t\\t\\t\\t\\t\\t\\t\\t\\t\\t\\t\\t\\t<strong class=\"notSympathy_16921308\">419</strong>\\r\\n\\t\\t\\t\\t\\t\\t\\t\\t\\t\\t\\t\\t</a>\\r\\n\\t\\t\\t\\t\\t\\t\\t\\t\\t\\t\\t</div>\\r\\n\\t\\t\\t\\t\\t\\t\\t\\t\\t\\t</li>\\r\\n\\t\\t\\t\\t\\t\\t\\t\\t\\t\\r\\n\\t\\t\\t\\t\\t\\t\\t\\t\\t\\t\\r\\n\\t\\t\\t\\t\\t\\t\\t\\t\\t\\t\\r\\n\\t\\t\\t\\t\\t\\t\\t\\t\\t\\t<li>\\r\\n\\t\\t\\t\\t\\t\\t\\t\\t\\t\\t\\t<div class=\"star_score\">\\r\\n\\t\\t\\t\\t\\t\\t\\t\\t\\t\\t\\t\\t\\r\\n\\t\\t\\t\\t\\t\\t\\t\\t\\t\\t\\t\\t\\t<span class=\"st_off\"><span class=\"st_on\" style=\"width:10.0%\"></span></span><em>1</em>\\r\\n\\t\\t\\t\\t\\t\\t\\t\\t\\t\\t\\t\\t\\r\\n\\t\\t\\t\\t\\t\\t\\t\\t\\t\\t\\t</div>\\r\\n\\t\\t\\t\\t\\t\\t\\t\\t\\t\\t\\t<div class=\"score_reple\">\\r\\n\\t\\t\\t\\t\\t\\t\\t\\t\\t\\t\\t\\t<p>\\r\\n\\t\\t\\t\\t\\t\\t\\t\\t\\t\\t\\t\\t\\t\\r\\n\\t\\t\\t\\t\\t\\t\\t\\t\\t\\t\\t\\t\\t<!-- 스포일러 컨텐츠로 처리되는지 여부 -->\\r\\n\\t\\t\\t\\t\\t\\t\\t\\t\\t\\t\\t\\t\\t\\r\\n\\t\\t\\t\\t\\t\\t\\t\\t\\t\\t\\t\\t\\t\\r\\n\\t\\t\\t\\t\\t\\t\\t\\t\\t\\t\\t\\t\\t\\r\\n\\t\\t\\t\\t\\t\\t\\t\\t\\t\\t\\t\\t\\t<span id=\"_filtered_ment_1\">\\r\\n\\t\\t\\t\\t\\t\\t\\t\\t\\t\\t\\t\\t\\t\\t\\r\\n\\t\\t\\t\\t\\t\\t\\t\\t\\t\\t\\t\\t\\t\\t\\t\\r\\n\\t\\t\\t\\t\\t\\t\\t\\t\\t\\t\\t\\t\\t\\t\\t\\r\\n\\t\\t\\t\\t\\t\\t\\t\\t\\t\\t\\t\\t\\t\\t\\t\\t시간가는줄 알고 봤습니다... \\r\\n\\t\\t\\t\\t\\t\\t\\t\\t\\t\\t\\t\\t\\t\\t\\t\\r\\n\\t\\t\\t\\t\\t\\t\\t\\t\\t\\t\\t\\t\\t\\t\\r\\n\\t\\t\\t\\t\\t\\t\\t\\t\\t\\t\\t\\t\\t\\t\\r\\n\\t\\t\\t\\t\\t\\t\\t\\t\\t\\t\\t\\t\\t</span>\\r\\n\\t\\t\\t\\t\\t\\t\\t\\t\\t\\t\\t\\t</p>\\r\\n\\t\\t\\t\\t\\t\\t\\t\\t\\t\\t\\t\\t<dl>\\r\\n\\t\\t\\t\\t\\t\\t\\t\\t\\t\\t\\t\\t\\t<dt>\\r\\n\\t\\t\\t\\t\\t\\t\\t\\t\\t\\t\\t\\t\\t\\t<em>\\r\\n\\t\\t\\t\\t\\t\\t\\t\\t\\t\\t\\t\\t\\t\\t\\t<a href=\"#\" onclick=\"javascript:showPointListByNid(16921353, \\'after\\');parent.clickcr(this, \\'ara.uid\\', \\'\\', \\'\\', event); return false;\" target=\"_top\">\\r\\n\\t\\t\\t\\t\\t\\t\\t\\t\\t\\t\\t\\t\\t\\t\\t\\t<span>감사합니다(wjdg****)</span>\\r\\n\\t\\t\\t\\t\\t\\t\\t\\t\\t\\t\\t\\t\\t\\t\\t</a>\\r\\n\\t\\t\\t\\t\\t\\t\\t\\t\\t\\t\\t\\t\\t\\t</em>\\r\\n\\t\\t\\t\\t\\t\\t\\t\\t\\t\\t\\t\\t\\t\\t<em>2020.06.24 13:41</em>\\r\\n\\t\\t\\t\\t\\t\\t\\t\\t\\t\\t\\t\\t\\t</dt>\\r\\n\\t\\t\\t\\t\\t\\t\\t\\t\\t\\t\\t\\t\\t<dd>\\r\\n\\t\\t\\t\\t\\t\\t\\t\\t\\t\\t\\t\\t\\t\\t\\r\\n\\t\\t\\t\\t\\t\\t\\t\\t\\t\\t\\t\\t\\t\\t\\t\\r\\n\\t\\t\\t\\t\\t\\t\\t\\t\\t\\t\\t\\t\\t\\t\\t\\r\\n\\t\\t\\t\\t\\t\\t\\t\\t\\t\\t\\t\\t\\t\\t\\t\\t<a href=\"#\" onclick=\"parent.clickcr(this, \\'ara.report\\', \\'\\', \\'\\', event); common.report(\\'false\\',\\'wjdg****\\', \\'/na17Do9OZG5w6z/VdrJwQG2ty3X+dXBoAeifZvjZms=\\', \\'시간가는줄 알고 봤습니다... \\', \\'16921353\\', \\'point_after\\', false);return false;\" class=\"go_report2\"><em>신고</em></a>\\r\\n\\t\\t\\t\\t\\t\\t\\t\\t\\t\\t\\t\\t\\t\\t\\t\\r\\n\\t\\t\\t\\t\\t\\t\\t\\t\\t\\t\\t\\t\\t\\t\\r\\n\\t\\t\\t\\t\\t\\t\\t\\t\\t\\t\\t\\t\\t</dd>\\r\\n\\t\\t\\t\\t\\t\\t\\t\\t\\t\\t\\t\\t</dl>\\r\\n\\t\\t\\t\\t\\t\\t\\t\\t\\t\\t\\t</div>\\r\\n\\t\\t\\t\\t\\t\\t\\t\\t\\t\\t\\t<div class=\"btn_area\">\\r\\n\\t\\t\\t\\t\\t\\t\\t\\t\\t\\t\\t\\t<a class=\"_sympathyButton\" href=\"#\" onclick=\"parent.clickcr(this, \\'ara.sym\\', \\'\\', \\'\\', event);\">\\r\\n\\t\\t\\t\\t\\t\\t\\t\\t\\t\\t\\t\\t\\t<span class=\"ico_up\"></span>\\r\\n\\t\\t\\t\\t\\t\\t\\t\\t\\t\\t\\t\\t\\t<span class=\"blind\">공감</span>\\r\\n\\t\\t\\t\\t\\t\\t\\t\\t\\t\\t\\t\\t\\t<strong class=\"sympathy_16921353\">1120</strong>\\r\\n\\t\\t\\t\\t\\t\\t\\t\\t\\t\\t\\t\\t</a>\\r\\n\\t\\t\\t\\t\\t\\t\\t\\t\\t\\t\\t\\t<a class=\"_notSympathyButton\" href=\"#\" onclick=\"parent.clickcr(this, \\'ara.opp\\', \\'\\', \\'\\', event);\">\\r\\n\\t\\t\\t\\t\\t\\t\\t\\t\\t\\t\\t\\t\\t<span class=\"ico_down\"></span>\\r\\n\\t\\t\\t\\t\\t\\t\\t\\t\\t\\t\\t\\t\\t<span class=\"blind\">비공감</span>\\r\\n\\t\\t\\t\\t\\t\\t\\t\\t\\t\\t\\t\\t\\t<strong class=\"notSympathy_16921353\">316</strong>\\r\\n\\t\\t\\t\\t\\t\\t\\t\\t\\t\\t\\t\\t</a>\\r\\n\\t\\t\\t\\t\\t\\t\\t\\t\\t\\t\\t</div>\\r\\n\\t\\t\\t\\t\\t\\t\\t\\t\\t\\t</li>\\r\\n\\t\\t\\t\\t\\t\\t\\t\\t\\t\\r\\n\\t\\t\\t\\t\\t\\t\\t\\t\\t\\t\\r\\n\\t\\t\\t\\t\\t\\t\\t\\t\\t\\t\\r\\n\\t\\t\\t\\t\\t\\t\\t\\t\\t\\t<li>\\r\\n\\t\\t\\t\\t\\t\\t\\t\\t\\t\\t\\t<div class=\"star_score\">\\r\\n\\t\\t\\t\\t\\t\\t\\t\\t\\t\\t\\t\\t\\r\\n\\t\\t\\t\\t\\t\\t\\t\\t\\t\\t\\t\\t\\t<span class=\"st_off\"><span class=\"st_on\" style=\"width:10.0%\"></span></span><em>1</em>\\r\\n\\t\\t\\t\\t\\t\\t\\t\\t\\t\\t\\t\\t\\r\\n\\t\\t\\t\\t\\t\\t\\t\\t\\t\\t\\t</div>\\r\\n\\t\\t\\t\\t\\t\\t\\t\\t\\t\\t\\t<div class=\"score_reple\">\\r\\n\\t\\t\\t\\t\\t\\t\\t\\t\\t\\t\\t\\t<p>\\r\\n\\t\\t\\t\\t\\t\\t\\t\\t\\t\\t\\t\\t\\t<span class=\"ico_viewer\">관람객</span>\\r\\n\\t\\t\\t\\t\\t\\t\\t\\t\\t\\t\\t\\t\\t<!-- 스포일러 컨텐츠로 처리되는지 여부 -->\\r\\n\\t\\t\\t\\t\\t\\t\\t\\t\\t\\t\\t\\t\\t\\r\\n\\t\\t\\t\\t\\t\\t\\t\\t\\t\\t\\t\\t\\t\\r\\n\\t\\t\\t\\t\\t\\t\\t\\t\\t\\t\\t\\t\\t\\r\\n\\t\\t\\t\\t\\t\\t\\t\\t\\t\\t\\t\\t\\t<span id=\"_filtered_ment_2\">\\r\\n\\t\\t\\t\\t\\t\\t\\t\\t\\t\\t\\t\\t\\t\\t\\r\\n\\t\\t\\t\\t\\t\\t\\t\\t\\t\\t\\t\\t\\t\\t\\t\\r\\n\\t\\t\\t\\t\\t\\t\\t\\t\\t\\t\\t\\t\\t\\t\\t\\r\\n\\t\\t\\t\\t\\t\\t\\t\\t\\t\\t\\t\\t\\t\\t\\t\\t진짜 이건 심각한 수준이다 이걸 끝까지 보고 나온 내자신이 기특한건 처음이다. 이 영화로부터 #살아남지못했다 \\r\\n\\t\\t\\t\\t\\t\\t\\t\\t\\t\\t\\t\\t\\t\\t\\t\\r\\n\\t\\t\\t\\t\\t\\t\\t\\t\\t\\t\\t\\t\\t\\t\\r\\n\\t\\t\\t\\t\\t\\t\\t\\t\\t\\t\\t\\t\\t\\t\\r\\n\\t\\t\\t\\t\\t\\t\\t\\t\\t\\t\\t\\t\\t</span>\\r\\n\\t\\t\\t\\t\\t\\t\\t\\t\\t\\t\\t\\t</p>\\r\\n\\t\\t\\t\\t\\t\\t\\t\\t\\t\\t\\t\\t<dl>\\r\\n\\t\\t\\t\\t\\t\\t\\t\\t\\t\\t\\t\\t\\t<dt>\\r\\n\\t\\t\\t\\t\\t\\t\\t\\t\\t\\t\\t\\t\\t\\t<em>\\r\\n\\t\\t\\t\\t\\t\\t\\t\\t\\t\\t\\t\\t\\t\\t\\t<a href=\"#\" onclick=\"javascript:showPointListByNid(16923310, \\'after\\');parent.clickcr(this, \\'ara.uid\\', \\'\\', \\'\\', event); return false;\" target=\"_top\">\\r\\n\\t\\t\\t\\t\\t\\t\\t\\t\\t\\t\\t\\t\\t\\t\\t\\t<span>이새롬(wtm1****)</span>\\r\\n\\t\\t\\t\\t\\t\\t\\t\\t\\t\\t\\t\\t\\t\\t\\t</a>\\r\\n\\t\\t\\t\\t\\t\\t\\t\\t\\t\\t\\t\\t\\t\\t</em>\\r\\n\\t\\t\\t\\t\\t\\t\\t\\t\\t\\t\\t\\t\\t\\t<em>2020.06.24 23:08</em>\\r\\n\\t\\t\\t\\t\\t\\t\\t\\t\\t\\t\\t\\t\\t</dt>\\r\\n\\t\\t\\t\\t\\t\\t\\t\\t\\t\\t\\t\\t\\t<dd>\\r\\n\\t\\t\\t\\t\\t\\t\\t\\t\\t\\t\\t\\t\\t\\t\\r\\n\\t\\t\\t\\t\\t\\t\\t\\t\\t\\t\\t\\t\\t\\t\\t\\r\\n\\t\\t\\t\\t\\t\\t\\t\\t\\t\\t\\t\\t\\t\\t\\t\\r\\n\\t\\t\\t\\t\\t\\t\\t\\t\\t\\t\\t\\t\\t\\t\\t\\t<a href=\"#\" onclick=\"parent.clickcr(this, \\'ara.report\\', \\'\\', \\'\\', event); common.report(\\'false\\',\\'wtm1****\\', \\'mt26GJUH/FFmG5aK0QKcefuIuQTbgI3aFNDfPpgVIpg=\\', \\'진짜 이건 심각한 수준이다 이걸 끝까지 보고 나온 내자신이 기특한건 처음이다. 이 영화로부터 #살아남지못했다 \\', \\'16923310\\', \\'point_after\\', false);return false;\" class=\"go_report2\"><em>신고</em></a>\\r\\n\\t\\t\\t\\t\\t\\t\\t\\t\\t\\t\\t\\t\\t\\t\\t\\r\\n\\t\\t\\t\\t\\t\\t\\t\\t\\t\\t\\t\\t\\t\\t\\r\\n\\t\\t\\t\\t\\t\\t\\t\\t\\t\\t\\t\\t\\t</dd>\\r\\n\\t\\t\\t\\t\\t\\t\\t\\t\\t\\t\\t\\t</dl>\\r\\n\\t\\t\\t\\t\\t\\t\\t\\t\\t\\t\\t</div>\\r\\n\\t\\t\\t\\t\\t\\t\\t\\t\\t\\t\\t<div class=\"btn_area\">\\r\\n\\t\\t\\t\\t\\t\\t\\t\\t\\t\\t\\t\\t<a class=\"_sympathyButton\" href=\"#\" onclick=\"parent.clickcr(this, \\'ara.sym\\', \\'\\', \\'\\', event);\">\\r\\n\\t\\t\\t\\t\\t\\t\\t\\t\\t\\t\\t\\t\\t<span class=\"ico_up\"></span>\\r\\n\\t\\t\\t\\t\\t\\t\\t\\t\\t\\t\\t\\t\\t<span class=\"blind\">공감</span>\\r\\n\\t\\t\\t\\t\\t\\t\\t\\t\\t\\t\\t\\t\\t<strong class=\"sympathy_16923310\">806</strong>\\r\\n\\t\\t\\t\\t\\t\\t\\t\\t\\t\\t\\t\\t</a>\\r\\n\\t\\t\\t\\t\\t\\t\\t\\t\\t\\t\\t\\t<a class=\"_notSympathyButton\" href=\"#\" onclick=\"parent.clickcr(this, \\'ara.opp\\', \\'\\', \\'\\', event);\">\\r\\n\\t\\t\\t\\t\\t\\t\\t\\t\\t\\t\\t\\t\\t<span class=\"ico_down\"></span>\\r\\n\\t\\t\\t\\t\\t\\t\\t\\t\\t\\t\\t\\t\\t<span class=\"blind\">비공감</span>\\r\\n\\t\\t\\t\\t\\t\\t\\t\\t\\t\\t\\t\\t\\t<strong class=\"notSympathy_16923310\">202</strong>\\r\\n\\t\\t\\t\\t\\t\\t\\t\\t\\t\\t\\t\\t</a>\\r\\n\\t\\t\\t\\t\\t\\t\\t\\t\\t\\t\\t</div>\\r\\n\\t\\t\\t\\t\\t\\t\\t\\t\\t\\t</li>\\r\\n\\t\\t\\t\\t\\t\\t\\t\\t\\t\\r\\n\\t\\t\\t\\t\\t\\t\\t\\t\\t\\t\\r\\n\\t\\t\\t\\t\\t\\t\\t\\t\\t\\t\\r\\n\\t\\t\\t\\t\\t\\t\\t\\t\\t\\t<li>\\r\\n\\t\\t\\t\\t\\t\\t\\t\\t\\t\\t\\t<div class=\"star_score\">\\r\\n\\t\\t\\t\\t\\t\\t\\t\\t\\t\\t\\t\\t\\r\\n\\t\\t\\t\\t\\t\\t\\t\\t\\t\\t\\t\\t\\t<span class=\"st_off\"><span class=\"st_on\" style=\"width:60.0%\"></span></span><em>6</em>\\r\\n\\t\\t\\t\\t\\t\\t\\t\\t\\t\\t\\t\\t\\r\\n\\t\\t\\t\\t\\t\\t\\t\\t\\t\\t\\t</div>\\r\\n\\t\\t\\t\\t\\t\\t\\t\\t\\t\\t\\t<div class=\"score_reple\">\\r\\n\\t\\t\\t\\t\\t\\t\\t\\t\\t\\t\\t\\t<p>\\r\\n\\t\\t\\t\\t\\t\\t\\t\\t\\t\\t\\t\\t\\t<span class=\"ico_viewer\">관람객</span>\\r\\n\\t\\t\\t\\t\\t\\t\\t\\t\\t\\t\\t\\t\\t<!-- 스포일러 컨텐츠로 처리되는지 여부 -->\\r\\n\\t\\t\\t\\t\\t\\t\\t\\t\\t\\t\\t\\t\\t\\r\\n\\t\\t\\t\\t\\t\\t\\t\\t\\t\\t\\t\\t\\t\\r\\n\\t\\t\\t\\t\\t\\t\\t\\t\\t\\t\\t\\t\\t\\r\\n\\t\\t\\t\\t\\t\\t\\t\\t\\t\\t\\t\\t\\t<span id=\"_filtered_ment_3\">\\r\\n\\t\\t\\t\\t\\t\\t\\t\\t\\t\\t\\t\\t\\t\\t\\r\\n\\t\\t\\t\\t\\t\\t\\t\\t\\t\\t\\t\\t\\t\\t\\t\\r\\n\\t\\t\\t\\t\\t\\t\\t\\t\\t\\t\\t\\t\\t\\t\\t\\r\\n\\t\\t\\t\\t\\t\\t\\t\\t\\t\\t\\t\\t\\t\\t\\t\\t저만 별로였나요? 집에가서 월드워z다시볼래요 \\r\\n\\t\\t\\t\\t\\t\\t\\t\\t\\t\\t\\t\\t\\t\\t\\t\\r\\n\\t\\t\\t\\t\\t\\t\\t\\t\\t\\t\\t\\t\\t\\t\\r\\n\\t\\t\\t\\t\\t\\t\\t\\t\\t\\t\\t\\t\\t\\t\\r\\n\\t\\t\\t\\t\\t\\t\\t\\t\\t\\t\\t\\t\\t</span>\\r\\n\\t\\t\\t\\t\\t\\t\\t\\t\\t\\t\\t\\t</p>\\r\\n\\t\\t\\t\\t\\t\\t\\t\\t\\t\\t\\t\\t<dl>\\r\\n\\t\\t\\t\\t\\t\\t\\t\\t\\t\\t\\t\\t\\t<dt>\\r\\n\\t\\t\\t\\t\\t\\t\\t\\t\\t\\t\\t\\t\\t\\t<em>\\r\\n\\t\\t\\t\\t\\t\\t\\t\\t\\t\\t\\t\\t\\t\\t\\t<a href=\"#\" onclick=\"javascript:showPointListByNid(16921622, \\'after\\');parent.clickcr(this, \\'ara.uid\\', \\'\\', \\'\\', event); return false;\" target=\"_top\">\\r\\n\\t\\t\\t\\t\\t\\t\\t\\t\\t\\t\\t\\t\\t\\t\\t\\t<span>승연(ryus****)</span>\\r\\n\\t\\t\\t\\t\\t\\t\\t\\t\\t\\t\\t\\t\\t\\t\\t</a>\\r\\n\\t\\t\\t\\t\\t\\t\\t\\t\\t\\t\\t\\t\\t\\t</em>\\r\\n\\t\\t\\t\\t\\t\\t\\t\\t\\t\\t\\t\\t\\t\\t<em>2020.06.24 15:26</em>\\r\\n\\t\\t\\t\\t\\t\\t\\t\\t\\t\\t\\t\\t\\t</dt>\\r\\n\\t\\t\\t\\t\\t\\t\\t\\t\\t\\t\\t\\t\\t<dd>\\r\\n\\t\\t\\t\\t\\t\\t\\t\\t\\t\\t\\t\\t\\t\\t\\r\\n\\t\\t\\t\\t\\t\\t\\t\\t\\t\\t\\t\\t\\t\\t\\t\\r\\n\\t\\t\\t\\t\\t\\t\\t\\t\\t\\t\\t\\t\\t\\t\\t\\r\\n\\t\\t\\t\\t\\t\\t\\t\\t\\t\\t\\t\\t\\t\\t\\t\\t<a href=\"#\" onclick=\"parent.clickcr(this, \\'ara.report\\', \\'\\', \\'\\', event); common.report(\\'false\\',\\'ryus****\\', \\'jQ6r7qfOCUlzVuaZvNBMc0qmZxJTbYCoSCd34PYeymw=\\', \\'저만 별로였나요? 집에가서 월드워z다시볼래요 \\', \\'16921622\\', \\'point_after\\', false);return false;\" class=\"go_report2\"><em>신고</em></a>\\r\\n\\t\\t\\t\\t\\t\\t\\t\\t\\t\\t\\t\\t\\t\\t\\t\\r\\n\\t\\t\\t\\t\\t\\t\\t\\t\\t\\t\\t\\t\\t\\t\\r\\n\\t\\t\\t\\t\\t\\t\\t\\t\\t\\t\\t\\t\\t</dd>\\r\\n\\t\\t\\t\\t\\t\\t\\t\\t\\t\\t\\t\\t</dl>\\r\\n\\t\\t\\t\\t\\t\\t\\t\\t\\t\\t\\t</div>\\r\\n\\t\\t\\t\\t\\t\\t\\t\\t\\t\\t\\t<div class=\"btn_area\">\\r\\n\\t\\t\\t\\t\\t\\t\\t\\t\\t\\t\\t\\t<a class=\"_sympathyButton\" href=\"#\" onclick=\"parent.clickcr(this, \\'ara.sym\\', \\'\\', \\'\\', event);\">\\r\\n\\t\\t\\t\\t\\t\\t\\t\\t\\t\\t\\t\\t\\t<span class=\"ico_up\"></span>\\r\\n\\t\\t\\t\\t\\t\\t\\t\\t\\t\\t\\t\\t\\t<span class=\"blind\">공감</span>\\r\\n\\t\\t\\t\\t\\t\\t\\t\\t\\t\\t\\t\\t\\t<strong class=\"sympathy_16921622\">770</strong>\\r\\n\\t\\t\\t\\t\\t\\t\\t\\t\\t\\t\\t\\t</a>\\r\\n\\t\\t\\t\\t\\t\\t\\t\\t\\t\\t\\t\\t<a class=\"_notSympathyButton\" href=\"#\" onclick=\"parent.clickcr(this, \\'ara.opp\\', \\'\\', \\'\\', event);\">\\r\\n\\t\\t\\t\\t\\t\\t\\t\\t\\t\\t\\t\\t\\t<span class=\"ico_down\"></span>\\r\\n\\t\\t\\t\\t\\t\\t\\t\\t\\t\\t\\t\\t\\t<span class=\"blind\">비공감</span>\\r\\n\\t\\t\\t\\t\\t\\t\\t\\t\\t\\t\\t\\t\\t<strong class=\"notSympathy_16921622\">240</strong>\\r\\n\\t\\t\\t\\t\\t\\t\\t\\t\\t\\t\\t\\t</a>\\r\\n\\t\\t\\t\\t\\t\\t\\t\\t\\t\\t\\t</div>\\r\\n\\t\\t\\t\\t\\t\\t\\t\\t\\t\\t</li>\\r\\n\\t\\t\\t\\t\\t\\t\\t\\t\\t\\r\\n\\t\\t\\t\\t\\t\\t\\t\\t\\t\\t\\r\\n\\t\\t\\t\\t\\t\\t\\t\\t\\t\\t\\r\\n\\t\\t\\t\\t\\t\\t\\t\\t\\t\\t<li>\\r\\n\\t\\t\\t\\t\\t\\t\\t\\t\\t\\t\\t<div class=\"star_score\">\\r\\n\\t\\t\\t\\t\\t\\t\\t\\t\\t\\t\\t\\t\\r\\n\\t\\t\\t\\t\\t\\t\\t\\t\\t\\t\\t\\t\\t<span class=\"st_off\"><span class=\"st_on\" style=\"width:10.0%\"></span></span><em>1</em>\\r\\n\\t\\t\\t\\t\\t\\t\\t\\t\\t\\t\\t\\t\\r\\n\\t\\t\\t\\t\\t\\t\\t\\t\\t\\t\\t</div>\\r\\n\\t\\t\\t\\t\\t\\t\\t\\t\\t\\t\\t<div class=\"score_reple\">\\r\\n\\t\\t\\t\\t\\t\\t\\t\\t\\t\\t\\t\\t<p>\\r\\n\\t\\t\\t\\t\\t\\t\\t\\t\\t\\t\\t\\t\\t\\r\\n\\t\\t\\t\\t\\t\\t\\t\\t\\t\\t\\t\\t\\t<!-- 스포일러 컨텐츠로 처리되는지 여부 -->\\r\\n\\t\\t\\t\\t\\t\\t\\t\\t\\t\\t\\t\\t\\t\\r\\n\\t\\t\\t\\t\\t\\t\\t\\t\\t\\t\\t\\t\\t\\r\\n\\t\\t\\t\\t\\t\\t\\t\\t\\t\\t\\t\\t\\t\\r\\n\\t\\t\\t\\t\\t\\t\\t\\t\\t\\t\\t\\t\\t<span id=\"_filtered_ment_4\">\\r\\n\\t\\t\\t\\t\\t\\t\\t\\t\\t\\t\\t\\t\\t\\t\\r\\n\\t\\t\\t\\t\\t\\t\\t\\t\\t\\t\\t\\t\\t\\t\\t\\r\\n\\t\\t\\t\\t\\t\\t\\t\\t\\t\\t\\t\\t\\t\\t\\t\\t<span id=\"_unfold_ment4\" class=\"_unfold_ment\">\\r\\n\\t\\t\\t\\t\\t\\t\\t\\t\\t\\t\\t\\t\\t\\t\\t\\t\\t<a href=\"javascript:void(0);\" data-src=\"진짜 내가 왠만해서는 평점 안남기는데 평점 알바랑 감독 수준 진짜 최악 유명한 좀비영화에 나오는 건 다때려박고 어느 하나 신선한거 없고 갑자기 코미디 갑자기 스릴러 갑자기 액션 설정상 오류도 너무 많고 좀비 분장 부터 시작해서 스토리 개연성 진짜 말도 안나오는 영화 절대로 보지마세요 \" onclick=\"unfoldPointMent(this);\">\\r\\n\\t\\t\\t\\t\\t\\t\\t\\t\\t\\t\\t\\t\\t\\t\\t\\t\\t\\t진짜 내가 왠만해서는 평점 안남기는데 평점 알바랑 감독 수준 진짜 최악 유명한 좀비영화에 나오는 건 다때려박고 어느 하나 신선한거 없고 갑자기 코미디 갑자기 스릴러 갑자기 액션 설정상 오류도 너무 많고 좀비 분장 부...\\r\\n\\t\\t\\t\\t\\t\\t\\t\\t\\t\\t\\t\\t\\t\\t\\t\\t\\t</a>\\r\\n\\t\\t\\t\\t\\t\\t\\t\\t\\t\\t\\t\\t\\t\\t\\t\\t</span>\\r\\n\\t\\t\\t\\t\\t\\t\\t\\t\\t\\t\\t\\t\\t\\t\\t\\r\\n\\t\\t\\t\\t\\t\\t\\t\\t\\t\\t\\t\\t\\t\\t\\t\\r\\n\\t\\t\\t\\t\\t\\t\\t\\t\\t\\t\\t\\t\\t\\t\\r\\n\\t\\t\\t\\t\\t\\t\\t\\t\\t\\t\\t\\t\\t\\t\\r\\n\\t\\t\\t\\t\\t\\t\\t\\t\\t\\t\\t\\t\\t</span>\\r\\n\\t\\t\\t\\t\\t\\t\\t\\t\\t\\t\\t\\t</p>\\r\\n\\t\\t\\t\\t\\t\\t\\t\\t\\t\\t\\t\\t<dl>\\r\\n\\t\\t\\t\\t\\t\\t\\t\\t\\t\\t\\t\\t\\t<dt>\\r\\n\\t\\t\\t\\t\\t\\t\\t\\t\\t\\t\\t\\t\\t\\t<em>\\r\\n\\t\\t\\t\\t\\t\\t\\t\\t\\t\\t\\t\\t\\t\\t\\t<a href=\"#\" onclick=\"javascript:showPointListByNid(16921317, \\'after\\');parent.clickcr(this, \\'ara.uid\\', \\'\\', \\'\\', event); return false;\" target=\"_top\">\\r\\n\\t\\t\\t\\t\\t\\t\\t\\t\\t\\t\\t\\t\\t\\t\\t\\t<span>하행흥행홍(sg67****)</span>\\r\\n\\t\\t\\t\\t\\t\\t\\t\\t\\t\\t\\t\\t\\t\\t\\t</a>\\r\\n\\t\\t\\t\\t\\t\\t\\t\\t\\t\\t\\t\\t\\t\\t</em>\\r\\n\\t\\t\\t\\t\\t\\t\\t\\t\\t\\t\\t\\t\\t\\t<em>2020.06.24 13:33</em>\\r\\n\\t\\t\\t\\t\\t\\t\\t\\t\\t\\t\\t\\t\\t</dt>\\r\\n\\t\\t\\t\\t\\t\\t\\t\\t\\t\\t\\t\\t\\t<dd>\\r\\n\\t\\t\\t\\t\\t\\t\\t\\t\\t\\t\\t\\t\\t\\t\\r\\n\\t\\t\\t\\t\\t\\t\\t\\t\\t\\t\\t\\t\\t\\t\\t\\r\\n\\t\\t\\t\\t\\t\\t\\t\\t\\t\\t\\t\\t\\t\\t\\t\\r\\n\\t\\t\\t\\t\\t\\t\\t\\t\\t\\t\\t\\t\\t\\t\\t\\t<a href=\"#\" onclick=\"parent.clickcr(this, \\'ara.report\\', \\'\\', \\'\\', event); common.report(\\'false\\',\\'sg67****\\', \\'EV8rgz7LX6Hj4RKUyTCnqrUb2Kd2GdElsW8ZFDjmIpA=\\', \\'진짜 내가 왠만해서는 평점 안남기는데 평점 알바랑 감독 수준 진짜 최악 유명한 좀비영화에 나오는 건 다때려박고 어느 하나 신선한거 없고 갑자기 코미디 갑자기 스릴러 갑자기 액션 설정상 오류도 너무 많고 좀비 분장 부터 시작해서 스토리 개연성 진짜 말도 안나오는 영화 절대로 보지마세요 \\', \\'16921317\\', \\'point_after\\', false);return false;\" class=\"go_report2\"><em>신고</em></a>\\r\\n\\t\\t\\t\\t\\t\\t\\t\\t\\t\\t\\t\\t\\t\\t\\t\\r\\n\\t\\t\\t\\t\\t\\t\\t\\t\\t\\t\\t\\t\\t\\t\\r\\n\\t\\t\\t\\t\\t\\t\\t\\t\\t\\t\\t\\t\\t</dd>\\r\\n\\t\\t\\t\\t\\t\\t\\t\\t\\t\\t\\t\\t</dl>\\r\\n\\t\\t\\t\\t\\t\\t\\t\\t\\t\\t\\t</div>\\r\\n\\t\\t\\t\\t\\t\\t\\t\\t\\t\\t\\t<div class=\"btn_area\">\\r\\n\\t\\t\\t\\t\\t\\t\\t\\t\\t\\t\\t\\t<a class=\"_sympathyButton\" href=\"#\" onclick=\"parent.clickcr(this, \\'ara.sym\\', \\'\\', \\'\\', event);\">\\r\\n\\t\\t\\t\\t\\t\\t\\t\\t\\t\\t\\t\\t\\t<span class=\"ico_up\"></span>\\r\\n\\t\\t\\t\\t\\t\\t\\t\\t\\t\\t\\t\\t\\t<span class=\"blind\">공감</span>\\r\\n\\t\\t\\t\\t\\t\\t\\t\\t\\t\\t\\t\\t\\t<strong class=\"sympathy_16921317\">957</strong>\\r\\n\\t\\t\\t\\t\\t\\t\\t\\t\\t\\t\\t\\t</a>\\r\\n\\t\\t\\t\\t\\t\\t\\t\\t\\t\\t\\t\\t<a class=\"_notSympathyButton\" href=\"#\" onclick=\"parent.clickcr(this, \\'ara.opp\\', \\'\\', \\'\\', event);\">\\r\\n\\t\\t\\t\\t\\t\\t\\t\\t\\t\\t\\t\\t\\t<span class=\"ico_down\"></span>\\r\\n\\t\\t\\t\\t\\t\\t\\t\\t\\t\\t\\t\\t\\t<span class=\"blind\">비공감</span>\\r\\n\\t\\t\\t\\t\\t\\t\\t\\t\\t\\t\\t\\t\\t<strong class=\"notSympathy_16921317\">450</strong>\\r\\n\\t\\t\\t\\t\\t\\t\\t\\t\\t\\t\\t\\t</a>\\r\\n\\t\\t\\t\\t\\t\\t\\t\\t\\t\\t\\t</div>\\r\\n\\t\\t\\t\\t\\t\\t\\t\\t\\t\\t</li>\\r\\n\\t\\t\\t\\t\\t\\t\\t\\t\\t\\r\\n\\t\\t\\t\\t\\t\\t\\t\\t\\t\\t\\r\\n\\t\\t\\t\\t\\t\\t\\t\\t\\t\\t\\r\\n\\t\\t\\t\\t\\t\\t\\t\\t\\t\\t<li>\\r\\n\\t\\t\\t\\t\\t\\t\\t\\t\\t\\t\\t<div class=\"star_score\">\\r\\n\\t\\t\\t\\t\\t\\t\\t\\t\\t\\t\\t\\t\\r\\n\\t\\t\\t\\t\\t\\t\\t\\t\\t\\t\\t\\t\\t<span class=\"st_off\"><span class=\"st_on\" style=\"width:20.0%\"></span></span><em>2</em>\\r\\n\\t\\t\\t\\t\\t\\t\\t\\t\\t\\t\\t\\t\\r\\n\\t\\t\\t\\t\\t\\t\\t\\t\\t\\t\\t</div>\\r\\n\\t\\t\\t\\t\\t\\t\\t\\t\\t\\t\\t<div class=\"score_reple\">\\r\\n\\t\\t\\t\\t\\t\\t\\t\\t\\t\\t\\t\\t<p>\\r\\n\\t\\t\\t\\t\\t\\t\\t\\t\\t\\t\\t\\t\\t<span class=\"ico_viewer\">관람객</span>\\r\\n\\t\\t\\t\\t\\t\\t\\t\\t\\t\\t\\t\\t\\t<!-- 스포일러 컨텐츠로 처리되는지 여부 -->\\r\\n\\t\\t\\t\\t\\t\\t\\t\\t\\t\\t\\t\\t\\t\\r\\n\\t\\t\\t\\t\\t\\t\\t\\t\\t\\t\\t\\t\\t\\r\\n\\t\\t\\t\\t\\t\\t\\t\\t\\t\\t\\t\\t\\t\\r\\n\\t\\t\\t\\t\\t\\t\\t\\t\\t\\t\\t\\t\\t<span id=\"_filtered_ment_5\">\\r\\n\\t\\t\\t\\t\\t\\t\\t\\t\\t\\t\\t\\t\\t\\t\\r\\n\\t\\t\\t\\t\\t\\t\\t\\t\\t\\t\\t\\t\\t\\t\\t\\r\\n\\t\\t\\t\\t\\t\\t\\t\\t\\t\\t\\t\\t\\t\\t\\t\\r\\n\\t\\t\\t\\t\\t\\t\\t\\t\\t\\t\\t\\t\\t\\t\\t\\t평점알바가 존재하는걸 믿게한 영화네요 ^^스토리를 중학생이 썼나 싶을정도로 너무 뻔한영화ㅋㅋ누구든 쓸 수있는 허무맹랑한 스토리ㅋㅋㅋ평점알바분들 영화관계자의 지인분들 ~  양심은 지킵시다ㅋㅋㅋㅋ^^ \\r\\n\\t\\t\\t\\t\\t\\t\\t\\t\\t\\t\\t\\t\\t\\t\\t\\r\\n\\t\\t\\t\\t\\t\\t\\t\\t\\t\\t\\t\\t\\t\\t\\r\\n\\t\\t\\t\\t\\t\\t\\t\\t\\t\\t\\t\\t\\t\\t\\r\\n\\t\\t\\t\\t\\t\\t\\t\\t\\t\\t\\t\\t\\t</span>\\r\\n\\t\\t\\t\\t\\t\\t\\t\\t\\t\\t\\t\\t</p>\\r\\n\\t\\t\\t\\t\\t\\t\\t\\t\\t\\t\\t\\t<dl>\\r\\n\\t\\t\\t\\t\\t\\t\\t\\t\\t\\t\\t\\t\\t<dt>\\r\\n\\t\\t\\t\\t\\t\\t\\t\\t\\t\\t\\t\\t\\t\\t<em>\\r\\n\\t\\t\\t\\t\\t\\t\\t\\t\\t\\t\\t\\t\\t\\t\\t<a href=\"#\" onclick=\"javascript:showPointListByNid(16922270, \\'after\\');parent.clickcr(this, \\'ara.uid\\', \\'\\', \\'\\', event); return false;\" target=\"_top\">\\r\\n\\t\\t\\t\\t\\t\\t\\t\\t\\t\\t\\t\\t\\t\\t\\t\\t<span>dokk2(ange****)</span>\\r\\n\\t\\t\\t\\t\\t\\t\\t\\t\\t\\t\\t\\t\\t\\t\\t</a>\\r\\n\\t\\t\\t\\t\\t\\t\\t\\t\\t\\t\\t\\t\\t\\t</em>\\r\\n\\t\\t\\t\\t\\t\\t\\t\\t\\t\\t\\t\\t\\t\\t<em>2020.06.24 19:08</em>\\r\\n\\t\\t\\t\\t\\t\\t\\t\\t\\t\\t\\t\\t\\t</dt>\\r\\n\\t\\t\\t\\t\\t\\t\\t\\t\\t\\t\\t\\t\\t<dd>\\r\\n\\t\\t\\t\\t\\t\\t\\t\\t\\t\\t\\t\\t\\t\\t\\r\\n\\t\\t\\t\\t\\t\\t\\t\\t\\t\\t\\t\\t\\t\\t\\t\\r\\n\\t\\t\\t\\t\\t\\t\\t\\t\\t\\t\\t\\t\\t\\t\\t\\r\\n\\t\\t\\t\\t\\t\\t\\t\\t\\t\\t\\t\\t\\t\\t\\t\\t<a href=\"#\" onclick=\"parent.clickcr(this, \\'ara.report\\', \\'\\', \\'\\', event); common.report(\\'false\\',\\'ange****\\', \\'B0EAc4O+tORM1aBoO0p/N2DDfun5ih5LGLh7NF6LQX0=\\', \\'평점알바가 존재하는걸 믿게한 영화네요 ^^스토리를 중학생이 썼나 싶을정도로 너무 뻔한영화ㅋㅋ누구든 쓸 수있는 허무맹랑한 스토리ㅋㅋㅋ평점알바분들 영화관계자의 지인분들 ~  양심은 지킵시다ㅋㅋㅋㅋ^^ \\', \\'16922270\\', \\'point_after\\', false);return false;\" class=\"go_report2\"><em>신고</em></a>\\r\\n\\t\\t\\t\\t\\t\\t\\t\\t\\t\\t\\t\\t\\t\\t\\t\\r\\n\\t\\t\\t\\t\\t\\t\\t\\t\\t\\t\\t\\t\\t\\t\\r\\n\\t\\t\\t\\t\\t\\t\\t\\t\\t\\t\\t\\t\\t</dd>\\r\\n\\t\\t\\t\\t\\t\\t\\t\\t\\t\\t\\t\\t</dl>\\r\\n\\t\\t\\t\\t\\t\\t\\t\\t\\t\\t\\t</div>\\r\\n\\t\\t\\t\\t\\t\\t\\t\\t\\t\\t\\t<div class=\"btn_area\">\\r\\n\\t\\t\\t\\t\\t\\t\\t\\t\\t\\t\\t\\t<a class=\"_sympathyButton\" href=\"#\" onclick=\"parent.clickcr(this, \\'ara.sym\\', \\'\\', \\'\\', event);\">\\r\\n\\t\\t\\t\\t\\t\\t\\t\\t\\t\\t\\t\\t\\t<span class=\"ico_up\"></span>\\r\\n\\t\\t\\t\\t\\t\\t\\t\\t\\t\\t\\t\\t\\t<span class=\"blind\">공감</span>\\r\\n\\t\\t\\t\\t\\t\\t\\t\\t\\t\\t\\t\\t\\t<strong class=\"sympathy_16922270\">598</strong>\\r\\n\\t\\t\\t\\t\\t\\t\\t\\t\\t\\t\\t\\t</a>\\r\\n\\t\\t\\t\\t\\t\\t\\t\\t\\t\\t\\t\\t<a class=\"_notSympathyButton\" href=\"#\" onclick=\"parent.clickcr(this, \\'ara.opp\\', \\'\\', \\'\\', event);\">\\r\\n\\t\\t\\t\\t\\t\\t\\t\\t\\t\\t\\t\\t\\t<span class=\"ico_down\"></span>\\r\\n\\t\\t\\t\\t\\t\\t\\t\\t\\t\\t\\t\\t\\t<span class=\"blind\">비공감</span>\\r\\n\\t\\t\\t\\t\\t\\t\\t\\t\\t\\t\\t\\t\\t<strong class=\"notSympathy_16922270\">158</strong>\\r\\n\\t\\t\\t\\t\\t\\t\\t\\t\\t\\t\\t\\t</a>\\r\\n\\t\\t\\t\\t\\t\\t\\t\\t\\t\\t\\t</div>\\r\\n\\t\\t\\t\\t\\t\\t\\t\\t\\t\\t</li>\\r\\n\\t\\t\\t\\t\\t\\t\\t\\t\\t\\r\\n\\t\\t\\t\\t\\t\\t\\t\\t\\t\\t\\r\\n\\t\\t\\t\\t\\t\\t\\t\\t\\t\\t\\r\\n\\t\\t\\t\\t\\t\\t\\t\\t\\t\\t<li>\\r\\n\\t\\t\\t\\t\\t\\t\\t\\t\\t\\t\\t<div class=\"star_score\">\\r\\n\\t\\t\\t\\t\\t\\t\\t\\t\\t\\t\\t\\t\\r\\n\\t\\t\\t\\t\\t\\t\\t\\t\\t\\t\\t\\t\\t<span class=\"st_off\"><span class=\"st_on\" style=\"width:10.0%\"></span></span><em>1</em>\\r\\n\\t\\t\\t\\t\\t\\t\\t\\t\\t\\t\\t\\t\\r\\n\\t\\t\\t\\t\\t\\t\\t\\t\\t\\t\\t</div>\\r\\n\\t\\t\\t\\t\\t\\t\\t\\t\\t\\t\\t<div class=\"score_reple\">\\r\\n\\t\\t\\t\\t\\t\\t\\t\\t\\t\\t\\t\\t<p>\\r\\n\\t\\t\\t\\t\\t\\t\\t\\t\\t\\t\\t\\t\\t\\r\\n\\t\\t\\t\\t\\t\\t\\t\\t\\t\\t\\t\\t\\t<!-- 스포일러 컨텐츠로 처리되는지 여부 -->\\r\\n\\t\\t\\t\\t\\t\\t\\t\\t\\t\\t\\t\\t\\t\\r\\n\\t\\t\\t\\t\\t\\t\\t\\t\\t\\t\\t\\t\\t\\r\\n\\t\\t\\t\\t\\t\\t\\t\\t\\t\\t\\t\\t\\t\\r\\n\\t\\t\\t\\t\\t\\t\\t\\t\\t\\t\\t\\t\\t<span id=\"_filtered_ment_6\">\\r\\n\\t\\t\\t\\t\\t\\t\\t\\t\\t\\t\\t\\t\\t\\t\\r\\n\\t\\t\\t\\t\\t\\t\\t\\t\\t\\t\\t\\t\\t\\t\\t\\r\\n\\t\\t\\t\\t\\t\\t\\t\\t\\t\\t\\t\\t\\t\\t\\t\\r\\n\\t\\t\\t\\t\\t\\t\\t\\t\\t\\t\\t\\t\\t\\t\\t\\t스토리 부족 왜 바이러스에 걸린 것인지 왜 좀비는 뛰고싶을때만 뛰는건지 \\r\\n\\t\\t\\t\\t\\t\\t\\t\\t\\t\\t\\t\\t\\t\\t\\t\\r\\n\\t\\t\\t\\t\\t\\t\\t\\t\\t\\t\\t\\t\\t\\t\\r\\n\\t\\t\\t\\t\\t\\t\\t\\t\\t\\t\\t\\t\\t\\t\\r\\n\\t\\t\\t\\t\\t\\t\\t\\t\\t\\t\\t\\t\\t</span>\\r\\n\\t\\t\\t\\t\\t\\t\\t\\t\\t\\t\\t\\t</p>\\r\\n\\t\\t\\t\\t\\t\\t\\t\\t\\t\\t\\t\\t<dl>\\r\\n\\t\\t\\t\\t\\t\\t\\t\\t\\t\\t\\t\\t\\t<dt>\\r\\n\\t\\t\\t\\t\\t\\t\\t\\t\\t\\t\\t\\t\\t\\t<em>\\r\\n\\t\\t\\t\\t\\t\\t\\t\\t\\t\\t\\t\\t\\t\\t\\t<a href=\"#\" onclick=\"javascript:showPointListByNid(16921558, \\'after\\');parent.clickcr(this, \\'ara.uid\\', \\'\\', \\'\\', event); return false;\" target=\"_top\">\\r\\n\\t\\t\\t\\t\\t\\t\\t\\t\\t\\t\\t\\t\\t\\t\\t\\t<span>ddwr****</span>\\r\\n\\t\\t\\t\\t\\t\\t\\t\\t\\t\\t\\t\\t\\t\\t\\t</a>\\r\\n\\t\\t\\t\\t\\t\\t\\t\\t\\t\\t\\t\\t\\t\\t</em>\\r\\n\\t\\t\\t\\t\\t\\t\\t\\t\\t\\t\\t\\t\\t\\t<em>2020.06.24 14:59</em>\\r\\n\\t\\t\\t\\t\\t\\t\\t\\t\\t\\t\\t\\t\\t</dt>\\r\\n\\t\\t\\t\\t\\t\\t\\t\\t\\t\\t\\t\\t\\t<dd>\\r\\n\\t\\t\\t\\t\\t\\t\\t\\t\\t\\t\\t\\t\\t\\t\\r\\n\\t\\t\\t\\t\\t\\t\\t\\t\\t\\t\\t\\t\\t\\t\\t\\r\\n\\t\\t\\t\\t\\t\\t\\t\\t\\t\\t\\t\\t\\t\\t\\t\\r\\n\\t\\t\\t\\t\\t\\t\\t\\t\\t\\t\\t\\t\\t\\t\\t\\t<a href=\"#\" onclick=\"parent.clickcr(this, \\'ara.report\\', \\'\\', \\'\\', event); common.report(\\'false\\',\\'ddwr****\\', \\'Age72KleSUeFM1g5EOi9CRWhHpa9Wd9jMhLyDYmaPYg=\\', \\'스토리 부족 왜 바이러스에 걸린 것인지 왜 좀비는 뛰고싶을때만 뛰는건지 \\', \\'16921558\\', \\'point_after\\', false);return false;\" class=\"go_report2\"><em>신고</em></a>\\r\\n\\t\\t\\t\\t\\t\\t\\t\\t\\t\\t\\t\\t\\t\\t\\t\\r\\n\\t\\t\\t\\t\\t\\t\\t\\t\\t\\t\\t\\t\\t\\t\\r\\n\\t\\t\\t\\t\\t\\t\\t\\t\\t\\t\\t\\t\\t</dd>\\r\\n\\t\\t\\t\\t\\t\\t\\t\\t\\t\\t\\t\\t</dl>\\r\\n\\t\\t\\t\\t\\t\\t\\t\\t\\t\\t\\t</div>\\r\\n\\t\\t\\t\\t\\t\\t\\t\\t\\t\\t\\t<div class=\"btn_area\">\\r\\n\\t\\t\\t\\t\\t\\t\\t\\t\\t\\t\\t\\t<a class=\"_sympathyButton\" href=\"#\" onclick=\"parent.clickcr(this, \\'ara.sym\\', \\'\\', \\'\\', event);\">\\r\\n\\t\\t\\t\\t\\t\\t\\t\\t\\t\\t\\t\\t\\t<span class=\"ico_up\"></span>\\r\\n\\t\\t\\t\\t\\t\\t\\t\\t\\t\\t\\t\\t\\t<span class=\"blind\">공감</span>\\r\\n\\t\\t\\t\\t\\t\\t\\t\\t\\t\\t\\t\\t\\t<strong class=\"sympathy_16921558\">647</strong>\\r\\n\\t\\t\\t\\t\\t\\t\\t\\t\\t\\t\\t\\t</a>\\r\\n\\t\\t\\t\\t\\t\\t\\t\\t\\t\\t\\t\\t<a class=\"_notSympathyButton\" href=\"#\" onclick=\"parent.clickcr(this, \\'ara.opp\\', \\'\\', \\'\\', event);\">\\r\\n\\t\\t\\t\\t\\t\\t\\t\\t\\t\\t\\t\\t\\t<span class=\"ico_down\"></span>\\r\\n\\t\\t\\t\\t\\t\\t\\t\\t\\t\\t\\t\\t\\t<span class=\"blind\">비공감</span>\\r\\n\\t\\t\\t\\t\\t\\t\\t\\t\\t\\t\\t\\t\\t<strong class=\"notSympathy_16921558\">215</strong>\\r\\n\\t\\t\\t\\t\\t\\t\\t\\t\\t\\t\\t\\t</a>\\r\\n\\t\\t\\t\\t\\t\\t\\t\\t\\t\\t\\t</div>\\r\\n\\t\\t\\t\\t\\t\\t\\t\\t\\t\\t</li>\\r\\n\\t\\t\\t\\t\\t\\t\\t\\t\\t\\r\\n\\t\\t\\t\\t\\t\\t\\t\\t\\t\\t\\r\\n\\t\\t\\t\\t\\t\\t\\t\\t\\t\\t\\r\\n\\t\\t\\t\\t\\t\\t\\t\\t\\t\\t<li>\\r\\n\\t\\t\\t\\t\\t\\t\\t\\t\\t\\t\\t<div class=\"star_score\">\\r\\n\\t\\t\\t\\t\\t\\t\\t\\t\\t\\t\\t\\t\\r\\n\\t\\t\\t\\t\\t\\t\\t\\t\\t\\t\\t\\t\\t<span class=\"st_off\"><span class=\"st_on\" style=\"width:20.0%\"></span></span><em>2</em>\\r\\n\\t\\t\\t\\t\\t\\t\\t\\t\\t\\t\\t\\t\\r\\n\\t\\t\\t\\t\\t\\t\\t\\t\\t\\t\\t</div>\\r\\n\\t\\t\\t\\t\\t\\t\\t\\t\\t\\t\\t<div class=\"score_reple\">\\r\\n\\t\\t\\t\\t\\t\\t\\t\\t\\t\\t\\t\\t<p>\\r\\n\\t\\t\\t\\t\\t\\t\\t\\t\\t\\t\\t\\t\\t<span class=\"ico_viewer\">관람객</span>\\r\\n\\t\\t\\t\\t\\t\\t\\t\\t\\t\\t\\t\\t\\t<!-- 스포일러 컨텐츠로 처리되는지 여부 -->\\r\\n\\t\\t\\t\\t\\t\\t\\t\\t\\t\\t\\t\\t\\t\\r\\n\\t\\t\\t\\t\\t\\t\\t\\t\\t\\t\\t\\t\\t\\r\\n\\t\\t\\t\\t\\t\\t\\t\\t\\t\\t\\t\\t\\t\\r\\n\\t\\t\\t\\t\\t\\t\\t\\t\\t\\t\\t\\t\\t<span id=\"_filtered_ment_7\">\\r\\n\\t\\t\\t\\t\\t\\t\\t\\t\\t\\t\\t\\t\\t\\t\\r\\n\\t\\t\\t\\t\\t\\t\\t\\t\\t\\t\\t\\t\\t\\t\\t\\r\\n\\t\\t\\t\\t\\t\\t\\t\\t\\t\\t\\t\\t\\t\\t\\t\\r\\n\\t\\t\\t\\t\\t\\t\\t\\t\\t\\t\\t\\t\\t\\t\\t\\t개연성 진짜....할 말 없음 \\r\\n\\t\\t\\t\\t\\t\\t\\t\\t\\t\\t\\t\\t\\t\\t\\t\\r\\n\\t\\t\\t\\t\\t\\t\\t\\t\\t\\t\\t\\t\\t\\t\\r\\n\\t\\t\\t\\t\\t\\t\\t\\t\\t\\t\\t\\t\\t\\t\\r\\n\\t\\t\\t\\t\\t\\t\\t\\t\\t\\t\\t\\t\\t</span>\\r\\n\\t\\t\\t\\t\\t\\t\\t\\t\\t\\t\\t\\t</p>\\r\\n\\t\\t\\t\\t\\t\\t\\t\\t\\t\\t\\t\\t<dl>\\r\\n\\t\\t\\t\\t\\t\\t\\t\\t\\t\\t\\t\\t\\t<dt>\\r\\n\\t\\t\\t\\t\\t\\t\\t\\t\\t\\t\\t\\t\\t\\t<em>\\r\\n\\t\\t\\t\\t\\t\\t\\t\\t\\t\\t\\t\\t\\t\\t\\t<a href=\"#\" onclick=\"javascript:showPointListByNid(16922782, \\'after\\');parent.clickcr(this, \\'ara.uid\\', \\'\\', \\'\\', event); return false;\" target=\"_top\">\\r\\n\\t\\t\\t\\t\\t\\t\\t\\t\\t\\t\\t\\t\\t\\t\\t\\t<span>E2(ehsr****)</span>\\r\\n\\t\\t\\t\\t\\t\\t\\t\\t\\t\\t\\t\\t\\t\\t\\t</a>\\r\\n\\t\\t\\t\\t\\t\\t\\t\\t\\t\\t\\t\\t\\t\\t</em>\\r\\n\\t\\t\\t\\t\\t\\t\\t\\t\\t\\t\\t\\t\\t\\t<em>2020.06.24 21:22</em>\\r\\n\\t\\t\\t\\t\\t\\t\\t\\t\\t\\t\\t\\t\\t</dt>\\r\\n\\t\\t\\t\\t\\t\\t\\t\\t\\t\\t\\t\\t\\t<dd>\\r\\n\\t\\t\\t\\t\\t\\t\\t\\t\\t\\t\\t\\t\\t\\t\\r\\n\\t\\t\\t\\t\\t\\t\\t\\t\\t\\t\\t\\t\\t\\t\\t\\r\\n\\t\\t\\t\\t\\t\\t\\t\\t\\t\\t\\t\\t\\t\\t\\t\\r\\n\\t\\t\\t\\t\\t\\t\\t\\t\\t\\t\\t\\t\\t\\t\\t\\t<a href=\"#\" onclick=\"parent.clickcr(this, \\'ara.report\\', \\'\\', \\'\\', event); common.report(\\'false\\',\\'ehsr****\\', \\'7TxAbrldSs9OHcPRef7x/VEDl27debmtaWbo8XJ+vrM=\\', \\'개연성 진짜....할 말 없음 \\', \\'16922782\\', \\'point_after\\', false);return false;\" class=\"go_report2\"><em>신고</em></a>\\r\\n\\t\\t\\t\\t\\t\\t\\t\\t\\t\\t\\t\\t\\t\\t\\t\\r\\n\\t\\t\\t\\t\\t\\t\\t\\t\\t\\t\\t\\t\\t\\t\\r\\n\\t\\t\\t\\t\\t\\t\\t\\t\\t\\t\\t\\t\\t</dd>\\r\\n\\t\\t\\t\\t\\t\\t\\t\\t\\t\\t\\t\\t</dl>\\r\\n\\t\\t\\t\\t\\t\\t\\t\\t\\t\\t\\t</div>\\r\\n\\t\\t\\t\\t\\t\\t\\t\\t\\t\\t\\t<div class=\"btn_area\">\\r\\n\\t\\t\\t\\t\\t\\t\\t\\t\\t\\t\\t\\t<a class=\"_sympathyButton\" href=\"#\" onclick=\"parent.clickcr(this, \\'ara.sym\\', \\'\\', \\'\\', event);\">\\r\\n\\t\\t\\t\\t\\t\\t\\t\\t\\t\\t\\t\\t\\t<span class=\"ico_up\"></span>\\r\\n\\t\\t\\t\\t\\t\\t\\t\\t\\t\\t\\t\\t\\t<span class=\"blind\">공감</span>\\r\\n\\t\\t\\t\\t\\t\\t\\t\\t\\t\\t\\t\\t\\t<strong class=\"sympathy_16922782\">486</strong>\\r\\n\\t\\t\\t\\t\\t\\t\\t\\t\\t\\t\\t\\t</a>\\r\\n\\t\\t\\t\\t\\t\\t\\t\\t\\t\\t\\t\\t<a class=\"_notSympathyButton\" href=\"#\" onclick=\"parent.clickcr(this, \\'ara.opp\\', \\'\\', \\'\\', event);\">\\r\\n\\t\\t\\t\\t\\t\\t\\t\\t\\t\\t\\t\\t\\t<span class=\"ico_down\"></span>\\r\\n\\t\\t\\t\\t\\t\\t\\t\\t\\t\\t\\t\\t\\t<span class=\"blind\">비공감</span>\\r\\n\\t\\t\\t\\t\\t\\t\\t\\t\\t\\t\\t\\t\\t<strong class=\"notSympathy_16922782\">124</strong>\\r\\n\\t\\t\\t\\t\\t\\t\\t\\t\\t\\t\\t\\t</a>\\r\\n\\t\\t\\t\\t\\t\\t\\t\\t\\t\\t\\t</div>\\r\\n\\t\\t\\t\\t\\t\\t\\t\\t\\t\\t</li>\\r\\n\\t\\t\\t\\t\\t\\t\\t\\t\\t\\r\\n\\t\\t\\t\\t\\t\\t\\t\\t\\t\\t\\r\\n\\t\\t\\t\\t\\t\\t\\t\\t\\t\\t\\r\\n\\t\\t\\t\\t\\t\\t\\t\\t\\t\\t<li>\\r\\n\\t\\t\\t\\t\\t\\t\\t\\t\\t\\t\\t<div class=\"star_score\">\\r\\n\\t\\t\\t\\t\\t\\t\\t\\t\\t\\t\\t\\t\\r\\n\\t\\t\\t\\t\\t\\t\\t\\t\\t\\t\\t\\t\\t<span class=\"st_off\"><span class=\"st_on\" style=\"width:10.0%\"></span></span><em>1</em>\\r\\n\\t\\t\\t\\t\\t\\t\\t\\t\\t\\t\\t\\t\\r\\n\\t\\t\\t\\t\\t\\t\\t\\t\\t\\t\\t</div>\\r\\n\\t\\t\\t\\t\\t\\t\\t\\t\\t\\t\\t<div class=\"score_reple\">\\r\\n\\t\\t\\t\\t\\t\\t\\t\\t\\t\\t\\t\\t<p>\\r\\n\\t\\t\\t\\t\\t\\t\\t\\t\\t\\t\\t\\t\\t\\r\\n\\t\\t\\t\\t\\t\\t\\t\\t\\t\\t\\t\\t\\t<!-- 스포일러 컨텐츠로 처리되는지 여부 -->\\r\\n\\t\\t\\t\\t\\t\\t\\t\\t\\t\\t\\t\\t\\t\\r\\n\\t\\t\\t\\t\\t\\t\\t\\t\\t\\t\\t\\t\\t\\r\\n\\t\\t\\t\\t\\t\\t\\t\\t\\t\\t\\t\\t\\t\\r\\n\\t\\t\\t\\t\\t\\t\\t\\t\\t\\t\\t\\t\\t<span id=\"_filtered_ment_8\">\\r\\n\\t\\t\\t\\t\\t\\t\\t\\t\\t\\t\\t\\t\\t\\t\\r\\n\\t\\t\\t\\t\\t\\t\\t\\t\\t\\t\\t\\t\\t\\t\\t\\r\\n\\t\\t\\t\\t\\t\\t\\t\\t\\t\\t\\t\\t\\t\\t\\t\\r\\n\\t\\t\\t\\t\\t\\t\\t\\t\\t\\t\\t\\t\\t\\t\\t\\t댓글 알바 고용할 돈으로 완성도나 높이시길 \\r\\n\\t\\t\\t\\t\\t\\t\\t\\t\\t\\t\\t\\t\\t\\t\\t\\r\\n\\t\\t\\t\\t\\t\\t\\t\\t\\t\\t\\t\\t\\t\\t\\r\\n\\t\\t\\t\\t\\t\\t\\t\\t\\t\\t\\t\\t\\t\\t\\r\\n\\t\\t\\t\\t\\t\\t\\t\\t\\t\\t\\t\\t\\t</span>\\r\\n\\t\\t\\t\\t\\t\\t\\t\\t\\t\\t\\t\\t</p>\\r\\n\\t\\t\\t\\t\\t\\t\\t\\t\\t\\t\\t\\t<dl>\\r\\n\\t\\t\\t\\t\\t\\t\\t\\t\\t\\t\\t\\t\\t<dt>\\r\\n\\t\\t\\t\\t\\t\\t\\t\\t\\t\\t\\t\\t\\t\\t<em>\\r\\n\\t\\t\\t\\t\\t\\t\\t\\t\\t\\t\\t\\t\\t\\t\\t<a href=\"#\" onclick=\"javascript:showPointListByNid(16921567, \\'after\\');parent.clickcr(this, \\'ara.uid\\', \\'\\', \\'\\', event); return false;\" target=\"_top\">\\r\\n\\t\\t\\t\\t\\t\\t\\t\\t\\t\\t\\t\\t\\t\\t\\t\\t<span>xhdtlsqhdks2(dudw****)</span>\\r\\n\\t\\t\\t\\t\\t\\t\\t\\t\\t\\t\\t\\t\\t\\t\\t</a>\\r\\n\\t\\t\\t\\t\\t\\t\\t\\t\\t\\t\\t\\t\\t\\t</em>\\r\\n\\t\\t\\t\\t\\t\\t\\t\\t\\t\\t\\t\\t\\t\\t<em>2020.06.24 15:01</em>\\r\\n\\t\\t\\t\\t\\t\\t\\t\\t\\t\\t\\t\\t\\t</dt>\\r\\n\\t\\t\\t\\t\\t\\t\\t\\t\\t\\t\\t\\t\\t<dd>\\r\\n\\t\\t\\t\\t\\t\\t\\t\\t\\t\\t\\t\\t\\t\\t\\r\\n\\t\\t\\t\\t\\t\\t\\t\\t\\t\\t\\t\\t\\t\\t\\t\\r\\n\\t\\t\\t\\t\\t\\t\\t\\t\\t\\t\\t\\t\\t\\t\\t\\r\\n\\t\\t\\t\\t\\t\\t\\t\\t\\t\\t\\t\\t\\t\\t\\t\\t<a href=\"#\" onclick=\"parent.clickcr(this, \\'ara.report\\', \\'\\', \\'\\', event); common.report(\\'false\\',\\'dudw****\\', \\'qfqZLYIi9PtLBQqVODu4KGmWrWW7RR+QF/Ej2xZtnNg=\\', \\'댓글 알바 고용할 돈으로 완성도나 높이시길 \\', \\'16921567\\', \\'point_after\\', false);return false;\" class=\"go_report2\"><em>신고</em></a>\\r\\n\\t\\t\\t\\t\\t\\t\\t\\t\\t\\t\\t\\t\\t\\t\\t\\r\\n\\t\\t\\t\\t\\t\\t\\t\\t\\t\\t\\t\\t\\t\\t\\r\\n\\t\\t\\t\\t\\t\\t\\t\\t\\t\\t\\t\\t\\t</dd>\\r\\n\\t\\t\\t\\t\\t\\t\\t\\t\\t\\t\\t\\t</dl>\\r\\n\\t\\t\\t\\t\\t\\t\\t\\t\\t\\t\\t</div>\\r\\n\\t\\t\\t\\t\\t\\t\\t\\t\\t\\t\\t<div class=\"btn_area\">\\r\\n\\t\\t\\t\\t\\t\\t\\t\\t\\t\\t\\t\\t<a class=\"_sympathyButton\" href=\"#\" onclick=\"parent.clickcr(this, \\'ara.sym\\', \\'\\', \\'\\', event);\">\\r\\n\\t\\t\\t\\t\\t\\t\\t\\t\\t\\t\\t\\t\\t<span class=\"ico_up\"></span>\\r\\n\\t\\t\\t\\t\\t\\t\\t\\t\\t\\t\\t\\t\\t<span class=\"blind\">공감</span>\\r\\n\\t\\t\\t\\t\\t\\t\\t\\t\\t\\t\\t\\t\\t<strong class=\"sympathy_16921567\">549</strong>\\r\\n\\t\\t\\t\\t\\t\\t\\t\\t\\t\\t\\t\\t</a>\\r\\n\\t\\t\\t\\t\\t\\t\\t\\t\\t\\t\\t\\t<a class=\"_notSympathyButton\" href=\"#\" onclick=\"parent.clickcr(this, \\'ara.opp\\', \\'\\', \\'\\', event);\">\\r\\n\\t\\t\\t\\t\\t\\t\\t\\t\\t\\t\\t\\t\\t<span class=\"ico_down\"></span>\\r\\n\\t\\t\\t\\t\\t\\t\\t\\t\\t\\t\\t\\t\\t<span class=\"blind\">비공감</span>\\r\\n\\t\\t\\t\\t\\t\\t\\t\\t\\t\\t\\t\\t\\t<strong class=\"notSympathy_16921567\">216</strong>\\r\\n\\t\\t\\t\\t\\t\\t\\t\\t\\t\\t\\t\\t</a>\\r\\n\\t\\t\\t\\t\\t\\t\\t\\t\\t\\t\\t</div>\\r\\n\\t\\t\\t\\t\\t\\t\\t\\t\\t\\t</li>\\r\\n\\t\\t\\t\\t\\t\\t\\t\\t\\t\\r\\n\\t\\t\\t\\t\\t\\t\\t\\t\\t\\t\\r\\n\\t\\t\\t\\t\\t\\t\\t\\t\\t\\t\\r\\n\\t\\t\\t\\t\\t\\t\\t\\t\\t\\t<li class=\\'last\\'>\\r\\n\\t\\t\\t\\t\\t\\t\\t\\t\\t\\t\\t<div class=\"star_score\">\\r\\n\\t\\t\\t\\t\\t\\t\\t\\t\\t\\t\\t\\t\\r\\n\\t\\t\\t\\t\\t\\t\\t\\t\\t\\t\\t\\t\\t<span class=\"st_off\"><span class=\"st_on\" style=\"width:10.0%\"></span></span><em>1</em>\\r\\n\\t\\t\\t\\t\\t\\t\\t\\t\\t\\t\\t\\t\\r\\n\\t\\t\\t\\t\\t\\t\\t\\t\\t\\t\\t</div>\\r\\n\\t\\t\\t\\t\\t\\t\\t\\t\\t\\t\\t<div class=\"score_reple\">\\r\\n\\t\\t\\t\\t\\t\\t\\t\\t\\t\\t\\t\\t<p>\\r\\n\\t\\t\\t\\t\\t\\t\\t\\t\\t\\t\\t\\t\\t<span class=\"ico_viewer\">관람객</span>\\r\\n\\t\\t\\t\\t\\t\\t\\t\\t\\t\\t\\t\\t\\t<!-- 스포일러 컨텐츠로 처리되는지 여부 -->\\r\\n\\t\\t\\t\\t\\t\\t\\t\\t\\t\\t\\t\\t\\t\\r\\n\\t\\t\\t\\t\\t\\t\\t\\t\\t\\t\\t\\t\\t\\r\\n\\t\\t\\t\\t\\t\\t\\t\\t\\t\\t\\t\\t\\t\\t\\r\\n\\t\\t\\t\\t\\t\\t\\t\\t\\t\\t\\t\\t\\t\\r\\n\\t\\t\\t\\t\\t\\t\\t\\t\\t\\t\\t\\t\\t\\r\\n\\t\\t\\t\\t\\t\\t\\t\\t\\t\\t\\t\\t\\t\\t<span id=\"_text_spo_9\" class=\"text_spo _text_spo\">스포일러가 포함된 감상평입니다. <a href=\"javascript:void(0);\" role=\"button\" class=\"btn_more\" onclick=\"showMovieReview(\\'9\\');\">감상평 보기</a></span>\\r\\n\\t\\t\\t\\t\\t\\t\\t\\t\\t\\t\\t\\t\\t\\r\\n\\t\\t\\t\\t\\t\\t\\t\\t\\t\\t\\t\\t\\t<span id=\"_filtered_ment_9\" style=\"display:none;\">\\r\\n\\t\\t\\t\\t\\t\\t\\t\\t\\t\\t\\t\\t\\t\\t\\r\\n\\t\\t\\t\\t\\t\\t\\t\\t\\t\\t\\t\\t\\t\\t\\t\\r\\n\\t\\t\\t\\t\\t\\t\\t\\t\\t\\t\\t\\t\\t\\t\\t\\r\\n\\t\\t\\t\\t\\t\\t\\t\\t\\t\\t\\t\\t\\t\\t\\t\\t호호 싼게 비지떡이라는 말이 영화에 사용될줄이야. 오랜만에 영화관에서 보는 영화 싸게 본다고 좋아했더니 내가 뭘 보고 온거람....? 전기는 끊겼지만 sns는 가능한 신세계 잘 보았습니다^^ \\r\\n\\t\\t\\t\\t\\t\\t\\t\\t\\t\\t\\t\\t\\t\\t\\t\\r\\n\\t\\t\\t\\t\\t\\t\\t\\t\\t\\t\\t\\t\\t\\t\\r\\n\\t\\t\\t\\t\\t\\t\\t\\t\\t\\t\\t\\t\\t\\t\\r\\n\\t\\t\\t\\t\\t\\t\\t\\t\\t\\t\\t\\t\\t</span>\\r\\n\\t\\t\\t\\t\\t\\t\\t\\t\\t\\t\\t\\t</p>\\r\\n\\t\\t\\t\\t\\t\\t\\t\\t\\t\\t\\t\\t<dl>\\r\\n\\t\\t\\t\\t\\t\\t\\t\\t\\t\\t\\t\\t\\t<dt>\\r\\n\\t\\t\\t\\t\\t\\t\\t\\t\\t\\t\\t\\t\\t\\t<em>\\r\\n\\t\\t\\t\\t\\t\\t\\t\\t\\t\\t\\t\\t\\t\\t\\t<a href=\"#\" onclick=\"javascript:showPointListByNid(16923450, \\'after\\');parent.clickcr(this, \\'ara.uid\\', \\'\\', \\'\\', event); return false;\" target=\"_top\">\\r\\n\\t\\t\\t\\t\\t\\t\\t\\t\\t\\t\\t\\t\\t\\t\\t\\t<span>ljj4****</span>\\r\\n\\t\\t\\t\\t\\t\\t\\t\\t\\t\\t\\t\\t\\t\\t\\t</a>\\r\\n\\t\\t\\t\\t\\t\\t\\t\\t\\t\\t\\t\\t\\t\\t</em>\\r\\n\\t\\t\\t\\t\\t\\t\\t\\t\\t\\t\\t\\t\\t\\t<em>2020.06.24 23:32</em>\\r\\n\\t\\t\\t\\t\\t\\t\\t\\t\\t\\t\\t\\t\\t</dt>\\r\\n\\t\\t\\t\\t\\t\\t\\t\\t\\t\\t\\t\\t\\t<dd>\\r\\n\\t\\t\\t\\t\\t\\t\\t\\t\\t\\t\\t\\t\\t\\t\\r\\n\\t\\t\\t\\t\\t\\t\\t\\t\\t\\t\\t\\t\\t\\t\\t\\r\\n\\t\\t\\t\\t\\t\\t\\t\\t\\t\\t\\t\\t\\t\\t\\t\\r\\n\\t\\t\\t\\t\\t\\t\\t\\t\\t\\t\\t\\t\\t\\t\\t\\t<a href=\"#\" onclick=\"parent.clickcr(this, \\'ara.report\\', \\'\\', \\'\\', event); common.report(\\'false\\',\\'ljj4****\\', \\'ko3GZk1cn6zjO8DxVwQCZRS2ZUSUbwi1c6ieQkIxgxY=\\', \\'호호 싼게 비지떡이라는 말이 영화에 사용될줄이야. 오랜만에 영화관에서 보는 영화 싸게 본다고 좋아했더니 내가 뭘 보고 온거람....? 전기는 끊겼지만 sns는 가능한 신세계 잘 보았습니다^^ \\', \\'16923450\\', \\'point_after\\', false);return false;\" class=\"go_report2\"><em>신고</em></a>\\r\\n\\t\\t\\t\\t\\t\\t\\t\\t\\t\\t\\t\\t\\t\\t\\t\\r\\n\\t\\t\\t\\t\\t\\t\\t\\t\\t\\t\\t\\t\\t\\t\\r\\n\\t\\t\\t\\t\\t\\t\\t\\t\\t\\t\\t\\t\\t</dd>\\r\\n\\t\\t\\t\\t\\t\\t\\t\\t\\t\\t\\t\\t</dl>\\r\\n\\t\\t\\t\\t\\t\\t\\t\\t\\t\\t\\t</div>\\r\\n\\t\\t\\t\\t\\t\\t\\t\\t\\t\\t\\t<div class=\"btn_area\">\\r\\n\\t\\t\\t\\t\\t\\t\\t\\t\\t\\t\\t\\t<a class=\"_sympathyButton\" href=\"#\" onclick=\"parent.clickcr(this, \\'ara.sym\\', \\'\\', \\'\\', event);\">\\r\\n\\t\\t\\t\\t\\t\\t\\t\\t\\t\\t\\t\\t\\t<span class=\"ico_up\"></span>\\r\\n\\t\\t\\t\\t\\t\\t\\t\\t\\t\\t\\t\\t\\t<span class=\"blind\">공감</span>\\r\\n\\t\\t\\t\\t\\t\\t\\t\\t\\t\\t\\t\\t\\t<strong class=\"sympathy_16923450\">392</strong>\\r\\n\\t\\t\\t\\t\\t\\t\\t\\t\\t\\t\\t\\t</a>\\r\\n\\t\\t\\t\\t\\t\\t\\t\\t\\t\\t\\t\\t<a class=\"_notSympathyButton\" href=\"#\" onclick=\"parent.clickcr(this, \\'ara.opp\\', \\'\\', \\'\\', event);\">\\r\\n\\t\\t\\t\\t\\t\\t\\t\\t\\t\\t\\t\\t\\t<span class=\"ico_down\"></span>\\r\\n\\t\\t\\t\\t\\t\\t\\t\\t\\t\\t\\t\\t\\t<span class=\"blind\">비공감</span>\\r\\n\\t\\t\\t\\t\\t\\t\\t\\t\\t\\t\\t\\t\\t<strong class=\"notSympathy_16923450\">105</strong>\\r\\n\\t\\t\\t\\t\\t\\t\\t\\t\\t\\t\\t\\t</a>\\r\\n\\t\\t\\t\\t\\t\\t\\t\\t\\t\\t\\t</div>\\r\\n\\t\\t\\t\\t\\t\\t\\t\\t\\t\\t</li>\\r\\n\\t\\t\\t\\t\\t\\t\\t\\t\\t\\r\\n\\t\\t\\t\\t\\t\\t\\t\\t\\r\\n\\t\\t\\t\\t\\t\\t\\t\\t\\r\\n\\t\\t\\t\\t\\t\\t\\t</ul>\\r\\n\\t\\t\\t\\t\\t\\t</div>\\r\\n\\t\\t\\t\\t\\t\\t<div class=\"paging\">\\r\\n\\t\\t\\t\\t\\t\\t\\t<div>\\r\\n\\t\\t\\t\\t\\t\\t\\t\\r\\n\\t\\t\\t\\t\\t\\t\\t\\t\\r\\n\\t\\t\\t\\t\\t\\t\\t\\t<a id=\"pagerTagAnchor1\" href=\"/movie/bi/mi/pointWriteFormList.nhn?code=189537&amp;type=after&amp;isActualPointWriteExecute=false&amp;isMileageSubscriptionAlready=false&amp;isMileageSubscriptionReject=false&amp;page=1\" onclick=\"parent.clickcr(this, \\'ara.page\\', \\'\\', \\'\\', event);\"><span class=\"on\">1</span></a>\\n<a id=\"pagerTagAnchor2\" href=\"/movie/bi/mi/pointWriteFormList.nhn?code=189537&amp;type=after&amp;isActualPointWriteExecute=false&amp;isMileageSubscriptionAlready=false&amp;isMileageSubscriptionReject=false&amp;page=2\" onclick=\"parent.clickcr(this, \\'ara.page\\', \\'\\', \\'\\', event);\"><span>2</span></a>\\n<a id=\"pagerTagAnchor3\" href=\"/movie/bi/mi/pointWriteFormList.nhn?code=189537&amp;type=after&amp;isActualPointWriteExecute=false&amp;isMileageSubscriptionAlready=false&amp;isMileageSubscriptionReject=false&amp;page=3\" onclick=\"parent.clickcr(this, \\'ara.page\\', \\'\\', \\'\\', event);\"><span>3</span></a>\\n<a id=\"pagerTagAnchor4\" href=\"/movie/bi/mi/pointWriteFormList.nhn?code=189537&amp;type=after&amp;isActualPointWriteExecute=false&amp;isMileageSubscriptionAlready=false&amp;isMileageSubscriptionReject=false&amp;page=4\" onclick=\"parent.clickcr(this, \\'ara.page\\', \\'\\', \\'\\', event);\"><span>4</span></a>\\n<a id=\"pagerTagAnchor5\" href=\"/movie/bi/mi/pointWriteFormList.nhn?code=189537&amp;type=after&amp;isActualPointWriteExecute=false&amp;isMileageSubscriptionAlready=false&amp;isMileageSubscriptionReject=false&amp;page=5\" onclick=\"parent.clickcr(this, \\'ara.page\\', \\'\\', \\'\\', event);\"><span>5</span></a>\\n<a id=\"pagerTagAnchor6\" href=\"/movie/bi/mi/pointWriteFormList.nhn?code=189537&amp;type=after&amp;isActualPointWriteExecute=false&amp;isMileageSubscriptionAlready=false&amp;isMileageSubscriptionReject=false&amp;page=6\" onclick=\"parent.clickcr(this, \\'ara.page\\', \\'\\', \\'\\', event);\"><span>6</span></a>\\n<a id=\"pagerTagAnchor7\" href=\"/movie/bi/mi/pointWriteFormList.nhn?code=189537&amp;type=after&amp;isActualPointWriteExecute=false&amp;isMileageSubscriptionAlready=false&amp;isMileageSubscriptionReject=false&amp;page=7\" onclick=\"parent.clickcr(this, \\'ara.page\\', \\'\\', \\'\\', event);\"><span>7</span></a>\\n<a id=\"pagerTagAnchor8\" href=\"/movie/bi/mi/pointWriteFormList.nhn?code=189537&amp;type=after&amp;isActualPointWriteExecute=false&amp;isMileageSubscriptionAlready=false&amp;isMileageSubscriptionReject=false&amp;page=8\" onclick=\"parent.clickcr(this, \\'ara.page\\', \\'\\', \\'\\', event);\"><span>8</span></a>\\n<a id=\"pagerTagAnchor9\" href=\"/movie/bi/mi/pointWriteFormList.nhn?code=189537&amp;type=after&amp;isActualPointWriteExecute=false&amp;isMileageSubscriptionAlready=false&amp;isMileageSubscriptionReject=false&amp;page=9\" onclick=\"parent.clickcr(this, \\'ara.page\\', \\'\\', \\'\\', event);\"><span>9</span></a>\\n<a id=\"pagerTagAnchor10\" href=\"/movie/bi/mi/pointWriteFormList.nhn?code=189537&amp;type=after&amp;isActualPointWriteExecute=false&amp;isMileageSubscriptionAlready=false&amp;isMileageSubscriptionReject=false&amp;page=10\" onclick=\"parent.clickcr(this, \\'ara.page\\', \\'\\', \\'\\', event);\"><span>10</span></a>\\n\\r\\n\\t\\t\\t\\t\\t\\t\\t\\t<a id=\"pagerTagAnchor2\" href=\"/movie/bi/mi/pointWriteFormList.nhn?code=189537&amp;type=after&amp;isActualPointWriteExecute=false&amp;isMileageSubscriptionAlready=false&amp;isMileageSubscriptionReject=false&amp;page=2\" title=\"다음\" class=\"pg_next\" onclick=\"parent.clickcr(this, \\'ara.page\\', \\'\\', \\'\\', event);\"><em>다음</em></a>\\n\\r\\n\\t\\t\\t\\t\\t\\t\\t\\t\\t\\t\\t\\t\\t\\r\\n\\t\\t\\t\\t\\t\\t\\t</div>\\r\\n\\t\\t\\t\\t\\t\\t</div>\\r\\n\\t\\t\\t\\t\\t\\r\\n\\t\\t\\t\\t\\r\\n\\t\\t\\t\\r\\n\\t\\t\\r\\n\\t</div>\\r\\n</div>\\r\\n<!-- //content -->\\r\\n<form id=\"reportForm\" name=\"reportForm1\" method=\"POST\" accept-charset=\"euc-kr\"></form>\\r\\n<script type=\"text/javascript\">\\r\\n\\r\\n\\r\\nif (false == false && \"after\" == \"after\" && false) {\\r\\n\\tif (true && false) {\\r\\n\\t\\tjindo.$Element(\"pointWriteExecuteLayer\").show();\\r\\n\\t} else if (false && true) {\\r\\n\\t\\tjindo.$Element(\"actualPointWriteExecuteLayer\").show();\\r\\n\\t}\\r\\n}\\r\\n\\r\\nvar oElActualPointWriteExecuteLayer = jindo.$Element(\"actualPointWriteExecuteLayer\");\\r\\n\\r\\nif (oElActualPointWriteExecuteLayer != null && oElActualPointWriteExecuteLayer != \"undefined\") {\\r\\n\\r\\n\\t\\r\\n\\tjindo.$Element(\"actualPointWriteExecuteLayerOkButton\").attach(\"click\", function(e){\\r\\n\\t\\te.stop(jindo.$Event.CANCEL_DEFAULT);\\r\\n\\t\\tjindo.$Element(\"actualPointWriteExecuteLayer\").hide();\\r\\n\\t\\trefreshPage();\\r\\n\\t});\\r\\n\\t\\r\\n\\t\\r\\n\\t\\r\\n\\tjindo.$Element(\"actualPointWriteExecuteLayerCloseButton\").attach(\"click\", function(e){\\r\\n\\t\\te.stop(jindo.$Event.CANCEL_DEFAULT);\\r\\n\\t\\tjindo.$Element(\"actualPointWriteExecuteLayer\").hide();\\r\\n\\t\\trefreshPage();\\r\\n\\t});\\r\\n\\t\\r\\n}\\r\\n\\r\\nvar oElPointWriteExecuteLayer = jindo.$Element(\"pointWriteExecuteLayer\");\\r\\n\\r\\nif (oElPointWriteExecuteLayer != null && oElPointWriteExecuteLayer != \"undefined\") {\\r\\n\\t\\r\\n\\tjindo.$Element(\"pointWriteExecuteLayerOkButton\").attach(\"click\", function(e){\\r\\n\\t\\te.stop(jindo.$Event.CANCEL_DEFAULT);\\r\\n\\t\\tjindo.$Element(\"pointWriteExecuteLayer\").hide();\\r\\n\\t\\trefreshPage();\\r\\n\\t});\\r\\n\\t\\r\\n\\t\\r\\n\\t\\r\\n\\tjindo.$Element(\"pointWriteExecuteLayerCloseButton\").attach(\"click\", function(e){\\r\\n\\t\\te.stop(jindo.$Event.CANCEL_DEFAULT);\\r\\n\\t\\tjindo.$Element(\"pointWriteExecuteLayer\").hide();\\r\\n\\t\\trefreshPage();\\r\\n\\t});\\r\\n\\t\\r\\n}\\r\\n\\r\\njindo.$Fn(function () {\\r\\n\\r\\n  function checkboxHandlerFactory(isActualYn, isLabel) {\\r\\n    return function() {\\r\\n      var actualYnChecked = jindo.$(\"actualYnCheckBox\").checked;\\r\\n      var spoilerYnChecked = jindo.$(\"spoilerYnCheckBox\").checked;\\r\\n\\r\\n      // convert\\r\\n      actualYnChecked = (isActualYn && isLabel)? !actualYnChecked : actualYnChecked;\\r\\n      spoilerYnChecked = (!isActualYn && isLabel)? !spoilerYnChecked : spoilerYnChecked;\\r\\n\\r\\n      location.href = \"/movie/bi/mi/pointWriteFormList.nhn?code=189537&type=after&onlyActualPointYn=\" + (actualYnChecked? \"Y\" : \"N\")  + \"&onlySpoilerPointYn=\" + (spoilerYnChecked? \"Y\" : \"N\") + \"&order=sympathyScore\";\\r\\n    };\\r\\n  }\\r\\n\\r\\n\\t\\r\\n\\tif (jindo.$(\"actualYnCheckBox\") != null) {\\r\\n\\t\\tjindo.$Fn(checkboxHandlerFactory(true, false), this).attach(jindo.$(\"actualYnCheckBox\"), \\'click\\');\\r\\n\\t}\\r\\n\\r\\n\\tif (jindo.$(\"actualYnLable\") != null) {\\r\\n\\t    jindo.$Fn(checkboxHandlerFactory(true, true), this).attach(jindo.$(\"actualYnLable\"), \\'click\\');\\r\\n\\t}\\r\\n\\r\\n\\t\\r\\n    if (jindo.$(\"spoilerYnCheckBox\") != null) {\\r\\n    jindo.$Fn(checkboxHandlerFactory(false, false), this).attach(jindo.$(\"spoilerYnCheckBox\"), \\'click\\');\\r\\n  }\\r\\n\\r\\n  if (jindo.$(\"spoilerYnLable\") != null) {\\r\\n    jindo.$Fn(checkboxHandlerFactory(false, true), this).attach(jindo.$(\"spoilerYnLable\"), \\'click\\');\\r\\n  }\\r\\n\\t\\r\\n\\t\\r\\n\\tif (jindo.$Element(\"actualPointHelp\") != null && jindo.$Element(\"actualPointHelp\") != \"undefined\") {\\r\\n\\t\\tactualPointHelpLayerToggle = function() {\\r\\n\\t\\t\\tsetTimeout( function() {\\r\\n\\t\\t\\t\\tif (document.activeElement != null) {\\r\\n\\t\\t\\t\\t\\tvar focusedEl = jindo.$Element(document.activeElement);\\r\\n\\t\\t\\t\\t\\tif (focusedEl != null) {\\r\\n\\t\\t\\t\\t\\t\\tif ( !focusedEl.hasClass(\"_actualPointHelp\") ) {\\r\\n\\t\\t\\t\\t\\t\\t\\t jindo.$Element(\"actualPointHelp\").hide();\\r\\n\\t\\t\\t\\t\\t\\t}\\r\\n\\t\\t\\t\\t\\t}\\r\\n\\t\\t\\t\\t}\\r\\n\\t\\t\\t}, 100);\\r\\n\\t\\t};\\r\\n\\r\\n\\t\\tnew jindo.LayerManager(\"actualPointHelp\", {\\r\\n\\t\\t\\tsCheckEvent : \"click\",\\r\\n\\t\\t\\tnHideDelay : 0\\r\\n\\t\\t}).link(jindo.$(\"actualPointHelp\"), jindo.$(\"actualPointHelpButton\"));\\r\\n\\r\\n\\t\\tjindo.$Element(\"actualPointHelpButton\").attach(\"click\", function(e){\\r\\n\\t\\t\\te.stop(jindo.$Event.CANCEL_DEFAULT);\\r\\n\\t\\t\\tjindo.$Element(\"actualPointHelp\").toggle();\\r\\n\\t\\t});\\r\\n\\r\\n\\t\\tjindo.$Element(\"actualPointHelpCloseButton\").attach(\"click\", function(e){\\r\\n\\t\\t\\te.stop(jindo.$Event.CANCEL_DEFAULT);\\r\\n\\t\\t\\tjindo.$Element(\"actualPointHelp\").toggle();\\r\\n\\t\\t});\\r\\n\\r\\n\\t\\t\\r\\n\\t\\tvar waelActualPointHelp = jindo.$ElementList(\\'._actualPointHelp\\');\\r\\n\\r\\n\\t\\tjindo.$A(waelActualPointHelp.$value()).forEach(function(value, index, array) {\\r\\n\\t\\t\\tjindo.$Fn(actualPointHelpLayerToggle, this).attach(value, \"blur\");\\r\\n\\t\\t});\\r\\n\\t}\\r\\n\\r\\n\\tparent.setParamForPointAfterList(\\'N\\', \\'sympathyScore\\', \\'1\\');\\r\\n\\tparent.resizePointAfterListIframe(0);\\r\\n\\r\\n\\t// 최소 높이 270px 지정\\r\\n\\tvar frameHeight = eval(jindo.$Document().scrollSize().height);\\r\\n\\r\\n\\tparent.resizePointAfterListIframe(frameHeight);\\r\\n\\tparent.isPointAfterListLoad = true;\\r\\n\\t\\r\\n\\t\\r\\n\\t\\r\\n\\r\\n  var isCheckPointExist = false;\\r\\n  // TODO: fix below condition\\r\\n  if (false) {\\r\\n    if(jindo.$Element(\"open-form-btn\")) {\\r\\n\\t\\tjindo.$Element(\"open-form-btn\").attach(\"click\", function(e) {\\r\\n\\t\\t  \\t\\r\\n\\t\\t  \\t\\r\\n\\t\\t\\t\\r\\n\\t\\t  if (true && false && isCheckPointExist == false) {\\r\\n\\t\\t\\tparent.point.checkPointAfterExistAndMileageSubscriptionType();\\r\\n\\t\\t  }\\r\\n\\t\\t  isCheckPointExist = true;\\r\\n\\t\\t  parent.openPointWriteForm();\\r\\n\\t\\t});\\r\\n    }\\r\\n  } else {\\r\\n    if (jindo.$Element(\"open-form-btn\")) {\\r\\n\\t\\tjindo.$Element(\"open-form-btn\").attach(\"click\", function (e) {\\r\\n\\t\\t  common.checkLogin(false);\\r\\n\\t\\t});\\r\\n    }\\r\\n  }\\r\\n\\r\\n  var isHide = true;\\r\\n\\r\\n  if(jindo.$Element(\"eval-edit\")) {\\r\\n    jindo.$Element(\"eval-edit\").attach(\"click\", function() {\\r\\n\\t\\t  var edit = jindo.$Element(\"ly-edit\");\\r\\n\\t  \\tisHide ? edit.show() : edit.hide();\\r\\n      \\tisHide = !isHide;\\r\\n    })\\r\\n  }\\r\\n  parent.resizePointAfterListIframeOnLoad();\\r\\n}, this).attach(this, \\'load\\');\\r\\n\\r\\nvar point = {\\r\\n\\t\\tcheckLoginWithMessage : function(login, loginMessage, notLoginMessage) {\\r\\n\\t\\t\\tif(login == false){\\r\\n\\t\\t\\t\\tif(confirm(message)){\\r\\n\\t\\t\\t\\t\\ttop.location.href=\"https://nid.naver.com/nidlogin.login?mode=form&url=\"+encodeURIComponent(top.location.href);\\r\\n\\t\\t\\t\\t}\\r\\n\\t\\t\\t\\treturn false;\\r\\n\\t\\t\\t}\\r\\n\\t\\t\\treturn true;\\r\\n\\t\\t},\\r\\n\\r\\n\\t\\t\\r\\n\\t\\tcheckAlreadyPointAfterExist : function (nid) {\\r\\n\\t\\t\\tvar existPointType = \"pointBefore\";\\r\\n\\t\\t\\t\\r\\n\\t\\t\\tif (false == false) {\\r\\n\\t\\t\\t\\tvar oAjax = new jindo.$Ajax(\"/api/internal/point/pointAfterExistJson.nhn\", {\\r\\n\\t\\t\\t    \\tonload : function (oRes) {\\r\\n\\t\\t\\t    \\t\\tvar resultCode = oRes.json().resultCode;\\r\\n\\t\\t\\t    \\t\\t\\r\\n\\t\\t\\t    \\t\\tif (resultCode == \"error\") {\\t\\t\\t\\t\\t\\t\\t// 서버 오류\\r\\n\\t\\t\\t    \\t\\t\\talert(\"오류가 발생했습니다. 잠시 후 다시 시도해주세요.\");\\r\\n\\t\\t\\t    \\t\\t\\treturn false;\\r\\n\\t\\t\\t    \\t\\t} else {\\r\\n\\t\\t\\t    \\t\\t\\texistPointType = oRes.json().existPointType;\\r\\n\\t\\t\\t    \\t\\t\\tpoint.del(existPointType, nid);\\r\\n\\t\\t\\t    \\t\\t}\\r\\n\\t\\t\\t    \\t},\\r\\n\\t\\t\\t\\t\\ttimeout : 5,\\r\\n\\t\\t\\t    \\tonerror : function (oRes) {\\r\\n\\t\\t\\t    \\t\\talert(\"오류가 발생했습니다. 잠시 후 다시 시도해주세요.\");\\r\\n\\t\\t\\t    \\t\\treturn false;\\r\\n\\t\\t\\t    \\t},\\r\\n\\t\\t\\t    \\tontimeout : function (oRes) {\\r\\n\\t\\t\\t    \\t\\talert(\"처리가 지연되고 있습니다. 다시 시도해주세요.\");\\r\\n\\t\\t\\t    \\t\\treturn false;\\r\\n\\t\\t\\t    \\t}\\r\\n\\t\\t\\t    });\\r\\n\\t\\t\\t    \\r\\n\\t\\t\\t    oAjax.request({\\r\\n\\t\\t\\t    \\t\"movieCode\" : \"189537\",\\r\\n\\t\\t\\t    \\t\"isActualPoint\" : \"false\"\\r\\n\\t\\t\\t    });\\r\\n\\t\\t\\t} else {\\r\\n\\t\\t\\t\\tpoint.del(existPointType, nid);\\r\\n\\t\\t\\t}\\r\\n\\t\\t},\\r\\n\\r\\n\\t\\tdel : function (existPointType, nid) {\\r\\n\\t\\t\\tif (existPointType == \"actualPoint\") {\\r\\n\\t\\t\\t\\tif (confirm(\"관람객 평점 삭제시, 평점 작성으로 적립된 포인트는 회수됩니다. 평점을 삭제할까요?\") == false) {\\r\\n\\t\\t\\t\\t\\treturn false;\\r\\n\\t\\t\\t\\t}\\r\\n\\t\\t\\t} else {\\r\\n\\t\\t\\t\\tif (confirm(\"본인 삭제 시 복구할 수 없습니다.\\\\n평점을 삭제하시겠습니까?\") == false) {\\r\\n\\t\\t\\t\\t\\treturn false;\\r\\n\\t\\t\\t\\t}\\r\\n\\t\\t\\t}\\r\\n\\t\\t\\t\\r\\n\\t\\t\\tvar ajaxDeleteUrl = \"/api/internal/point/pointBeforeDelete.nhn\";\\r\\n\\t\\t\\tif (\"after\" == \"after\") {\\r\\n\\t\\t\\t\\tajaxDeleteUrl = \"/api/internal/point/pointAfterDelete.nhn\";\\r\\n\\t\\t\\t}\\r\\n\\t\\t\\t\\r\\n\\t\\t\\tvar ajax = new jindo.$Ajax(ajaxDeleteUrl, { \\r\\n\\t\\t\\t\\tmethod : \"POST\",\\r\\n\\t\\t\\t\\tasync : false,\\r\\n\\t\\t\\t\\tonload : this.delCallback\\r\\n\\t\\t\\t});\\r\\n\\t\\t\\tajax.header(\"ajax\", \"true\");\\r\\n\\t\\t\\tajax.request({\\r\\n\\t\\t\\t\\t\"nid\":nid\\r\\n\\t\\t\\t});\\r\\n\\t\\t},\\r\\n\\t\\t\\r\\n\\t\\tdelCallback : function(req) {\\r\\n\\t\\t\\tvar returnValue = req.text();\\r\\n\\t\\t\\t\\r\\n\\t\\t\\tif(returnValue != \"success\"){\\r\\n\\t\\t\\t\\talert(returnValue);\\r\\n\\t\\t\\t\\treturn false;\\r\\n\\t\\t\\t}\\r\\n\\t\\t\\t\\r\\n\\t\\t\\ttop.location.href = \\'/movie/bi/mi/point.nhn?code=189537#pointAfterTab\\';\\r\\n\\t\\t\\ttop.location.reload(true);\\r\\n\\t\\t}\\r\\n};\\r\\n\\r\\nfunction dislplayOrder(order) {\\r\\n\\tvar url = \"/movie/bi/mi/pointWriteFormList.nhn?code=189537&type=after\";\\r\\n\\t\\r\\n\\tvar onlyActualPointYnValue = jindo.$(\"onlyActualPointYn\").value;\\r\\n  \\tvar includeSpoilerYnValue = jindo.$(\"includeSpoilerYn\").value;\\r\\n\\r\\n\\tif (onlyActualPointYnValue != \"\") {\\r\\n\\t\\turl = url + \"&onlyActualPointYn=\" + onlyActualPointYnValue;\\r\\n\\t}\\r\\n\\r\\n\\tif (includeSpoilerYnValue != \"\") {\\r\\n      url = url + \"&onlySpoilerPointYn=\" + includeSpoilerYnValue;\\r\\n    }\\r\\n\\t\\r\\n\\turl = url + \"&order=\" + order;\\r\\n\\t\\r\\n\\tlocation.href = document.location.protocol + \"//\" + document.domain + url;\\r\\n}\\r\\n\\r\\nfunction showPointListByNid(nid, target){\\r\\n\\tif (target == \\'after\\') {\\r\\n\\t\\ttop.location.href = top.location.protocol + \"//\" + top.location.hostname + \"/movie/point/af/list.nhn?st=nickname&target=after&sword=\"+nid;\\r\\n\\t} else {\\r\\n\\t\\ttop.location.href = top.location.protocol + \"//\" + top.location.hostname + \"/movie/point/af/list.nhn?st=nickname_before&target=before&sword=\"+nid;\\r\\n\\t}\\r\\n}\\r\\n\\r\\nfunction refreshPage() {\\r\\n\\t \\r\\n\\ttop.location.href = \\'/movie/bi/mi/point.nhn?code=189537#pointAfterTab\\';\\r\\n}\\r\\n\\r\\n// 스포일러 감상평 내용 보기\\r\\nfunction showMovieReview(rvwIdx) {\\r\\n    jindo.$Element(\\'_text_spo_\\' + rvwIdx).css(\\'display\\', \\'none\\');\\r\\n    jindo.$Element(\\'_filtered_ment_\\' + rvwIdx).css(\\'display\\', \\'block\\');\\r\\n    parent.resizePointAfterListIframeOnLoad();\\r\\n}\\r\\n\\r\\n// 감상평 펼쳐보기\\r\\nfunction unfoldPointMent(obj) {\\r\\n    var fullMent = jindo.$Element(obj).attr(\"data-src\");\\r\\n    jindo.$Element(obj).parent().html(fullMent);\\r\\n    parent.resizePointAfterListIframeOnLoad();\\r\\n}\\r\\n\\r\\n\\r\\n</script>\\r\\n\\r\\n\\r\\n<script type=\"text/javascript\">\\r\\n\\tvar sympathy = new Sympathy(\"189537\", \"after\");\\r\\n</script>\\r\\n\\t\\r\\n\\t\\r\\n</body>\\r\\n</html>'"
      ]
     },
     "execution_count": 53,
     "metadata": {},
     "output_type": "execute_result"
    }
   ],
   "source": [
    "res.text"
   ]
  },
  {
   "cell_type": "code",
   "execution_count": 54,
   "metadata": {},
   "outputs": [],
   "source": [
    "movie = bs(res.text,'lxml')"
   ]
  },
  {
   "cell_type": "code",
   "execution_count": 55,
   "metadata": {},
   "outputs": [],
   "source": [
    "review = movie.select('div.score_reple > p')"
   ]
  },
  {
   "cell_type": "code",
   "execution_count": 56,
   "metadata": {
    "collapsed": true
   },
   "outputs": [
    {
     "data": {
      "text/plain": [
       "[<p>\n",
       " <!-- 스포일러 컨텐츠로 처리되는지 여부 -->\n",
       " <span id=\"_filtered_ment_0\">\n",
       " \t\t\t\t\t\t\t\t\t\t\t\t\t\t\n",
       " \t\t\t\t\t\t\t\t\t\t\t\t\t\t\t\n",
       " \t\t\t\t\t\t\t\t\t\t\t\t\t\t\t\n",
       " \t\t\t\t\t\t\t\t\t\t\t\t\t\t\t\t영화 보신 분들은 다 공감할겁니다. 개연성,현실성 완전 최악이에요.그리고 박신혜에게 좀비 30~40마리는 달려든 것 같은데 아무도 공격을 안해 주인공보정도 정도가 있지 \n",
       " \t\t\t\t\t\t\t\t\t\t\t\t\t\t\t\n",
       " \t\t\t\t\t\t\t\t\t\t\t\t\t\t\n",
       " \t\t\t\t\t\t\t\t\t\t\t\t\t\t\n",
       " \t\t\t\t\t\t\t\t\t\t\t\t\t</span>\n",
       " </p>,\n",
       " <p>\n",
       " <!-- 스포일러 컨텐츠로 처리되는지 여부 -->\n",
       " <span id=\"_filtered_ment_1\">\n",
       " \t\t\t\t\t\t\t\t\t\t\t\t\t\t\n",
       " \t\t\t\t\t\t\t\t\t\t\t\t\t\t\t\n",
       " \t\t\t\t\t\t\t\t\t\t\t\t\t\t\t\n",
       " \t\t\t\t\t\t\t\t\t\t\t\t\t\t\t\t시간가는줄 알고 봤습니다... \n",
       " \t\t\t\t\t\t\t\t\t\t\t\t\t\t\t\n",
       " \t\t\t\t\t\t\t\t\t\t\t\t\t\t\n",
       " \t\t\t\t\t\t\t\t\t\t\t\t\t\t\n",
       " \t\t\t\t\t\t\t\t\t\t\t\t\t</span>\n",
       " </p>,\n",
       " <p>\n",
       " <span class=\"ico_viewer\">관람객</span>\n",
       " <!-- 스포일러 컨텐츠로 처리되는지 여부 -->\n",
       " <span id=\"_filtered_ment_2\">\n",
       " \t\t\t\t\t\t\t\t\t\t\t\t\t\t\n",
       " \t\t\t\t\t\t\t\t\t\t\t\t\t\t\t\n",
       " \t\t\t\t\t\t\t\t\t\t\t\t\t\t\t\n",
       " \t\t\t\t\t\t\t\t\t\t\t\t\t\t\t\t진짜 이건 심각한 수준이다 이걸 끝까지 보고 나온 내자신이 기특한건 처음이다. 이 영화로부터 #살아남지못했다 \n",
       " \t\t\t\t\t\t\t\t\t\t\t\t\t\t\t\n",
       " \t\t\t\t\t\t\t\t\t\t\t\t\t\t\n",
       " \t\t\t\t\t\t\t\t\t\t\t\t\t\t\n",
       " \t\t\t\t\t\t\t\t\t\t\t\t\t</span>\n",
       " </p>,\n",
       " <p>\n",
       " <span class=\"ico_viewer\">관람객</span>\n",
       " <!-- 스포일러 컨텐츠로 처리되는지 여부 -->\n",
       " <span id=\"_filtered_ment_3\">\n",
       " \t\t\t\t\t\t\t\t\t\t\t\t\t\t\n",
       " \t\t\t\t\t\t\t\t\t\t\t\t\t\t\t\n",
       " \t\t\t\t\t\t\t\t\t\t\t\t\t\t\t\n",
       " \t\t\t\t\t\t\t\t\t\t\t\t\t\t\t\t저만 별로였나요? 집에가서 월드워z다시볼래요 \n",
       " \t\t\t\t\t\t\t\t\t\t\t\t\t\t\t\n",
       " \t\t\t\t\t\t\t\t\t\t\t\t\t\t\n",
       " \t\t\t\t\t\t\t\t\t\t\t\t\t\t\n",
       " \t\t\t\t\t\t\t\t\t\t\t\t\t</span>\n",
       " </p>,\n",
       " <p>\n",
       " <!-- 스포일러 컨텐츠로 처리되는지 여부 -->\n",
       " <span id=\"_filtered_ment_4\">\n",
       " <span class=\"_unfold_ment\" id=\"_unfold_ment4\">\n",
       " <a data-src=\"진짜 내가 왠만해서는 평점 안남기는데 평점 알바랑 감독 수준 진짜 최악 유명한 좀비영화에 나오는 건 다때려박고 어느 하나 신선한거 없고 갑자기 코미디 갑자기 스릴러 갑자기 액션 설정상 오류도 너무 많고 좀비 분장 부터 시작해서 스토리 개연성 진짜 말도 안나오는 영화 절대로 보지마세요 \" href=\"javascript:void(0);\" onclick=\"unfoldPointMent(this);\">\n",
       " \t\t\t\t\t\t\t\t\t\t\t\t\t\t\t\t\t\t진짜 내가 왠만해서는 평점 안남기는데 평점 알바랑 감독 수준 진짜 최악 유명한 좀비영화에 나오는 건 다때려박고 어느 하나 신선한거 없고 갑자기 코미디 갑자기 스릴러 갑자기 액션 설정상 오류도 너무 많고 좀비 분장 부...\n",
       " \t\t\t\t\t\t\t\t\t\t\t\t\t\t\t\t\t</a>\n",
       " </span>\n",
       " </span>\n",
       " </p>,\n",
       " <p>\n",
       " <span class=\"ico_viewer\">관람객</span>\n",
       " <!-- 스포일러 컨텐츠로 처리되는지 여부 -->\n",
       " <span id=\"_filtered_ment_5\">\n",
       " \t\t\t\t\t\t\t\t\t\t\t\t\t\t\n",
       " \t\t\t\t\t\t\t\t\t\t\t\t\t\t\t\n",
       " \t\t\t\t\t\t\t\t\t\t\t\t\t\t\t\n",
       " \t\t\t\t\t\t\t\t\t\t\t\t\t\t\t\t평점알바가 존재하는걸 믿게한 영화네요 ^^스토리를 중학생이 썼나 싶을정도로 너무 뻔한영화ㅋㅋ누구든 쓸 수있는 허무맹랑한 스토리ㅋㅋㅋ평점알바분들 영화관계자의 지인분들 ~  양심은 지킵시다ㅋㅋㅋㅋ^^ \n",
       " \t\t\t\t\t\t\t\t\t\t\t\t\t\t\t\n",
       " \t\t\t\t\t\t\t\t\t\t\t\t\t\t\n",
       " \t\t\t\t\t\t\t\t\t\t\t\t\t\t\n",
       " \t\t\t\t\t\t\t\t\t\t\t\t\t</span>\n",
       " </p>,\n",
       " <p>\n",
       " <!-- 스포일러 컨텐츠로 처리되는지 여부 -->\n",
       " <span id=\"_filtered_ment_6\">\n",
       " \t\t\t\t\t\t\t\t\t\t\t\t\t\t\n",
       " \t\t\t\t\t\t\t\t\t\t\t\t\t\t\t\n",
       " \t\t\t\t\t\t\t\t\t\t\t\t\t\t\t\n",
       " \t\t\t\t\t\t\t\t\t\t\t\t\t\t\t\t스토리 부족 왜 바이러스에 걸린 것인지 왜 좀비는 뛰고싶을때만 뛰는건지 \n",
       " \t\t\t\t\t\t\t\t\t\t\t\t\t\t\t\n",
       " \t\t\t\t\t\t\t\t\t\t\t\t\t\t\n",
       " \t\t\t\t\t\t\t\t\t\t\t\t\t\t\n",
       " \t\t\t\t\t\t\t\t\t\t\t\t\t</span>\n",
       " </p>,\n",
       " <p>\n",
       " <span class=\"ico_viewer\">관람객</span>\n",
       " <!-- 스포일러 컨텐츠로 처리되는지 여부 -->\n",
       " <span id=\"_filtered_ment_7\">\n",
       " \t\t\t\t\t\t\t\t\t\t\t\t\t\t\n",
       " \t\t\t\t\t\t\t\t\t\t\t\t\t\t\t\n",
       " \t\t\t\t\t\t\t\t\t\t\t\t\t\t\t\n",
       " \t\t\t\t\t\t\t\t\t\t\t\t\t\t\t\t개연성 진짜....할 말 없음 \n",
       " \t\t\t\t\t\t\t\t\t\t\t\t\t\t\t\n",
       " \t\t\t\t\t\t\t\t\t\t\t\t\t\t\n",
       " \t\t\t\t\t\t\t\t\t\t\t\t\t\t\n",
       " \t\t\t\t\t\t\t\t\t\t\t\t\t</span>\n",
       " </p>,\n",
       " <p>\n",
       " <!-- 스포일러 컨텐츠로 처리되는지 여부 -->\n",
       " <span id=\"_filtered_ment_8\">\n",
       " \t\t\t\t\t\t\t\t\t\t\t\t\t\t\n",
       " \t\t\t\t\t\t\t\t\t\t\t\t\t\t\t\n",
       " \t\t\t\t\t\t\t\t\t\t\t\t\t\t\t\n",
       " \t\t\t\t\t\t\t\t\t\t\t\t\t\t\t\t댓글 알바 고용할 돈으로 완성도나 높이시길 \n",
       " \t\t\t\t\t\t\t\t\t\t\t\t\t\t\t\n",
       " \t\t\t\t\t\t\t\t\t\t\t\t\t\t\n",
       " \t\t\t\t\t\t\t\t\t\t\t\t\t\t\n",
       " \t\t\t\t\t\t\t\t\t\t\t\t\t</span>\n",
       " </p>,\n",
       " <p>\n",
       " <span class=\"ico_viewer\">관람객</span>\n",
       " <!-- 스포일러 컨텐츠로 처리되는지 여부 -->\n",
       " <span class=\"text_spo _text_spo\" id=\"_text_spo_9\">스포일러가 포함된 감상평입니다. <a class=\"btn_more\" href=\"javascript:void(0);\" onclick=\"showMovieReview('9');\" role=\"button\">감상평 보기</a></span>\n",
       " <span id=\"_filtered_ment_9\" style=\"display:none;\">\n",
       " \t\t\t\t\t\t\t\t\t\t\t\t\t\t\n",
       " \t\t\t\t\t\t\t\t\t\t\t\t\t\t\t\n",
       " \t\t\t\t\t\t\t\t\t\t\t\t\t\t\t\n",
       " \t\t\t\t\t\t\t\t\t\t\t\t\t\t\t\t호호 싼게 비지떡이라는 말이 영화에 사용될줄이야. 오랜만에 영화관에서 보는 영화 싸게 본다고 좋아했더니 내가 뭘 보고 온거람....? 전기는 끊겼지만 sns는 가능한 신세계 잘 보았습니다^^ \n",
       " \t\t\t\t\t\t\t\t\t\t\t\t\t\t\t\n",
       " \t\t\t\t\t\t\t\t\t\t\t\t\t\t\n",
       " \t\t\t\t\t\t\t\t\t\t\t\t\t\t\n",
       " \t\t\t\t\t\t\t\t\t\t\t\t\t</span>\n",
       " </p>]"
      ]
     },
     "execution_count": 56,
     "metadata": {},
     "output_type": "execute_result"
    }
   ],
   "source": [
    "review"
   ]
  },
  {
   "cell_type": "code",
   "execution_count": 57,
   "metadata": {
    "collapsed": true
   },
   "outputs": [
    {
     "name": "stdout",
     "output_type": "stream",
     "text": [
      "영화 보신 분들은 다 공감할겁니다. 개연성,현실성 완전 최악이에요.그리고 박신혜에게 좀비 30~40마리는 달려든 것 같은데 아무도 공격을 안해 주인공보정도 정도가 있지\n",
      "시간가는줄 알고 봤습니다...\n",
      "관람객\n",
      "\n",
      "\r\n",
      "\t\t\t\t\t\t\t\t\t\t\t\t\t\t\r\n",
      "\t\t\t\t\t\t\t\t\t\t\t\t\t\t\t\r\n",
      "\t\t\t\t\t\t\t\t\t\t\t\t\t\t\t\r\n",
      "\t\t\t\t\t\t\t\t\t\t\t\t\t\t\t\t진짜 이건 심각한 수준이다 이걸 끝까지 보고 나온 내자신이 기특한건 처음이다. 이 영화로부터 #살아남지못했다\n",
      "관람객\n",
      "\n",
      "\r\n",
      "\t\t\t\t\t\t\t\t\t\t\t\t\t\t\r\n",
      "\t\t\t\t\t\t\t\t\t\t\t\t\t\t\t\r\n",
      "\t\t\t\t\t\t\t\t\t\t\t\t\t\t\t\r\n",
      "\t\t\t\t\t\t\t\t\t\t\t\t\t\t\t\t저만 별로였나요? 집에가서 월드워z다시볼래요\n",
      "진짜 내가 왠만해서는 평점 안남기는데 평점 알바랑 감독 수준 진짜 최악 유명한 좀비영화에 나오는 건 다때려박고 어느 하나 신선한거 없고 갑자기 코미디 갑자기 스릴러 갑자기 액션 설정상 오류도 너무 많고 좀비 분장 부...\n",
      "관람객\n",
      "\n",
      "\r\n",
      "\t\t\t\t\t\t\t\t\t\t\t\t\t\t\r\n",
      "\t\t\t\t\t\t\t\t\t\t\t\t\t\t\t\r\n",
      "\t\t\t\t\t\t\t\t\t\t\t\t\t\t\t\r\n",
      "\t\t\t\t\t\t\t\t\t\t\t\t\t\t\t\t평점알바가 존재하는걸 믿게한 영화네요 ^^스토리를 중학생이 썼나 싶을정도로 너무 뻔한영화ㅋㅋ누구든 쓸 수있는 허무맹랑한 스토리ㅋㅋㅋ평점알바분들 영화관계자의 지인분들 ~  양심은 지킵시다ㅋㅋㅋㅋ^^\n",
      "스토리 부족 왜 바이러스에 걸린 것인지 왜 좀비는 뛰고싶을때만 뛰는건지\n",
      "관람객\n",
      "\n",
      "\r\n",
      "\t\t\t\t\t\t\t\t\t\t\t\t\t\t\r\n",
      "\t\t\t\t\t\t\t\t\t\t\t\t\t\t\t\r\n",
      "\t\t\t\t\t\t\t\t\t\t\t\t\t\t\t\r\n",
      "\t\t\t\t\t\t\t\t\t\t\t\t\t\t\t\t개연성 진짜....할 말 없음\n",
      "댓글 알바 고용할 돈으로 완성도나 높이시길\n",
      "관람객\n",
      "\n",
      "스포일러가 포함된 감상평입니다. 감상평 보기\n",
      "\r\n",
      "\t\t\t\t\t\t\t\t\t\t\t\t\t\t\r\n",
      "\t\t\t\t\t\t\t\t\t\t\t\t\t\t\t\r\n",
      "\t\t\t\t\t\t\t\t\t\t\t\t\t\t\t\r\n",
      "\t\t\t\t\t\t\t\t\t\t\t\t\t\t\t\t호호 싼게 비지떡이라는 말이 영화에 사용될줄이야. 오랜만에 영화관에서 보는 영화 싸게 본다고 좋아했더니 내가 뭘 보고 온거람....? 전기는 끊겼지만 sns는 가능한 신세계 잘 보았습니다^^\n"
     ]
    }
   ],
   "source": [
    "for index in review : \n",
    "    print(index.text.strip())"
   ]
  },
  {
   "cell_type": "code",
   "execution_count": 19,
   "metadata": {},
   "outputs": [],
   "source": [
    "# 관람객만 지우기"
   ]
  },
  {
   "cell_type": "code",
   "execution_count": 58,
   "metadata": {},
   "outputs": [],
   "source": [
    "icon = movie.select('span.ico_viewer')"
   ]
  },
  {
   "cell_type": "code",
   "execution_count": 59,
   "metadata": {},
   "outputs": [],
   "source": [
    "for i in icon :\n",
    "    i.extract()"
   ]
  },
  {
   "cell_type": "code",
   "execution_count": 49,
   "metadata": {},
   "outputs": [],
   "source": [
    "review = movie.select('div.score_reple > p')"
   ]
  },
  {
   "cell_type": "code",
   "execution_count": 65,
   "metadata": {},
   "outputs": [
    {
     "name": "stdout",
     "output_type": "stream",
     "text": [
      "영화 보신 분들은 다 공감할겁니다. 개연성,현실성 완전 최악이에요.그리고 박신혜에게 좀비 30~40마리는 달려든 것 같은데 아무도 공격을 안해 주인공보정도 정도가 있지\n",
      "시간가는줄 알고 봤습니다...\n",
      "진짜 이건 심각한 수준이다 이걸 끝까지 보고 나온 내자신이 기특한건 처음이다. 이 영화로부터 #살아남지못했다\n",
      "저만 별로였나요? 집에가서 월드워z다시볼래요\n",
      "진짜 내가 왠만해서는 평점 안남기는데 평점 알바랑 감독 수준 진짜 최악 유명한 좀비영화에 나오는 건 다때려박고 어느 하나 신선한거 없고 갑자기 코미디 갑자기 스릴러 갑자기 액션 설정상 오류도 너무 많고 좀비 분장 부...\n",
      "평점알바가 존재하는걸 믿게한 영화네요 ^^스토리를 중학생이 썼나 싶을정도로 너무 뻔한영화ㅋㅋ누구든 쓸 수있는 허무맹랑한 스토리ㅋㅋㅋ평점알바분들 영화관계자의 지인분들 ~  양심은 지킵시다ㅋㅋㅋㅋ^^\n",
      "스토리 부족 왜 바이러스에 걸린 것인지 왜 좀비는 뛰고싶을때만 뛰는건지\n",
      "개연성 진짜....할 말 없음\n",
      "댓글 알바 고용할 돈으로 완성도나 높이시길\n",
      "호호 싼게 비지떡이라는 말이 영화에 사용될줄이야. 오랜만에 영화관에서 보는 영화 싸게 본다고 좋아했더니 내가 뭘 보고 온거람....? 전기는 끊겼지만 sns는 가능한 신세계 잘 보았습니다^^\n"
     ]
    }
   ],
   "source": [
    "for i in review :\n",
    "    print(i.text.strip())"
   ]
  },
  {
   "cell_type": "code",
   "execution_count": 62,
   "metadata": {},
   "outputs": [],
   "source": [
    "spo = movie.select('span.text_spo._text_spo')"
   ]
  },
  {
   "cell_type": "code",
   "execution_count": 63,
   "metadata": {},
   "outputs": [],
   "source": [
    "for i in spo :\n",
    "    i.extract()"
   ]
  },
  {
   "cell_type": "markdown",
   "metadata": {},
   "source": [
    "# 1페이지부터 10페이지까지 리뷰 수집"
   ]
  },
  {
   "cell_type": "code",
   "execution_count": 70,
   "metadata": {
    "collapsed": true
   },
   "outputs": [
    {
     "name": "stdout",
     "output_type": "stream",
     "text": [
      "영화 보신 분들은 다 공감할겁니다. 개연성,현실성 완전 최악이에요.그리고 박신혜에게 좀비 30~40마리는 달려든 것 같은데 아무도 공격을 안해 주인공보정도 정도가 있지\n",
      "시간가는줄 알고 봤습니다...\n",
      "진짜 이건 심각한 수준이다 이걸 끝까지 보고 나온 내자신이 기특한건 처음이다. 이 영화로부터 #살아남지못했다\n",
      "저만 별로였나요? 집에가서 월드워z다시볼래요\n",
      "진짜 내가 왠만해서는 평점 안남기는데 평점 알바랑 감독 수준 진짜 최악 유명한 좀비영화에 나오는 건 다때려박고 어느 하나 신선한거 없고 갑자기 코미디 갑자기 스릴러 갑자기 액션 설정상 오류도 너무 많고 좀비 분장 부...\n",
      "평점알바가 존재하는걸 믿게한 영화네요 ^^스토리를 중학생이 썼나 싶을정도로 너무 뻔한영화ㅋㅋ누구든 쓸 수있는 허무맹랑한 스토리ㅋㅋㅋ평점알바분들 영화관계자의 지인분들 ~  양심은 지킵시다ㅋㅋㅋㅋ^^\n",
      "스토리 부족 왜 바이러스에 걸린 것인지 왜 좀비는 뛰고싶을때만 뛰는건지\n",
      "개연성 진짜....할 말 없음\n",
      "댓글 알바 고용할 돈으로 완성도나 높이시길\n",
      "호호 싼게 비지떡이라는 말이 영화에 사용될줄이야. 오랜만에 영화관에서 보는 영화 싸게 본다고 좋아했더니 내가 뭘 보고 온거람....? 전기는 끊겼지만 sns는 가능한 신세계 잘 보았습니다^^\n",
      "18 기대졸라하구봤는데 진짜벙찌네; 깡통도 많이 남았는데 박신혜 구사일생으로 탈출해서 갑자기 총 왜 유아인 주고 쏘라고함?; 개어이없음; 걍 가만히 앉아서 방에서 안전히굶어죽으면 재미없응께 주인공들은 조나 어이없게 ...\n",
      "좀비물의 모든 장르적 강점을 무시하고 유린한 채 스스로 자멸의 길로..  쏟아지는 레퍼런스들을 곁눈질하는 안목조차 없으니 참으로 비참하다.. 헛웃음이 피식피식... 이 사람아 좀비물을 기대하는 관객의 안목이 얼마나 ...\n",
      "유아인 연기 잘 함 박신혜 연기 엄청 어색함 좀비들 소리듣고 몇 층 몇 호에서 소리나는거 알고 쫓아간것도 어이 없고 마지막 헬기가 갑툭튀 했을때 헬기가 그정도 거리에서 나오면 소리가 안들렸을리가 없는데 급헬기소리에 ...\n",
      "배우들의 연기가 아니였으면 정말 그냥 30분만에 나와서 평점 1점 던지고 살아있는 낙지보면서 인스타에 #살아있다 올리는게 더욱 즐거울 것 같았던 영화차라리 좀 더 다크하고 현실성있게 만들었으면 평타는 쳤을거 같아서 ...\n",
      "헬기가 나를 영화에서 살려줌\n",
      "알바들 장난없네~ㅋㅋㅋㅋ\n",
      "영화보다 중간에 나온적은 처음~ 저런좋은배우를 가지고 이따구영화를 만들다니ㅜㅜ\n",
      "기존 좀비물은 워낙에 많아서 아파트라는 한정적인 소재를 가지고 만든 좀비물이라 기대가 컸습니다. 분명 다른 좀비물과 다르게 소소한 아이디어와 클리셰를 비트는것들을 기대했는데 스토리가 너무 뻔해서 보는 내내 긴장감이 ...\n",
      "진짜 노잼... 연기력만 좋아서 3점 드릴게요\n",
      "와...유아인의 연기력이 아까운 영화...시간이 많으신 분들 보세요...봤던 좀비 또 나오고 계속 나오고 죽여도 나오고 그 좀비랑 친구할뻔할말이 많지만 그만할께요..\n",
      "요즘같은 양질의 영상들이 유튜브에 썩어나는 세상에 이런 영화가 영화관에 나오네요 최악입니다 진짜ㅋㅋㅋㅋ 시간과 돈이 썩어나고 넘치는 사람만 보세요. 영화를 보는것과 동시에 충격 혼란 당황 슬픔 분노를 동시에 느낄 수...\n",
      "그냥 밀면 알아서 처넘어지는 좀비떼들. 보름을 제대로 못먹어도 살도 안빠지고 떼깔 좋은 두 주연들. 좀비물이 긴장감도 없고 공포도 없고. 염력2  반도는 쌍팔년도 드립치고. 코로나 아니래두 한국영화는 망함\n",
      "하...너무 재밌어서이걸보자고 한 제 자신이 좀비가 되었으면좋겠어요 뚝배기 깨버리게\n",
      "어이없는 부분 : 바이러스가 왜 터졌는지 설명이 전혀 없음,  물려도 좀비되는 시기가 각기 다름, 고속도로에 차가 쌩쌩 지나감, 둘째날부터 게임하는 주인공, 전기 끊겼는데 휴대폰배터리 멀쩡, 빡쳐서 나갔다가 쫄튀해서...\n",
      "알바하면 일당 얼마받아요?\n",
      "ㅋㅋ 아니 영화 내용은 하나도 없고댓글보면 전부   기대보다 재밌어요,연기 잘해요 , 너무  재밌어요 같은 알바댓글들 뿐이네 방금 보고왔는데  절대 잘만든 영화는 아닙니다일단 개연성이 밥말아 먹었고 신선한 설정도 없...\n",
      "열심히 고생하신 배우분들과 촬영 스태프 분들에게는 정말 죄송하지만 이 영화는 밥 말아먹은 개연성과 현실성 그리고 좋은 배우들을 갖고 c급 아류작을 만들어내는 감독들의 재능을 보여준 영화였습니다. 진짜 스토리 따위는 ...\n",
      "좀비 죽일려면 제데로 죽이던가 골프채로 대충때리고 머린 안터졌는데 그냥 바로죽어 ㅋㅋ 그리고 좀비가 줄 잡고 올라가는건 무슨 액션이고 좀비와 좀비끼리 싸우는 건 무슨 경우죠? 그리고 좀비가 인간처럼 달리나욬ㅋㅋㅋ 영...\n",
      "최악이다 유아인 하나 보고 본 영화\n",
      "이걸보느니 치킨시켜먹겟다\n",
      "초반 유아인 솔로 연기일때가 이 영화의 가장 좋은 부분이었다. 더 이상은 절레절레 였음.\n",
      "동네 야산 고라니 뛰어노는거찍어서 개봉하는게 더 나을듯 영화 예산 아깝고 배우들 아까움\n",
      "코로나로 혼란한 틈에 나타난 역대급 작품입니다. 감독은 이 영화를 통해서 코로나 끝날 때 까지 영화관에는 얼씬도 하지 말라는 메시지를 전하고 싶었던 것 같습니다. 너무 어이가 없어서 중간 중간 웃음이 터졌습니다. 영...\n",
      "아니 유아인 연기 진짜 개잘해ㅋㅋㅋㅋ\n",
      "진짜 역대급으로 재미없었고 너무 스토리가 뻔함마지막에 헬기가 아파트 밑에서 나오는건 대체 무슨 연출? 제일 중요한건 스토리가 너무 뻔함\n",
      "진짜 좀 개판이긴 함ㅋㅋㅋ 개연성도 없고 마지막 헬기 소음이 얼마나 큰데 헬기 등장씬도 말이 안됨 헬기가 아파트보다 낮은 고도로 저공비행하다가 거기서 나오는건 무슨 007도 아니고 ㅋㅋㅋㅋ\n",
      "유아인이 나혼자산다에 집자랑하러 나왔겠냐..말아먹을영화인거 아니까 그렇게라도 홍보하러 나온거지ㅋ\n",
      "유아인이 나가라할때 나갔어야했다\n",
      "살면서 영화 리뷰 처음남겨봄 살다살다 이런영화는 처음봄 최악중 최악 영화가 너무 최악이면 돈이아깝다기보다 시간이 아까움 집에가서 잘껄 너무 후회중....\n",
      "유아인 연기는최고다 믿고보는배우\n",
      "물땐물고 안물어야 할땐 안무는 좀비들 잘봤습니다\n",
      "영화 끝나고 생각나는건 진라면과 짜파게티 뿐이다\n",
      "영화 기대하고 봤습니다유아인님 연기때문에 2점 드리구여스토리가...하...  진짜 왜 갑자기 좀비바이러스가 퍼진것인지 마지막엔 어떻게 해결이 되가는건지처음과 끝도 흐지부지하고 중간도 좀 지루하고한번씩 깜짝깜짝놀라는 ...\n",
      "그냥 우와 유아인 배우님 잘생기고 박신혜 배우님 이쁘다 아 깜짝아야 좀비 뭐야?....  설마 끝??아니겠지 ??\n",
      "솔직히 너무 전개가 뜬금없음 너무 유아인 이야기만 보여주고 박신혜 스토리도 보여줬으며 좋겠음 이 바이러스가 어떻게 나온건지 그리고 박신혜가 손이 묶였는데 그방에서 살아있는것도 신기함 너무 말도 안되는 이야기가 많았음...\n",
      "나름 좀비영화 매니아고 이런저런 좀비물을 찾아보는 매니아 입장에서 보자면 유아인씨 필모에서 최악으로 남을 영화가 될것 같습니다.               굳이 중반에 박신혜씨의 무쌍씬을 넣어야만 했습니까?      ...\n",
      "유아인만 혼자 연기하고 박신혜는 갑자기 로맨틱 멜로찍 ..?그나마 등장해서 대사하는 배우는 설마저게 연기하는..?  특히 유아인 내면의 연기 오지게하는데 깔리는 신파배경음악에 음악감독 멱살잡고 싶었음 저런환경에서 자...\n",
      "저 좀비물 보면서 잔 거 처음이에요..\n",
      "ㅋㅋㅋ너무 편집잘못되고 스토리는 뚝뚝끊김??  일본사람이 에~~에~~에~~ 나니? 자꾸 얼척이없는 영화 결말 내돈 돌리도ㅋㅋ\n",
      "유아인 그 똑똑한 배우가 왜 이런 영화를 택한건지 좀 의문이에요..\n",
      "나만 당할수없다  졸잼이다  1점준이유 11점이없어서다  꼭봐라   제발좀봐라  형 누나들제발봐줘 내돈만 날릴순없어\n",
      "엥간하면 영화 재밌게 보는데.. 걍 집에서 부산행 두번보세요\n",
      "유아인연기 예술임^^~\n",
      "개연성이 1도 없던 영화 안씻고 굶어도 탱탱한피부 탈색머리 유아인은 한달이지나도 머리가 그대로. 좀비들은 선택적으로 문다.\n",
      "엑시트+부산행+터널\n",
      "사회적 거리두기 좀비 version\n",
      "댓글 안남기는데... 처음으로 영화보고댓글남기네아 진짜 S급 연예인에, 대형 기획사댓글 알바 잡아 족치고 싶다 와..이런 개엉터리 스토리면액션이라도 있던가영상미라도 있던가\n",
      "태어나서 처음 영화 댓글 써본다..진짜 진지 정색빨고 내가 각본써도 이거보다 재밌게 만들 자신 있다..\n",
      "하 진짜 개연성 ㅋㅋㅋ 해도 해도 너무하누 시작부터 갑자기 급발진도 웃김 ㅋㅋㅋ\n",
      "뚝뚝 끊기는 전개, 촌스러운 대사, 과하게 힘들어간 연출20일간 씻지도 못하고 갖혀있는데 수염자국 하나 없는 남주와 뽀송한 앞머리를 한 여주배우들도 연기하기 싫었나봄 나와서 사람 말을 하는 배우 대부분이 자기 능력치...\n",
      "주인공들은 살아남았고, 배우들의 연기도 살아있는데, 각본은 싸늘하게 죽어있네\n",
      "이젠 하다하다 돈주고 광고를 보는구나\n",
      "정말 인트로부터 영화 중반까지는 유아인보면서 나름 현실성도 있고 괜찮은 영화인데? 하다가 박신혜 나오면서 부터 영화가 절벽에서 굴러가기 시작함. 8층 아저씨도 내 머리로는 이해가 안되고 마지막 장면 헬리콥터 씬은 정...\n",
      "이게 솔직히 다 보고나서 허무하게 느껴집니다너무 좀비영화의 기본적인 요소들만 나옵니다.\n",
      "솔직해 집시다..정말 알바분들 양심이라는게 있나요?\n",
      "꼴랑 5만명이 좀비됐다고 수도, 전기, tv 및 핸드폰에 라디오까지 모조리 다 통신이 끊기고 사람들이 아파트에 20일 넘게 고립되냐? 현실이었으면 하루만에 계엄령 선포돼서 좀비 다 쏴죽이고 진압됐을텐데 ㅉㅉ 게다가 ...\n",
      "와..씨... 2020년 코로나 때문에 영화 한편 못보다가 이 영화로 첫 문을 텄는데 첫 영화부터 지뢰를 밟았구나... 진심.. 그냥 쓰레기영화\n",
      "짜파게티+너구리+참기름=맛있겠당ㅎㅋ\n",
      "재난상황에서 짜파구리 한개반 끓여처먹는게 말이 되냐? ?? ? 스토리 자체가 없음 갑분좀비 이십여일동안 때깔좋은 주인공 그와준에 무선기 로맨스 ㅅㅂ 스릴러액션로맨스존나 왔다갔다함\n",
      "박신혜 액션 연기 잘하드라\n",
      "이 영화는 순위에 살아있으면 안됩니다\n",
      "으음....?? 역시나 기대 안하고 봤지만... 중간에 나가고싶었,,,딸때문에 끝까지는 봤네요\n",
      "개연성 없는 전개, 전기끊겼는데 휴대폰 노트북 한달 넘게 하는 마법.식량에 관한것도 너무 개연성 설득력 없음.돈 시간 배우 제작비 다 아까움\n",
      "드럽게 재미 없습니다.\n",
      "아래에서 헬기 나오는 장면에서 영화관 전체에서한숨 소리만 들렸다 이게 퀄리티를 증명하지\n",
      "물도 부족해서 매일 조금씩 나눠서 먹는 시점에 갑자기 짜파게티는 끓이고 물도 따라 버리는 여유.\n",
      "코로나로 생사의 기로에 놓인 영화산업을 관짝에 넣는 영화\n",
      "오전에 재밌다는 댓글 보고퇴근후 받는데...욕 나올뻔 했습니다.정말 재미 없습니다...\n",
      "기대보다 아쉬웠어요.\n",
      "박신혜가 캡틴아메리카보다 쎔\n",
      "진짜 개연성 밥말아 먹었습니다 1.갑자기 나오는 여경(주인공에게 총을 주긴 해야겠는데 가장 만만한게 경찰이라 넣은듯한게 뻔히보임) 2.일관성 없는 좀비(큰 소리에 반응 한다고 하였지만 별 큰 소리 내지 않았는데 집에...\n",
      "초반에 유아인배우의 연기가 돋보인다.중간에 조금 지루한 부분이 있지만..그래도 지금 개봉중인 영화보다 훨씬 재밌고무섭기도 하고.추천합니다.\n",
      "근데 이거 0점은 없느거애요  1점말고 0 점  어떡해 해요\n",
      "중학교 백일장 출품작들도 이것보단 개연성 있겠음\n",
      "이걸 볼바에 2500원 더주고 넷플릭스에서 킹덤 한달동안 몰아서 보세요 ... 어떻게 드라마보다 못하지\n",
      "유아인연기가너무좋다\n",
      "보지 마세요 진짜 돈아깝습니다.\n",
      "나가고 싶다는 생각만 하다 끝남\n",
      "이 작품에 비해 유아인 배우의 연기가 아깝다\n",
      "돈 안주고 공짜로봐도 시간 날렸다고 생각되는 영화.\n",
      "이 영화를 어떻게 보면 재밌게 볼 수 있지?\n",
      "기승전결이 아예 없는 영화\n",
      "ㄹㅇ 알바들 존1나 역겹네 ㅋㅋ 그냥 꺼1져라 내가 본 후기로서 솔직히 말한다 보지마라 효과음만 존나큼 ㅋㅋ\n",
      "나도 정말 왠만하면 평점 안 남기는데..목숨 걸고 보러 갔다가 되려 목숨을 잃을 뻔했다. 여러분, 차라리 집콕 하세요..\n",
      "죄송해요ㅠㅠ 너무 재미없어요ㅠㅠㅠㅠ\n",
      "스피드레이서급 후잡영화\n",
      "영화를 아파트에서 촬영하다 예산부족으로 그냥 빨리 끝낸 느낌\n",
      "1점인 이유 영화보면 알거다;;;;\n",
      "처음부터 끝까지 붕떠있는 느낌재미 하나도 없고 중간에 나왔으면 차라리 영화 보려고 앉아 있는 시간 버는 수준.\n",
      "개연성은 물론이고 내용이 없다보니까 영화관 나와서 차에 앉았는데 뭘본건지 기억이 안나네\n"
     ]
    }
   ],
   "source": [
    "for date in range(1,11,1) :\n",
    "    url = \"https://movie.naver.com/movie/bi/mi/pointWriteFormList.nhn?code=189537&type=after&isActualPointWriteExecute=false&isMileageSubscriptionAlready=false&isMileageSubscriptionReject=false&page=\"+ str(date)\n",
    "    res = req.get(url)\n",
    "    movie = bs(res.text,'lxml')\n",
    "    \n",
    "    review = movie.select('div.score_reple > p')\n",
    "    \n",
    "    icon = movie.select('span.ico_viewer')\n",
    "    for i in icon :\n",
    "        i.extract()\n",
    "    spo = movie.select('span.text_spo._text_spo')\n",
    "    for i in spo :\n",
    "        i.extract()\n",
    "    \n",
    "    for i in review :\n",
    "        print(i.text.strip())"
   ]
  },
  {
   "cell_type": "code",
   "execution_count": null,
   "metadata": {},
   "outputs": [],
   "source": []
  },
  {
   "cell_type": "markdown",
   "metadata": {},
   "source": [
    "# Selenium 사용법\n",
    "  -- 웹 페이지를 제어하기 위한 라이브러리"
   ]
  },
  {
   "cell_type": "code",
   "execution_count": 71,
   "metadata": {},
   "outputs": [
    {
     "name": "stdout",
     "output_type": "stream",
     "text": [
      "Requirement already satisfied: selenium in c:\\users\\smt011\\anaconda3\\lib\\site-packages (3.141.0)\n",
      "Requirement already satisfied: urllib3 in c:\\users\\smt011\\anaconda3\\lib\\site-packages (from selenium) (1.25.8)\n"
     ]
    }
   ],
   "source": [
    "!pip install selenium"
   ]
  },
  {
   "cell_type": "code",
   "execution_count": 72,
   "metadata": {},
   "outputs": [],
   "source": [
    "from selenium import webdriver as wb\n",
    "from selenium.webdriver.common.keys import Keys"
   ]
  },
  {
   "cell_type": "code",
   "execution_count": 113,
   "metadata": {},
   "outputs": [],
   "source": [
    "driver = wb.Chrome()"
   ]
  },
  {
   "cell_type": "code",
   "execution_count": 92,
   "metadata": {},
   "outputs": [],
   "source": [
    "url = \"https://www.naver.com/\""
   ]
  },
  {
   "cell_type": "code",
   "execution_count": 93,
   "metadata": {},
   "outputs": [],
   "source": [
    "driver.get(url)"
   ]
  },
  {
   "cell_type": "code",
   "execution_count": 94,
   "metadata": {},
   "outputs": [],
   "source": [
    "search = driver.find_element_by_id('query')"
   ]
  },
  {
   "cell_type": "code",
   "execution_count": 95,
   "metadata": {},
   "outputs": [],
   "source": [
    "search.send_keys('광주날씨')"
   ]
  },
  {
   "cell_type": "markdown",
   "metadata": {},
   "source": [
    "# 검색을 하는 두가지 방법"
   ]
  },
  {
   "cell_type": "markdown",
   "metadata": {},
   "source": [
    "# 1번째 클릭"
   ]
  },
  {
   "cell_type": "code",
   "execution_count": 96,
   "metadata": {},
   "outputs": [],
   "source": [
    "btn_search = driver.find_element_by_id('search_btn')"
   ]
  },
  {
   "cell_type": "code",
   "execution_count": 97,
   "metadata": {},
   "outputs": [],
   "source": [
    "btn_search.click()"
   ]
  },
  {
   "cell_type": "markdown",
   "metadata": {},
   "source": [
    "# 2번째 엔터"
   ]
  },
  {
   "cell_type": "code",
   "execution_count": 90,
   "metadata": {},
   "outputs": [],
   "source": [
    "search.send_keys(Keys.ENTER)"
   ]
  },
  {
   "cell_type": "code",
   "execution_count": 99,
   "metadata": {},
   "outputs": [],
   "source": [
    "weather = driver.find_element_by_class_name('todaytemp')"
   ]
  },
  {
   "cell_type": "code",
   "execution_count": 100,
   "metadata": {},
   "outputs": [
    {
     "data": {
      "text/plain": [
       "'26'"
      ]
     },
     "execution_count": 100,
     "metadata": {},
     "output_type": "execute_result"
    }
   ],
   "source": [
    "weather.text"
   ]
  },
  {
   "cell_type": "markdown",
   "metadata": {},
   "source": [
    "# Google에서 광주날씨 검색"
   ]
  },
  {
   "cell_type": "code",
   "execution_count": 121,
   "metadata": {},
   "outputs": [],
   "source": [
    "url = \"https://www.google.com/\""
   ]
  },
  {
   "cell_type": "code",
   "execution_count": 122,
   "metadata": {},
   "outputs": [],
   "source": [
    "driver = wb.Chrome()"
   ]
  },
  {
   "cell_type": "code",
   "execution_count": 123,
   "metadata": {},
   "outputs": [],
   "source": [
    "driver.get(url)"
   ]
  },
  {
   "cell_type": "code",
   "execution_count": 124,
   "metadata": {},
   "outputs": [],
   "source": [
    "search = driver.find_element_by_class_name('gLFyf.gsfi')"
   ]
  },
  {
   "cell_type": "code",
   "execution_count": 125,
   "metadata": {},
   "outputs": [],
   "source": [
    "search.send_keys('광주날씨')"
   ]
  },
  {
   "cell_type": "code",
   "execution_count": 126,
   "metadata": {},
   "outputs": [],
   "source": [
    "search.send_keys(Keys.ENTER)"
   ]
  },
  {
   "cell_type": "code",
   "execution_count": null,
   "metadata": {},
   "outputs": [],
   "source": []
  }
 ],
 "metadata": {
  "kernelspec": {
   "display_name": "Python 3",
   "language": "python",
   "name": "python3"
  },
  "language_info": {
   "codemirror_mode": {
    "name": "ipython",
    "version": 3
   },
   "file_extension": ".py",
   "mimetype": "text/x-python",
   "name": "python",
   "nbconvert_exporter": "python",
   "pygments_lexer": "ipython3",
   "version": "3.7.6"
  }
 },
 "nbformat": 4,
 "nbformat_minor": 4
}
