{
 "cells": [
  {
   "cell_type": "markdown",
   "metadata": {},
   "source": [
    "# 네이버뮤직 TOP50 추출하기"
   ]
  },
  {
   "cell_type": "code",
   "execution_count": 17,
   "metadata": {},
   "outputs": [],
   "source": [
    "from bs4 import BeautifulSoup as bs\n",
    "import requests as req"
   ]
  },
  {
   "cell_type": "code",
   "execution_count": 18,
   "metadata": {},
   "outputs": [],
   "source": [
    "url = \"https://music.naver.com/listen/top100.nhn?domain=TOTAL_V2\"   #페이지가져옴"
   ]
  },
  {
   "cell_type": "code",
   "execution_count": 19,
   "metadata": {},
   "outputs": [],
   "source": [
    "res = req.get(url)    #변수 페이지정보를 가져옴"
   ]
  },
  {
   "cell_type": "code",
   "execution_count": 20,
   "metadata": {},
   "outputs": [],
   "source": [
    "info = res.text      #form넘어왔으니 data확인해봄"
   ]
  },
  {
   "cell_type": "code",
   "execution_count": 21,
   "metadata": {},
   "outputs": [],
   "source": [
    "music = bs(info, 'lxml')    #좀 더 정돈된 page 넘어옴."
   ]
  },
  {
   "cell_type": "code",
   "execution_count": 22,
   "metadata": {
    "collapsed": true
   },
   "outputs": [
    {
     "data": {
      "text/plain": [
       "[<span class=\"ellipsis\">Downtown Baby</span>,\n",
       " <span class=\"ellipsis\">\n",
       " \t\t\t\n",
       " \t\t\t\n",
       " \t\t\t블루(BLOO)\n",
       " \t\t</span>,\n",
       " <span class=\"ellipsis\">에잇(Prod.&amp;Feat. SUGA of BTS)</span>,\n",
       " <span class=\"ellipsis\">\n",
       " \t\t\t\n",
       " \t\t\t\n",
       " \t\t\t아이유(IU)\n",
       " \t\t</span>,\n",
       " <span class=\"ellipsis\">아로하</span>,\n",
       " <span class=\"ellipsis\">\n",
       " \t\t\t\n",
       " \t\t\t\n",
       " \t\t\t조정석\n",
       " \t\t</span>,\n",
       " <span class=\"ellipsis\">살짝 설렜어 (Nonstop)</span>,\n",
       " <span class=\"ellipsis\">\n",
       " \t\t\t\n",
       " \t\t\t\n",
       " \t\t\t오마이걸(OH MY GIRL)\n",
       " \t\t</span>,\n",
       " <span class=\"ellipsis\">사랑하게 될 줄 알았어</span>,\n",
       " <span class=\"ellipsis\">\n",
       " \t\t\t\n",
       " \t\t\t\n",
       " \t\t\t전미도\n",
       " \t\t</span>,\n",
       " <span class=\"ellipsis\">MORE &amp; MORE</span>,\n",
       " <span class=\"ellipsis\">\n",
       " \t\t\t\n",
       " \t\t\t\n",
       " \t\t\tTWICE(트와이스)\n",
       " \t\t</span>,\n",
       " <span class=\"ellipsis\">Dolphin</span>,\n",
       " <span class=\"ellipsis\">\n",
       " \t\t\t\n",
       " \t\t\t\n",
       " \t\t\t오마이걸(OH MY GIRL)\n",
       " \t\t</span>,\n",
       " <span class=\"ellipsis\">좋은 사람 있으면 소개시켜줘</span>,\n",
       " <span class=\"ellipsis\">\n",
       " \t\t\t\n",
       " \t\t\t\n",
       " \t\t\t조이 (JOY)\n",
       " \t\t</span>,\n",
       " <span class=\"ellipsis\">아무노래</span>,\n",
       " <span class=\"ellipsis\">\n",
       " \t\t\t\n",
       " \t\t\t\n",
       " \t\t\t지코 (ZICO)\n",
       " \t\t</span>,\n",
       " <span class=\"ellipsis\">화려하지 않은 고백</span>,\n",
       " <span class=\"ellipsis\">\n",
       " \t\t\t\n",
       " \t\t\t\n",
       " \t\t\t규현(KYUHYUN)\n",
       " \t\t</span>,\n",
       " <span class=\"ellipsis\">흔들리는 꽃들 속에서 네 샴푸향이 느껴진거야</span>,\n",
       " <span class=\"ellipsis\">\n",
       " \t\t\t\n",
       " \t\t\t\n",
       " \t\t\t장범준\n",
       " \t\t</span>,\n",
       " <span class=\"ellipsis\">Blueming</span>,\n",
       " <span class=\"ellipsis\">\n",
       " \t\t\t\n",
       " \t\t\t\n",
       " \t\t\t아이유(IU)\n",
       " \t\t</span>,\n",
       " <span class=\"ellipsis\">Memories</span>,\n",
       " <span class=\"ellipsis\">\n",
       " \t\t\t\n",
       " \t\t\t\n",
       " \t\t\tMaroon 5\n",
       " \t\t</span>,\n",
       " <span class=\"ellipsis\">나비와 고양이 (Feat. 백현 (BAEKHYUN))</span>,\n",
       " <span class=\"ellipsis\">\n",
       " \t\t\t\n",
       " \t\t\t\n",
       " \t\t\t볼빨간사춘기\n",
       " \t\t</span>,\n",
       " <span class=\"ellipsis\">그대 고운 내사랑</span>,\n",
       " <span class=\"ellipsis\">\n",
       " \t\t\t\n",
       " \t\t\t\n",
       " \t\t\t어반자카파\n",
       " \t\t</span>,\n",
       " <span class=\"ellipsis\">덤더럼(Dumhdurum)</span>,\n",
       " <span class=\"ellipsis\">\n",
       " \t\t\t\n",
       " \t\t\t\n",
       " \t\t\t에이핑크(Apink)\n",
       " \t\t</span>,\n",
       " <span class=\"ellipsis\">어떻게 이별까지 사랑하겠어, 널 사랑하는 거지</span>,\n",
       " <span class=\"ellipsis\">\n",
       " \t\t\t\n",
       " \t\t\t\n",
       " \t\t\tAKMU (악동뮤지션)\n",
       " \t\t</span>,\n",
       " <span class=\"ellipsis\">Don't Start Now</span>,\n",
       " <span class=\"ellipsis\">\n",
       " \t\t\t\n",
       " \t\t\t\n",
       " \t\t\tDua Lipa\n",
       " \t\t</span>,\n",
       " <span class=\"ellipsis\">Into the I-LAND</span>,\n",
       " <span class=\"ellipsis\">\n",
       " \t\t\t\n",
       " \t\t\t\n",
       " \t\t\t아이유(IU)\n",
       " \t\t</span>,\n",
       " <span class=\"ellipsis\">Psycho</span>,\n",
       " <span class=\"ellipsis\">\n",
       " \t\t\t\n",
       " \t\t\t\n",
       " \t\t\tRed Velvet (레드벨벳)\n",
       " \t\t</span>,\n",
       " <span class=\"ellipsis\">WANNABE</span>,\n",
       " <span class=\"ellipsis\">\n",
       " \t\t\t\n",
       " \t\t\t\n",
       " \t\t\tITZY(있지)\n",
       " \t\t</span>,\n",
       " <span class=\"ellipsis\">깡 Official Remix</span>,\n",
       " <span class=\"ellipsis\">METEOR</span>,\n",
       " <span class=\"ellipsis\">\n",
       " \t\t\t\n",
       " \t\t\t\n",
       " \t\t\t창모(CHANGMO)\n",
       " \t\t</span>,\n",
       " <span class=\"ellipsis\">시작</span>,\n",
       " <span class=\"ellipsis\">\n",
       " \t\t\t\n",
       " \t\t\t\n",
       " \t\t\t가호 (Gaho)\n",
       " \t\t</span>,\n",
       " <span class=\"ellipsis\">너에게 난, 나에게 넌</span>,\n",
       " <span class=\"ellipsis\">\n",
       " \t\t\t\n",
       " \t\t\t\n",
       " \t\t\t미도와 파라솔\n",
       " \t\t</span>,\n",
       " <span class=\"ellipsis\">Lonely Night</span>,\n",
       " <span class=\"ellipsis\">\n",
       " \t\t\t\n",
       " \t\t\t\n",
       " \t\t\t권진아\n",
       " \t\t</span>,\n",
       " <span class=\"ellipsis\">처음처럼</span>,\n",
       " <span class=\"ellipsis\">\n",
       " \t\t\t\n",
       " \t\t\t\n",
       " \t\t\t엠씨더맥스(M.C the MAX)\n",
       " \t\t</span>,\n",
       " <span class=\"ellipsis\">내 눈물 모아</span>,\n",
       " <span class=\"ellipsis\">\n",
       " \t\t\t\n",
       " \t\t\t\n",
       " \t\t\t휘인(Whee In)\n",
       " \t\t</span>,\n",
       " <span class=\"ellipsis\">2002</span>,\n",
       " <span class=\"ellipsis\">\n",
       " \t\t\t\n",
       " \t\t\t\n",
       " \t\t\tAnne-Marie\n",
       " \t\t</span>,\n",
       " <span class=\"ellipsis\">Love poem</span>,\n",
       " <span class=\"ellipsis\">\n",
       " \t\t\t\n",
       " \t\t\t\n",
       " \t\t\t아이유(IU)\n",
       " \t\t</span>,\n",
       " <span class=\"ellipsis\">늦은 밤 너의 집 앞 골목길에서</span>,\n",
       " <span class=\"ellipsis\">\n",
       " \t\t\t\n",
       " \t\t\t\n",
       " \t\t\t노을\n",
       " \t\t</span>,\n",
       " <span class=\"ellipsis\">Dance Monkey</span>,\n",
       " <span class=\"ellipsis\">\n",
       " \t\t\t\n",
       " \t\t\t\n",
       " \t\t\tTones And I\n",
       " \t\t</span>,\n",
       " <span class=\"ellipsis\">환상동화 (Secret Story of the Swan)</span>,\n",
       " <span class=\"ellipsis\">\n",
       " \t\t\t\n",
       " \t\t\t\n",
       " \t\t\tIZ*ONE(아이즈원)\n",
       " \t\t</span>,\n",
       " <span class=\"ellipsis\">Paris In The Rain</span>,\n",
       " <span class=\"ellipsis\">\n",
       " \t\t\t\n",
       " \t\t\t\n",
       " \t\t\tLauv\n",
       " \t\t</span>,\n",
       " <span class=\"ellipsis\">FIESTA</span>,\n",
       " <span class=\"ellipsis\">\n",
       " \t\t\t\n",
       " \t\t\t\n",
       " \t\t\tIZ*ONE(아이즈원)\n",
       " \t\t</span>,\n",
       " <span class=\"ellipsis\">Rain On Me</span>,\n",
       " <span class=\"ellipsis\">시청 앞 지하철 역에서</span>,\n",
       " <span class=\"ellipsis\">\n",
       " \t\t\t\n",
       " \t\t\t\n",
       " \t\t\t곽진언\n",
       " \t\t</span>,\n",
       " <span class=\"ellipsis\">Happy</span>,\n",
       " <span class=\"ellipsis\">\n",
       " \t\t\t\n",
       " \t\t\t\n",
       " \t\t\t태연 (TAEYEON)\n",
       " \t\t</span>,\n",
       " <span class=\"ellipsis\">어떻게 지내 (Prod. By VAN.C)</span>,\n",
       " <span class=\"ellipsis\">\n",
       " \t\t\t\n",
       " \t\t\t\n",
       " \t\t\t오반\n",
       " \t\t</span>,\n",
       " <span class=\"ellipsis\">LALALILALA</span>,\n",
       " <span class=\"ellipsis\">\n",
       " \t\t\t\n",
       " \t\t\t\n",
       " \t\t\t에이프릴(APRIL)\n",
       " \t\t</span>,\n",
       " <span class=\"ellipsis\">Juice</span>,\n",
       " <span class=\"ellipsis\">\n",
       " \t\t\t\n",
       " \t\t\t\n",
       " \t\t\tLizzo\n",
       " \t\t</span>,\n",
       " <span class=\"ellipsis\">너를 만나</span>,\n",
       " <span class=\"ellipsis\">\n",
       " \t\t\t\n",
       " \t\t\t\n",
       " \t\t\t폴킴\n",
       " \t\t</span>,\n",
       " <span class=\"ellipsis\">밤이 깊었네 (Drama Ver.)</span>,\n",
       " <span class=\"ellipsis\">\n",
       " \t\t\t\n",
       " \t\t\t\n",
       " \t\t\t미도와 파라솔\n",
       " \t\t</span>,\n",
       " <span class=\"ellipsis\">Stuck with U</span>,\n",
       " <span class=\"ellipsis\">작사가</span>,\n",
       " <span class=\"ellipsis\">\n",
       " \t\t\t\n",
       " \t\t\t\n",
       " \t\t\t헤이즈 (Heize)\n",
       " \t\t</span>,\n",
       " <span class=\"ellipsis\">돌덩이</span>,\n",
       " <span class=\"ellipsis\">\n",
       " \t\t\t\n",
       " \t\t\t\n",
       " \t\t\t하현우 (국카스텐)\n",
       " \t\t</span>,\n",
       " <span class=\"ellipsis\">언제라도 어디에서라도</span>,\n",
       " <span class=\"ellipsis\">\n",
       " \t\t\t\n",
       " \t\t\t\n",
       " \t\t\t정승환\n",
       " \t\t</span>,\n",
       " <span class=\"ellipsis\">ON</span>,\n",
       " <span class=\"ellipsis\">\n",
       " \t\t\t\n",
       " \t\t\t\n",
       " \t\t\t방탄소년단\n",
       " \t\t</span>,\n",
       " <span class=\"ellipsis\">밤편지</span>,\n",
       " <span class=\"ellipsis\">\n",
       " \t\t\t\n",
       " \t\t\t\n",
       " \t\t\t아이유(IU)\n",
       " \t\t</span>,\n",
       " <span class=\"ellipsis\">넌 언제나</span>,\n",
       " <span class=\"ellipsis\">\n",
       " \t\t\t\n",
       " \t\t\t\n",
       " \t\t\t제이레빗(J Rabbit)\n",
       " \t\t</span>]"
      ]
     },
     "execution_count": 22,
     "metadata": {},
     "output_type": "execute_result"
    }
   ],
   "source": [
    "music.find_all('span', class_=\"ellipsis\")\n",
    "#음악에서.찾을거야_전부('span'이란 tag에서, class명이 ellipsis라는)\n",
    "#find_all = select 같지만 상황마다 다름., 둘다 list형식으로 데이터 가져옴."
   ]
  },
  {
   "cell_type": "code",
   "execution_count": 26,
   "metadata": {},
   "outputs": [],
   "source": [
    "title = music.select('a._title > span.ellipsis')\n",
    "#css diner의 오렌지 중 작은오렌지 가져오던 단계.\n",
    "#부모테이블 이용해서 >로 자식테이블 가져옴\n",
    "#music.select('a._title.title > span.ellipsis')\n",
    "\n",
    "#music.select_one('a._title > span.ellipsis') 하나만 가져올때는 find나 select_one"
   ]
  },
  {
   "cell_type": "code",
   "execution_count": 28,
   "metadata": {},
   "outputs": [],
   "source": [
    "artist = music.select('a._artist > span.ellipsis')"
   ]
  },
  {
   "cell_type": "code",
   "execution_count": 29,
   "metadata": {},
   "outputs": [
    {
     "data": {
      "text/plain": [
       "<span class=\"ellipsis\">\n",
       "\t\t\t\n",
       "\t\t\t\n",
       "\t\t\t블루(BLOO)\n",
       "\t\t</span>"
      ]
     },
     "execution_count": 29,
     "metadata": {},
     "output_type": "execute_result"
    }
   ],
   "source": [
    "artist[0]"
   ]
  },
  {
   "cell_type": "code",
   "execution_count": 30,
   "metadata": {},
   "outputs": [
    {
     "data": {
      "text/plain": [
       "'\\r\\n\\t\\t\\t\\r\\n\\t\\t\\t\\r\\n\\t\\t\\t블루(BLOO)\\r\\n\\t\\t'"
      ]
     },
     "execution_count": 30,
     "metadata": {},
     "output_type": "execute_result"
    }
   ],
   "source": [
    "artist[0].text"
   ]
  },
  {
   "cell_type": "code",
   "execution_count": 32,
   "metadata": {},
   "outputs": [
    {
     "data": {
      "text/plain": [
       "'블루(BLOO)'"
      ]
     },
     "execution_count": 32,
     "metadata": {},
     "output_type": "execute_result"
    }
   ],
   "source": [
    "artist[0].text.strip()"
   ]
  },
  {
   "cell_type": "code",
   "execution_count": 40,
   "metadata": {},
   "outputs": [],
   "source": [
    "rank = music.select('td.ranking')"
   ]
  },
  {
   "cell_type": "code",
   "execution_count": 41,
   "metadata": {},
   "outputs": [
    {
     "data": {
      "text/plain": [
       "50"
      ]
     },
     "execution_count": 41,
     "metadata": {},
     "output_type": "execute_result"
    }
   ],
   "source": [
    "len(rank)"
   ]
  },
  {
   "cell_type": "code",
   "execution_count": 39,
   "metadata": {},
   "outputs": [
    {
     "data": {
      "text/plain": [
       "50"
      ]
     },
     "execution_count": 39,
     "metadata": {},
     "output_type": "execute_result"
    }
   ],
   "source": [
    "len(artist)   "
   ]
  },
  {
   "cell_type": "code",
   "execution_count": 37,
   "metadata": {},
   "outputs": [],
   "source": [
    "artist = music.select('td._artist > a')      #가수가 여러명인 경우 가져오지 못함."
   ]
  },
  {
   "cell_type": "code",
   "execution_count": 38,
   "metadata": {},
   "outputs": [
    {
     "data": {
      "text/plain": [
       "<a class=\"_artist NPI=a:artist,r:1,i:494305\" href=\"/artist/home.nhn?artistId=494305\" title=\"블루(BLOO)\">\n",
       "<span class=\"ellipsis\">\n",
       "\t\t\t\n",
       "\t\t\t\n",
       "\t\t\t블루(BLOO)\n",
       "\t\t</span>\n",
       "</a>"
      ]
     },
     "execution_count": 38,
     "metadata": {},
     "output_type": "execute_result"
    }
   ],
   "source": [
    "artist[0]"
   ]
  },
  {
   "cell_type": "code",
   "execution_count": 42,
   "metadata": {},
   "outputs": [
    {
     "data": {
      "text/plain": [
       "<td class=\"ranking\"><span class=\"num1\"><span>1</span></span></td>"
      ]
     },
     "execution_count": 42,
     "metadata": {},
     "output_type": "execute_result"
    }
   ],
   "source": [
    "rank[0]"
   ]
  },
  {
   "cell_type": "code",
   "execution_count": 45,
   "metadata": {
    "collapsed": true
   },
   "outputs": [
    {
     "name": "stdout",
     "output_type": "stream",
     "text": [
      "['1', '2', '3', '4', '5', '6', '7', '8', '9', '10', '11', '12', '13', '14', '15', '16', '17', '18', '19', '20', '21', '22', '23', '24', '25', '26', '27', '28', '29', '30', '31', '32', '33', '34', '35', '36', '37', '38', '39', '40', '41', '42', '43', '44', '45', '46', '47', '48', '49', '50']\n",
      "['Downtown Baby', '에잇(Prod.&Feat. SUGA of BTS)', '아로하', '살짝 설렜어 (Nonstop)', '사랑하게 될 줄 알았어', 'MORE & MORE', 'Dolphin', '좋은 사람 있으면 소개시켜줘', '아무노래', '화려하지 않은 고백', '흔들리는 꽃들 속에서 네 샴푸향이 느껴진거야', 'Blueming', 'Memories', '나비와 고양이 (Feat. 백현 (BAEKHYUN))', '그대 고운 내사랑', '덤더럼(Dumhdurum)', '어떻게 이별까지 사랑하겠어, 널 사랑하는 거지', \"Don't Start Now\", 'Into the I-LAND', 'Psycho', 'WANNABE', '깡 Official Remix', 'METEOR', '시작', '너에게 난, 나에게 넌', 'Lonely Night', '처음처럼', '내 눈물 모아', '2002', 'Love poem', '늦은 밤 너의 집 앞 골목길에서', 'Dance Monkey', '환상동화 (Secret Story of the Swan)', 'Paris In The Rain', 'FIESTA', 'Rain On Me', '시청 앞 지하철 역에서', 'Happy', '어떻게 지내 (Prod. By VAN.C)', 'LALALILALA', 'Juice', '너를 만나', '밤이 깊었네 (Drama Ver.)', 'Stuck with U', '작사가', '돌덩이', '언제라도 어디에서라도', 'ON', '밤편지', '넌 언제나']\n",
      "['블루(BLOO)', '아이유(IU)', '조정석', '오마이걸(OH MY GIRL)', '전미도', 'TWICE(트와이스)', '오마이걸(OH MY GIRL)', '조이 (JOY)', '지코 (ZICO)', '규현(KYUHYUN)', '장범준', '아이유(IU)', 'Maroon 5', '볼빨간사춘기', '어반자카파', '에이핑크(Apink)', 'AKMU (악동뮤지션)', 'Dua Lipa', '아이유(IU)', 'Red Velvet (레드벨벳)', 'ITZY(있지)', '식케이 (Sik-..', '창모(CHANGMO)', '가호 (Gaho)', '미도와 파라솔', '권진아', '엠씨더맥스(M.C the MAX)', '휘인(Whee In)', 'Anne-Marie', '아이유(IU)', '노을', 'Tones And I', 'IZ*ONE(아이즈원)', 'Lauv', 'IZ*ONE(아이즈원)', 'Lady Gaga', '곽진언', '태연 (TAEYEON)', '오반', '에이프릴(APRIL)', 'Lizzo', '폴킴', '미도와 파라솔', 'Ariana Gr..', '헤이즈 (Heize)', '하현우 (국카스텐)', '정승환', '방탄소년단', '아이유(IU)', '제이레빗(J Rabbit)']\n"
     ]
    }
   ],
   "source": [
    "r_list = []\n",
    "t_list = []\n",
    "a_list = []\n",
    "\n",
    "for index in range(len(rank)):\n",
    "    rank_list = rank[index].text\n",
    "    title_list = title[index].text\n",
    "    artist_list = artist[index].text.strip()\n",
    "    \n",
    "    r_list.append(rank_list)\n",
    "    t_list.append(title_list)\n",
    "    a_list.append(artist_list)\n",
    "    \n",
    "print(r_list)\n",
    "print(t_list)\n",
    "print(a_list)"
   ]
  },
  {
   "cell_type": "code",
   "execution_count": 46,
   "metadata": {},
   "outputs": [],
   "source": [
    "import pandas as pd"
   ]
  },
  {
   "cell_type": "code",
   "execution_count": 51,
   "metadata": {},
   "outputs": [],
   "source": [
    "music_info = {'rank' : r_list, 'title' : t_list, 'artist': a_list}"
   ]
  },
  {
   "cell_type": "code",
   "execution_count": 53,
   "metadata": {},
   "outputs": [],
   "source": [
    "music_pd = pd.DataFrame(music_info)             #\"판다스를 이용해서 뼈대(틀)를 만들겠다\""
   ]
  },
  {
   "cell_type": "code",
   "execution_count": 54,
   "metadata": {},
   "outputs": [],
   "source": [
    "music_pd.set_index('rank', inplace = True)             #\"index번호를 rank를 기준으로 셋팅해줘\""
   ]
  },
  {
   "cell_type": "code",
   "execution_count": 55,
   "metadata": {
    "collapsed": true
   },
   "outputs": [
    {
     "data": {
      "text/html": [
       "<div>\n",
       "<style scoped>\n",
       "    .dataframe tbody tr th:only-of-type {\n",
       "        vertical-align: middle;\n",
       "    }\n",
       "\n",
       "    .dataframe tbody tr th {\n",
       "        vertical-align: top;\n",
       "    }\n",
       "\n",
       "    .dataframe thead th {\n",
       "        text-align: right;\n",
       "    }\n",
       "</style>\n",
       "<table border=\"1\" class=\"dataframe\">\n",
       "  <thead>\n",
       "    <tr style=\"text-align: right;\">\n",
       "      <th></th>\n",
       "      <th>title</th>\n",
       "      <th>artist</th>\n",
       "    </tr>\n",
       "    <tr>\n",
       "      <th>rank</th>\n",
       "      <th></th>\n",
       "      <th></th>\n",
       "    </tr>\n",
       "  </thead>\n",
       "  <tbody>\n",
       "    <tr>\n",
       "      <th>1</th>\n",
       "      <td>Downtown Baby</td>\n",
       "      <td>블루(BLOO)</td>\n",
       "    </tr>\n",
       "    <tr>\n",
       "      <th>2</th>\n",
       "      <td>에잇(Prod.&amp;Feat. SUGA of BTS)</td>\n",
       "      <td>아이유(IU)</td>\n",
       "    </tr>\n",
       "    <tr>\n",
       "      <th>3</th>\n",
       "      <td>아로하</td>\n",
       "      <td>조정석</td>\n",
       "    </tr>\n",
       "    <tr>\n",
       "      <th>4</th>\n",
       "      <td>살짝 설렜어 (Nonstop)</td>\n",
       "      <td>오마이걸(OH MY GIRL)</td>\n",
       "    </tr>\n",
       "    <tr>\n",
       "      <th>5</th>\n",
       "      <td>사랑하게 될 줄 알았어</td>\n",
       "      <td>전미도</td>\n",
       "    </tr>\n",
       "    <tr>\n",
       "      <th>6</th>\n",
       "      <td>MORE &amp; MORE</td>\n",
       "      <td>TWICE(트와이스)</td>\n",
       "    </tr>\n",
       "    <tr>\n",
       "      <th>7</th>\n",
       "      <td>Dolphin</td>\n",
       "      <td>오마이걸(OH MY GIRL)</td>\n",
       "    </tr>\n",
       "    <tr>\n",
       "      <th>8</th>\n",
       "      <td>좋은 사람 있으면 소개시켜줘</td>\n",
       "      <td>조이 (JOY)</td>\n",
       "    </tr>\n",
       "    <tr>\n",
       "      <th>9</th>\n",
       "      <td>아무노래</td>\n",
       "      <td>지코 (ZICO)</td>\n",
       "    </tr>\n",
       "    <tr>\n",
       "      <th>10</th>\n",
       "      <td>화려하지 않은 고백</td>\n",
       "      <td>규현(KYUHYUN)</td>\n",
       "    </tr>\n",
       "    <tr>\n",
       "      <th>11</th>\n",
       "      <td>흔들리는 꽃들 속에서 네 샴푸향이 느껴진거야</td>\n",
       "      <td>장범준</td>\n",
       "    </tr>\n",
       "    <tr>\n",
       "      <th>12</th>\n",
       "      <td>Blueming</td>\n",
       "      <td>아이유(IU)</td>\n",
       "    </tr>\n",
       "    <tr>\n",
       "      <th>13</th>\n",
       "      <td>Memories</td>\n",
       "      <td>Maroon 5</td>\n",
       "    </tr>\n",
       "    <tr>\n",
       "      <th>14</th>\n",
       "      <td>나비와 고양이 (Feat. 백현 (BAEKHYUN))</td>\n",
       "      <td>볼빨간사춘기</td>\n",
       "    </tr>\n",
       "    <tr>\n",
       "      <th>15</th>\n",
       "      <td>그대 고운 내사랑</td>\n",
       "      <td>어반자카파</td>\n",
       "    </tr>\n",
       "    <tr>\n",
       "      <th>16</th>\n",
       "      <td>덤더럼(Dumhdurum)</td>\n",
       "      <td>에이핑크(Apink)</td>\n",
       "    </tr>\n",
       "    <tr>\n",
       "      <th>17</th>\n",
       "      <td>어떻게 이별까지 사랑하겠어, 널 사랑하는 거지</td>\n",
       "      <td>AKMU (악동뮤지션)</td>\n",
       "    </tr>\n",
       "    <tr>\n",
       "      <th>18</th>\n",
       "      <td>Don't Start Now</td>\n",
       "      <td>Dua Lipa</td>\n",
       "    </tr>\n",
       "    <tr>\n",
       "      <th>19</th>\n",
       "      <td>Into the I-LAND</td>\n",
       "      <td>아이유(IU)</td>\n",
       "    </tr>\n",
       "    <tr>\n",
       "      <th>20</th>\n",
       "      <td>Psycho</td>\n",
       "      <td>Red Velvet (레드벨벳)</td>\n",
       "    </tr>\n",
       "    <tr>\n",
       "      <th>21</th>\n",
       "      <td>WANNABE</td>\n",
       "      <td>ITZY(있지)</td>\n",
       "    </tr>\n",
       "    <tr>\n",
       "      <th>22</th>\n",
       "      <td>깡 Official Remix</td>\n",
       "      <td>식케이 (Sik-..</td>\n",
       "    </tr>\n",
       "    <tr>\n",
       "      <th>23</th>\n",
       "      <td>METEOR</td>\n",
       "      <td>창모(CHANGMO)</td>\n",
       "    </tr>\n",
       "    <tr>\n",
       "      <th>24</th>\n",
       "      <td>시작</td>\n",
       "      <td>가호 (Gaho)</td>\n",
       "    </tr>\n",
       "    <tr>\n",
       "      <th>25</th>\n",
       "      <td>너에게 난, 나에게 넌</td>\n",
       "      <td>미도와 파라솔</td>\n",
       "    </tr>\n",
       "    <tr>\n",
       "      <th>26</th>\n",
       "      <td>Lonely Night</td>\n",
       "      <td>권진아</td>\n",
       "    </tr>\n",
       "    <tr>\n",
       "      <th>27</th>\n",
       "      <td>처음처럼</td>\n",
       "      <td>엠씨더맥스(M.C the MAX)</td>\n",
       "    </tr>\n",
       "    <tr>\n",
       "      <th>28</th>\n",
       "      <td>내 눈물 모아</td>\n",
       "      <td>휘인(Whee In)</td>\n",
       "    </tr>\n",
       "    <tr>\n",
       "      <th>29</th>\n",
       "      <td>2002</td>\n",
       "      <td>Anne-Marie</td>\n",
       "    </tr>\n",
       "    <tr>\n",
       "      <th>30</th>\n",
       "      <td>Love poem</td>\n",
       "      <td>아이유(IU)</td>\n",
       "    </tr>\n",
       "    <tr>\n",
       "      <th>31</th>\n",
       "      <td>늦은 밤 너의 집 앞 골목길에서</td>\n",
       "      <td>노을</td>\n",
       "    </tr>\n",
       "    <tr>\n",
       "      <th>32</th>\n",
       "      <td>Dance Monkey</td>\n",
       "      <td>Tones And I</td>\n",
       "    </tr>\n",
       "    <tr>\n",
       "      <th>33</th>\n",
       "      <td>환상동화 (Secret Story of the Swan)</td>\n",
       "      <td>IZ*ONE(아이즈원)</td>\n",
       "    </tr>\n",
       "    <tr>\n",
       "      <th>34</th>\n",
       "      <td>Paris In The Rain</td>\n",
       "      <td>Lauv</td>\n",
       "    </tr>\n",
       "    <tr>\n",
       "      <th>35</th>\n",
       "      <td>FIESTA</td>\n",
       "      <td>IZ*ONE(아이즈원)</td>\n",
       "    </tr>\n",
       "    <tr>\n",
       "      <th>36</th>\n",
       "      <td>Rain On Me</td>\n",
       "      <td>Lady Gaga</td>\n",
       "    </tr>\n",
       "    <tr>\n",
       "      <th>37</th>\n",
       "      <td>시청 앞 지하철 역에서</td>\n",
       "      <td>곽진언</td>\n",
       "    </tr>\n",
       "    <tr>\n",
       "      <th>38</th>\n",
       "      <td>Happy</td>\n",
       "      <td>태연 (TAEYEON)</td>\n",
       "    </tr>\n",
       "    <tr>\n",
       "      <th>39</th>\n",
       "      <td>어떻게 지내 (Prod. By VAN.C)</td>\n",
       "      <td>오반</td>\n",
       "    </tr>\n",
       "    <tr>\n",
       "      <th>40</th>\n",
       "      <td>LALALILALA</td>\n",
       "      <td>에이프릴(APRIL)</td>\n",
       "    </tr>\n",
       "    <tr>\n",
       "      <th>41</th>\n",
       "      <td>Juice</td>\n",
       "      <td>Lizzo</td>\n",
       "    </tr>\n",
       "    <tr>\n",
       "      <th>42</th>\n",
       "      <td>너를 만나</td>\n",
       "      <td>폴킴</td>\n",
       "    </tr>\n",
       "    <tr>\n",
       "      <th>43</th>\n",
       "      <td>밤이 깊었네 (Drama Ver.)</td>\n",
       "      <td>미도와 파라솔</td>\n",
       "    </tr>\n",
       "    <tr>\n",
       "      <th>44</th>\n",
       "      <td>Stuck with U</td>\n",
       "      <td>Ariana Gr..</td>\n",
       "    </tr>\n",
       "    <tr>\n",
       "      <th>45</th>\n",
       "      <td>작사가</td>\n",
       "      <td>헤이즈 (Heize)</td>\n",
       "    </tr>\n",
       "    <tr>\n",
       "      <th>46</th>\n",
       "      <td>돌덩이</td>\n",
       "      <td>하현우 (국카스텐)</td>\n",
       "    </tr>\n",
       "    <tr>\n",
       "      <th>47</th>\n",
       "      <td>언제라도 어디에서라도</td>\n",
       "      <td>정승환</td>\n",
       "    </tr>\n",
       "    <tr>\n",
       "      <th>48</th>\n",
       "      <td>ON</td>\n",
       "      <td>방탄소년단</td>\n",
       "    </tr>\n",
       "    <tr>\n",
       "      <th>49</th>\n",
       "      <td>밤편지</td>\n",
       "      <td>아이유(IU)</td>\n",
       "    </tr>\n",
       "    <tr>\n",
       "      <th>50</th>\n",
       "      <td>넌 언제나</td>\n",
       "      <td>제이레빗(J Rabbit)</td>\n",
       "    </tr>\n",
       "  </tbody>\n",
       "</table>\n",
       "</div>"
      ],
      "text/plain": [
       "                                title              artist\n",
       "rank                                                     \n",
       "1                       Downtown Baby            블루(BLOO)\n",
       "2         에잇(Prod.&Feat. SUGA of BTS)             아이유(IU)\n",
       "3                                 아로하                 조정석\n",
       "4                    살짝 설렜어 (Nonstop)    오마이걸(OH MY GIRL)\n",
       "5                        사랑하게 될 줄 알았어                 전미도\n",
       "6                         MORE & MORE         TWICE(트와이스)\n",
       "7                             Dolphin    오마이걸(OH MY GIRL)\n",
       "8                     좋은 사람 있으면 소개시켜줘            조이 (JOY)\n",
       "9                                아무노래           지코 (ZICO)\n",
       "10                         화려하지 않은 고백         규현(KYUHYUN)\n",
       "11           흔들리는 꽃들 속에서 네 샴푸향이 느껴진거야                 장범준\n",
       "12                           Blueming             아이유(IU)\n",
       "13                           Memories            Maroon 5\n",
       "14      나비와 고양이 (Feat. 백현 (BAEKHYUN))              볼빨간사춘기\n",
       "15                          그대 고운 내사랑               어반자카파\n",
       "16                     덤더럼(Dumhdurum)         에이핑크(Apink)\n",
       "17          어떻게 이별까지 사랑하겠어, 널 사랑하는 거지        AKMU (악동뮤지션)\n",
       "18                    Don't Start Now            Dua Lipa\n",
       "19                    Into the I-LAND             아이유(IU)\n",
       "20                             Psycho   Red Velvet (레드벨벳)\n",
       "21                            WANNABE            ITZY(있지)\n",
       "22                   깡 Official Remix         식케이 (Sik-..\n",
       "23                             METEOR         창모(CHANGMO)\n",
       "24                                 시작           가호 (Gaho)\n",
       "25                       너에게 난, 나에게 넌             미도와 파라솔\n",
       "26                       Lonely Night                 권진아\n",
       "27                               처음처럼  엠씨더맥스(M.C the MAX)\n",
       "28                            내 눈물 모아         휘인(Whee In)\n",
       "29                               2002          Anne-Marie\n",
       "30                          Love poem             아이유(IU)\n",
       "31                  늦은 밤 너의 집 앞 골목길에서                  노을\n",
       "32                       Dance Monkey         Tones And I\n",
       "33    환상동화 (Secret Story of the Swan)        IZ*ONE(아이즈원)\n",
       "34                  Paris In The Rain                Lauv\n",
       "35                             FIESTA        IZ*ONE(아이즈원)\n",
       "36                         Rain On Me           Lady Gaga\n",
       "37                       시청 앞 지하철 역에서                 곽진언\n",
       "38                              Happy        태연 (TAEYEON)\n",
       "39            어떻게 지내 (Prod. By VAN.C)                  오반\n",
       "40                         LALALILALA         에이프릴(APRIL)\n",
       "41                              Juice               Lizzo\n",
       "42                              너를 만나                  폴킴\n",
       "43                밤이 깊었네 (Drama Ver.)             미도와 파라솔\n",
       "44                       Stuck with U         Ariana Gr..\n",
       "45                                작사가         헤이즈 (Heize)\n",
       "46                                돌덩이          하현우 (국카스텐)\n",
       "47                        언제라도 어디에서라도                 정승환\n",
       "48                                 ON               방탄소년단\n",
       "49                                밤편지             아이유(IU)\n",
       "50                              넌 언제나      제이레빗(J Rabbit)"
      ]
     },
     "execution_count": 55,
     "metadata": {},
     "output_type": "execute_result"
    }
   ],
   "source": [
    "music_pd"
   ]
  },
  {
   "cell_type": "code",
   "execution_count": 59,
   "metadata": {},
   "outputs": [],
   "source": [
    "music_pd.to_csv('music.csv', encoding = 'euc-kr')             #내가만든표를 csv형식으로 (이름설정.확장자명)저장해달라\n",
    "#언어팩은 euc에 들어가있고, 컴퓨터가 한글알아먹을수있게 설정해주는것 (한글은 지원하나, 받침 들어가는 경우 인식못하는 경우도 존재)\n",
    "#'euc-kr' 한국어에 특화 \n",
    "#'UTF-8'는 전세계 언어 다 들어있음"
   ]
  },
  {
   "cell_type": "markdown",
   "metadata": {},
   "source": [
    "<hr>"
   ]
  },
  {
   "cell_type": "markdown",
   "metadata": {},
   "source": [
    "# 네이버_ 영화 평점 TOP 50 랭킹"
   ]
  },
  {
   "cell_type": "code",
   "execution_count": 104,
   "metadata": {},
   "outputs": [],
   "source": [
    "from bs4 import BeautifulSoup as bs\n",
    "import requests as req\n",
    "#import pandas 여기에 적어도됨"
   ]
  },
  {
   "cell_type": "code",
   "execution_count": 105,
   "metadata": {},
   "outputs": [],
   "source": [
    "url = \"https://movie.naver.com/movie/sdb/rank/rmovie.nhn?sel=cur&date=20200624\""
   ]
  },
  {
   "cell_type": "code",
   "execution_count": 106,
   "metadata": {},
   "outputs": [],
   "source": [
    "res = req.get(url)"
   ]
  },
  {
   "cell_type": "code",
   "execution_count": 107,
   "metadata": {},
   "outputs": [],
   "source": [
    "info = res.text"
   ]
  },
  {
   "cell_type": "code",
   "execution_count": 108,
   "metadata": {},
   "outputs": [],
   "source": [
    "movie = bs(info, 'lxml')"
   ]
  },
  {
   "cell_type": "code",
   "execution_count": 109,
   "metadata": {},
   "outputs": [],
   "source": [
    "title = movie.select('div.tit5 > a')   #div.tit5만 써도되지만 정확하게 쓰기위해 > a"
   ]
  },
  {
   "cell_type": "code",
   "execution_count": 110,
   "metadata": {},
   "outputs": [],
   "source": [
    "rate = movie.select('td.point')"
   ]
  },
  {
   "cell_type": "code",
   "execution_count": 112,
   "metadata": {},
   "outputs": [
    {
     "data": {
      "text/plain": [
       "<a href=\"/movie/bi/mi/basic.nhn?code=106360\" title=\"위대한 쇼맨\">위대한 쇼맨</a>"
      ]
     },
     "execution_count": 112,
     "metadata": {},
     "output_type": "execute_result"
    }
   ],
   "source": [
    "title[0]"
   ]
  },
  {
   "cell_type": "code",
   "execution_count": 118,
   "metadata": {},
   "outputs": [
    {
     "data": {
      "text/plain": [
       "'위대한 쇼맨'"
      ]
     },
     "execution_count": 118,
     "metadata": {},
     "output_type": "execute_result"
    }
   ],
   "source": [
    "title[0].text"
   ]
  },
  {
   "cell_type": "code",
   "execution_count": 115,
   "metadata": {},
   "outputs": [
    {
     "data": {
      "text/plain": [
       "'9.40'"
      ]
     },
     "execution_count": 115,
     "metadata": {},
     "output_type": "execute_result"
    }
   ],
   "source": [
    "rate[0].text"
   ]
  },
  {
   "cell_type": "code",
   "execution_count": 116,
   "metadata": {},
   "outputs": [
    {
     "data": {
      "text/plain": [
       "50"
      ]
     },
     "execution_count": 116,
     "metadata": {},
     "output_type": "execute_result"
    }
   ],
   "source": [
    "len(title)"
   ]
  },
  {
   "cell_type": "code",
   "execution_count": 117,
   "metadata": {},
   "outputs": [
    {
     "data": {
      "text/plain": [
       "50"
      ]
     },
     "execution_count": 117,
     "metadata": {},
     "output_type": "execute_result"
    }
   ],
   "source": [
    "len(rate)"
   ]
  },
  {
   "cell_type": "code",
   "execution_count": 120,
   "metadata": {
    "collapsed": true
   },
   "outputs": [
    {
     "name": "stdout",
     "output_type": "stream",
     "text": [
      "['위대한 쇼맨', '에이리언 2', '패왕별희 디 오리지널', '인생', '우리들', '톰보이', '러빙 빈센트', '어느 가족', '시간을 달리는 소녀', '오아시스', '스타 이즈 본', '에이리언', '러브레터', '늑대아이', '싸이코', '박하사탕', '타오르는 여인의 초상', '비긴 어게인', '미져리', '윤희에게', '배트맨 비긴즈', '기쿠지로의 여름', '시', '마담 프루스트의 비밀정원', '트롤: 월드 투어', '드라큐라', '슬럼독 밀리어네어', '콜 오브 와일드', '벌새', '온워드: 단 하루의 기적', '도그빌', '현기증', '바닷마을 다이어리', '썸머 워즈', '플로리다 프로젝트', '걸어도 걸어도', '라라랜드', '플라이', '태풍이 지나가고', '찬실이는 복도 많지', '족구왕', '괴물의 아이', '캐리', '아비정전', '로렌스 애니웨이 ', '에어로너츠', '영웅: 천하의 시작', '그랜드 부다페스트 호텔', '스크림', '카페 벨에포크']\n",
      "['9.40', '9.34', '9.30', '9.26', '9.25', '9.24', '9.22', '9.20', '9.20', '9.20', '9.18', '9.12', '9.11', '9.11', '9.10', '9.05', '9.04', '9.02', '9.01', '8.95', '8.94', '8.94', '8.93', '8.92', '8.89', '8.86', '8.83', '8.81', '8.77', '8.76', '8.75', '8.73', '8.72', '8.67', '8.63', '8.62', '8.60', '8.60', '8.60', '8.58', '8.54', '8.50', '8.46', '8.46', '8.42', '8.39', '8.38', '8.37', '8.36', '8.29']\n",
      "[1, 2, 3, 4, 5, 6, 7, 8, 9, 10, 11, 12, 13, 14, 15, 16, 17, 18, 19, 20, 21, 22, 23, 24, 25, 26, 27, 28, 29, 30, 31, 32, 33, 34, 35, 36, 37, 38, 39, 40, 41, 42, 43, 44, 45, 46, 47, 48, 49, 50]\n"
     ]
    }
   ],
   "source": [
    "t_list = []\n",
    "r_list = []\n",
    "ranking = []\n",
    "\n",
    "for index in range(len(rate)):\n",
    "    title_list = title[index].text\n",
    "    rate_list = rate[index].text\n",
    "    rank_list = index +1\n",
    "    \n",
    "    t_list.append(title_list)\n",
    "    r_list.append(rate_list)\n",
    "    ranking.append(rank_list)\n",
    "    \n",
    "print(t_list)\n",
    "print(r_list)\n",
    "print(ranking)"
   ]
  },
  {
   "cell_type": "code",
   "execution_count": 93,
   "metadata": {},
   "outputs": [],
   "source": [
    "import pandas as pd"
   ]
  },
  {
   "cell_type": "code",
   "execution_count": 124,
   "metadata": {},
   "outputs": [],
   "source": [
    "movie_info = {'ranking':ranking, 'title':t_list, 'rate':r_list}"
   ]
  },
  {
   "cell_type": "code",
   "execution_count": 128,
   "metadata": {},
   "outputs": [],
   "source": [
    "movie_pd = pd.DataFrame(movie_info)"
   ]
  },
  {
   "cell_type": "code",
   "execution_count": 129,
   "metadata": {},
   "outputs": [],
   "source": [
    "movie_pd.set_index('ranking', inplace = True)"
   ]
  },
  {
   "cell_type": "code",
   "execution_count": 130,
   "metadata": {
    "scrolled": true
   },
   "outputs": [
    {
     "data": {
      "text/html": [
       "<div>\n",
       "<style scoped>\n",
       "    .dataframe tbody tr th:only-of-type {\n",
       "        vertical-align: middle;\n",
       "    }\n",
       "\n",
       "    .dataframe tbody tr th {\n",
       "        vertical-align: top;\n",
       "    }\n",
       "\n",
       "    .dataframe thead th {\n",
       "        text-align: right;\n",
       "    }\n",
       "</style>\n",
       "<table border=\"1\" class=\"dataframe\">\n",
       "  <thead>\n",
       "    <tr style=\"text-align: right;\">\n",
       "      <th></th>\n",
       "      <th>title</th>\n",
       "      <th>rate</th>\n",
       "    </tr>\n",
       "    <tr>\n",
       "      <th>ranking</th>\n",
       "      <th></th>\n",
       "      <th></th>\n",
       "    </tr>\n",
       "  </thead>\n",
       "  <tbody>\n",
       "    <tr>\n",
       "      <th>1</th>\n",
       "      <td>위대한 쇼맨</td>\n",
       "      <td>9.40</td>\n",
       "    </tr>\n",
       "    <tr>\n",
       "      <th>2</th>\n",
       "      <td>에이리언 2</td>\n",
       "      <td>9.34</td>\n",
       "    </tr>\n",
       "    <tr>\n",
       "      <th>3</th>\n",
       "      <td>패왕별희 디 오리지널</td>\n",
       "      <td>9.30</td>\n",
       "    </tr>\n",
       "    <tr>\n",
       "      <th>4</th>\n",
       "      <td>인생</td>\n",
       "      <td>9.26</td>\n",
       "    </tr>\n",
       "    <tr>\n",
       "      <th>5</th>\n",
       "      <td>우리들</td>\n",
       "      <td>9.25</td>\n",
       "    </tr>\n",
       "    <tr>\n",
       "      <th>6</th>\n",
       "      <td>톰보이</td>\n",
       "      <td>9.24</td>\n",
       "    </tr>\n",
       "    <tr>\n",
       "      <th>7</th>\n",
       "      <td>러빙 빈센트</td>\n",
       "      <td>9.22</td>\n",
       "    </tr>\n",
       "    <tr>\n",
       "      <th>8</th>\n",
       "      <td>어느 가족</td>\n",
       "      <td>9.20</td>\n",
       "    </tr>\n",
       "    <tr>\n",
       "      <th>9</th>\n",
       "      <td>시간을 달리는 소녀</td>\n",
       "      <td>9.20</td>\n",
       "    </tr>\n",
       "    <tr>\n",
       "      <th>10</th>\n",
       "      <td>오아시스</td>\n",
       "      <td>9.20</td>\n",
       "    </tr>\n",
       "    <tr>\n",
       "      <th>11</th>\n",
       "      <td>스타 이즈 본</td>\n",
       "      <td>9.18</td>\n",
       "    </tr>\n",
       "    <tr>\n",
       "      <th>12</th>\n",
       "      <td>에이리언</td>\n",
       "      <td>9.12</td>\n",
       "    </tr>\n",
       "    <tr>\n",
       "      <th>13</th>\n",
       "      <td>러브레터</td>\n",
       "      <td>9.11</td>\n",
       "    </tr>\n",
       "    <tr>\n",
       "      <th>14</th>\n",
       "      <td>늑대아이</td>\n",
       "      <td>9.11</td>\n",
       "    </tr>\n",
       "    <tr>\n",
       "      <th>15</th>\n",
       "      <td>싸이코</td>\n",
       "      <td>9.10</td>\n",
       "    </tr>\n",
       "    <tr>\n",
       "      <th>16</th>\n",
       "      <td>박하사탕</td>\n",
       "      <td>9.05</td>\n",
       "    </tr>\n",
       "    <tr>\n",
       "      <th>17</th>\n",
       "      <td>타오르는 여인의 초상</td>\n",
       "      <td>9.04</td>\n",
       "    </tr>\n",
       "    <tr>\n",
       "      <th>18</th>\n",
       "      <td>비긴 어게인</td>\n",
       "      <td>9.02</td>\n",
       "    </tr>\n",
       "    <tr>\n",
       "      <th>19</th>\n",
       "      <td>미져리</td>\n",
       "      <td>9.01</td>\n",
       "    </tr>\n",
       "    <tr>\n",
       "      <th>20</th>\n",
       "      <td>윤희에게</td>\n",
       "      <td>8.95</td>\n",
       "    </tr>\n",
       "    <tr>\n",
       "      <th>21</th>\n",
       "      <td>배트맨 비긴즈</td>\n",
       "      <td>8.94</td>\n",
       "    </tr>\n",
       "    <tr>\n",
       "      <th>22</th>\n",
       "      <td>기쿠지로의 여름</td>\n",
       "      <td>8.94</td>\n",
       "    </tr>\n",
       "    <tr>\n",
       "      <th>23</th>\n",
       "      <td>시</td>\n",
       "      <td>8.93</td>\n",
       "    </tr>\n",
       "    <tr>\n",
       "      <th>24</th>\n",
       "      <td>마담 프루스트의 비밀정원</td>\n",
       "      <td>8.92</td>\n",
       "    </tr>\n",
       "    <tr>\n",
       "      <th>25</th>\n",
       "      <td>트롤: 월드 투어</td>\n",
       "      <td>8.89</td>\n",
       "    </tr>\n",
       "    <tr>\n",
       "      <th>26</th>\n",
       "      <td>드라큐라</td>\n",
       "      <td>8.86</td>\n",
       "    </tr>\n",
       "    <tr>\n",
       "      <th>27</th>\n",
       "      <td>슬럼독 밀리어네어</td>\n",
       "      <td>8.83</td>\n",
       "    </tr>\n",
       "    <tr>\n",
       "      <th>28</th>\n",
       "      <td>콜 오브 와일드</td>\n",
       "      <td>8.81</td>\n",
       "    </tr>\n",
       "    <tr>\n",
       "      <th>29</th>\n",
       "      <td>벌새</td>\n",
       "      <td>8.77</td>\n",
       "    </tr>\n",
       "    <tr>\n",
       "      <th>30</th>\n",
       "      <td>온워드: 단 하루의 기적</td>\n",
       "      <td>8.76</td>\n",
       "    </tr>\n",
       "    <tr>\n",
       "      <th>31</th>\n",
       "      <td>도그빌</td>\n",
       "      <td>8.75</td>\n",
       "    </tr>\n",
       "    <tr>\n",
       "      <th>32</th>\n",
       "      <td>현기증</td>\n",
       "      <td>8.73</td>\n",
       "    </tr>\n",
       "    <tr>\n",
       "      <th>33</th>\n",
       "      <td>바닷마을 다이어리</td>\n",
       "      <td>8.72</td>\n",
       "    </tr>\n",
       "    <tr>\n",
       "      <th>34</th>\n",
       "      <td>썸머 워즈</td>\n",
       "      <td>8.67</td>\n",
       "    </tr>\n",
       "    <tr>\n",
       "      <th>35</th>\n",
       "      <td>플로리다 프로젝트</td>\n",
       "      <td>8.63</td>\n",
       "    </tr>\n",
       "    <tr>\n",
       "      <th>36</th>\n",
       "      <td>걸어도 걸어도</td>\n",
       "      <td>8.62</td>\n",
       "    </tr>\n",
       "    <tr>\n",
       "      <th>37</th>\n",
       "      <td>라라랜드</td>\n",
       "      <td>8.60</td>\n",
       "    </tr>\n",
       "    <tr>\n",
       "      <th>38</th>\n",
       "      <td>플라이</td>\n",
       "      <td>8.60</td>\n",
       "    </tr>\n",
       "    <tr>\n",
       "      <th>39</th>\n",
       "      <td>태풍이 지나가고</td>\n",
       "      <td>8.60</td>\n",
       "    </tr>\n",
       "    <tr>\n",
       "      <th>40</th>\n",
       "      <td>찬실이는 복도 많지</td>\n",
       "      <td>8.58</td>\n",
       "    </tr>\n",
       "    <tr>\n",
       "      <th>41</th>\n",
       "      <td>족구왕</td>\n",
       "      <td>8.54</td>\n",
       "    </tr>\n",
       "    <tr>\n",
       "      <th>42</th>\n",
       "      <td>괴물의 아이</td>\n",
       "      <td>8.50</td>\n",
       "    </tr>\n",
       "    <tr>\n",
       "      <th>43</th>\n",
       "      <td>캐리</td>\n",
       "      <td>8.46</td>\n",
       "    </tr>\n",
       "    <tr>\n",
       "      <th>44</th>\n",
       "      <td>아비정전</td>\n",
       "      <td>8.46</td>\n",
       "    </tr>\n",
       "    <tr>\n",
       "      <th>45</th>\n",
       "      <td>로렌스 애니웨이</td>\n",
       "      <td>8.42</td>\n",
       "    </tr>\n",
       "    <tr>\n",
       "      <th>46</th>\n",
       "      <td>에어로너츠</td>\n",
       "      <td>8.39</td>\n",
       "    </tr>\n",
       "    <tr>\n",
       "      <th>47</th>\n",
       "      <td>영웅: 천하의 시작</td>\n",
       "      <td>8.38</td>\n",
       "    </tr>\n",
       "    <tr>\n",
       "      <th>48</th>\n",
       "      <td>그랜드 부다페스트 호텔</td>\n",
       "      <td>8.37</td>\n",
       "    </tr>\n",
       "    <tr>\n",
       "      <th>49</th>\n",
       "      <td>스크림</td>\n",
       "      <td>8.36</td>\n",
       "    </tr>\n",
       "    <tr>\n",
       "      <th>50</th>\n",
       "      <td>카페 벨에포크</td>\n",
       "      <td>8.29</td>\n",
       "    </tr>\n",
       "  </tbody>\n",
       "</table>\n",
       "</div>"
      ],
      "text/plain": [
       "                 title  rate\n",
       "ranking                     \n",
       "1               위대한 쇼맨  9.40\n",
       "2               에이리언 2  9.34\n",
       "3          패왕별희 디 오리지널  9.30\n",
       "4                   인생  9.26\n",
       "5                  우리들  9.25\n",
       "6                  톰보이  9.24\n",
       "7               러빙 빈센트  9.22\n",
       "8                어느 가족  9.20\n",
       "9           시간을 달리는 소녀  9.20\n",
       "10                오아시스  9.20\n",
       "11             스타 이즈 본  9.18\n",
       "12                에이리언  9.12\n",
       "13                러브레터  9.11\n",
       "14                늑대아이  9.11\n",
       "15                 싸이코  9.10\n",
       "16                박하사탕  9.05\n",
       "17         타오르는 여인의 초상  9.04\n",
       "18              비긴 어게인  9.02\n",
       "19                 미져리  9.01\n",
       "20                윤희에게  8.95\n",
       "21             배트맨 비긴즈  8.94\n",
       "22            기쿠지로의 여름  8.94\n",
       "23                   시  8.93\n",
       "24       마담 프루스트의 비밀정원  8.92\n",
       "25           트롤: 월드 투어  8.89\n",
       "26                드라큐라  8.86\n",
       "27           슬럼독 밀리어네어  8.83\n",
       "28            콜 오브 와일드  8.81\n",
       "29                  벌새  8.77\n",
       "30       온워드: 단 하루의 기적  8.76\n",
       "31                 도그빌  8.75\n",
       "32                 현기증  8.73\n",
       "33           바닷마을 다이어리  8.72\n",
       "34               썸머 워즈  8.67\n",
       "35           플로리다 프로젝트  8.63\n",
       "36             걸어도 걸어도  8.62\n",
       "37                라라랜드  8.60\n",
       "38                 플라이  8.60\n",
       "39            태풍이 지나가고  8.60\n",
       "40          찬실이는 복도 많지  8.58\n",
       "41                 족구왕  8.54\n",
       "42              괴물의 아이  8.50\n",
       "43                  캐리  8.46\n",
       "44                아비정전  8.46\n",
       "45           로렌스 애니웨이   8.42\n",
       "46               에어로너츠  8.39\n",
       "47          영웅: 천하의 시작  8.38\n",
       "48        그랜드 부다페스트 호텔  8.37\n",
       "49                 스크림  8.36\n",
       "50             카페 벨에포크  8.29"
      ]
     },
     "execution_count": 130,
     "metadata": {},
     "output_type": "execute_result"
    }
   ],
   "source": [
    "movie_pd"
   ]
  },
  {
   "cell_type": "markdown",
   "metadata": {},
   "source": [
    "# 20200601~20200624 데이터 크롤링"
   ]
  },
  {
   "cell_type": "code",
   "execution_count": 139,
   "metadata": {},
   "outputs": [],
   "source": [
    "from bs4 import BeautifulSoup as bs\n",
    "import requests as req\n",
    "import pandas\n",
    "from tqdm import tqdm_notebook as tq  #굳이안해도됨. 있다정도만 알아두기"
   ]
  },
  {
   "cell_type": "code",
   "execution_count": 140,
   "metadata": {},
   "outputs": [],
   "source": [
    "url = \"https://movie.naver.com/movie/sdb/rank/rmovie.nhn?sel=cur&date=20200624\""
   ]
  },
  {
   "cell_type": "code",
   "execution_count": 142,
   "metadata": {},
   "outputs": [
    {
     "name": "stderr",
     "output_type": "stream",
     "text": [
      "C:\\Users\\SMT031\\anaconda3\\lib\\site-packages\\ipykernel_launcher.py:5: TqdmDeprecationWarning: This function will be removed in tqdm==5.0.0\n",
      "Please use `tqdm.notebook.tqdm` instead of `tqdm.tqdm_notebook`\n",
      "  \"\"\"\n"
     ]
    },
    {
     "data": {
      "application/vnd.jupyter.widget-view+json": {
       "model_id": "aadf11a260ed410d854392e15a6eddcb",
       "version_major": 2,
       "version_minor": 0
      },
      "text/plain": [
       "HBox(children=(FloatProgress(value=0.0, max=24.0), HTML(value='')))"
      ]
     },
     "metadata": {},
     "output_type": "display_data"
    },
    {
     "name": "stdout",
     "output_type": "stream",
     "text": [
      "\n"
     ]
    }
   ],
   "source": [
    "t_list = []\n",
    "r_list = []\n",
    "ranking = []\n",
    "\n",
    "for index in tq(range(20200601, 20200625, 1)):\n",
    "    \n",
    "    url = \"https://movie.naver.com/movie/sdb/rank/rmovie.nhn?sel=cur&date=\"+ str(index)         #뒤의 숫자바뀌면서 page date 바뀜\n",
    "    res = req.get(url)                 #page바뀔때마다 loading되야함\n",
    "    movie = bs(res.text, 'lxml')\n",
    "    \n",
    "    title = movie.select('div.tit5 > a')\n",
    "    rate = movie.select('td.point')\n",
    "    \n",
    "    for i in range(len(title)):\n",
    "        \n",
    "        title_list = title[i].text\n",
    "        rate_list = rate[i].text\n",
    "        rank_list = i +1\n",
    "    \n",
    "        t_list.append(title_list)\n",
    "        r_list.append(rate_list)\n",
    "        ranking.append(rank_list)"
   ]
  },
  {
   "cell_type": "code",
   "execution_count": 143,
   "metadata": {},
   "outputs": [],
   "source": [
    "movie_info = {'ranking':ranking, 'title':t_list, 'rate':r_list}"
   ]
  },
  {
   "cell_type": "code",
   "execution_count": 144,
   "metadata": {},
   "outputs": [
    {
     "data": {
      "text/html": [
       "<div>\n",
       "<style scoped>\n",
       "    .dataframe tbody tr th:only-of-type {\n",
       "        vertical-align: middle;\n",
       "    }\n",
       "\n",
       "    .dataframe tbody tr th {\n",
       "        vertical-align: top;\n",
       "    }\n",
       "\n",
       "    .dataframe thead th {\n",
       "        text-align: right;\n",
       "    }\n",
       "</style>\n",
       "<table border=\"1\" class=\"dataframe\">\n",
       "  <thead>\n",
       "    <tr style=\"text-align: right;\">\n",
       "      <th></th>\n",
       "      <th>ranking</th>\n",
       "      <th>title</th>\n",
       "      <th>rate</th>\n",
       "    </tr>\n",
       "  </thead>\n",
       "  <tbody>\n",
       "    <tr>\n",
       "      <th>0</th>\n",
       "      <td>1</td>\n",
       "      <td>가버나움</td>\n",
       "      <td>9.59</td>\n",
       "    </tr>\n",
       "    <tr>\n",
       "      <th>1</th>\n",
       "      <td>2</td>\n",
       "      <td>살인의 추억</td>\n",
       "      <td>9.40</td>\n",
       "    </tr>\n",
       "    <tr>\n",
       "      <th>2</th>\n",
       "      <td>3</td>\n",
       "      <td>위대한 쇼맨</td>\n",
       "      <td>9.39</td>\n",
       "    </tr>\n",
       "    <tr>\n",
       "      <th>3</th>\n",
       "      <td>4</td>\n",
       "      <td>패왕별희 디 오리지널</td>\n",
       "      <td>9.31</td>\n",
       "    </tr>\n",
       "    <tr>\n",
       "      <th>4</th>\n",
       "      <td>5</td>\n",
       "      <td>톰보이</td>\n",
       "      <td>9.30</td>\n",
       "    </tr>\n",
       "    <tr>\n",
       "      <th>...</th>\n",
       "      <td>...</td>\n",
       "      <td>...</td>\n",
       "      <td>...</td>\n",
       "    </tr>\n",
       "    <tr>\n",
       "      <th>1195</th>\n",
       "      <td>46</td>\n",
       "      <td>에어로너츠</td>\n",
       "      <td>8.39</td>\n",
       "    </tr>\n",
       "    <tr>\n",
       "      <th>1196</th>\n",
       "      <td>47</td>\n",
       "      <td>영웅: 천하의 시작</td>\n",
       "      <td>8.38</td>\n",
       "    </tr>\n",
       "    <tr>\n",
       "      <th>1197</th>\n",
       "      <td>48</td>\n",
       "      <td>그랜드 부다페스트 호텔</td>\n",
       "      <td>8.37</td>\n",
       "    </tr>\n",
       "    <tr>\n",
       "      <th>1198</th>\n",
       "      <td>49</td>\n",
       "      <td>스크림</td>\n",
       "      <td>8.36</td>\n",
       "    </tr>\n",
       "    <tr>\n",
       "      <th>1199</th>\n",
       "      <td>50</td>\n",
       "      <td>카페 벨에포크</td>\n",
       "      <td>8.29</td>\n",
       "    </tr>\n",
       "  </tbody>\n",
       "</table>\n",
       "<p>1200 rows × 3 columns</p>\n",
       "</div>"
      ],
      "text/plain": [
       "      ranking         title  rate\n",
       "0           1          가버나움  9.59\n",
       "1           2        살인의 추억  9.40\n",
       "2           3        위대한 쇼맨  9.39\n",
       "3           4   패왕별희 디 오리지널  9.31\n",
       "4           5           톰보이  9.30\n",
       "...       ...           ...   ...\n",
       "1195       46         에어로너츠  8.39\n",
       "1196       47    영웅: 천하의 시작  8.38\n",
       "1197       48  그랜드 부다페스트 호텔  8.37\n",
       "1198       49           스크림  8.36\n",
       "1199       50       카페 벨에포크  8.29\n",
       "\n",
       "[1200 rows x 3 columns]"
      ]
     },
     "execution_count": 144,
     "metadata": {},
     "output_type": "execute_result"
    }
   ],
   "source": [
    "pd.DataFrame(movie_info)"
   ]
  }
 ],
 "metadata": {
  "kernelspec": {
   "display_name": "Python 3",
   "language": "python",
   "name": "python3"
  },
  "language_info": {
   "codemirror_mode": {
    "name": "ipython",
    "version": 3
   },
   "file_extension": ".py",
   "mimetype": "text/x-python",
   "name": "python",
   "nbconvert_exporter": "python",
   "pygments_lexer": "ipython3",
   "version": "3.7.6"
  }
 },
 "nbformat": 4,
 "nbformat_minor": 4
}
